{
 "cells": [
  {
   "cell_type": "markdown",
   "metadata": {},
   "source": [
    "# Predicitions"
   ]
  },
  {
   "cell_type": "code",
   "execution_count": 634,
   "metadata": {},
   "outputs": [],
   "source": [
    "import numpy as np\n",
    "import pandas as pd\n",
    "import matplotlib.pyplot as plt\n",
    "# For web scraping\n",
    "import requests\n",
    "from bs4 import BeautifulSoup\n",
    "import seaborn as sns\n",
    "# For performing regex operations\n",
    "import re\n",
    "\n",
    "# For adding delays so that we don't spam requests\n",
    "import time\n",
    "\n",
    "from selenium import webdriver\n",
    "from selenium.webdriver.common.keys import Keys\n",
    "from scipy import stats\n",
    "from scipy.stats import norm\n",
    "import statsmodels.api as sm\n",
    "\n",
    "import seaborn as sns\n",
    "import matplotlib.pyplot as plt\n",
    "%matplotlib inline\n",
    "from scipy import stats\n",
    "from scipy.stats import norm #used for plotting\n",
    "from sklearn.cluster import KMeans\n",
    "from sklearn.preprocessing import StandardScaler # 1. Import the scaler\n",
    "from sklearn.model_selection import train_test_split\n",
    "from sklearn.neighbors import KNeighborsClassifier\n",
    "from sklearn.metrics import silhouette_score\n",
    "from sklearn.metrics import accuracy_score\n",
    "from numpy import unique"
   ]
  },
  {
   "cell_type": "markdown",
   "metadata": {},
   "source": [
    "read in both files, take a look at them to make sure they're alright."
   ]
  },
  {
   "cell_type": "code",
   "execution_count": 635,
   "metadata": {},
   "outputs": [],
   "source": [
    "nba = pd.read_csv('~/Downloads/nba_clusters.csv')"
   ]
  },
  {
   "cell_type": "code",
   "execution_count": 636,
   "metadata": {},
   "outputs": [],
   "source": [
    "ncaa = pd.read_csv('~/Downloads/ncca_clusters.csv')"
   ]
  },
  {
   "cell_type": "code",
   "execution_count": 637,
   "metadata": {},
   "outputs": [
    {
     "data": {
      "text/html": [
       "<div>\n",
       "<style scoped>\n",
       "    .dataframe tbody tr th:only-of-type {\n",
       "        vertical-align: middle;\n",
       "    }\n",
       "\n",
       "    .dataframe tbody tr th {\n",
       "        vertical-align: top;\n",
       "    }\n",
       "\n",
       "    .dataframe thead th {\n",
       "        text-align: right;\n",
       "    }\n",
       "</style>\n",
       "<table border=\"1\" class=\"dataframe\">\n",
       "  <thead>\n",
       "    <tr style=\"text-align: right;\">\n",
       "      <th></th>\n",
       "      <th>Player</th>\n",
       "      <th>OWS</th>\n",
       "      <th>DWS</th>\n",
       "      <th>WS</th>\n",
       "      <th>WS/48</th>\n",
       "      <th>OBPM</th>\n",
       "      <th>DBPM</th>\n",
       "      <th>BPM</th>\n",
       "      <th>VORP</th>\n",
       "      <th>FG</th>\n",
       "      <th>...</th>\n",
       "      <th>ORB</th>\n",
       "      <th>DRB</th>\n",
       "      <th>TRB</th>\n",
       "      <th>AST</th>\n",
       "      <th>STL</th>\n",
       "      <th>BLK</th>\n",
       "      <th>TOV</th>\n",
       "      <th>PF</th>\n",
       "      <th>PTS</th>\n",
       "      <th>labels</th>\n",
       "    </tr>\n",
       "  </thead>\n",
       "  <tbody>\n",
       "    <tr>\n",
       "      <th>0</th>\n",
       "      <td>A.C. Green</td>\n",
       "      <td>3.37</td>\n",
       "      <td>2.42</td>\n",
       "      <td>5.79</td>\n",
       "      <td>0.12</td>\n",
       "      <td>-0.51</td>\n",
       "      <td>0.42</td>\n",
       "      <td>-0.08</td>\n",
       "      <td>1.28</td>\n",
       "      <td>265.44</td>\n",
       "      <td>...</td>\n",
       "      <td>198.67</td>\n",
       "      <td>364.06</td>\n",
       "      <td>562.72</td>\n",
       "      <td>81.61</td>\n",
       "      <td>61.28</td>\n",
       "      <td>31.22</td>\n",
       "      <td>83.78</td>\n",
       "      <td>143.39</td>\n",
       "      <td>718.22</td>\n",
       "      <td>1</td>\n",
       "    </tr>\n",
       "    <tr>\n",
       "      <th>1</th>\n",
       "      <td>A.J. Bramlett</td>\n",
       "      <td>-0.20</td>\n",
       "      <td>0.10</td>\n",
       "      <td>-0.20</td>\n",
       "      <td>-0.13</td>\n",
       "      <td>-10.50</td>\n",
       "      <td>-6.30</td>\n",
       "      <td>-16.80</td>\n",
       "      <td>-0.20</td>\n",
       "      <td>4.00</td>\n",
       "      <td>...</td>\n",
       "      <td>12.00</td>\n",
       "      <td>10.00</td>\n",
       "      <td>22.00</td>\n",
       "      <td>0.00</td>\n",
       "      <td>1.00</td>\n",
       "      <td>0.00</td>\n",
       "      <td>3.00</td>\n",
       "      <td>13.00</td>\n",
       "      <td>8.00</td>\n",
       "      <td>3</td>\n",
       "    </tr>\n",
       "    <tr>\n",
       "      <th>2</th>\n",
       "      <td>A.J. English</td>\n",
       "      <td>-0.20</td>\n",
       "      <td>0.70</td>\n",
       "      <td>0.55</td>\n",
       "      <td>0.02</td>\n",
       "      <td>-2.25</td>\n",
       "      <td>-2.85</td>\n",
       "      <td>-5.10</td>\n",
       "      <td>-1.20</td>\n",
       "      <td>308.50</td>\n",
       "      <td>...</td>\n",
       "      <td>70.00</td>\n",
       "      <td>87.50</td>\n",
       "      <td>157.50</td>\n",
       "      <td>160.00</td>\n",
       "      <td>28.50</td>\n",
       "      <td>12.00</td>\n",
       "      <td>101.50</td>\n",
       "      <td>143.50</td>\n",
       "      <td>751.00</td>\n",
       "      <td>2</td>\n",
       "    </tr>\n",
       "    <tr>\n",
       "      <th>3</th>\n",
       "      <td>A.J. Guyton</td>\n",
       "      <td>0.10</td>\n",
       "      <td>-0.03</td>\n",
       "      <td>0.10</td>\n",
       "      <td>-0.14</td>\n",
       "      <td>-6.07</td>\n",
       "      <td>-4.93</td>\n",
       "      <td>-11.00</td>\n",
       "      <td>-0.33</td>\n",
       "      <td>55.33</td>\n",
       "      <td>...</td>\n",
       "      <td>7.33</td>\n",
       "      <td>19.33</td>\n",
       "      <td>26.67</td>\n",
       "      <td>49.00</td>\n",
       "      <td>6.67</td>\n",
       "      <td>4.00</td>\n",
       "      <td>20.67</td>\n",
       "      <td>19.33</td>\n",
       "      <td>147.33</td>\n",
       "      <td>3</td>\n",
       "    </tr>\n",
       "    <tr>\n",
       "      <th>4</th>\n",
       "      <td>A.J. Hammons</td>\n",
       "      <td>-0.20</td>\n",
       "      <td>0.20</td>\n",
       "      <td>0.00</td>\n",
       "      <td>-0.00</td>\n",
       "      <td>-7.50</td>\n",
       "      <td>1.90</td>\n",
       "      <td>-5.60</td>\n",
       "      <td>-0.10</td>\n",
       "      <td>17.00</td>\n",
       "      <td>...</td>\n",
       "      <td>8.00</td>\n",
       "      <td>28.00</td>\n",
       "      <td>36.00</td>\n",
       "      <td>4.00</td>\n",
       "      <td>1.00</td>\n",
       "      <td>13.00</td>\n",
       "      <td>10.00</td>\n",
       "      <td>21.00</td>\n",
       "      <td>48.00</td>\n",
       "      <td>0</td>\n",
       "    </tr>\n",
       "    <tr>\n",
       "      <th>...</th>\n",
       "      <td>...</td>\n",
       "      <td>...</td>\n",
       "      <td>...</td>\n",
       "      <td>...</td>\n",
       "      <td>...</td>\n",
       "      <td>...</td>\n",
       "      <td>...</td>\n",
       "      <td>...</td>\n",
       "      <td>...</td>\n",
       "      <td>...</td>\n",
       "      <td>...</td>\n",
       "      <td>...</td>\n",
       "      <td>...</td>\n",
       "      <td>...</td>\n",
       "      <td>...</td>\n",
       "      <td>...</td>\n",
       "      <td>...</td>\n",
       "      <td>...</td>\n",
       "      <td>...</td>\n",
       "      <td>...</td>\n",
       "      <td>...</td>\n",
       "    </tr>\n",
       "    <tr>\n",
       "      <th>3230</th>\n",
       "      <td>Zelmo Beaty*</td>\n",
       "      <td>1.10</td>\n",
       "      <td>1.20</td>\n",
       "      <td>2.30</td>\n",
       "      <td>0.09</td>\n",
       "      <td>-2.70</td>\n",
       "      <td>0.40</td>\n",
       "      <td>-2.30</td>\n",
       "      <td>-0.10</td>\n",
       "      <td>136.00</td>\n",
       "      <td>...</td>\n",
       "      <td>93.00</td>\n",
       "      <td>234.00</td>\n",
       "      <td>327.00</td>\n",
       "      <td>74.00</td>\n",
       "      <td>45.00</td>\n",
       "      <td>29.00</td>\n",
       "      <td>12.80</td>\n",
       "      <td>130.00</td>\n",
       "      <td>380.00</td>\n",
       "      <td>2</td>\n",
       "    </tr>\n",
       "    <tr>\n",
       "      <th>3231</th>\n",
       "      <td>Zendon Hamilton</td>\n",
       "      <td>0.18</td>\n",
       "      <td>0.19</td>\n",
       "      <td>0.40</td>\n",
       "      <td>0.05</td>\n",
       "      <td>-6.01</td>\n",
       "      <td>-2.91</td>\n",
       "      <td>-8.95</td>\n",
       "      <td>-0.16</td>\n",
       "      <td>22.88</td>\n",
       "      <td>...</td>\n",
       "      <td>23.38</td>\n",
       "      <td>36.00</td>\n",
       "      <td>59.38</td>\n",
       "      <td>4.12</td>\n",
       "      <td>5.38</td>\n",
       "      <td>3.50</td>\n",
       "      <td>14.25</td>\n",
       "      <td>27.50</td>\n",
       "      <td>76.38</td>\n",
       "      <td>0</td>\n",
       "    </tr>\n",
       "    <tr>\n",
       "      <th>3232</th>\n",
       "      <td>Zoran Dragic</td>\n",
       "      <td>-0.07</td>\n",
       "      <td>0.00</td>\n",
       "      <td>-0.03</td>\n",
       "      <td>-0.05</td>\n",
       "      <td>-1.93</td>\n",
       "      <td>-4.77</td>\n",
       "      <td>-6.70</td>\n",
       "      <td>-0.07</td>\n",
       "      <td>7.33</td>\n",
       "      <td>...</td>\n",
       "      <td>3.33</td>\n",
       "      <td>2.00</td>\n",
       "      <td>5.33</td>\n",
       "      <td>3.33</td>\n",
       "      <td>1.33</td>\n",
       "      <td>0.00</td>\n",
       "      <td>3.33</td>\n",
       "      <td>4.00</td>\n",
       "      <td>18.67</td>\n",
       "      <td>0</td>\n",
       "    </tr>\n",
       "    <tr>\n",
       "      <th>3233</th>\n",
       "      <td>Zoran Planinic</td>\n",
       "      <td>-0.20</td>\n",
       "      <td>0.70</td>\n",
       "      <td>0.53</td>\n",
       "      <td>0.05</td>\n",
       "      <td>-3.23</td>\n",
       "      <td>-0.83</td>\n",
       "      <td>-4.13</td>\n",
       "      <td>-0.30</td>\n",
       "      <td>65.67</td>\n",
       "      <td>...</td>\n",
       "      <td>15.67</td>\n",
       "      <td>50.33</td>\n",
       "      <td>66.00</td>\n",
       "      <td>55.00</td>\n",
       "      <td>19.33</td>\n",
       "      <td>2.33</td>\n",
       "      <td>40.00</td>\n",
       "      <td>79.00</td>\n",
       "      <td>187.00</td>\n",
       "      <td>0</td>\n",
       "    </tr>\n",
       "    <tr>\n",
       "      <th>3234</th>\n",
       "      <td>Zydrunas Ilgauskas</td>\n",
       "      <td>2.60</td>\n",
       "      <td>2.52</td>\n",
       "      <td>5.11</td>\n",
       "      <td>0.13</td>\n",
       "      <td>-0.92</td>\n",
       "      <td>0.64</td>\n",
       "      <td>-0.28</td>\n",
       "      <td>1.00</td>\n",
       "      <td>323.62</td>\n",
       "      <td>...</td>\n",
       "      <td>188.00</td>\n",
       "      <td>288.23</td>\n",
       "      <td>476.23</td>\n",
       "      <td>73.46</td>\n",
       "      <td>32.38</td>\n",
       "      <td>102.08</td>\n",
       "      <td>116.08</td>\n",
       "      <td>213.54</td>\n",
       "      <td>844.31</td>\n",
       "      <td>1</td>\n",
       "    </tr>\n",
       "  </tbody>\n",
       "</table>\n",
       "<p>3235 rows × 32 columns</p>\n",
       "</div>"
      ],
      "text/plain": [
       "                  Player   OWS   DWS    WS  WS/48   OBPM  DBPM    BPM  VORP  \\\n",
       "0             A.C. Green  3.37  2.42  5.79   0.12  -0.51  0.42  -0.08  1.28   \n",
       "1          A.J. Bramlett -0.20  0.10 -0.20  -0.13 -10.50 -6.30 -16.80 -0.20   \n",
       "2           A.J. English -0.20  0.70  0.55   0.02  -2.25 -2.85  -5.10 -1.20   \n",
       "3            A.J. Guyton  0.10 -0.03  0.10  -0.14  -6.07 -4.93 -11.00 -0.33   \n",
       "4           A.J. Hammons -0.20  0.20  0.00  -0.00  -7.50  1.90  -5.60 -0.10   \n",
       "...                  ...   ...   ...   ...    ...    ...   ...    ...   ...   \n",
       "3230        Zelmo Beaty*  1.10  1.20  2.30   0.09  -2.70  0.40  -2.30 -0.10   \n",
       "3231     Zendon Hamilton  0.18  0.19  0.40   0.05  -6.01 -2.91  -8.95 -0.16   \n",
       "3232        Zoran Dragic -0.07  0.00 -0.03  -0.05  -1.93 -4.77  -6.70 -0.07   \n",
       "3233      Zoran Planinic -0.20  0.70  0.53   0.05  -3.23 -0.83  -4.13 -0.30   \n",
       "3234  Zydrunas Ilgauskas  2.60  2.52  5.11   0.13  -0.92  0.64  -0.28  1.00   \n",
       "\n",
       "          FG  ...     ORB     DRB     TRB     AST    STL     BLK     TOV  \\\n",
       "0     265.44  ...  198.67  364.06  562.72   81.61  61.28   31.22   83.78   \n",
       "1       4.00  ...   12.00   10.00   22.00    0.00   1.00    0.00    3.00   \n",
       "2     308.50  ...   70.00   87.50  157.50  160.00  28.50   12.00  101.50   \n",
       "3      55.33  ...    7.33   19.33   26.67   49.00   6.67    4.00   20.67   \n",
       "4      17.00  ...    8.00   28.00   36.00    4.00   1.00   13.00   10.00   \n",
       "...      ...  ...     ...     ...     ...     ...    ...     ...     ...   \n",
       "3230  136.00  ...   93.00  234.00  327.00   74.00  45.00   29.00   12.80   \n",
       "3231   22.88  ...   23.38   36.00   59.38    4.12   5.38    3.50   14.25   \n",
       "3232    7.33  ...    3.33    2.00    5.33    3.33   1.33    0.00    3.33   \n",
       "3233   65.67  ...   15.67   50.33   66.00   55.00  19.33    2.33   40.00   \n",
       "3234  323.62  ...  188.00  288.23  476.23   73.46  32.38  102.08  116.08   \n",
       "\n",
       "          PF     PTS  labels  \n",
       "0     143.39  718.22       1  \n",
       "1      13.00    8.00       3  \n",
       "2     143.50  751.00       2  \n",
       "3      19.33  147.33       3  \n",
       "4      21.00   48.00       0  \n",
       "...      ...     ...     ...  \n",
       "3230  130.00  380.00       2  \n",
       "3231   27.50   76.38       0  \n",
       "3232    4.00   18.67       0  \n",
       "3233   79.00  187.00       0  \n",
       "3234  213.54  844.31       1  \n",
       "\n",
       "[3235 rows x 32 columns]"
      ]
     },
     "execution_count": 637,
     "metadata": {},
     "output_type": "execute_result"
    }
   ],
   "source": [
    "nba"
   ]
  },
  {
   "cell_type": "code",
   "execution_count": 638,
   "metadata": {},
   "outputs": [
    {
     "data": {
      "text/html": [
       "<div>\n",
       "<style scoped>\n",
       "    .dataframe tbody tr th:only-of-type {\n",
       "        vertical-align: middle;\n",
       "    }\n",
       "\n",
       "    .dataframe tbody tr th {\n",
       "        vertical-align: top;\n",
       "    }\n",
       "\n",
       "    .dataframe thead th {\n",
       "        text-align: right;\n",
       "    }\n",
       "</style>\n",
       "<table border=\"1\" class=\"dataframe\">\n",
       "  <thead>\n",
       "    <tr style=\"text-align: right;\">\n",
       "      <th></th>\n",
       "      <th>Unnamed: 0</th>\n",
       "      <th>college</th>\n",
       "      <th>height</th>\n",
       "      <th>name</th>\n",
       "      <th>position</th>\n",
       "      <th>url</th>\n",
       "      <th>weight</th>\n",
       "      <th>3PA</th>\n",
       "      <th>3P%</th>\n",
       "      <th>3P</th>\n",
       "      <th>FGA</th>\n",
       "      <th>FG%</th>\n",
       "      <th>FG</th>\n",
       "      <th>FT%</th>\n",
       "      <th>FTA</th>\n",
       "      <th>FT</th>\n",
       "      <th>G</th>\n",
       "      <th>PTS</th>\n",
       "      <th>labels</th>\n",
       "    </tr>\n",
       "  </thead>\n",
       "  <tbody>\n",
       "    <tr>\n",
       "      <th>0</th>\n",
       "      <td>0</td>\n",
       "      <td>Duke University</td>\n",
       "      <td>6-10</td>\n",
       "      <td>Alaa Abdelnaby</td>\n",
       "      <td>F-C</td>\n",
       "      <td>/players/a/abdelal01.html</td>\n",
       "      <td>240.0</td>\n",
       "      <td>0.0</td>\n",
       "      <td>0.288</td>\n",
       "      <td>0.0</td>\n",
       "      <td>5.6</td>\n",
       "      <td>0.5990</td>\n",
       "      <td>3.30</td>\n",
       "      <td>0.728</td>\n",
       "      <td>2.50</td>\n",
       "      <td>1.80</td>\n",
       "      <td>134.0</td>\n",
       "      <td>8.5</td>\n",
       "      <td>2</td>\n",
       "    </tr>\n",
       "    <tr>\n",
       "      <th>1</th>\n",
       "      <td>1</td>\n",
       "      <td>Iowa State University</td>\n",
       "      <td>6-9</td>\n",
       "      <td>Zaid Abdul-Aziz</td>\n",
       "      <td>C-F</td>\n",
       "      <td>/players/a/abdulza01.html</td>\n",
       "      <td>235.0</td>\n",
       "      <td>0.1</td>\n",
       "      <td>0.222</td>\n",
       "      <td>0.0</td>\n",
       "      <td>9.7</td>\n",
       "      <td>0.5455</td>\n",
       "      <td>5.15</td>\n",
       "      <td>0.662</td>\n",
       "      <td>4.05</td>\n",
       "      <td>2.75</td>\n",
       "      <td>93.5</td>\n",
       "      <td>13.4</td>\n",
       "      <td>3</td>\n",
       "    </tr>\n",
       "    <tr>\n",
       "      <th>2</th>\n",
       "      <td>2</td>\n",
       "      <td>University of California, Los Angeles</td>\n",
       "      <td>7-2</td>\n",
       "      <td>Kareem Abdul-Jabbar</td>\n",
       "      <td>C</td>\n",
       "      <td>/players/a/abdulka01.html</td>\n",
       "      <td>225.0</td>\n",
       "      <td>0.0</td>\n",
       "      <td>0.250</td>\n",
       "      <td>0.0</td>\n",
       "      <td>16.8</td>\n",
       "      <td>0.6390</td>\n",
       "      <td>10.70</td>\n",
       "      <td>0.628</td>\n",
       "      <td>7.90</td>\n",
       "      <td>5.00</td>\n",
       "      <td>88.0</td>\n",
       "      <td>26.4</td>\n",
       "      <td>0</td>\n",
       "    </tr>\n",
       "    <tr>\n",
       "      <th>3</th>\n",
       "      <td>3</td>\n",
       "      <td>Louisiana State University</td>\n",
       "      <td>6-1</td>\n",
       "      <td>Mahmoud Abdul-Rauf</td>\n",
       "      <td>G</td>\n",
       "      <td>/players/a/abdulma02.html</td>\n",
       "      <td>162.0</td>\n",
       "      <td>7.2</td>\n",
       "      <td>0.372</td>\n",
       "      <td>2.7</td>\n",
       "      <td>21.9</td>\n",
       "      <td>0.4740</td>\n",
       "      <td>10.40</td>\n",
       "      <td>0.863</td>\n",
       "      <td>6.40</td>\n",
       "      <td>5.50</td>\n",
       "      <td>64.0</td>\n",
       "      <td>29.0</td>\n",
       "      <td>0</td>\n",
       "    </tr>\n",
       "    <tr>\n",
       "      <th>4</th>\n",
       "      <td>4</td>\n",
       "      <td>University of Michigan, San Jose State University</td>\n",
       "      <td>6-6</td>\n",
       "      <td>Tariq Abdul-Wahad</td>\n",
       "      <td>F</td>\n",
       "      <td>/players/a/abdulta01.html</td>\n",
       "      <td>223.0</td>\n",
       "      <td>0.9</td>\n",
       "      <td>0.333</td>\n",
       "      <td>0.3</td>\n",
       "      <td>9.6</td>\n",
       "      <td>0.5110</td>\n",
       "      <td>4.90</td>\n",
       "      <td>0.700</td>\n",
       "      <td>3.90</td>\n",
       "      <td>2.70</td>\n",
       "      <td>107.0</td>\n",
       "      <td>13.1</td>\n",
       "      <td>3</td>\n",
       "    </tr>\n",
       "    <tr>\n",
       "      <th>...</th>\n",
       "      <td>...</td>\n",
       "      <td>...</td>\n",
       "      <td>...</td>\n",
       "      <td>...</td>\n",
       "      <td>...</td>\n",
       "      <td>...</td>\n",
       "      <td>...</td>\n",
       "      <td>...</td>\n",
       "      <td>...</td>\n",
       "      <td>...</td>\n",
       "      <td>...</td>\n",
       "      <td>...</td>\n",
       "      <td>...</td>\n",
       "      <td>...</td>\n",
       "      <td>...</td>\n",
       "      <td>...</td>\n",
       "      <td>...</td>\n",
       "      <td>...</td>\n",
       "      <td>...</td>\n",
       "    </tr>\n",
       "    <tr>\n",
       "      <th>4247</th>\n",
       "      <td>4247</td>\n",
       "      <td>Gonzaga</td>\n",
       "      <td>6-7</td>\n",
       "      <td>Corey Kispert</td>\n",
       "      <td>SG/SF</td>\n",
       "      <td>NaN</td>\n",
       "      <td>220.0</td>\n",
       "      <td>4.8</td>\n",
       "      <td>0.411</td>\n",
       "      <td>2.0</td>\n",
       "      <td>8.3</td>\n",
       "      <td>0.4840</td>\n",
       "      <td>4.00</td>\n",
       "      <td>0.827</td>\n",
       "      <td>1.80</td>\n",
       "      <td>1.50</td>\n",
       "      <td>135.0</td>\n",
       "      <td>11.5</td>\n",
       "      <td>1</td>\n",
       "    </tr>\n",
       "    <tr>\n",
       "      <th>4248</th>\n",
       "      <td>4248</td>\n",
       "      <td>Texas</td>\n",
       "      <td>6-11</td>\n",
       "      <td>Kai Jones</td>\n",
       "      <td>C</td>\n",
       "      <td>NaN</td>\n",
       "      <td>220.0</td>\n",
       "      <td>1.1</td>\n",
       "      <td>0.345</td>\n",
       "      <td>0.4</td>\n",
       "      <td>4.1</td>\n",
       "      <td>0.5530</td>\n",
       "      <td>2.30</td>\n",
       "      <td>0.677</td>\n",
       "      <td>1.80</td>\n",
       "      <td>1.20</td>\n",
       "      <td>53.0</td>\n",
       "      <td>6.2</td>\n",
       "      <td>2</td>\n",
       "    </tr>\n",
       "    <tr>\n",
       "      <th>4249</th>\n",
       "      <td>4249</td>\n",
       "      <td>Michigan</td>\n",
       "      <td>6-9</td>\n",
       "      <td>Franz Wagner</td>\n",
       "      <td>SF/PF</td>\n",
       "      <td>NaN</td>\n",
       "      <td>220.0</td>\n",
       "      <td>4.3</td>\n",
       "      <td>0.325</td>\n",
       "      <td>1.4</td>\n",
       "      <td>9.3</td>\n",
       "      <td>0.4650</td>\n",
       "      <td>4.30</td>\n",
       "      <td>0.835</td>\n",
       "      <td>2.40</td>\n",
       "      <td>2.00</td>\n",
       "      <td>55.0</td>\n",
       "      <td>12.0</td>\n",
       "      <td>1</td>\n",
       "    </tr>\n",
       "    <tr>\n",
       "      <th>4250</th>\n",
       "      <td>4250</td>\n",
       "      <td>Stanford</td>\n",
       "      <td>6-8</td>\n",
       "      <td>Ziaire Williams</td>\n",
       "      <td>SG/SF</td>\n",
       "      <td>NaN</td>\n",
       "      <td>185.0</td>\n",
       "      <td>4.0</td>\n",
       "      <td>0.291</td>\n",
       "      <td>1.2</td>\n",
       "      <td>10.2</td>\n",
       "      <td>0.3740</td>\n",
       "      <td>3.80</td>\n",
       "      <td>0.796</td>\n",
       "      <td>2.50</td>\n",
       "      <td>2.00</td>\n",
       "      <td>20.0</td>\n",
       "      <td>10.7</td>\n",
       "      <td>1</td>\n",
       "    </tr>\n",
       "    <tr>\n",
       "      <th>4251</th>\n",
       "      <td>4251</td>\n",
       "      <td>UConn</td>\n",
       "      <td>6-5</td>\n",
       "      <td>James Bouknight</td>\n",
       "      <td>SG</td>\n",
       "      <td>NaN</td>\n",
       "      <td>190.0</td>\n",
       "      <td>3.4</td>\n",
       "      <td>0.320</td>\n",
       "      <td>1.1</td>\n",
       "      <td>11.5</td>\n",
       "      <td>0.4560</td>\n",
       "      <td>5.30</td>\n",
       "      <td>0.802</td>\n",
       "      <td>4.20</td>\n",
       "      <td>3.40</td>\n",
       "      <td>43.0</td>\n",
       "      <td>15.0</td>\n",
       "      <td>1</td>\n",
       "    </tr>\n",
       "  </tbody>\n",
       "</table>\n",
       "<p>4252 rows × 19 columns</p>\n",
       "</div>"
      ],
      "text/plain": [
       "      Unnamed: 0                                            college height  \\\n",
       "0              0                                    Duke University   6-10   \n",
       "1              1                              Iowa State University    6-9   \n",
       "2              2              University of California, Los Angeles    7-2   \n",
       "3              3                         Louisiana State University    6-1   \n",
       "4              4  University of Michigan, San Jose State University    6-6   \n",
       "...          ...                                                ...    ...   \n",
       "4247        4247                                            Gonzaga    6-7   \n",
       "4248        4248                                              Texas   6-11   \n",
       "4249        4249                                           Michigan    6-9   \n",
       "4250        4250                                           Stanford    6-8   \n",
       "4251        4251                                              UConn    6-5   \n",
       "\n",
       "                     name position                        url  weight  3PA  \\\n",
       "0          Alaa Abdelnaby      F-C  /players/a/abdelal01.html   240.0  0.0   \n",
       "1         Zaid Abdul-Aziz      C-F  /players/a/abdulza01.html   235.0  0.1   \n",
       "2     Kareem Abdul-Jabbar        C  /players/a/abdulka01.html   225.0  0.0   \n",
       "3      Mahmoud Abdul-Rauf        G  /players/a/abdulma02.html   162.0  7.2   \n",
       "4       Tariq Abdul-Wahad        F  /players/a/abdulta01.html   223.0  0.9   \n",
       "...                   ...      ...                        ...     ...  ...   \n",
       "4247        Corey Kispert    SG/SF                        NaN   220.0  4.8   \n",
       "4248            Kai Jones        C                        NaN   220.0  1.1   \n",
       "4249         Franz Wagner    SF/PF                        NaN   220.0  4.3   \n",
       "4250      Ziaire Williams    SG/SF                        NaN   185.0  4.0   \n",
       "4251      James Bouknight       SG                        NaN   190.0  3.4   \n",
       "\n",
       "        3P%   3P   FGA     FG%     FG    FT%   FTA    FT      G   PTS  labels  \n",
       "0     0.288  0.0   5.6  0.5990   3.30  0.728  2.50  1.80  134.0   8.5       2  \n",
       "1     0.222  0.0   9.7  0.5455   5.15  0.662  4.05  2.75   93.5  13.4       3  \n",
       "2     0.250  0.0  16.8  0.6390  10.70  0.628  7.90  5.00   88.0  26.4       0  \n",
       "3     0.372  2.7  21.9  0.4740  10.40  0.863  6.40  5.50   64.0  29.0       0  \n",
       "4     0.333  0.3   9.6  0.5110   4.90  0.700  3.90  2.70  107.0  13.1       3  \n",
       "...     ...  ...   ...     ...    ...    ...   ...   ...    ...   ...     ...  \n",
       "4247  0.411  2.0   8.3  0.4840   4.00  0.827  1.80  1.50  135.0  11.5       1  \n",
       "4248  0.345  0.4   4.1  0.5530   2.30  0.677  1.80  1.20   53.0   6.2       2  \n",
       "4249  0.325  1.4   9.3  0.4650   4.30  0.835  2.40  2.00   55.0  12.0       1  \n",
       "4250  0.291  1.2  10.2  0.3740   3.80  0.796  2.50  2.00   20.0  10.7       1  \n",
       "4251  0.320  1.1  11.5  0.4560   5.30  0.802  4.20  3.40   43.0  15.0       1  \n",
       "\n",
       "[4252 rows x 19 columns]"
      ]
     },
     "execution_count": 638,
     "metadata": {},
     "output_type": "execute_result"
    }
   ],
   "source": [
    "ncaa"
   ]
  },
  {
   "cell_type": "markdown",
   "metadata": {},
   "source": [
    "create empty lists to keep track of metrics to create visuals for"
   ]
  },
  {
   "cell_type": "code",
   "execution_count": 904,
   "metadata": {},
   "outputs": [],
   "source": [
    "BR = []\n",
    "DN = []\n",
    "My = []"
   ]
  },
  {
   "cell_type": "markdown",
   "metadata": {},
   "source": [
    "Lets start by making predicitons for 2009 and seeing how our model does against them"
   ]
  },
  {
   "cell_type": "markdown",
   "metadata": {},
   "source": [
    "## 2009"
   ]
  },
  {
   "cell_type": "code",
   "execution_count": 905,
   "metadata": {},
   "outputs": [],
   "source": [
    "import scipy"
   ]
  },
  {
   "cell_type": "markdown",
   "metadata": {},
   "source": [
    "create the data set where we just mannually create a new table of all the players in it, so we can make comparisons"
   ]
  },
  {
   "cell_type": "code",
   "execution_count": 906,
   "metadata": {},
   "outputs": [],
   "source": [
    "pred2 = ncaa[ncaa['name'] == 'Stephen Curry']\n",
    "pred2 = pred2.append(ncaa[ncaa['name'] == 'Blake Griffin'])\n",
    "pred2 = pred2.append(ncaa[ncaa['name'] == 'Jonny Flynn'])\n",
    "pred2 = pred2.append(ncaa[ncaa['name'] == 'DeMar DeRozan'])\n",
    "pred2 = pred2.append(ncaa[ncaa['name'] == 'Hasheem Thabeet'])\n",
    "pred2 = pred2.append(ncaa[ncaa['name'] == 'James Harden'])\n",
    "pred2 = pred2.append(ncaa[ncaa['name'] == 'Tyreke Evans'])\n",
    "pred2 = pred2.append(ncaa[ncaa['name'] == 'Jordan Hill'])\n",
    "pred2 = pred2.append(ncaa[ncaa['name'] == 'Brandon Jennings'])\n",
    "pred2 = pred2.append(ncaa[ncaa['name'] == 'Terrence Williams'])\n",
    "pred2 = pred2.append(ncaa[ncaa['name'] == 'Gerald Henderson'])\n",
    "pred2 = pred2.append(ncaa[ncaa['name'] == 'Tyler Hansbrough'])\n",
    "pred2 = pred2.append(ncaa[ncaa['name'] == 'Earl Clark'])"
   ]
  },
  {
   "cell_type": "markdown",
   "metadata": {},
   "source": [
    "drop the useless column"
   ]
  },
  {
   "cell_type": "code",
   "execution_count": 907,
   "metadata": {},
   "outputs": [],
   "source": [
    "pred2.drop(columns='Unnamed: 0',inplace=True)"
   ]
  },
  {
   "cell_type": "markdown",
   "metadata": {},
   "source": [
    "take only the numeric columns"
   ]
  },
  {
   "cell_type": "code",
   "execution_count": 908,
   "metadata": {},
   "outputs": [
    {
     "data": {
      "text/html": [
       "<div>\n",
       "<style scoped>\n",
       "    .dataframe tbody tr th:only-of-type {\n",
       "        vertical-align: middle;\n",
       "    }\n",
       "\n",
       "    .dataframe tbody tr th {\n",
       "        vertical-align: top;\n",
       "    }\n",
       "\n",
       "    .dataframe thead th {\n",
       "        text-align: right;\n",
       "    }\n",
       "</style>\n",
       "<table border=\"1\" class=\"dataframe\">\n",
       "  <thead>\n",
       "    <tr style=\"text-align: right;\">\n",
       "      <th></th>\n",
       "      <th>weight</th>\n",
       "      <th>3PA</th>\n",
       "      <th>3P%</th>\n",
       "      <th>3P</th>\n",
       "      <th>FGA</th>\n",
       "      <th>FG%</th>\n",
       "      <th>FG</th>\n",
       "      <th>FT%</th>\n",
       "      <th>FTA</th>\n",
       "      <th>FT</th>\n",
       "      <th>G</th>\n",
       "      <th>PTS</th>\n",
       "      <th>labels</th>\n",
       "    </tr>\n",
       "  </thead>\n",
       "  <tbody>\n",
       "    <tr>\n",
       "      <th>813</th>\n",
       "      <td>190.0</td>\n",
       "      <td>9.7</td>\n",
       "      <td>0.412</td>\n",
       "      <td>4.0</td>\n",
       "      <td>17.9</td>\n",
       "      <td>0.467</td>\n",
       "      <td>8.4</td>\n",
       "      <td>0.876</td>\n",
       "      <td>5.3</td>\n",
       "      <td>4.6</td>\n",
       "      <td>104.0</td>\n",
       "      <td>25.3</td>\n",
       "      <td>0</td>\n",
       "    </tr>\n",
       "    <tr>\n",
       "      <th>1434</th>\n",
       "      <td>251.0</td>\n",
       "      <td>0.1</td>\n",
       "      <td>0.300</td>\n",
       "      <td>0.0</td>\n",
       "      <td>11.5</td>\n",
       "      <td>0.618</td>\n",
       "      <td>7.1</td>\n",
       "      <td>0.589</td>\n",
       "      <td>7.7</td>\n",
       "      <td>4.5</td>\n",
       "      <td>68.0</td>\n",
       "      <td>18.8</td>\n",
       "      <td>0</td>\n",
       "    </tr>\n",
       "    <tr>\n",
       "      <th>1180</th>\n",
       "      <td>185.0</td>\n",
       "      <td>4.2</td>\n",
       "      <td>0.333</td>\n",
       "      <td>1.4</td>\n",
       "      <td>12.2</td>\n",
       "      <td>0.460</td>\n",
       "      <td>5.6</td>\n",
       "      <td>0.782</td>\n",
       "      <td>5.1</td>\n",
       "      <td>4.0</td>\n",
       "      <td>73.0</td>\n",
       "      <td>16.6</td>\n",
       "      <td>1</td>\n",
       "    </tr>\n",
       "    <tr>\n",
       "      <th>919</th>\n",
       "      <td>221.0</td>\n",
       "      <td>1.0</td>\n",
       "      <td>0.167</td>\n",
       "      <td>0.2</td>\n",
       "      <td>10.5</td>\n",
       "      <td>0.523</td>\n",
       "      <td>5.5</td>\n",
       "      <td>0.646</td>\n",
       "      <td>4.2</td>\n",
       "      <td>2.7</td>\n",
       "      <td>35.0</td>\n",
       "      <td>13.9</td>\n",
       "      <td>3</td>\n",
       "    </tr>\n",
       "    <tr>\n",
       "      <th>3693</th>\n",
       "      <td>263.0</td>\n",
       "      <td>0.0</td>\n",
       "      <td>0.250</td>\n",
       "      <td>0.0</td>\n",
       "      <td>5.9</td>\n",
       "      <td>0.611</td>\n",
       "      <td>3.6</td>\n",
       "      <td>0.625</td>\n",
       "      <td>5.0</td>\n",
       "      <td>3.1</td>\n",
       "      <td>100.0</td>\n",
       "      <td>10.3</td>\n",
       "      <td>2</td>\n",
       "    </tr>\n",
       "    <tr>\n",
       "      <th>1523</th>\n",
       "      <td>220.0</td>\n",
       "      <td>3.9</td>\n",
       "      <td>0.376</td>\n",
       "      <td>1.5</td>\n",
       "      <td>11.9</td>\n",
       "      <td>0.506</td>\n",
       "      <td>6.0</td>\n",
       "      <td>0.755</td>\n",
       "      <td>7.2</td>\n",
       "      <td>5.4</td>\n",
       "      <td>69.0</td>\n",
       "      <td>19.0</td>\n",
       "      <td>0</td>\n",
       "    </tr>\n",
       "    <tr>\n",
       "      <th>1114</th>\n",
       "      <td>220.0</td>\n",
       "      <td>3.4</td>\n",
       "      <td>0.274</td>\n",
       "      <td>0.9</td>\n",
       "      <td>13.6</td>\n",
       "      <td>0.455</td>\n",
       "      <td>6.2</td>\n",
       "      <td>0.711</td>\n",
       "      <td>5.2</td>\n",
       "      <td>3.7</td>\n",
       "      <td>37.0</td>\n",
       "      <td>17.1</td>\n",
       "      <td>0</td>\n",
       "    </tr>\n",
       "    <tr>\n",
       "      <th>1661</th>\n",
       "      <td>235.0</td>\n",
       "      <td>0.0</td>\n",
       "      <td>0.222</td>\n",
       "      <td>0.0</td>\n",
       "      <td>8.8</td>\n",
       "      <td>0.578</td>\n",
       "      <td>5.1</td>\n",
       "      <td>0.636</td>\n",
       "      <td>3.6</td>\n",
       "      <td>2.3</td>\n",
       "      <td>97.0</td>\n",
       "      <td>12.5</td>\n",
       "      <td>3</td>\n",
       "    </tr>\n",
       "    <tr>\n",
       "      <th>4121</th>\n",
       "      <td>220.0</td>\n",
       "      <td>4.4</td>\n",
       "      <td>0.320</td>\n",
       "      <td>1.4</td>\n",
       "      <td>10.3</td>\n",
       "      <td>0.400</td>\n",
       "      <td>4.1</td>\n",
       "      <td>0.589</td>\n",
       "      <td>2.6</td>\n",
       "      <td>1.5</td>\n",
       "      <td>140.0</td>\n",
       "      <td>11.2</td>\n",
       "      <td>1</td>\n",
       "    </tr>\n",
       "    <tr>\n",
       "      <th>1612</th>\n",
       "      <td>175.0</td>\n",
       "      <td>3.8</td>\n",
       "      <td>0.366</td>\n",
       "      <td>1.4</td>\n",
       "      <td>13.8</td>\n",
       "      <td>0.481</td>\n",
       "      <td>6.6</td>\n",
       "      <td>0.627</td>\n",
       "      <td>2.8</td>\n",
       "      <td>1.7</td>\n",
       "      <td>103.0</td>\n",
       "      <td>15.0</td>\n",
       "      <td>1</td>\n",
       "    </tr>\n",
       "    <tr>\n",
       "      <th>1613</th>\n",
       "      <td>215.0</td>\n",
       "      <td>2.0</td>\n",
       "      <td>0.329</td>\n",
       "      <td>0.7</td>\n",
       "      <td>9.7</td>\n",
       "      <td>0.458</td>\n",
       "      <td>4.4</td>\n",
       "      <td>0.706</td>\n",
       "      <td>3.9</td>\n",
       "      <td>2.7</td>\n",
       "      <td>103.0</td>\n",
       "      <td>12.3</td>\n",
       "      <td>3</td>\n",
       "    </tr>\n",
       "    <tr>\n",
       "      <th>1512</th>\n",
       "      <td>250.0</td>\n",
       "      <td>0.3</td>\n",
       "      <td>0.316</td>\n",
       "      <td>0.1</td>\n",
       "      <td>12.3</td>\n",
       "      <td>0.536</td>\n",
       "      <td>6.6</td>\n",
       "      <td>0.791</td>\n",
       "      <td>8.7</td>\n",
       "      <td>6.9</td>\n",
       "      <td>142.0</td>\n",
       "      <td>20.2</td>\n",
       "      <td>0</td>\n",
       "    </tr>\n",
       "    <tr>\n",
       "      <th>659</th>\n",
       "      <td>225.0</td>\n",
       "      <td>1.8</td>\n",
       "      <td>0.298</td>\n",
       "      <td>0.5</td>\n",
       "      <td>8.6</td>\n",
       "      <td>0.467</td>\n",
       "      <td>4.0</td>\n",
       "      <td>0.640</td>\n",
       "      <td>3.2</td>\n",
       "      <td>2.0</td>\n",
       "      <td>104.0</td>\n",
       "      <td>10.6</td>\n",
       "      <td>2</td>\n",
       "    </tr>\n",
       "  </tbody>\n",
       "</table>\n",
       "</div>"
      ],
      "text/plain": [
       "      weight  3PA    3P%   3P   FGA    FG%   FG    FT%  FTA   FT      G   PTS  \\\n",
       "813    190.0  9.7  0.412  4.0  17.9  0.467  8.4  0.876  5.3  4.6  104.0  25.3   \n",
       "1434   251.0  0.1  0.300  0.0  11.5  0.618  7.1  0.589  7.7  4.5   68.0  18.8   \n",
       "1180   185.0  4.2  0.333  1.4  12.2  0.460  5.6  0.782  5.1  4.0   73.0  16.6   \n",
       "919    221.0  1.0  0.167  0.2  10.5  0.523  5.5  0.646  4.2  2.7   35.0  13.9   \n",
       "3693   263.0  0.0  0.250  0.0   5.9  0.611  3.6  0.625  5.0  3.1  100.0  10.3   \n",
       "1523   220.0  3.9  0.376  1.5  11.9  0.506  6.0  0.755  7.2  5.4   69.0  19.0   \n",
       "1114   220.0  3.4  0.274  0.9  13.6  0.455  6.2  0.711  5.2  3.7   37.0  17.1   \n",
       "1661   235.0  0.0  0.222  0.0   8.8  0.578  5.1  0.636  3.6  2.3   97.0  12.5   \n",
       "4121   220.0  4.4  0.320  1.4  10.3  0.400  4.1  0.589  2.6  1.5  140.0  11.2   \n",
       "1612   175.0  3.8  0.366  1.4  13.8  0.481  6.6  0.627  2.8  1.7  103.0  15.0   \n",
       "1613   215.0  2.0  0.329  0.7   9.7  0.458  4.4  0.706  3.9  2.7  103.0  12.3   \n",
       "1512   250.0  0.3  0.316  0.1  12.3  0.536  6.6  0.791  8.7  6.9  142.0  20.2   \n",
       "659    225.0  1.8  0.298  0.5   8.6  0.467  4.0  0.640  3.2  2.0  104.0  10.6   \n",
       "\n",
       "      labels  \n",
       "813        0  \n",
       "1434       0  \n",
       "1180       1  \n",
       "919        3  \n",
       "3693       2  \n",
       "1523       0  \n",
       "1114       0  \n",
       "1661       3  \n",
       "4121       1  \n",
       "1612       1  \n",
       "1613       3  \n",
       "1512       0  \n",
       "659        2  "
      ]
     },
     "execution_count": 908,
     "metadata": {},
     "output_type": "execute_result"
    }
   ],
   "source": [
    "pred2 = pred2.loc[:,'weight':]\n",
    "pred2"
   ]
  },
  {
   "cell_type": "markdown",
   "metadata": {},
   "source": [
    "don't include this years crop of players for the table we look for comparisons on"
   ]
  },
  {
   "cell_type": "code",
   "execution_count": 909,
   "metadata": {},
   "outputs": [
    {
     "data": {
      "text/html": [
       "<div>\n",
       "<style scoped>\n",
       "    .dataframe tbody tr th:only-of-type {\n",
       "        vertical-align: middle;\n",
       "    }\n",
       "\n",
       "    .dataframe tbody tr th {\n",
       "        vertical-align: top;\n",
       "    }\n",
       "\n",
       "    .dataframe thead th {\n",
       "        text-align: right;\n",
       "    }\n",
       "</style>\n",
       "<table border=\"1\" class=\"dataframe\">\n",
       "  <thead>\n",
       "    <tr style=\"text-align: right;\">\n",
       "      <th></th>\n",
       "      <th>weight</th>\n",
       "      <th>3PA</th>\n",
       "      <th>3P%</th>\n",
       "      <th>3P</th>\n",
       "      <th>FGA</th>\n",
       "      <th>FG%</th>\n",
       "      <th>FG</th>\n",
       "      <th>FT%</th>\n",
       "      <th>FTA</th>\n",
       "      <th>FT</th>\n",
       "      <th>G</th>\n",
       "      <th>PTS</th>\n",
       "      <th>labels</th>\n",
       "    </tr>\n",
       "  </thead>\n",
       "  <tbody>\n",
       "    <tr>\n",
       "      <th>0</th>\n",
       "      <td>240.0</td>\n",
       "      <td>0.0</td>\n",
       "      <td>0.288</td>\n",
       "      <td>0.0</td>\n",
       "      <td>5.6</td>\n",
       "      <td>0.5990</td>\n",
       "      <td>3.30</td>\n",
       "      <td>0.7280</td>\n",
       "      <td>2.50</td>\n",
       "      <td>1.80</td>\n",
       "      <td>134.0</td>\n",
       "      <td>8.5</td>\n",
       "      <td>2</td>\n",
       "    </tr>\n",
       "    <tr>\n",
       "      <th>1</th>\n",
       "      <td>235.0</td>\n",
       "      <td>0.1</td>\n",
       "      <td>0.222</td>\n",
       "      <td>0.0</td>\n",
       "      <td>9.7</td>\n",
       "      <td>0.5455</td>\n",
       "      <td>5.15</td>\n",
       "      <td>0.6620</td>\n",
       "      <td>4.05</td>\n",
       "      <td>2.75</td>\n",
       "      <td>93.5</td>\n",
       "      <td>13.4</td>\n",
       "      <td>3</td>\n",
       "    </tr>\n",
       "    <tr>\n",
       "      <th>2</th>\n",
       "      <td>225.0</td>\n",
       "      <td>0.0</td>\n",
       "      <td>0.250</td>\n",
       "      <td>0.0</td>\n",
       "      <td>16.8</td>\n",
       "      <td>0.6390</td>\n",
       "      <td>10.70</td>\n",
       "      <td>0.6280</td>\n",
       "      <td>7.90</td>\n",
       "      <td>5.00</td>\n",
       "      <td>88.0</td>\n",
       "      <td>26.4</td>\n",
       "      <td>0</td>\n",
       "    </tr>\n",
       "    <tr>\n",
       "      <th>3</th>\n",
       "      <td>162.0</td>\n",
       "      <td>7.2</td>\n",
       "      <td>0.372</td>\n",
       "      <td>2.7</td>\n",
       "      <td>21.9</td>\n",
       "      <td>0.4740</td>\n",
       "      <td>10.40</td>\n",
       "      <td>0.8630</td>\n",
       "      <td>6.40</td>\n",
       "      <td>5.50</td>\n",
       "      <td>64.0</td>\n",
       "      <td>29.0</td>\n",
       "      <td>0</td>\n",
       "    </tr>\n",
       "    <tr>\n",
       "      <th>4</th>\n",
       "      <td>223.0</td>\n",
       "      <td>0.9</td>\n",
       "      <td>0.333</td>\n",
       "      <td>0.3</td>\n",
       "      <td>9.6</td>\n",
       "      <td>0.5110</td>\n",
       "      <td>4.90</td>\n",
       "      <td>0.7000</td>\n",
       "      <td>3.90</td>\n",
       "      <td>2.70</td>\n",
       "      <td>107.0</td>\n",
       "      <td>13.1</td>\n",
       "      <td>3</td>\n",
       "    </tr>\n",
       "    <tr>\n",
       "      <th>...</th>\n",
       "      <td>...</td>\n",
       "      <td>...</td>\n",
       "      <td>...</td>\n",
       "      <td>...</td>\n",
       "      <td>...</td>\n",
       "      <td>...</td>\n",
       "      <td>...</td>\n",
       "      <td>...</td>\n",
       "      <td>...</td>\n",
       "      <td>...</td>\n",
       "      <td>...</td>\n",
       "      <td>...</td>\n",
       "      <td>...</td>\n",
       "    </tr>\n",
       "    <tr>\n",
       "      <th>4236</th>\n",
       "      <td>195.0</td>\n",
       "      <td>1.1</td>\n",
       "      <td>0.268</td>\n",
       "      <td>0.3</td>\n",
       "      <td>5.2</td>\n",
       "      <td>0.4770</td>\n",
       "      <td>2.50</td>\n",
       "      <td>0.6000</td>\n",
       "      <td>2.60</td>\n",
       "      <td>1.60</td>\n",
       "      <td>127.0</td>\n",
       "      <td>6.9</td>\n",
       "      <td>2</td>\n",
       "    </tr>\n",
       "    <tr>\n",
       "      <th>4237</th>\n",
       "      <td>240.0</td>\n",
       "      <td>0.7</td>\n",
       "      <td>0.294</td>\n",
       "      <td>0.2</td>\n",
       "      <td>8.2</td>\n",
       "      <td>0.4770</td>\n",
       "      <td>3.90</td>\n",
       "      <td>0.6240</td>\n",
       "      <td>3.90</td>\n",
       "      <td>2.40</td>\n",
       "      <td>26.0</td>\n",
       "      <td>10.5</td>\n",
       "      <td>2</td>\n",
       "    </tr>\n",
       "    <tr>\n",
       "      <th>4238</th>\n",
       "      <td>240.0</td>\n",
       "      <td>0.0</td>\n",
       "      <td>0.250</td>\n",
       "      <td>0.0</td>\n",
       "      <td>2.9</td>\n",
       "      <td>0.4760</td>\n",
       "      <td>1.40</td>\n",
       "      <td>0.4290</td>\n",
       "      <td>1.00</td>\n",
       "      <td>0.40</td>\n",
       "      <td>63.0</td>\n",
       "      <td>3.2</td>\n",
       "      <td>2</td>\n",
       "    </tr>\n",
       "    <tr>\n",
       "      <th>4239</th>\n",
       "      <td>170.0</td>\n",
       "      <td>3.8</td>\n",
       "      <td>0.366</td>\n",
       "      <td>1.4</td>\n",
       "      <td>10.7</td>\n",
       "      <td>0.4550</td>\n",
       "      <td>4.90</td>\n",
       "      <td>0.7560</td>\n",
       "      <td>3.80</td>\n",
       "      <td>2.80</td>\n",
       "      <td>109.0</td>\n",
       "      <td>14.0</td>\n",
       "      <td>1</td>\n",
       "    </tr>\n",
       "    <tr>\n",
       "      <th>4240</th>\n",
       "      <td>195.0</td>\n",
       "      <td>3.1</td>\n",
       "      <td>0.355</td>\n",
       "      <td>1.2</td>\n",
       "      <td>11.0</td>\n",
       "      <td>0.4770</td>\n",
       "      <td>5.20</td>\n",
       "      <td>0.7375</td>\n",
       "      <td>3.80</td>\n",
       "      <td>2.70</td>\n",
       "      <td>103.0</td>\n",
       "      <td>13.9</td>\n",
       "      <td>1</td>\n",
       "    </tr>\n",
       "  </tbody>\n",
       "</table>\n",
       "<p>4241 rows × 13 columns</p>\n",
       "</div>"
      ],
      "text/plain": [
       "      weight  3PA    3P%   3P   FGA     FG%     FG     FT%   FTA    FT      G  \\\n",
       "0      240.0  0.0  0.288  0.0   5.6  0.5990   3.30  0.7280  2.50  1.80  134.0   \n",
       "1      235.0  0.1  0.222  0.0   9.7  0.5455   5.15  0.6620  4.05  2.75   93.5   \n",
       "2      225.0  0.0  0.250  0.0  16.8  0.6390  10.70  0.6280  7.90  5.00   88.0   \n",
       "3      162.0  7.2  0.372  2.7  21.9  0.4740  10.40  0.8630  6.40  5.50   64.0   \n",
       "4      223.0  0.9  0.333  0.3   9.6  0.5110   4.90  0.7000  3.90  2.70  107.0   \n",
       "...      ...  ...    ...  ...   ...     ...    ...     ...   ...   ...    ...   \n",
       "4236   195.0  1.1  0.268  0.3   5.2  0.4770   2.50  0.6000  2.60  1.60  127.0   \n",
       "4237   240.0  0.7  0.294  0.2   8.2  0.4770   3.90  0.6240  3.90  2.40   26.0   \n",
       "4238   240.0  0.0  0.250  0.0   2.9  0.4760   1.40  0.4290  1.00  0.40   63.0   \n",
       "4239   170.0  3.8  0.366  1.4  10.7  0.4550   4.90  0.7560  3.80  2.80  109.0   \n",
       "4240   195.0  3.1  0.355  1.2  11.0  0.4770   5.20  0.7375  3.80  2.70  103.0   \n",
       "\n",
       "       PTS  labels  \n",
       "0      8.5       2  \n",
       "1     13.4       3  \n",
       "2     26.4       0  \n",
       "3     29.0       0  \n",
       "4     13.1       3  \n",
       "...    ...     ...  \n",
       "4236   6.9       2  \n",
       "4237  10.5       2  \n",
       "4238   3.2       2  \n",
       "4239  14.0       1  \n",
       "4240  13.9       1  \n",
       "\n",
       "[4241 rows x 13 columns]"
      ]
     },
     "execution_count": 909,
     "metadata": {},
     "output_type": "execute_result"
    }
   ],
   "source": [
    "pred = ncaa.loc[:4240,'weight':]\n",
    "pred"
   ]
  },
  {
   "cell_type": "markdown",
   "metadata": {},
   "source": [
    "NOTE: for every player listed in each draft for 2009, 2010 and 2011, the code is identical except for changed input fields catered for each player. I won't be commenting on the whole process nor will I comment every line of code as its simply just the same copy and past for each one, as well this also helps reduce redundancies and time."
   ]
  },
  {
   "cell_type": "markdown",
   "metadata": {},
   "source": [
    "The format is simply find minimum euclidean distances from each player in the clustered data set, find a appropriate comparison, and then compare it with the other two sources to measure accuracy."
   ]
  },
  {
   "cell_type": "markdown",
   "metadata": {},
   "source": [
    "Comparison data was copy and pasted in excel, and then converted into a csv, in the future I hope to use a seline and beautiful soup packages to scrap with the help of a VPN. The data is included in the project zip"
   ]
  },
  {
   "cell_type": "markdown",
   "metadata": {},
   "source": [
    "### Stephen Curry"
   ]
  },
  {
   "cell_type": "markdown",
   "metadata": {},
   "source": [
    "create a matrix where we compare the shortest distances for Stephen Curry in the ncaa matrix to find him a comparison before he would have gotten drafted"
   ]
  },
  {
   "cell_type": "code",
   "execution_count": 910,
   "metadata": {},
   "outputs": [
    {
     "data": {
      "text/html": [
       "<div>\n",
       "<style scoped>\n",
       "    .dataframe tbody tr th:only-of-type {\n",
       "        vertical-align: middle;\n",
       "    }\n",
       "\n",
       "    .dataframe tbody tr th {\n",
       "        vertical-align: top;\n",
       "    }\n",
       "\n",
       "    .dataframe thead th {\n",
       "        text-align: right;\n",
       "    }\n",
       "</style>\n",
       "<table border=\"1\" class=\"dataframe\">\n",
       "  <thead>\n",
       "    <tr style=\"text-align: right;\">\n",
       "      <th></th>\n",
       "      <th>weight</th>\n",
       "      <th>3PA</th>\n",
       "      <th>3P%</th>\n",
       "      <th>3P</th>\n",
       "      <th>FGA</th>\n",
       "      <th>FG%</th>\n",
       "      <th>FG</th>\n",
       "      <th>FT%</th>\n",
       "      <th>FTA</th>\n",
       "      <th>FT</th>\n",
       "      <th>G</th>\n",
       "      <th>PTS</th>\n",
       "      <th>labels</th>\n",
       "    </tr>\n",
       "  </thead>\n",
       "  <tbody>\n",
       "    <tr>\n",
       "      <th>813</th>\n",
       "      <td>190.0</td>\n",
       "      <td>9.7</td>\n",
       "      <td>0.412</td>\n",
       "      <td>4.0</td>\n",
       "      <td>17.9</td>\n",
       "      <td>0.467</td>\n",
       "      <td>8.4</td>\n",
       "      <td>0.876</td>\n",
       "      <td>5.3</td>\n",
       "      <td>4.6</td>\n",
       "      <td>104.0</td>\n",
       "      <td>25.3</td>\n",
       "      <td>0</td>\n",
       "    </tr>\n",
       "  </tbody>\n",
       "</table>\n",
       "</div>"
      ],
      "text/plain": [
       "     weight  3PA    3P%   3P   FGA    FG%   FG    FT%  FTA   FT      G   PTS  \\\n",
       "813   190.0  9.7  0.412  4.0  17.9  0.467  8.4  0.876  5.3  4.6  104.0  25.3   \n",
       "\n",
       "     labels  \n",
       "813       0  "
      ]
     },
     "execution_count": 910,
     "metadata": {},
     "output_type": "execute_result"
    }
   ],
   "source": [
    "# calculate distance of point in the cluster\n",
    "similar1 = scipy.spatial.distance.cdist(pred,pred2[0:1],metric='euclidean')\n",
    "# calculate the smallest distance(s)\n",
    "pred[similar1==similar1.min()]"
   ]
  },
  {
   "cell_type": "code",
   "execution_count": 911,
   "metadata": {
    "scrolled": true
   },
   "outputs": [
    {
     "data": {
      "text/html": [
       "<div>\n",
       "<style scoped>\n",
       "    .dataframe tbody tr th:only-of-type {\n",
       "        vertical-align: middle;\n",
       "    }\n",
       "\n",
       "    .dataframe tbody tr th {\n",
       "        vertical-align: top;\n",
       "    }\n",
       "\n",
       "    .dataframe thead th {\n",
       "        text-align: right;\n",
       "    }\n",
       "</style>\n",
       "<table border=\"1\" class=\"dataframe\">\n",
       "  <thead>\n",
       "    <tr style=\"text-align: right;\">\n",
       "      <th></th>\n",
       "      <th>weight</th>\n",
       "      <th>3PA</th>\n",
       "      <th>3P%</th>\n",
       "      <th>3P</th>\n",
       "      <th>FGA</th>\n",
       "      <th>FG%</th>\n",
       "      <th>FG</th>\n",
       "      <th>FT%</th>\n",
       "      <th>FTA</th>\n",
       "      <th>FT</th>\n",
       "      <th>G</th>\n",
       "      <th>PTS</th>\n",
       "      <th>labels</th>\n",
       "    </tr>\n",
       "  </thead>\n",
       "  <tbody>\n",
       "    <tr>\n",
       "      <th>813</th>\n",
       "      <td>190.0</td>\n",
       "      <td>9.7</td>\n",
       "      <td>0.412</td>\n",
       "      <td>4.0</td>\n",
       "      <td>17.9</td>\n",
       "      <td>0.467</td>\n",
       "      <td>8.4</td>\n",
       "      <td>0.876</td>\n",
       "      <td>5.3</td>\n",
       "      <td>4.6</td>\n",
       "      <td>104.0</td>\n",
       "      <td>25.3</td>\n",
       "      <td>0</td>\n",
       "    </tr>\n",
       "  </tbody>\n",
       "</table>\n",
       "</div>"
      ],
      "text/plain": [
       "     weight  3PA    3P%   3P   FGA    FG%   FG    FT%  FTA   FT      G   PTS  \\\n",
       "813   190.0  9.7  0.412  4.0  17.9  0.467  8.4  0.876  5.3  4.6  104.0  25.3   \n",
       "\n",
       "     labels  \n",
       "813       0  "
      ]
     },
     "execution_count": 911,
     "metadata": {},
     "output_type": "execute_result"
    }
   ],
   "source": [
    "# check his statline\n",
    "pred2[0:1]"
   ]
  },
  {
   "cell_type": "markdown",
   "metadata": {},
   "source": [
    "sort the values"
   ]
  },
  {
   "cell_type": "code",
   "execution_count": 912,
   "metadata": {},
   "outputs": [
    {
     "data": {
      "text/html": [
       "<div>\n",
       "<style scoped>\n",
       "    .dataframe tbody tr th:only-of-type {\n",
       "        vertical-align: middle;\n",
       "    }\n",
       "\n",
       "    .dataframe tbody tr th {\n",
       "        vertical-align: top;\n",
       "    }\n",
       "\n",
       "    .dataframe thead th {\n",
       "        text-align: right;\n",
       "    }\n",
       "</style>\n",
       "<table border=\"1\" class=\"dataframe\">\n",
       "  <thead>\n",
       "    <tr style=\"text-align: right;\">\n",
       "      <th></th>\n",
       "      <th>0</th>\n",
       "    </tr>\n",
       "  </thead>\n",
       "  <tbody>\n",
       "    <tr>\n",
       "      <th>813</th>\n",
       "      <td>0.000000</td>\n",
       "    </tr>\n",
       "    <tr>\n",
       "      <th>2063</th>\n",
       "      <td>4.609038</td>\n",
       "    </tr>\n",
       "    <tr>\n",
       "      <th>1189</th>\n",
       "      <td>8.398715</td>\n",
       "    </tr>\n",
       "    <tr>\n",
       "      <th>1493</th>\n",
       "      <td>8.964114</td>\n",
       "    </tr>\n",
       "    <tr>\n",
       "      <th>2455</th>\n",
       "      <td>9.955632</td>\n",
       "    </tr>\n",
       "    <tr>\n",
       "      <th>4087</th>\n",
       "      <td>10.063925</td>\n",
       "    </tr>\n",
       "    <tr>\n",
       "      <th>4180</th>\n",
       "      <td>10.610085</td>\n",
       "    </tr>\n",
       "    <tr>\n",
       "      <th>1007</th>\n",
       "      <td>10.882417</td>\n",
       "    </tr>\n",
       "    <tr>\n",
       "      <th>2258</th>\n",
       "      <td>11.034084</td>\n",
       "    </tr>\n",
       "    <tr>\n",
       "      <th>3183</th>\n",
       "      <td>11.064709</td>\n",
       "    </tr>\n",
       "  </tbody>\n",
       "</table>\n",
       "</div>"
      ],
      "text/plain": [
       "              0\n",
       "813    0.000000\n",
       "2063   4.609038\n",
       "1189   8.398715\n",
       "1493   8.964114\n",
       "2455   9.955632\n",
       "4087  10.063925\n",
       "4180  10.610085\n",
       "1007  10.882417\n",
       "2258  11.034084\n",
       "3183  11.064709"
      ]
     },
     "execution_count": 912,
     "metadata": {},
     "output_type": "execute_result"
    }
   ],
   "source": [
    "# grab and sort all the distances for the player to make a comparison\n",
    "a = np.sort(similar1)\n",
    "b = pd.DataFrame(a)\n",
    "b\n",
    "b.sort_values(by=0,ascending=True)[:10]"
   ]
  },
  {
   "cell_type": "markdown",
   "metadata": {},
   "source": [
    "pick an appropriate player, given they haven't been drafted before 1971 and have played enough games in the NBA to make a comparison on."
   ]
  },
  {
   "cell_type": "markdown",
   "metadata": {},
   "source": [
    "NOTE: for all players compared I have done the aboves reasoning to find an appropriate comparison the model gives me"
   ]
  },
  {
   "cell_type": "code",
   "execution_count": 913,
   "metadata": {},
   "outputs": [
    {
     "data": {
      "text/plain": [
       "Unnamed: 0                         1493\n",
       "college       University of Connecticut\n",
       "height                              6-6\n",
       "name                   Richard Hamilton\n",
       "position                            G-F\n",
       "url           /players/h/hamilri01.html\n",
       "weight                              185\n",
       "3PA                                 6.1\n",
       "3P%                               0.378\n",
       "3P                                  2.3\n",
       "FGA                                15.7\n",
       "FG%                               0.426\n",
       "FG                                  6.7\n",
       "FT%                               0.826\n",
       "FTA                                 4.9\n",
       "FT                                    4\n",
       "G                                   103\n",
       "PTS                                19.8\n",
       "labels                                0\n",
       "Name: 1493, dtype: object"
      ]
     },
     "execution_count": 913,
     "metadata": {},
     "output_type": "execute_result"
    }
   ],
   "source": [
    "# this index left is the player we have chosen as a good comparison the model has given us\n",
    "ncaa.loc[1493]"
   ]
  },
  {
   "cell_type": "markdown",
   "metadata": {},
   "source": [
    "Lets now compare the results and save them"
   ]
  },
  {
   "cell_type": "markdown",
   "metadata": {},
   "source": [
    "Order for all players in terms of results is Bleacher Report, Draft Net and my model respectively"
   ]
  },
  {
   "cell_type": "code",
   "execution_count": 914,
   "metadata": {},
   "outputs": [
    {
     "data": {
      "text/plain": [
       "array([[1196.80134496]])"
      ]
     },
     "execution_count": 914,
     "metadata": {},
     "output_type": "execute_result"
    }
   ],
   "source": [
    "# append the results of the distance of bleacher report and its comparison in the NBA cluster\n",
    "BR.append(scipy.spatial.distance.cdist(nba[nba['Player'] =='Stephen Curry'].iloc[:,1:], nba[nba['Player'] =='Chauncey Billups'].iloc[:,1:], metric='euclidean'))\n",
    "# print the results          \n",
    "scipy.spatial.distance.cdist(nba[nba['Player'] =='Stephen Curry'].iloc[:,1:], \n",
    "                                 nba[nba['Player'] =='Chauncey Billups'].iloc[:,1:], metric='euclidean')"
   ]
  },
  {
   "cell_type": "code",
   "execution_count": 915,
   "metadata": {},
   "outputs": [
    {
     "data": {
      "text/plain": [
       "array([[1001.17405764]])"
      ]
     },
     "execution_count": 915,
     "metadata": {},
     "output_type": "execute_result"
    }
   ],
   "source": [
    "# append the results of the distance of draft net and its comparison in the NBA cluster\n",
    "DN.append(scipy.spatial.distance.cdist(nba[nba['Player'] =='Stephen Curry'].iloc[:,1:], \n",
    "                                 nba[nba['Player'] =='Mahmoud Abdul-Rauf'].iloc[:,1:], metric='euclidean'))\n",
    "scipy.spatial.distance.cdist(nba[nba['Player'] =='Stephen Curry'].iloc[:,1:], \n",
    "                                 nba[nba['Player'] =='Mahmoud Abdul-Rauf'].iloc[:,1:], metric='euclidean')"
   ]
  },
  {
   "cell_type": "code",
   "execution_count": 916,
   "metadata": {},
   "outputs": [
    {
     "data": {
      "text/plain": [
       "array([[854.68808562]])"
      ]
     },
     "execution_count": 916,
     "metadata": {},
     "output_type": "execute_result"
    }
   ],
   "source": [
    "# append the r# append the results of the distance of my models and its comparison in the NBA cluster\n",
    "My.append(scipy.spatial.distance.cdist(nba[nba['Player'] =='Stephen Curry'].iloc[:,1:], \n",
    "                                 nba[nba['Player'] =='Richard Hamilton'].iloc[:,1:], metric='euclidean'))\n",
    "scipy.spatial.distance.cdist(nba[nba['Player'] =='Stephen Curry'].iloc[:,1:], \n",
    "                                 nba[nba['Player'] =='Richard Hamilton'].iloc[:,1:], metric='euclidean')"
   ]
  },
  {
   "cell_type": "markdown",
   "metadata": {},
   "source": [
    "My model scored first."
   ]
  },
  {
   "cell_type": "markdown",
   "metadata": {},
   "source": [
    "NOTE: distance calculated is done from the player and their comparison in the NBA clustered data set, the lower the score the more accurate it is compared to the others."
   ]
  },
  {
   "cell_type": "markdown",
   "metadata": {},
   "source": [
    "### Blake Griffin"
   ]
  },
  {
   "cell_type": "code",
   "execution_count": 917,
   "metadata": {},
   "outputs": [
    {
     "data": {
      "text/html": [
       "<div>\n",
       "<style scoped>\n",
       "    .dataframe tbody tr th:only-of-type {\n",
       "        vertical-align: middle;\n",
       "    }\n",
       "\n",
       "    .dataframe tbody tr th {\n",
       "        vertical-align: top;\n",
       "    }\n",
       "\n",
       "    .dataframe thead th {\n",
       "        text-align: right;\n",
       "    }\n",
       "</style>\n",
       "<table border=\"1\" class=\"dataframe\">\n",
       "  <thead>\n",
       "    <tr style=\"text-align: right;\">\n",
       "      <th></th>\n",
       "      <th>weight</th>\n",
       "      <th>3PA</th>\n",
       "      <th>3P%</th>\n",
       "      <th>3P</th>\n",
       "      <th>FGA</th>\n",
       "      <th>FG%</th>\n",
       "      <th>FG</th>\n",
       "      <th>FT%</th>\n",
       "      <th>FTA</th>\n",
       "      <th>FT</th>\n",
       "      <th>G</th>\n",
       "      <th>PTS</th>\n",
       "      <th>labels</th>\n",
       "    </tr>\n",
       "  </thead>\n",
       "  <tbody>\n",
       "    <tr>\n",
       "      <th>1434</th>\n",
       "      <td>251.0</td>\n",
       "      <td>0.1</td>\n",
       "      <td>0.3</td>\n",
       "      <td>0.0</td>\n",
       "      <td>11.5</td>\n",
       "      <td>0.618</td>\n",
       "      <td>7.1</td>\n",
       "      <td>0.589</td>\n",
       "      <td>7.7</td>\n",
       "      <td>4.5</td>\n",
       "      <td>68.0</td>\n",
       "      <td>18.8</td>\n",
       "      <td>0</td>\n",
       "    </tr>\n",
       "  </tbody>\n",
       "</table>\n",
       "</div>"
      ],
      "text/plain": [
       "      weight  3PA  3P%   3P   FGA    FG%   FG    FT%  FTA   FT     G   PTS  \\\n",
       "1434   251.0  0.1  0.3  0.0  11.5  0.618  7.1  0.589  7.7  4.5  68.0  18.8   \n",
       "\n",
       "      labels  \n",
       "1434       0  "
      ]
     },
     "execution_count": 917,
     "metadata": {},
     "output_type": "execute_result"
    }
   ],
   "source": [
    "similar1 = scipy.spatial.distance.cdist(pred,pred2[1:2],metric='euclidean')\n",
    "pred[similar1==similar1.min()]"
   ]
  },
  {
   "cell_type": "code",
   "execution_count": 918,
   "metadata": {},
   "outputs": [
    {
     "data": {
      "text/html": [
       "<div>\n",
       "<style scoped>\n",
       "    .dataframe tbody tr th:only-of-type {\n",
       "        vertical-align: middle;\n",
       "    }\n",
       "\n",
       "    .dataframe tbody tr th {\n",
       "        vertical-align: top;\n",
       "    }\n",
       "\n",
       "    .dataframe thead th {\n",
       "        text-align: right;\n",
       "    }\n",
       "</style>\n",
       "<table border=\"1\" class=\"dataframe\">\n",
       "  <thead>\n",
       "    <tr style=\"text-align: right;\">\n",
       "      <th></th>\n",
       "      <th>0</th>\n",
       "    </tr>\n",
       "  </thead>\n",
       "  <tbody>\n",
       "    <tr>\n",
       "      <th>1434</th>\n",
       "      <td>0.000000</td>\n",
       "    </tr>\n",
       "    <tr>\n",
       "      <th>2169</th>\n",
       "      <td>5.335763</td>\n",
       "    </tr>\n",
       "    <tr>\n",
       "      <th>3553</th>\n",
       "      <td>5.509866</td>\n",
       "    </tr>\n",
       "    <tr>\n",
       "      <th>3646</th>\n",
       "      <td>7.353823</td>\n",
       "    </tr>\n",
       "    <tr>\n",
       "      <th>1113</th>\n",
       "      <td>7.947875</td>\n",
       "    </tr>\n",
       "    <tr>\n",
       "      <th>1905</th>\n",
       "      <td>8.021410</td>\n",
       "    </tr>\n",
       "    <tr>\n",
       "      <th>3965</th>\n",
       "      <td>8.541332</td>\n",
       "    </tr>\n",
       "    <tr>\n",
       "      <th>3005</th>\n",
       "      <td>8.888299</td>\n",
       "    </tr>\n",
       "    <tr>\n",
       "      <th>2952</th>\n",
       "      <td>9.328170</td>\n",
       "    </tr>\n",
       "    <tr>\n",
       "      <th>137</th>\n",
       "      <td>9.908369</td>\n",
       "    </tr>\n",
       "  </tbody>\n",
       "</table>\n",
       "</div>"
      ],
      "text/plain": [
       "             0\n",
       "1434  0.000000\n",
       "2169  5.335763\n",
       "3553  5.509866\n",
       "3646  7.353823\n",
       "1113  7.947875\n",
       "1905  8.021410\n",
       "3965  8.541332\n",
       "3005  8.888299\n",
       "2952  9.328170\n",
       "137   9.908369"
      ]
     },
     "execution_count": 918,
     "metadata": {},
     "output_type": "execute_result"
    }
   ],
   "source": [
    "a = np.sort(similar1)\n",
    "b = pd.DataFrame(a)\n",
    "b\n",
    "b.sort_values(by=0,ascending=True)[:10]"
   ]
  },
  {
   "cell_type": "code",
   "execution_count": 919,
   "metadata": {},
   "outputs": [
    {
     "data": {
      "text/plain": [
       "Unnamed: 0                         3965\n",
       "college          University of Michigan\n",
       "height                              6-9\n",
       "name                       Chris Webber\n",
       "position                            F-C\n",
       "url           /players/w/webbech01.html\n",
       "weight                              245\n",
       "3PA                                 1.9\n",
       "3P%                               0.306\n",
       "3P                                  0.6\n",
       "FGA                                12.4\n",
       "FG%                               0.589\n",
       "FG                                  7.3\n",
       "FT%                                0.53\n",
       "FTA                                 4.2\n",
       "FT                                  2.2\n",
       "G                                    70\n",
       "PTS                                17.4\n",
       "labels                                3\n",
       "Name: 3965, dtype: object"
      ]
     },
     "execution_count": 919,
     "metadata": {},
     "output_type": "execute_result"
    }
   ],
   "source": [
    "ncaa.loc[3965]"
   ]
  },
  {
   "cell_type": "code",
   "execution_count": 920,
   "metadata": {},
   "outputs": [],
   "source": [
    "BR.append(scipy.spatial.distance.cdist(nba[nba['Player'] =='Blake Griffin'].iloc[:,1:], \n",
    "                                 nba[nba['Player'] =='Karl Malone*'].iloc[:,1:], metric='euclidean'))\n",
    "DN.append(scipy.spatial.distance.cdist(nba[nba['Player'] =='Blake Griffin'].iloc[:,1:], \n",
    "                                 nba[nba['Player'] =='Carlos Boozer'].iloc[:,1:], metric='euclidean'))\n",
    "My.append(scipy.spatial.distance.cdist(nba[nba['Player'] =='Blake Griffin'].iloc[:,1:], \n",
    "                                 nba[nba['Player'] =='Chris Webber'].iloc[:,1:], metric='euclidean'))"
   ]
  },
  {
   "cell_type": "code",
   "execution_count": 921,
   "metadata": {},
   "outputs": [
    {
     "data": {
      "text/plain": [
       "array([[796.15348759]])"
      ]
     },
     "execution_count": 921,
     "metadata": {},
     "output_type": "execute_result"
    }
   ],
   "source": [
    "scipy.spatial.distance.cdist(nba[nba['Player'] =='Blake Griffin'].iloc[:,1:], \n",
    "                                 nba[nba['Player'] =='Karl Malone*'].iloc[:,1:], metric='euclidean')"
   ]
  },
  {
   "cell_type": "code",
   "execution_count": 922,
   "metadata": {},
   "outputs": [
    {
     "data": {
      "text/plain": [
       "array([[573.0560203]])"
      ]
     },
     "execution_count": 922,
     "metadata": {},
     "output_type": "execute_result"
    }
   ],
   "source": [
    "scipy.spatial.distance.cdist(nba[nba['Player'] =='Blake Griffin'].iloc[:,1:], \n",
    "                                 nba[nba['Player'] =='Carlos Boozer'].iloc[:,1:], metric='euclidean')"
   ]
  },
  {
   "cell_type": "code",
   "execution_count": 923,
   "metadata": {},
   "outputs": [
    {
     "data": {
      "text/plain": [
       "array([[660.09629994]])"
      ]
     },
     "execution_count": 923,
     "metadata": {},
     "output_type": "execute_result"
    }
   ],
   "source": [
    "scipy.spatial.distance.cdist(nba[nba['Player'] =='Blake Griffin'].iloc[:,1:], \n",
    "                                 nba[nba['Player'] =='Chris Webber'].iloc[:,1:], metric='euclidean')"
   ]
  },
  {
   "cell_type": "markdown",
   "metadata": {},
   "source": [
    "My model came in 2nd"
   ]
  },
  {
   "cell_type": "markdown",
   "metadata": {},
   "source": [
    "### Jonny Flynn"
   ]
  },
  {
   "cell_type": "code",
   "execution_count": 924,
   "metadata": {},
   "outputs": [
    {
     "data": {
      "text/html": [
       "<div>\n",
       "<style scoped>\n",
       "    .dataframe tbody tr th:only-of-type {\n",
       "        vertical-align: middle;\n",
       "    }\n",
       "\n",
       "    .dataframe tbody tr th {\n",
       "        vertical-align: top;\n",
       "    }\n",
       "\n",
       "    .dataframe thead th {\n",
       "        text-align: right;\n",
       "    }\n",
       "</style>\n",
       "<table border=\"1\" class=\"dataframe\">\n",
       "  <thead>\n",
       "    <tr style=\"text-align: right;\">\n",
       "      <th></th>\n",
       "      <th>weight</th>\n",
       "      <th>3PA</th>\n",
       "      <th>3P%</th>\n",
       "      <th>3P</th>\n",
       "      <th>FGA</th>\n",
       "      <th>FG%</th>\n",
       "      <th>FG</th>\n",
       "      <th>FT%</th>\n",
       "      <th>FTA</th>\n",
       "      <th>FT</th>\n",
       "      <th>G</th>\n",
       "      <th>PTS</th>\n",
       "      <th>labels</th>\n",
       "    </tr>\n",
       "  </thead>\n",
       "  <tbody>\n",
       "    <tr>\n",
       "      <th>1180</th>\n",
       "      <td>185.0</td>\n",
       "      <td>4.2</td>\n",
       "      <td>0.333</td>\n",
       "      <td>1.4</td>\n",
       "      <td>12.2</td>\n",
       "      <td>0.46</td>\n",
       "      <td>5.6</td>\n",
       "      <td>0.782</td>\n",
       "      <td>5.1</td>\n",
       "      <td>4.0</td>\n",
       "      <td>73.0</td>\n",
       "      <td>16.6</td>\n",
       "      <td>1</td>\n",
       "    </tr>\n",
       "  </tbody>\n",
       "</table>\n",
       "</div>"
      ],
      "text/plain": [
       "      weight  3PA    3P%   3P   FGA   FG%   FG    FT%  FTA   FT     G   PTS  \\\n",
       "1180   185.0  4.2  0.333  1.4  12.2  0.46  5.6  0.782  5.1  4.0  73.0  16.6   \n",
       "\n",
       "      labels  \n",
       "1180       1  "
      ]
     },
     "execution_count": 924,
     "metadata": {},
     "output_type": "execute_result"
    }
   ],
   "source": [
    "similar1 = scipy.spatial.distance.cdist(pred,pred2[2:3],metric='euclidean')\n",
    "pred[similar1==similar1.min()]"
   ]
  },
  {
   "cell_type": "code",
   "execution_count": 925,
   "metadata": {
    "scrolled": true
   },
   "outputs": [
    {
     "data": {
      "text/html": [
       "<div>\n",
       "<style scoped>\n",
       "    .dataframe tbody tr th:only-of-type {\n",
       "        vertical-align: middle;\n",
       "    }\n",
       "\n",
       "    .dataframe tbody tr th {\n",
       "        vertical-align: top;\n",
       "    }\n",
       "\n",
       "    .dataframe thead th {\n",
       "        text-align: right;\n",
       "    }\n",
       "</style>\n",
       "<table border=\"1\" class=\"dataframe\">\n",
       "  <thead>\n",
       "    <tr style=\"text-align: right;\">\n",
       "      <th></th>\n",
       "      <th>0</th>\n",
       "    </tr>\n",
       "  </thead>\n",
       "  <tbody>\n",
       "    <tr>\n",
       "      <th>1180</th>\n",
       "      <td>0.000000</td>\n",
       "    </tr>\n",
       "    <tr>\n",
       "      <th>135</th>\n",
       "      <td>2.122670</td>\n",
       "    </tr>\n",
       "    <tr>\n",
       "      <th>669</th>\n",
       "      <td>3.019645</td>\n",
       "    </tr>\n",
       "    <tr>\n",
       "      <th>665</th>\n",
       "      <td>4.012438</td>\n",
       "    </tr>\n",
       "    <tr>\n",
       "      <th>2164</th>\n",
       "      <td>4.859144</td>\n",
       "    </tr>\n",
       "    <tr>\n",
       "      <th>966</th>\n",
       "      <td>4.886657</td>\n",
       "    </tr>\n",
       "    <tr>\n",
       "      <th>1813</th>\n",
       "      <td>5.352864</td>\n",
       "    </tr>\n",
       "    <tr>\n",
       "      <th>4034</th>\n",
       "      <td>5.481768</td>\n",
       "    </tr>\n",
       "    <tr>\n",
       "      <th>2935</th>\n",
       "      <td>5.597451</td>\n",
       "    </tr>\n",
       "    <tr>\n",
       "      <th>283</th>\n",
       "      <td>5.891240</td>\n",
       "    </tr>\n",
       "  </tbody>\n",
       "</table>\n",
       "</div>"
      ],
      "text/plain": [
       "             0\n",
       "1180  0.000000\n",
       "135   2.122670\n",
       "669   3.019645\n",
       "665   4.012438\n",
       "2164  4.859144\n",
       "966   4.886657\n",
       "1813  5.352864\n",
       "4034  5.481768\n",
       "2935  5.597451\n",
       "283   5.891240"
      ]
     },
     "execution_count": 925,
     "metadata": {},
     "output_type": "execute_result"
    }
   ],
   "source": [
    "a = np.sort(similar1)\n",
    "b = pd.DataFrame(a)\n",
    "b\n",
    "b.sort_values(by=0,ascending=True)[:10]"
   ]
  },
  {
   "cell_type": "code",
   "execution_count": 926,
   "metadata": {
    "scrolled": true
   },
   "outputs": [
    {
     "data": {
      "text/plain": [
       "Unnamed: 0                              135\n",
       "college       University of Texas at Austin\n",
       "height                                  6-0\n",
       "name                          D.J. Augustin\n",
       "position                                  G\n",
       "url               /players/a/augusdj01.html\n",
       "weight                                  183\n",
       "3PA                                     4.1\n",
       "3P%                                   0.402\n",
       "3P                                      1.6\n",
       "FGA                                    12.2\n",
       "FG%                                   0.443\n",
       "FG                                      5.4\n",
       "FT%                                   0.808\n",
       "FTA                                     5.5\n",
       "FT                                      4.4\n",
       "G                                        73\n",
       "PTS                                    16.9\n",
       "labels                                    1\n",
       "Name: 135, dtype: object"
      ]
     },
     "execution_count": 926,
     "metadata": {},
     "output_type": "execute_result"
    }
   ],
   "source": [
    "ncaa.loc[135]"
   ]
  },
  {
   "cell_type": "code",
   "execution_count": 927,
   "metadata": {},
   "outputs": [],
   "source": [
    "BR.append(scipy.spatial.distance.cdist(nba[nba['Player'] =='Jonny Flynn'].iloc[:,1:], \n",
    "                                 nba[nba['Player'] =='Tony Delk'].iloc[:,1:], metric='euclidean'))\n",
    "DN.append(scipy.spatial.distance.cdist(nba[nba['Player'] =='Jonny Flynn'].iloc[:,1:], \n",
    "                                 nba[nba['Player'] =='Damon Stoudamire'].iloc[:,1:], metric='euclidean'))\n",
    "My.append(scipy.spatial.distance.cdist(nba[nba['Player'] =='Jonny Flynn'].iloc[:,1:], \n",
    "                                 nba[nba['Player'] =='Damon Stoudamire'].iloc[:,1:], metric='euclidean'))"
   ]
  },
  {
   "cell_type": "code",
   "execution_count": 928,
   "metadata": {},
   "outputs": [
    {
     "data": {
      "text/plain": [
       "array([[164.75956695]])"
      ]
     },
     "execution_count": 928,
     "metadata": {},
     "output_type": "execute_result"
    }
   ],
   "source": [
    "scipy.spatial.distance.cdist(nba[nba['Player'] =='Jonny Flynn'].iloc[:,1:], \n",
    "                                 nba[nba['Player'] =='Tony Delk'].iloc[:,1:], metric='euclidean')"
   ]
  },
  {
   "cell_type": "code",
   "execution_count": 929,
   "metadata": {},
   "outputs": [
    {
     "data": {
      "text/plain": [
       "array([[775.77623475]])"
      ]
     },
     "execution_count": 929,
     "metadata": {},
     "output_type": "execute_result"
    }
   ],
   "source": [
    "scipy.spatial.distance.cdist(nba[nba['Player'] =='Jonny Flynn'].iloc[:,1:], \n",
    "                                 nba[nba['Player'] =='Damon Stoudamire'].iloc[:,1:], metric='euclidean')"
   ]
  },
  {
   "cell_type": "code",
   "execution_count": 930,
   "metadata": {},
   "outputs": [
    {
     "data": {
      "text/plain": [
       "array([[339.01109554]])"
      ]
     },
     "execution_count": 930,
     "metadata": {},
     "output_type": "execute_result"
    }
   ],
   "source": [
    "scipy.spatial.distance.cdist(nba[nba['Player'] =='Jonny Flynn'].iloc[:,1:], \n",
    "                                 nba[nba['Player'] =='D.J. Augustin'].iloc[:,1:], metric='euclidean')"
   ]
  },
  {
   "cell_type": "markdown",
   "metadata": {},
   "source": [
    "my model came in 2nd"
   ]
  },
  {
   "cell_type": "markdown",
   "metadata": {},
   "source": [
    "### DeMar DeRozan"
   ]
  },
  {
   "cell_type": "code",
   "execution_count": 931,
   "metadata": {},
   "outputs": [
    {
     "data": {
      "text/html": [
       "<div>\n",
       "<style scoped>\n",
       "    .dataframe tbody tr th:only-of-type {\n",
       "        vertical-align: middle;\n",
       "    }\n",
       "\n",
       "    .dataframe tbody tr th {\n",
       "        vertical-align: top;\n",
       "    }\n",
       "\n",
       "    .dataframe thead th {\n",
       "        text-align: right;\n",
       "    }\n",
       "</style>\n",
       "<table border=\"1\" class=\"dataframe\">\n",
       "  <thead>\n",
       "    <tr style=\"text-align: right;\">\n",
       "      <th></th>\n",
       "      <th>weight</th>\n",
       "      <th>3PA</th>\n",
       "      <th>3P%</th>\n",
       "      <th>3P</th>\n",
       "      <th>FGA</th>\n",
       "      <th>FG%</th>\n",
       "      <th>FG</th>\n",
       "      <th>FT%</th>\n",
       "      <th>FTA</th>\n",
       "      <th>FT</th>\n",
       "      <th>G</th>\n",
       "      <th>PTS</th>\n",
       "      <th>labels</th>\n",
       "    </tr>\n",
       "  </thead>\n",
       "  <tbody>\n",
       "    <tr>\n",
       "      <th>919</th>\n",
       "      <td>221.0</td>\n",
       "      <td>1.0</td>\n",
       "      <td>0.167</td>\n",
       "      <td>0.2</td>\n",
       "      <td>10.5</td>\n",
       "      <td>0.523</td>\n",
       "      <td>5.5</td>\n",
       "      <td>0.646</td>\n",
       "      <td>4.2</td>\n",
       "      <td>2.7</td>\n",
       "      <td>35.0</td>\n",
       "      <td>13.9</td>\n",
       "      <td>3</td>\n",
       "    </tr>\n",
       "  </tbody>\n",
       "</table>\n",
       "</div>"
      ],
      "text/plain": [
       "     weight  3PA    3P%   3P   FGA    FG%   FG    FT%  FTA   FT     G   PTS  \\\n",
       "919   221.0  1.0  0.167  0.2  10.5  0.523  5.5  0.646  4.2  2.7  35.0  13.9   \n",
       "\n",
       "     labels  \n",
       "919       3  "
      ]
     },
     "execution_count": 931,
     "metadata": {},
     "output_type": "execute_result"
    }
   ],
   "source": [
    "similar1 = scipy.spatial.distance.cdist(pred,pred2[3:4],metric='euclidean')\n",
    "pred[similar1==similar1.min()]"
   ]
  },
  {
   "cell_type": "code",
   "execution_count": 932,
   "metadata": {},
   "outputs": [
    {
     "data": {
      "text/html": [
       "<div>\n",
       "<style scoped>\n",
       "    .dataframe tbody tr th:only-of-type {\n",
       "        vertical-align: middle;\n",
       "    }\n",
       "\n",
       "    .dataframe tbody tr th {\n",
       "        vertical-align: top;\n",
       "    }\n",
       "\n",
       "    .dataframe thead th {\n",
       "        text-align: right;\n",
       "    }\n",
       "</style>\n",
       "<table border=\"1\" class=\"dataframe\">\n",
       "  <thead>\n",
       "    <tr style=\"text-align: right;\">\n",
       "      <th></th>\n",
       "      <th>0</th>\n",
       "    </tr>\n",
       "  </thead>\n",
       "  <tbody>\n",
       "    <tr>\n",
       "      <th>919</th>\n",
       "      <td>0.000000</td>\n",
       "    </tr>\n",
       "    <tr>\n",
       "      <th>2201</th>\n",
       "      <td>3.333066</td>\n",
       "    </tr>\n",
       "    <tr>\n",
       "      <th>2289</th>\n",
       "      <td>3.469108</td>\n",
       "    </tr>\n",
       "    <tr>\n",
       "      <th>1352</th>\n",
       "      <td>3.683298</td>\n",
       "    </tr>\n",
       "    <tr>\n",
       "      <th>1950</th>\n",
       "      <td>4.056926</td>\n",
       "    </tr>\n",
       "    <tr>\n",
       "      <th>912</th>\n",
       "      <td>4.189696</td>\n",
       "    </tr>\n",
       "    <tr>\n",
       "      <th>661</th>\n",
       "      <td>4.288617</td>\n",
       "    </tr>\n",
       "    <tr>\n",
       "      <th>3891</th>\n",
       "      <td>4.506104</td>\n",
       "    </tr>\n",
       "    <tr>\n",
       "      <th>1627</th>\n",
       "      <td>4.971518</td>\n",
       "    </tr>\n",
       "    <tr>\n",
       "      <th>713</th>\n",
       "      <td>5.581017</td>\n",
       "    </tr>\n",
       "  </tbody>\n",
       "</table>\n",
       "</div>"
      ],
      "text/plain": [
       "             0\n",
       "919   0.000000\n",
       "2201  3.333066\n",
       "2289  3.469108\n",
       "1352  3.683298\n",
       "1950  4.056926\n",
       "912   4.189696\n",
       "661   4.288617\n",
       "3891  4.506104\n",
       "1627  4.971518\n",
       "713   5.581017"
      ]
     },
     "execution_count": 932,
     "metadata": {},
     "output_type": "execute_result"
    }
   ],
   "source": [
    "a = np.sort(similar1)\n",
    "b = pd.DataFrame(a)\n",
    "b\n",
    "b.sort_values(by=0,ascending=True)[:10]"
   ]
  },
  {
   "cell_type": "code",
   "execution_count": 933,
   "metadata": {
    "scrolled": true
   },
   "outputs": [
    {
     "data": {
      "text/plain": [
       "Unnamed: 0                         912\n",
       "college                Duke University\n",
       "height                             6-9\n",
       "name                         Luol Deng\n",
       "position                             F\n",
       "url           /players/d/denglu01.html\n",
       "weight                             220\n",
       "3PA                                  3\n",
       "3P%                               0.36\n",
       "3P                                 1.1\n",
       "FGA                               11.9\n",
       "FG%                              0.476\n",
       "FG                                 5.7\n",
       "FT%                               0.71\n",
       "FTA                                3.7\n",
       "FT                                 2.6\n",
       "G                                   37\n",
       "PTS                               15.1\n",
       "labels                               1\n",
       "Name: 912, dtype: object"
      ]
     },
     "execution_count": 933,
     "metadata": {},
     "output_type": "execute_result"
    }
   ],
   "source": [
    "ncaa.loc[912]"
   ]
  },
  {
   "cell_type": "code",
   "execution_count": 934,
   "metadata": {},
   "outputs": [],
   "source": [
    "BR.append(scipy.spatial.distance.cdist(nba[nba['Player'] =='DeMar DeRozan'].iloc[:,1:], \n",
    "                                 nba[nba['Player'] =='Jason Richardson'].iloc[:,1:], metric='euclidean'))\n",
    "DN.append(scipy.spatial.distance.cdist(nba[nba['Player'] =='DeMar DeRozan'].iloc[:,1:], \n",
    "                                 nba[nba['Player'] =='Vince Carter'].iloc[:,1:], metric='euclidean'))\n",
    "My.append(scipy.spatial.distance.cdist(nba[nba['Player'] =='DeMar DeRozan'].iloc[:,1:], \n",
    "                                 nba[nba['Player'] =='Luol Deng'].iloc[:,1:], metric='euclidean'))"
   ]
  },
  {
   "cell_type": "code",
   "execution_count": 935,
   "metadata": {},
   "outputs": [
    {
     "data": {
      "text/plain": [
       "array([[860.16843112]])"
      ]
     },
     "execution_count": 935,
     "metadata": {},
     "output_type": "execute_result"
    }
   ],
   "source": [
    "scipy.spatial.distance.cdist(nba[nba['Player'] =='DeMar DeRozan'].iloc[:,1:], \n",
    "                                 nba[nba['Player'] =='Jason Richardson'].iloc[:,1:], metric='euclidean')"
   ]
  },
  {
   "cell_type": "code",
   "execution_count": 936,
   "metadata": {},
   "outputs": [
    {
     "data": {
      "text/plain": [
       "array([[542.50730502]])"
      ]
     },
     "execution_count": 936,
     "metadata": {},
     "output_type": "execute_result"
    }
   ],
   "source": [
    "scipy.spatial.distance.cdist(nba[nba['Player'] =='DeMar DeRozan'].iloc[:,1:], \n",
    "                                 nba[nba['Player'] =='Vince Carter'].iloc[:,1:], metric='euclidean')"
   ]
  },
  {
   "cell_type": "code",
   "execution_count": 937,
   "metadata": {},
   "outputs": [
    {
     "data": {
      "text/plain": [
       "array([[813.32016285]])"
      ]
     },
     "execution_count": 937,
     "metadata": {},
     "output_type": "execute_result"
    }
   ],
   "source": [
    "scipy.spatial.distance.cdist(nba[nba['Player'] =='DeMar DeRozan'].iloc[:,1:], \n",
    "                                 nba[nba['Player'] =='Luol Deng'].iloc[:,1:], metric='euclidean')"
   ]
  },
  {
   "cell_type": "markdown",
   "metadata": {},
   "source": [
    "my model came in 2nd"
   ]
  },
  {
   "cell_type": "markdown",
   "metadata": {},
   "source": [
    "### Hasheem Thabeet"
   ]
  },
  {
   "cell_type": "code",
   "execution_count": 938,
   "metadata": {},
   "outputs": [
    {
     "data": {
      "text/html": [
       "<div>\n",
       "<style scoped>\n",
       "    .dataframe tbody tr th:only-of-type {\n",
       "        vertical-align: middle;\n",
       "    }\n",
       "\n",
       "    .dataframe tbody tr th {\n",
       "        vertical-align: top;\n",
       "    }\n",
       "\n",
       "    .dataframe thead th {\n",
       "        text-align: right;\n",
       "    }\n",
       "</style>\n",
       "<table border=\"1\" class=\"dataframe\">\n",
       "  <thead>\n",
       "    <tr style=\"text-align: right;\">\n",
       "      <th></th>\n",
       "      <th>weight</th>\n",
       "      <th>3PA</th>\n",
       "      <th>3P%</th>\n",
       "      <th>3P</th>\n",
       "      <th>FGA</th>\n",
       "      <th>FG%</th>\n",
       "      <th>FG</th>\n",
       "      <th>FT%</th>\n",
       "      <th>FTA</th>\n",
       "      <th>FT</th>\n",
       "      <th>G</th>\n",
       "      <th>PTS</th>\n",
       "      <th>labels</th>\n",
       "    </tr>\n",
       "  </thead>\n",
       "  <tbody>\n",
       "    <tr>\n",
       "      <th>3693</th>\n",
       "      <td>263.0</td>\n",
       "      <td>0.0</td>\n",
       "      <td>0.25</td>\n",
       "      <td>0.0</td>\n",
       "      <td>5.9</td>\n",
       "      <td>0.611</td>\n",
       "      <td>3.6</td>\n",
       "      <td>0.625</td>\n",
       "      <td>5.0</td>\n",
       "      <td>3.1</td>\n",
       "      <td>100.0</td>\n",
       "      <td>10.3</td>\n",
       "      <td>2</td>\n",
       "    </tr>\n",
       "  </tbody>\n",
       "</table>\n",
       "</div>"
      ],
      "text/plain": [
       "      weight  3PA   3P%   3P  FGA    FG%   FG    FT%  FTA   FT      G   PTS  \\\n",
       "3693   263.0  0.0  0.25  0.0  5.9  0.611  3.6  0.625  5.0  3.1  100.0  10.3   \n",
       "\n",
       "      labels  \n",
       "3693       2  "
      ]
     },
     "execution_count": 938,
     "metadata": {},
     "output_type": "execute_result"
    }
   ],
   "source": [
    "similar1 = scipy.spatial.distance.cdist(pred,pred2[4:5],metric='euclidean')\n",
    "pred[similar1==similar1.min()]"
   ]
  },
  {
   "cell_type": "code",
   "execution_count": 939,
   "metadata": {},
   "outputs": [
    {
     "data": {
      "text/html": [
       "<div>\n",
       "<style scoped>\n",
       "    .dataframe tbody tr th:only-of-type {\n",
       "        vertical-align: middle;\n",
       "    }\n",
       "\n",
       "    .dataframe tbody tr th {\n",
       "        vertical-align: top;\n",
       "    }\n",
       "\n",
       "    .dataframe thead th {\n",
       "        text-align: right;\n",
       "    }\n",
       "</style>\n",
       "<table border=\"1\" class=\"dataframe\">\n",
       "  <thead>\n",
       "    <tr style=\"text-align: right;\">\n",
       "      <th></th>\n",
       "      <th>0</th>\n",
       "    </tr>\n",
       "  </thead>\n",
       "  <tbody>\n",
       "    <tr>\n",
       "      <th>3693</th>\n",
       "      <td>0.000000</td>\n",
       "    </tr>\n",
       "    <tr>\n",
       "      <th>3680</th>\n",
       "      <td>3.688516</td>\n",
       "    </tr>\n",
       "    <tr>\n",
       "      <th>331</th>\n",
       "      <td>3.688516</td>\n",
       "    </tr>\n",
       "    <tr>\n",
       "      <th>2648</th>\n",
       "      <td>4.313369</td>\n",
       "    </tr>\n",
       "    <tr>\n",
       "      <th>3997</th>\n",
       "      <td>4.313369</td>\n",
       "    </tr>\n",
       "    <tr>\n",
       "      <th>3625</th>\n",
       "      <td>4.677785</td>\n",
       "    </tr>\n",
       "    <tr>\n",
       "      <th>38</th>\n",
       "      <td>5.339636</td>\n",
       "    </tr>\n",
       "    <tr>\n",
       "      <th>1491</th>\n",
       "      <td>6.259332</td>\n",
       "    </tr>\n",
       "    <tr>\n",
       "      <th>366</th>\n",
       "      <td>6.288871</td>\n",
       "    </tr>\n",
       "    <tr>\n",
       "      <th>3677</th>\n",
       "      <td>7.233067</td>\n",
       "    </tr>\n",
       "  </tbody>\n",
       "</table>\n",
       "</div>"
      ],
      "text/plain": [
       "             0\n",
       "3693  0.000000\n",
       "3680  3.688516\n",
       "331   3.688516\n",
       "2648  4.313369\n",
       "3997  4.313369\n",
       "3625  4.677785\n",
       "38    5.339636\n",
       "1491  6.259332\n",
       "366   6.288871\n",
       "3677  7.233067"
      ]
     },
     "execution_count": 939,
     "metadata": {},
     "output_type": "execute_result"
    }
   ],
   "source": [
    "a = np.sort(similar1)\n",
    "b = pd.DataFrame(a)\n",
    "b\n",
    "b.sort_values(by=0,ascending=True)[:10]"
   ]
  },
  {
   "cell_type": "code",
   "execution_count": 940,
   "metadata": {},
   "outputs": [
    {
     "data": {
      "text/plain": [
       "Unnamed: 0                                                 2648\n",
       "college       Salem International University, West Virginia ...\n",
       "height                                                      7-0\n",
       "name                                                  Ron Moore\n",
       "position                                                      C\n",
       "url                                   /players/m/moorero01.html\n",
       "weight                                                      260\n",
       "3PA                                                           0\n",
       "3P%                                                        0.25\n",
       "3P                                                            0\n",
       "FGA                                                         7.4\n",
       "FG%                                                       0.543\n",
       "FG                                                          4.1\n",
       "FT%                                                       0.648\n",
       "FTA                                                         3.5\n",
       "FT                                                          2.2\n",
       "G                                                           102\n",
       "PTS                                                        10.5\n",
       "labels                                                        2\n",
       "Name: 2648, dtype: object"
      ]
     },
     "execution_count": 940,
     "metadata": {},
     "output_type": "execute_result"
    }
   ],
   "source": [
    "ncaa.loc[2648]"
   ]
  },
  {
   "cell_type": "code",
   "execution_count": 941,
   "metadata": {},
   "outputs": [],
   "source": [
    "BR.append(scipy.spatial.distance.cdist(nba[nba['Player'] =='Hasheem Thabeet'].iloc[:,1:], \n",
    "                                 nba[nba['Player'] =='Samuel Dalembert'].iloc[:,1:], metric='euclidean'))\n",
    "DN.append(scipy.spatial.distance.cdist(nba[nba['Player'] =='Hasheem Thabeet'].iloc[:,1:], \n",
    "                                 nba[nba['Player'] =='Dikembe Mutombo*'].iloc[:,1:], metric='euclidean'))\n",
    "My.append(scipy.spatial.distance.cdist(nba[nba['Player'] =='Hasheem Thabeet'].iloc[:,1:], \n",
    "                                 nba[nba['Player'] =='Ron Moore'].iloc[:,1:], metric='euclidean'))"
   ]
  },
  {
   "cell_type": "code",
   "execution_count": 942,
   "metadata": {},
   "outputs": [
    {
     "data": {
      "text/plain": [
       "array([[968.81559618]])"
      ]
     },
     "execution_count": 942,
     "metadata": {},
     "output_type": "execute_result"
    }
   ],
   "source": [
    "scipy.spatial.distance.cdist(nba[nba['Player'] =='Hasheem Thabeet'].iloc[:,1:], \n",
    "                                 nba[nba['Player'] =='Samuel Dalembert'].iloc[:,1:], metric='euclidean')"
   ]
  },
  {
   "cell_type": "code",
   "execution_count": 943,
   "metadata": {},
   "outputs": [
    {
     "data": {
      "text/plain": [
       "array([[1172.20132341]])"
      ]
     },
     "execution_count": 943,
     "metadata": {},
     "output_type": "execute_result"
    }
   ],
   "source": [
    "scipy.spatial.distance.cdist(nba[nba['Player'] =='Hasheem Thabeet'].iloc[:,1:], \n",
    "                                 nba[nba['Player'] =='Dikembe Mutombo*'].iloc[:,1:], metric='euclidean')"
   ]
  },
  {
   "cell_type": "code",
   "execution_count": 944,
   "metadata": {},
   "outputs": [
    {
     "data": {
      "text/plain": [
       "array([[126.98572794]])"
      ]
     },
     "execution_count": 944,
     "metadata": {},
     "output_type": "execute_result"
    }
   ],
   "source": [
    "scipy.spatial.distance.cdist(nba[nba['Player'] =='Hasheem Thabeet'].iloc[:,1:], \n",
    "                                 nba[nba['Player'] =='Ron Moore'].iloc[:,1:], metric='euclidean')"
   ]
  },
  {
   "cell_type": "markdown",
   "metadata": {},
   "source": [
    "My model came in 1st by a large margin"
   ]
  },
  {
   "cell_type": "markdown",
   "metadata": {},
   "source": [
    "### James Harden"
   ]
  },
  {
   "cell_type": "code",
   "execution_count": 945,
   "metadata": {},
   "outputs": [
    {
     "data": {
      "text/html": [
       "<div>\n",
       "<style scoped>\n",
       "    .dataframe tbody tr th:only-of-type {\n",
       "        vertical-align: middle;\n",
       "    }\n",
       "\n",
       "    .dataframe tbody tr th {\n",
       "        vertical-align: top;\n",
       "    }\n",
       "\n",
       "    .dataframe thead th {\n",
       "        text-align: right;\n",
       "    }\n",
       "</style>\n",
       "<table border=\"1\" class=\"dataframe\">\n",
       "  <thead>\n",
       "    <tr style=\"text-align: right;\">\n",
       "      <th></th>\n",
       "      <th>weight</th>\n",
       "      <th>3PA</th>\n",
       "      <th>3P%</th>\n",
       "      <th>3P</th>\n",
       "      <th>FGA</th>\n",
       "      <th>FG%</th>\n",
       "      <th>FG</th>\n",
       "      <th>FT%</th>\n",
       "      <th>FTA</th>\n",
       "      <th>FT</th>\n",
       "      <th>G</th>\n",
       "      <th>PTS</th>\n",
       "      <th>labels</th>\n",
       "    </tr>\n",
       "  </thead>\n",
       "  <tbody>\n",
       "    <tr>\n",
       "      <th>1523</th>\n",
       "      <td>220.0</td>\n",
       "      <td>3.9</td>\n",
       "      <td>0.376</td>\n",
       "      <td>1.5</td>\n",
       "      <td>11.9</td>\n",
       "      <td>0.506</td>\n",
       "      <td>6.0</td>\n",
       "      <td>0.755</td>\n",
       "      <td>7.2</td>\n",
       "      <td>5.4</td>\n",
       "      <td>69.0</td>\n",
       "      <td>19.0</td>\n",
       "      <td>0</td>\n",
       "    </tr>\n",
       "  </tbody>\n",
       "</table>\n",
       "</div>"
      ],
      "text/plain": [
       "      weight  3PA    3P%   3P   FGA    FG%   FG    FT%  FTA   FT     G   PTS  \\\n",
       "1523   220.0  3.9  0.376  1.5  11.9  0.506  6.0  0.755  7.2  5.4  69.0  19.0   \n",
       "\n",
       "      labels  \n",
       "1523       0  "
      ]
     },
     "execution_count": 945,
     "metadata": {},
     "output_type": "execute_result"
    }
   ],
   "source": [
    "similar1 = scipy.spatial.distance.cdist(pred,pred2[5:6],metric='euclidean')\n",
    "pred[similar1==similar1.min()]"
   ]
  },
  {
   "cell_type": "code",
   "execution_count": 946,
   "metadata": {},
   "outputs": [
    {
     "data": {
      "text/html": [
       "<div>\n",
       "<style scoped>\n",
       "    .dataframe tbody tr th:only-of-type {\n",
       "        vertical-align: middle;\n",
       "    }\n",
       "\n",
       "    .dataframe tbody tr th {\n",
       "        vertical-align: top;\n",
       "    }\n",
       "\n",
       "    .dataframe thead th {\n",
       "        text-align: right;\n",
       "    }\n",
       "</style>\n",
       "<table border=\"1\" class=\"dataframe\">\n",
       "  <thead>\n",
       "    <tr style=\"text-align: right;\">\n",
       "      <th></th>\n",
       "      <th>0</th>\n",
       "    </tr>\n",
       "  </thead>\n",
       "  <tbody>\n",
       "    <tr>\n",
       "      <th>1523</th>\n",
       "      <td>0.000000</td>\n",
       "    </tr>\n",
       "    <tr>\n",
       "      <th>3572</th>\n",
       "      <td>4.986157</td>\n",
       "    </tr>\n",
       "    <tr>\n",
       "      <th>462</th>\n",
       "      <td>5.036101</td>\n",
       "    </tr>\n",
       "    <tr>\n",
       "      <th>150</th>\n",
       "      <td>5.310163</td>\n",
       "    </tr>\n",
       "    <tr>\n",
       "      <th>3477</th>\n",
       "      <td>5.701335</td>\n",
       "    </tr>\n",
       "    <tr>\n",
       "      <th>147</th>\n",
       "      <td>5.759492</td>\n",
       "    </tr>\n",
       "    <tr>\n",
       "      <th>3873</th>\n",
       "      <td>5.915411</td>\n",
       "    </tr>\n",
       "    <tr>\n",
       "      <th>1963</th>\n",
       "      <td>6.382311</td>\n",
       "    </tr>\n",
       "    <tr>\n",
       "      <th>514</th>\n",
       "      <td>6.428568</td>\n",
       "    </tr>\n",
       "    <tr>\n",
       "      <th>280</th>\n",
       "      <td>7.017812</td>\n",
       "    </tr>\n",
       "  </tbody>\n",
       "</table>\n",
       "</div>"
      ],
      "text/plain": [
       "             0\n",
       "1523  0.000000\n",
       "3572  4.986157\n",
       "462   5.036101\n",
       "150   5.310163\n",
       "3477  5.701335\n",
       "147   5.759492\n",
       "3873  5.915411\n",
       "1963  6.382311\n",
       "514   6.428568\n",
       "280   7.017812"
      ]
     },
     "execution_count": 946,
     "metadata": {},
     "output_type": "execute_result"
    }
   ],
   "source": [
    "a = np.sort(similar1)\n",
    "b = pd.DataFrame(a)\n",
    "b\n",
    "b.sort_values(by=0,ascending=True)[:10]"
   ]
  },
  {
   "cell_type": "code",
   "execution_count": 947,
   "metadata": {
    "scrolled": true
   },
   "outputs": [
    {
     "data": {
      "text/plain": [
       "Unnamed: 0                        3873\n",
       "college           Marquette University\n",
       "height                             6-4\n",
       "name                       Dwyane Wade\n",
       "position                             G\n",
       "url           /players/w/wadedw01.html\n",
       "weight                             220\n",
       "3PA                                1.5\n",
       "3P%                              0.333\n",
       "3P                                 0.5\n",
       "FGA                               14.8\n",
       "FG%                              0.494\n",
       "FG                                 7.3\n",
       "FT%                              0.745\n",
       "FTA                                6.2\n",
       "FT                                 4.6\n",
       "G                                   65\n",
       "PTS                               19.7\n",
       "labels                               0\n",
       "Name: 3873, dtype: object"
      ]
     },
     "execution_count": 947,
     "metadata": {},
     "output_type": "execute_result"
    }
   ],
   "source": [
    "ncaa.loc[3873]"
   ]
  },
  {
   "cell_type": "code",
   "execution_count": 948,
   "metadata": {},
   "outputs": [],
   "source": [
    "BR.append(scipy.spatial.distance.cdist(nba[nba['Player'] =='James Harden'].iloc[:,1:], \n",
    "                                 nba[nba['Player'] =='Brandon Roy'].iloc[:,1:], metric='euclidean'))\n",
    "DN.append(scipy.spatial.distance.cdist(nba[nba['Player'] =='James Harden'].iloc[:,1:], \n",
    "                                 nba[nba['Player'] =='Manu Ginobili'].iloc[:,1:], metric='euclidean'))\n",
    "My.append(scipy.spatial.distance.cdist(nba[nba['Player'] =='James Harden'].iloc[:,1:], \n",
    "                                 nba[nba['Player'] =='Dwyane Wade'].iloc[:,1:], metric='euclidean'))"
   ]
  },
  {
   "cell_type": "code",
   "execution_count": 949,
   "metadata": {},
   "outputs": [
    {
     "data": {
      "text/plain": [
       "array([[1011.56728298]])"
      ]
     },
     "execution_count": 949,
     "metadata": {},
     "output_type": "execute_result"
    }
   ],
   "source": [
    "scipy.spatial.distance.cdist(nba[nba['Player'] =='James Harden'].iloc[:,1:], \n",
    "                                 nba[nba['Player'] =='Brandon Roy'].iloc[:,1:], metric='euclidean')"
   ]
  },
  {
   "cell_type": "code",
   "execution_count": 950,
   "metadata": {},
   "outputs": [
    {
     "data": {
      "text/plain": [
       "array([[1172.4187722]])"
      ]
     },
     "execution_count": 950,
     "metadata": {},
     "output_type": "execute_result"
    }
   ],
   "source": [
    "scipy.spatial.distance.cdist(nba[nba['Player'] =='James Harden'].iloc[:,1:], \n",
    "                                 nba[nba['Player'] =='Manu Ginobili'].iloc[:,1:], metric='euclidean')"
   ]
  },
  {
   "cell_type": "code",
   "execution_count": 951,
   "metadata": {},
   "outputs": [
    {
     "data": {
      "text/plain": [
       "array([[654.60266857]])"
      ]
     },
     "execution_count": 951,
     "metadata": {},
     "output_type": "execute_result"
    }
   ],
   "source": [
    "scipy.spatial.distance.cdist(nba[nba['Player'] =='James Harden'].iloc[:,1:], \n",
    "                                 nba[nba['Player'] =='Dwyane Wade'].iloc[:,1:], metric='euclidean')"
   ]
  },
  {
   "cell_type": "markdown",
   "metadata": {},
   "source": [
    "My model came in first by a large margin"
   ]
  },
  {
   "cell_type": "markdown",
   "metadata": {},
   "source": [
    "### Tyreke Evans"
   ]
  },
  {
   "cell_type": "code",
   "execution_count": 952,
   "metadata": {},
   "outputs": [
    {
     "data": {
      "text/html": [
       "<div>\n",
       "<style scoped>\n",
       "    .dataframe tbody tr th:only-of-type {\n",
       "        vertical-align: middle;\n",
       "    }\n",
       "\n",
       "    .dataframe tbody tr th {\n",
       "        vertical-align: top;\n",
       "    }\n",
       "\n",
       "    .dataframe thead th {\n",
       "        text-align: right;\n",
       "    }\n",
       "</style>\n",
       "<table border=\"1\" class=\"dataframe\">\n",
       "  <thead>\n",
       "    <tr style=\"text-align: right;\">\n",
       "      <th></th>\n",
       "      <th>weight</th>\n",
       "      <th>3PA</th>\n",
       "      <th>3P%</th>\n",
       "      <th>3P</th>\n",
       "      <th>FGA</th>\n",
       "      <th>FG%</th>\n",
       "      <th>FG</th>\n",
       "      <th>FT%</th>\n",
       "      <th>FTA</th>\n",
       "      <th>FT</th>\n",
       "      <th>G</th>\n",
       "      <th>PTS</th>\n",
       "      <th>labels</th>\n",
       "    </tr>\n",
       "  </thead>\n",
       "  <tbody>\n",
       "    <tr>\n",
       "      <th>1114</th>\n",
       "      <td>220.0</td>\n",
       "      <td>3.4</td>\n",
       "      <td>0.274</td>\n",
       "      <td>0.9</td>\n",
       "      <td>13.6</td>\n",
       "      <td>0.455</td>\n",
       "      <td>6.2</td>\n",
       "      <td>0.711</td>\n",
       "      <td>5.2</td>\n",
       "      <td>3.7</td>\n",
       "      <td>37.0</td>\n",
       "      <td>17.1</td>\n",
       "      <td>0</td>\n",
       "    </tr>\n",
       "  </tbody>\n",
       "</table>\n",
       "</div>"
      ],
      "text/plain": [
       "      weight  3PA    3P%   3P   FGA    FG%   FG    FT%  FTA   FT     G   PTS  \\\n",
       "1114   220.0  3.4  0.274  0.9  13.6  0.455  6.2  0.711  5.2  3.7  37.0  17.1   \n",
       "\n",
       "      labels  \n",
       "1114       0  "
      ]
     },
     "execution_count": 952,
     "metadata": {},
     "output_type": "execute_result"
    }
   ],
   "source": [
    "similar1 = scipy.spatial.distance.cdist(pred,pred2[6:7],metric='euclidean')\n",
    "pred[similar1==similar1.min()]"
   ]
  },
  {
   "cell_type": "code",
   "execution_count": 953,
   "metadata": {},
   "outputs": [
    {
     "data": {
      "text/html": [
       "<div>\n",
       "<style scoped>\n",
       "    .dataframe tbody tr th:only-of-type {\n",
       "        vertical-align: middle;\n",
       "    }\n",
       "\n",
       "    .dataframe tbody tr th {\n",
       "        vertical-align: top;\n",
       "    }\n",
       "\n",
       "    .dataframe thead th {\n",
       "        text-align: right;\n",
       "    }\n",
       "</style>\n",
       "<table border=\"1\" class=\"dataframe\">\n",
       "  <thead>\n",
       "    <tr style=\"text-align: right;\">\n",
       "      <th></th>\n",
       "      <th>0</th>\n",
       "    </tr>\n",
       "  </thead>\n",
       "  <tbody>\n",
       "    <tr>\n",
       "      <th>1114</th>\n",
       "      <td>0.000000</td>\n",
       "    </tr>\n",
       "    <tr>\n",
       "      <th>3891</th>\n",
       "      <td>2.681488</td>\n",
       "    </tr>\n",
       "    <tr>\n",
       "      <th>912</th>\n",
       "      <td>3.436253</td>\n",
       "    </tr>\n",
       "    <tr>\n",
       "      <th>2831</th>\n",
       "      <td>5.080791</td>\n",
       "    </tr>\n",
       "    <tr>\n",
       "      <th>2201</th>\n",
       "      <td>5.961890</td>\n",
       "    </tr>\n",
       "    <tr>\n",
       "      <th>2684</th>\n",
       "      <td>5.964122</td>\n",
       "    </tr>\n",
       "    <tr>\n",
       "      <th>661</th>\n",
       "      <td>6.091334</td>\n",
       "    </tr>\n",
       "    <tr>\n",
       "      <th>1627</th>\n",
       "      <td>6.397338</td>\n",
       "    </tr>\n",
       "    <tr>\n",
       "      <th>1950</th>\n",
       "      <td>6.516282</td>\n",
       "    </tr>\n",
       "    <tr>\n",
       "      <th>919</th>\n",
       "      <td>6.527656</td>\n",
       "    </tr>\n",
       "    <tr>\n",
       "      <th>461</th>\n",
       "      <td>7.093252</td>\n",
       "    </tr>\n",
       "    <tr>\n",
       "      <th>1352</th>\n",
       "      <td>7.355396</td>\n",
       "    </tr>\n",
       "    <tr>\n",
       "      <th>4118</th>\n",
       "      <td>7.663458</td>\n",
       "    </tr>\n",
       "    <tr>\n",
       "      <th>4217</th>\n",
       "      <td>7.706358</td>\n",
       "    </tr>\n",
       "    <tr>\n",
       "      <th>1435</th>\n",
       "      <td>7.769384</td>\n",
       "    </tr>\n",
       "  </tbody>\n",
       "</table>\n",
       "</div>"
      ],
      "text/plain": [
       "             0\n",
       "1114  0.000000\n",
       "3891  2.681488\n",
       "912   3.436253\n",
       "2831  5.080791\n",
       "2201  5.961890\n",
       "2684  5.964122\n",
       "661   6.091334\n",
       "1627  6.397338\n",
       "1950  6.516282\n",
       "919   6.527656\n",
       "461   7.093252\n",
       "1352  7.355396\n",
       "4118  7.663458\n",
       "4217  7.706358\n",
       "1435  7.769384"
      ]
     },
     "execution_count": 953,
     "metadata": {},
     "output_type": "execute_result"
    }
   ],
   "source": [
    "a = np.sort(similar1)\n",
    "b = pd.DataFrame(a)\n",
    "b\n",
    "b.sort_values(by=0,ascending=True)[:15]"
   ]
  },
  {
   "cell_type": "code",
   "execution_count": 954,
   "metadata": {},
   "outputs": [
    {
     "data": {
      "text/plain": [
       "Unnamed: 0                         1627\n",
       "college            University of Kansas\n",
       "height                              6-6\n",
       "name                       Xavier Henry\n",
       "position                              G\n",
       "url           /players/h/henryxa01.html\n",
       "weight                              220\n",
       "3PA                                 4.6\n",
       "3P%                               0.418\n",
       "3P                                  1.9\n",
       "FGA                                 9.8\n",
       "FG%                               0.458\n",
       "FG                                  4.5\n",
       "FT%                               0.783\n",
       "FTA                                 3.2\n",
       "FT                                  2.5\n",
       "G                                    36\n",
       "PTS                                13.4\n",
       "labels                                1\n",
       "Name: 1627, dtype: object"
      ]
     },
     "execution_count": 954,
     "metadata": {},
     "output_type": "execute_result"
    }
   ],
   "source": [
    "ncaa.loc[1627]"
   ]
  },
  {
   "cell_type": "code",
   "execution_count": 955,
   "metadata": {},
   "outputs": [],
   "source": [
    "BR.append(scipy.spatial.distance.cdist(nba[nba['Player'] =='Tyreke Evans'].iloc[:,1:], \n",
    "                                 nba[nba['Player'] =='Kendall Gill'].iloc[:,1:], metric='euclidean'))\n",
    "DN.append(scipy.spatial.distance.cdist(nba[nba['Player'] =='Tyreke Evans'].iloc[:,1:], \n",
    "                                 nba[nba['Player'] =='Jamal Crawford'].iloc[:,1:], metric='euclidean'))\n",
    "My.append(scipy.spatial.distance.cdist(nba[nba['Player'] =='Tyreke Evans'].iloc[:,1:], \n",
    "                                 nba[nba['Player'] =='Lamar Odom'].iloc[:,1:], metric='euclidean'))"
   ]
  },
  {
   "cell_type": "code",
   "execution_count": 956,
   "metadata": {},
   "outputs": [
    {
     "data": {
      "text/plain": [
       "array([[141.4961215]])"
      ]
     },
     "execution_count": 956,
     "metadata": {},
     "output_type": "execute_result"
    }
   ],
   "source": [
    "scipy.spatial.distance.cdist(nba[nba['Player'] =='Tyreke Evans'].iloc[:,1:], \n",
    "                                 nba[nba['Player'] =='Kendall Gill'].iloc[:,1:], metric='euclidean')"
   ]
  },
  {
   "cell_type": "code",
   "execution_count": 957,
   "metadata": {},
   "outputs": [
    {
     "data": {
      "text/plain": [
       "array([[382.1611223]])"
      ]
     },
     "execution_count": 957,
     "metadata": {},
     "output_type": "execute_result"
    }
   ],
   "source": [
    "scipy.spatial.distance.cdist(nba[nba['Player'] =='Tyreke Evans'].iloc[:,1:], \n",
    "                                 nba[nba['Player'] =='Jamal Crawford'].iloc[:,1:], metric='euclidean')"
   ]
  },
  {
   "cell_type": "code",
   "execution_count": 958,
   "metadata": {},
   "outputs": [
    {
     "data": {
      "text/plain": [
       "array([[464.54418369]])"
      ]
     },
     "execution_count": 958,
     "metadata": {},
     "output_type": "execute_result"
    }
   ],
   "source": [
    "scipy.spatial.distance.cdist(nba[nba['Player'] =='Tyreke Evans'].iloc[:,1:], \n",
    "                                 nba[nba['Player'] =='Lamar Odom'].iloc[:,1:], metric='euclidean')"
   ]
  },
  {
   "cell_type": "markdown",
   "metadata": {},
   "source": [
    "My model came in last but wasn't to far away from the rest"
   ]
  },
  {
   "cell_type": "markdown",
   "metadata": {},
   "source": [
    "### Jordan Hill"
   ]
  },
  {
   "cell_type": "code",
   "execution_count": 959,
   "metadata": {},
   "outputs": [
    {
     "data": {
      "text/html": [
       "<div>\n",
       "<style scoped>\n",
       "    .dataframe tbody tr th:only-of-type {\n",
       "        vertical-align: middle;\n",
       "    }\n",
       "\n",
       "    .dataframe tbody tr th {\n",
       "        vertical-align: top;\n",
       "    }\n",
       "\n",
       "    .dataframe thead th {\n",
       "        text-align: right;\n",
       "    }\n",
       "</style>\n",
       "<table border=\"1\" class=\"dataframe\">\n",
       "  <thead>\n",
       "    <tr style=\"text-align: right;\">\n",
       "      <th></th>\n",
       "      <th>weight</th>\n",
       "      <th>3PA</th>\n",
       "      <th>3P%</th>\n",
       "      <th>3P</th>\n",
       "      <th>FGA</th>\n",
       "      <th>FG%</th>\n",
       "      <th>FG</th>\n",
       "      <th>FT%</th>\n",
       "      <th>FTA</th>\n",
       "      <th>FT</th>\n",
       "      <th>G</th>\n",
       "      <th>PTS</th>\n",
       "      <th>labels</th>\n",
       "    </tr>\n",
       "  </thead>\n",
       "  <tbody>\n",
       "    <tr>\n",
       "      <th>1661</th>\n",
       "      <td>235.0</td>\n",
       "      <td>0.0</td>\n",
       "      <td>0.222</td>\n",
       "      <td>0.0</td>\n",
       "      <td>8.8</td>\n",
       "      <td>0.578</td>\n",
       "      <td>5.1</td>\n",
       "      <td>0.636</td>\n",
       "      <td>3.6</td>\n",
       "      <td>2.3</td>\n",
       "      <td>97.0</td>\n",
       "      <td>12.5</td>\n",
       "      <td>3</td>\n",
       "    </tr>\n",
       "  </tbody>\n",
       "</table>\n",
       "</div>"
      ],
      "text/plain": [
       "      weight  3PA    3P%   3P  FGA    FG%   FG    FT%  FTA   FT     G   PTS  \\\n",
       "1661   235.0  0.0  0.222  0.0  8.8  0.578  5.1  0.636  3.6  2.3  97.0  12.5   \n",
       "\n",
       "      labels  \n",
       "1661       3  "
      ]
     },
     "execution_count": 959,
     "metadata": {},
     "output_type": "execute_result"
    }
   ],
   "source": [
    "similar1 = scipy.spatial.distance.cdist(pred,pred2[7:8],metric='euclidean')\n",
    "pred[similar1==similar1.min()]"
   ]
  },
  {
   "cell_type": "code",
   "execution_count": 960,
   "metadata": {},
   "outputs": [
    {
     "data": {
      "text/html": [
       "<div>\n",
       "<style scoped>\n",
       "    .dataframe tbody tr th:only-of-type {\n",
       "        vertical-align: middle;\n",
       "    }\n",
       "\n",
       "    .dataframe tbody tr th {\n",
       "        vertical-align: top;\n",
       "    }\n",
       "\n",
       "    .dataframe thead th {\n",
       "        text-align: right;\n",
       "    }\n",
       "</style>\n",
       "<table border=\"1\" class=\"dataframe\">\n",
       "  <thead>\n",
       "    <tr style=\"text-align: right;\">\n",
       "      <th></th>\n",
       "      <th>0</th>\n",
       "    </tr>\n",
       "  </thead>\n",
       "  <tbody>\n",
       "    <tr>\n",
       "      <th>1661</th>\n",
       "      <td>0.000000</td>\n",
       "    </tr>\n",
       "    <tr>\n",
       "      <th>904</th>\n",
       "      <td>1.119181</td>\n",
       "    </tr>\n",
       "    <tr>\n",
       "      <th>3016</th>\n",
       "      <td>1.964097</td>\n",
       "    </tr>\n",
       "    <tr>\n",
       "      <th>373</th>\n",
       "      <td>2.071940</td>\n",
       "    </tr>\n",
       "    <tr>\n",
       "      <th>2195</th>\n",
       "      <td>3.078513</td>\n",
       "    </tr>\n",
       "    <tr>\n",
       "      <th>832</th>\n",
       "      <td>3.344855</td>\n",
       "    </tr>\n",
       "    <tr>\n",
       "      <th>174</th>\n",
       "      <td>3.344855</td>\n",
       "    </tr>\n",
       "    <tr>\n",
       "      <th>1867</th>\n",
       "      <td>3.491139</td>\n",
       "    </tr>\n",
       "    <tr>\n",
       "      <th>1206</th>\n",
       "      <td>3.491139</td>\n",
       "    </tr>\n",
       "    <tr>\n",
       "      <th>863</th>\n",
       "      <td>3.780110</td>\n",
       "    </tr>\n",
       "  </tbody>\n",
       "</table>\n",
       "</div>"
      ],
      "text/plain": [
       "             0\n",
       "1661  0.000000\n",
       "904   1.119181\n",
       "3016  1.964097\n",
       "373   2.071940\n",
       "2195  3.078513\n",
       "832   3.344855\n",
       "174   3.344855\n",
       "1867  3.491139\n",
       "1206  3.491139\n",
       "863   3.780110"
      ]
     },
     "execution_count": 960,
     "metadata": {},
     "output_type": "execute_result"
    }
   ],
   "source": [
    "a = np.sort(similar1)\n",
    "b = pd.DataFrame(a)\n",
    "b\n",
    "b.sort_values(by=0,ascending=True)[:10]"
   ]
  },
  {
   "cell_type": "code",
   "execution_count": 961,
   "metadata": {},
   "outputs": [
    {
     "data": {
      "text/plain": [
       "Unnamed: 0                          373\n",
       "college          University of Kentucky\n",
       "height                              7-1\n",
       "name                          Sam Bowie\n",
       "position                            C-F\n",
       "url           /players/b/bowiesa01.html\n",
       "weight                              235\n",
       "3PA                                 0.1\n",
       "3P%                               0.222\n",
       "3P                                    0\n",
       "FGA                                 9.6\n",
       "FG%                               0.522\n",
       "FG                                    5\n",
       "FT%                               0.735\n",
       "FTA                                 4.5\n",
       "FT                                  3.3\n",
       "G                                    96\n",
       "PTS                                13.4\n",
       "labels                                3\n",
       "Name: 373, dtype: object"
      ]
     },
     "execution_count": 961,
     "metadata": {},
     "output_type": "execute_result"
    }
   ],
   "source": [
    "ncaa.loc[373]"
   ]
  },
  {
   "cell_type": "code",
   "execution_count": 962,
   "metadata": {},
   "outputs": [],
   "source": [
    "BR.append(scipy.spatial.distance.cdist(nba[nba['Player'] =='Jordan Hill'].iloc[:,1:], \n",
    "                                 nba[nba['Player'] =='Joe Smith'].iloc[:,1:], metric='euclidean'))\n",
    "DN.append(scipy.spatial.distance.cdist(nba[nba['Player'] =='Jordan Hill'].iloc[:,1:], \n",
    "                                 nba[nba['Player'] =='Chris Bosh'].iloc[:,1:], metric='euclidean'))\n",
    "My.append(scipy.spatial.distance.cdist(nba[nba['Player'] =='Jordan Hill'].iloc[:,1:], \n",
    "                                 nba[nba['Player'] =='Sam Bowie'].iloc[:,1:], metric='euclidean'))"
   ]
  },
  {
   "cell_type": "code",
   "execution_count": 963,
   "metadata": {},
   "outputs": [
    {
     "data": {
      "text/plain": [
       "array([[422.33381193]])"
      ]
     },
     "execution_count": 963,
     "metadata": {},
     "output_type": "execute_result"
    }
   ],
   "source": [
    "scipy.spatial.distance.cdist(nba[nba['Player'] =='Jordan Hill'].iloc[:,1:], \n",
    "                                 nba[nba['Player'] =='Joe Smith'].iloc[:,1:], metric='euclidean')"
   ]
  },
  {
   "cell_type": "code",
   "execution_count": 964,
   "metadata": {},
   "outputs": [
    {
     "data": {
      "text/plain": [
       "array([[1626.01706978]])"
      ]
     },
     "execution_count": 964,
     "metadata": {},
     "output_type": "execute_result"
    }
   ],
   "source": [
    "scipy.spatial.distance.cdist(nba[nba['Player'] =='Jordan Hill'].iloc[:,1:], \n",
    "                                 nba[nba['Player'] =='Chris Bosh'].iloc[:,1:], metric='euclidean')"
   ]
  },
  {
   "cell_type": "code",
   "execution_count": 965,
   "metadata": {},
   "outputs": [
    {
     "data": {
      "text/plain": [
       "array([[487.23359151]])"
      ]
     },
     "execution_count": 965,
     "metadata": {},
     "output_type": "execute_result"
    }
   ],
   "source": [
    "scipy.spatial.distance.cdist(nba[nba['Player'] =='Jordan Hill'].iloc[:,1:], \n",
    "                                 nba[nba['Player'] =='Sam Bowie'].iloc[:,1:], metric='euclidean')"
   ]
  },
  {
   "cell_type": "markdown",
   "metadata": {},
   "source": [
    "My model came in 2nd but very close to 1st"
   ]
  },
  {
   "cell_type": "markdown",
   "metadata": {},
   "source": [
    "### Terrence Williams"
   ]
  },
  {
   "cell_type": "code",
   "execution_count": 966,
   "metadata": {},
   "outputs": [
    {
     "data": {
      "text/html": [
       "<div>\n",
       "<style scoped>\n",
       "    .dataframe tbody tr th:only-of-type {\n",
       "        vertical-align: middle;\n",
       "    }\n",
       "\n",
       "    .dataframe tbody tr th {\n",
       "        vertical-align: top;\n",
       "    }\n",
       "\n",
       "    .dataframe thead th {\n",
       "        text-align: right;\n",
       "    }\n",
       "</style>\n",
       "<table border=\"1\" class=\"dataframe\">\n",
       "  <thead>\n",
       "    <tr style=\"text-align: right;\">\n",
       "      <th></th>\n",
       "      <th>weight</th>\n",
       "      <th>3PA</th>\n",
       "      <th>3P%</th>\n",
       "      <th>3P</th>\n",
       "      <th>FGA</th>\n",
       "      <th>FG%</th>\n",
       "      <th>FG</th>\n",
       "      <th>FT%</th>\n",
       "      <th>FTA</th>\n",
       "      <th>FT</th>\n",
       "      <th>G</th>\n",
       "      <th>PTS</th>\n",
       "      <th>labels</th>\n",
       "    </tr>\n",
       "  </thead>\n",
       "  <tbody>\n",
       "    <tr>\n",
       "      <th>4121</th>\n",
       "      <td>220.0</td>\n",
       "      <td>4.4</td>\n",
       "      <td>0.32</td>\n",
       "      <td>1.4</td>\n",
       "      <td>10.3</td>\n",
       "      <td>0.4</td>\n",
       "      <td>4.1</td>\n",
       "      <td>0.589</td>\n",
       "      <td>2.6</td>\n",
       "      <td>1.5</td>\n",
       "      <td>140.0</td>\n",
       "      <td>11.2</td>\n",
       "      <td>1</td>\n",
       "    </tr>\n",
       "  </tbody>\n",
       "</table>\n",
       "</div>"
      ],
      "text/plain": [
       "      weight  3PA   3P%   3P   FGA  FG%   FG    FT%  FTA   FT      G   PTS  \\\n",
       "4121   220.0  4.4  0.32  1.4  10.3  0.4  4.1  0.589  2.6  1.5  140.0  11.2   \n",
       "\n",
       "      labels  \n",
       "4121       1  "
      ]
     },
     "execution_count": 966,
     "metadata": {},
     "output_type": "execute_result"
    }
   ],
   "source": [
    "similar1 = scipy.spatial.distance.cdist(pred,pred2[8:9],metric='euclidean')\n",
    "pred[similar1==similar1.min()]"
   ]
  },
  {
   "cell_type": "code",
   "execution_count": 967,
   "metadata": {},
   "outputs": [
    {
     "data": {
      "text/html": [
       "<div>\n",
       "<style scoped>\n",
       "    .dataframe tbody tr th:only-of-type {\n",
       "        vertical-align: middle;\n",
       "    }\n",
       "\n",
       "    .dataframe tbody tr th {\n",
       "        vertical-align: top;\n",
       "    }\n",
       "\n",
       "    .dataframe thead th {\n",
       "        text-align: right;\n",
       "    }\n",
       "</style>\n",
       "<table border=\"1\" class=\"dataframe\">\n",
       "  <thead>\n",
       "    <tr style=\"text-align: right;\">\n",
       "      <th></th>\n",
       "      <th>0</th>\n",
       "    </tr>\n",
       "  </thead>\n",
       "  <tbody>\n",
       "    <tr>\n",
       "      <th>4121</th>\n",
       "      <td>0.000000</td>\n",
       "    </tr>\n",
       "    <tr>\n",
       "      <th>1369</th>\n",
       "      <td>3.464475</td>\n",
       "    </tr>\n",
       "    <tr>\n",
       "      <th>2972</th>\n",
       "      <td>4.469335</td>\n",
       "    </tr>\n",
       "    <tr>\n",
       "      <th>4222</th>\n",
       "      <td>4.908310</td>\n",
       "    </tr>\n",
       "    <tr>\n",
       "      <th>2665</th>\n",
       "      <td>5.180331</td>\n",
       "    </tr>\n",
       "    <tr>\n",
       "      <th>1551</th>\n",
       "      <td>5.457773</td>\n",
       "    </tr>\n",
       "    <tr>\n",
       "      <th>2318</th>\n",
       "      <td>5.605228</td>\n",
       "    </tr>\n",
       "    <tr>\n",
       "      <th>1595</th>\n",
       "      <td>6.141993</td>\n",
       "    </tr>\n",
       "    <tr>\n",
       "      <th>1896</th>\n",
       "      <td>6.183754</td>\n",
       "    </tr>\n",
       "    <tr>\n",
       "      <th>3034</th>\n",
       "      <td>6.250472</td>\n",
       "    </tr>\n",
       "  </tbody>\n",
       "</table>\n",
       "</div>"
      ],
      "text/plain": [
       "             0\n",
       "4121  0.000000\n",
       "1369  3.464475\n",
       "2972  4.469335\n",
       "4222  4.908310\n",
       "2665  5.180331\n",
       "1551  5.457773\n",
       "2318  5.605228\n",
       "1595  6.141993\n",
       "1896  6.183754\n",
       "3034  6.250472"
      ]
     },
     "execution_count": 967,
     "metadata": {},
     "output_type": "execute_result"
    }
   ],
   "source": [
    "a = np.sort(similar1)\n",
    "b = pd.DataFrame(a)\n",
    "b\n",
    "b.sort_values(by=0,ascending=True)[:10]"
   ]
  },
  {
   "cell_type": "code",
   "execution_count": 968,
   "metadata": {},
   "outputs": [
    {
     "data": {
      "text/plain": [
       "Unnamed: 0                         4222\n",
       "college        University of Pittsburgh\n",
       "height                              6-6\n",
       "name                          Sam Young\n",
       "position                              F\n",
       "url           /players/y/youngsa01.html\n",
       "weight                              220\n",
       "3PA                                 2.3\n",
       "3P%                               0.356\n",
       "3P                                  0.8\n",
       "FGA                                10.1\n",
       "FG%                               0.498\n",
       "FG                                    5\n",
       "FT%                               0.692\n",
       "FTA                                 3.4\n",
       "FT                                  2.4\n",
       "G                                   143\n",
       "PTS                                13.2\n",
       "labels                                3\n",
       "Name: 4222, dtype: object"
      ]
     },
     "execution_count": 968,
     "metadata": {},
     "output_type": "execute_result"
    }
   ],
   "source": [
    "ncaa.loc[4222]"
   ]
  },
  {
   "cell_type": "code",
   "execution_count": 969,
   "metadata": {},
   "outputs": [],
   "source": [
    "BR.append(scipy.spatial.distance.cdist(nba[nba['Player'] =='Terrence Williams'].iloc[:,1:], \n",
    "                                 nba[nba['Player'] =='Josh Howard'].iloc[:,1:], metric='euclidean'))\n",
    "DN.append(scipy.spatial.distance.cdist(nba[nba['Player'] =='Terrence Williams'].iloc[:,1:], \n",
    "                                 nba[nba['Player'] =='Isaiah Rider'].iloc[:,1:], metric='euclidean'))\n",
    "My.append(scipy.spatial.distance.cdist(nba[nba['Player'] =='Terrence Williams'].iloc[:,1:], \n",
    "                                 nba[nba['Player'] =='Sam Young'].iloc[:,1:], metric='euclidean'))"
   ]
  },
  {
   "cell_type": "code",
   "execution_count": 970,
   "metadata": {},
   "outputs": [
    {
     "data": {
      "text/plain": [
       "array([[768.04136412]])"
      ]
     },
     "execution_count": 970,
     "metadata": {},
     "output_type": "execute_result"
    }
   ],
   "source": [
    "scipy.spatial.distance.cdist(nba[nba['Player'] =='Terrence Williams'].iloc[:,1:], \n",
    "                                 nba[nba['Player'] =='Josh Howard'].iloc[:,1:], metric='euclidean')"
   ]
  },
  {
   "cell_type": "code",
   "execution_count": 971,
   "metadata": {},
   "outputs": [
    {
     "data": {
      "text/plain": [
       "array([[1388.34912072]])"
      ]
     },
     "execution_count": 971,
     "metadata": {},
     "output_type": "execute_result"
    }
   ],
   "source": [
    "scipy.spatial.distance.cdist(nba[nba['Player'] =='Terrence Williams'].iloc[:,1:], \n",
    "                                 nba[nba['Player'] =='Isaiah Rider'].iloc[:,1:], metric='euclidean')"
   ]
  },
  {
   "cell_type": "code",
   "execution_count": 972,
   "metadata": {},
   "outputs": [
    {
     "data": {
      "text/plain": [
       "array([[139.24771345]])"
      ]
     },
     "execution_count": 972,
     "metadata": {},
     "output_type": "execute_result"
    }
   ],
   "source": [
    "scipy.spatial.distance.cdist(nba[nba['Player'] =='Terrence Williams'].iloc[:,1:], \n",
    "                                 nba[nba['Player'] =='Sam Young'].iloc[:,1:], metric='euclidean')"
   ]
  },
  {
   "cell_type": "markdown",
   "metadata": {},
   "source": [
    "My model placed fist by a large margin"
   ]
  },
  {
   "cell_type": "markdown",
   "metadata": {},
   "source": [
    "### Gerald Henderson"
   ]
  },
  {
   "cell_type": "code",
   "execution_count": 973,
   "metadata": {},
   "outputs": [
    {
     "data": {
      "text/html": [
       "<div>\n",
       "<style scoped>\n",
       "    .dataframe tbody tr th:only-of-type {\n",
       "        vertical-align: middle;\n",
       "    }\n",
       "\n",
       "    .dataframe tbody tr th {\n",
       "        vertical-align: top;\n",
       "    }\n",
       "\n",
       "    .dataframe thead th {\n",
       "        text-align: right;\n",
       "    }\n",
       "</style>\n",
       "<table border=\"1\" class=\"dataframe\">\n",
       "  <thead>\n",
       "    <tr style=\"text-align: right;\">\n",
       "      <th></th>\n",
       "      <th>weight</th>\n",
       "      <th>3PA</th>\n",
       "      <th>3P%</th>\n",
       "      <th>3P</th>\n",
       "      <th>FGA</th>\n",
       "      <th>FG%</th>\n",
       "      <th>FG</th>\n",
       "      <th>FT%</th>\n",
       "      <th>FTA</th>\n",
       "      <th>FT</th>\n",
       "      <th>G</th>\n",
       "      <th>PTS</th>\n",
       "      <th>labels</th>\n",
       "    </tr>\n",
       "  </thead>\n",
       "  <tbody>\n",
       "    <tr>\n",
       "      <th>1613</th>\n",
       "      <td>215.0</td>\n",
       "      <td>2.0</td>\n",
       "      <td>0.329</td>\n",
       "      <td>0.7</td>\n",
       "      <td>9.7</td>\n",
       "      <td>0.458</td>\n",
       "      <td>4.4</td>\n",
       "      <td>0.706</td>\n",
       "      <td>3.9</td>\n",
       "      <td>2.7</td>\n",
       "      <td>103.0</td>\n",
       "      <td>12.3</td>\n",
       "      <td>3</td>\n",
       "    </tr>\n",
       "  </tbody>\n",
       "</table>\n",
       "</div>"
      ],
      "text/plain": [
       "      weight  3PA    3P%   3P  FGA    FG%   FG    FT%  FTA   FT      G   PTS  \\\n",
       "1613   215.0  2.0  0.329  0.7  9.7  0.458  4.4  0.706  3.9  2.7  103.0  12.3   \n",
       "\n",
       "      labels  \n",
       "1613       3  "
      ]
     },
     "execution_count": 973,
     "metadata": {},
     "output_type": "execute_result"
    }
   ],
   "source": [
    "similar1 = scipy.spatial.distance.cdist(pred,pred2[10:11],metric='euclidean')\n",
    "pred[similar1==similar1.min()]"
   ]
  },
  {
   "cell_type": "code",
   "execution_count": 974,
   "metadata": {},
   "outputs": [
    {
     "data": {
      "text/html": [
       "<div>\n",
       "<style scoped>\n",
       "    .dataframe tbody tr th:only-of-type {\n",
       "        vertical-align: middle;\n",
       "    }\n",
       "\n",
       "    .dataframe tbody tr th {\n",
       "        vertical-align: top;\n",
       "    }\n",
       "\n",
       "    .dataframe thead th {\n",
       "        text-align: right;\n",
       "    }\n",
       "</style>\n",
       "<table border=\"1\" class=\"dataframe\">\n",
       "  <thead>\n",
       "    <tr style=\"text-align: right;\">\n",
       "      <th></th>\n",
       "      <th>0</th>\n",
       "    </tr>\n",
       "  </thead>\n",
       "  <tbody>\n",
       "    <tr>\n",
       "      <th>1613</th>\n",
       "      <td>0.000000</td>\n",
       "    </tr>\n",
       "    <tr>\n",
       "      <th>2584</th>\n",
       "      <td>1.469308</td>\n",
       "    </tr>\n",
       "    <tr>\n",
       "      <th>3264</th>\n",
       "      <td>2.469134</td>\n",
       "    </tr>\n",
       "    <tr>\n",
       "      <th>3497</th>\n",
       "      <td>3.219011</td>\n",
       "    </tr>\n",
       "    <tr>\n",
       "      <th>1209</th>\n",
       "      <td>3.271688</td>\n",
       "    </tr>\n",
       "    <tr>\n",
       "      <th>794</th>\n",
       "      <td>3.370761</td>\n",
       "    </tr>\n",
       "    <tr>\n",
       "      <th>542</th>\n",
       "      <td>3.375424</td>\n",
       "    </tr>\n",
       "    <tr>\n",
       "      <th>3365</th>\n",
       "      <td>3.910031</td>\n",
       "    </tr>\n",
       "    <tr>\n",
       "      <th>1732</th>\n",
       "      <td>3.910031</td>\n",
       "    </tr>\n",
       "    <tr>\n",
       "      <th>405</th>\n",
       "      <td>3.910031</td>\n",
       "    </tr>\n",
       "    <tr>\n",
       "      <th>2137</th>\n",
       "      <td>3.910031</td>\n",
       "    </tr>\n",
       "    <tr>\n",
       "      <th>108</th>\n",
       "      <td>3.910031</td>\n",
       "    </tr>\n",
       "    <tr>\n",
       "      <th>2047</th>\n",
       "      <td>3.910031</td>\n",
       "    </tr>\n",
       "    <tr>\n",
       "      <th>3427</th>\n",
       "      <td>3.910031</td>\n",
       "    </tr>\n",
       "    <tr>\n",
       "      <th>2543</th>\n",
       "      <td>3.910031</td>\n",
       "    </tr>\n",
       "  </tbody>\n",
       "</table>\n",
       "</div>"
      ],
      "text/plain": [
       "             0\n",
       "1613  0.000000\n",
       "2584  1.469308\n",
       "3264  2.469134\n",
       "3497  3.219011\n",
       "1209  3.271688\n",
       "794   3.370761\n",
       "542   3.375424\n",
       "3365  3.910031\n",
       "1732  3.910031\n",
       "405   3.910031\n",
       "2137  3.910031\n",
       "108   3.910031\n",
       "2047  3.910031\n",
       "3427  3.910031\n",
       "2543  3.910031"
      ]
     },
     "execution_count": 974,
     "metadata": {},
     "output_type": "execute_result"
    }
   ],
   "source": [
    "a = np.sort(similar1)\n",
    "b = pd.DataFrame(a)\n",
    "b\n",
    "b.sort_values(by=0,ascending=True)[:15]"
   ]
  },
  {
   "cell_type": "code",
   "execution_count": 975,
   "metadata": {},
   "outputs": [
    {
     "data": {
      "text/plain": [
       "Unnamed: 0                        3264\n",
       "college       University of Washington\n",
       "height                             6-6\n",
       "name                       Brandon Roy\n",
       "position                             G\n",
       "url            /players/r/roybr01.html\n",
       "weight                             215\n",
       "3PA                                1.5\n",
       "3P%                              0.344\n",
       "3P                                 0.5\n",
       "FGA                               10.1\n",
       "FG%                              0.512\n",
       "FG                                 5.2\n",
       "FT%                              0.765\n",
       "FTA                                4.5\n",
       "FT                                 3.5\n",
       "G                                  103\n",
       "PTS                               14.3\n",
       "labels                               3\n",
       "Name: 3264, dtype: object"
      ]
     },
     "execution_count": 975,
     "metadata": {},
     "output_type": "execute_result"
    }
   ],
   "source": [
    "ncaa.loc[3264]"
   ]
  },
  {
   "cell_type": "code",
   "execution_count": 976,
   "metadata": {},
   "outputs": [],
   "source": [
    "BR.append(scipy.spatial.distance.cdist(nba[nba['Player'] =='Gerald Henderson'].iloc[:,1:], \n",
    "                                 nba[nba['Player'] =='John Salmons'].iloc[:,1:], metric='euclidean'))\n",
    "DN.append(scipy.spatial.distance.cdist(nba[nba['Player'] =='Gerald Henderson'].iloc[:,1:], \n",
    "                                 nba[nba['Player'] =='Latrell Sprewell'].iloc[:,1:], metric='euclidean'))\n",
    "My.append(scipy.spatial.distance.cdist(nba[nba['Player'] =='Gerald Henderson'].iloc[:,1:], \n",
    "                                 nba[nba['Player'] =='Norm Nixon'].iloc[:,1:], metric='euclidean'))"
   ]
  },
  {
   "cell_type": "code",
   "execution_count": 977,
   "metadata": {},
   "outputs": [
    {
     "data": {
      "text/plain": [
       "array([[161.87003707]])"
      ]
     },
     "execution_count": 977,
     "metadata": {},
     "output_type": "execute_result"
    }
   ],
   "source": [
    "scipy.spatial.distance.cdist(nba[nba['Player'] =='Gerald Henderson'].iloc[:,1:], \n",
    "                                 nba[nba['Player'] =='John Salmons'].iloc[:,1:], metric='euclidean')"
   ]
  },
  {
   "cell_type": "code",
   "execution_count": 978,
   "metadata": {},
   "outputs": [
    {
     "data": {
      "text/plain": [
       "array([[1226.24188723]])"
      ]
     },
     "execution_count": 978,
     "metadata": {},
     "output_type": "execute_result"
    }
   ],
   "source": [
    "scipy.spatial.distance.cdist(nba[nba['Player'] =='Gerald Henderson'].iloc[:,1:], \n",
    "                                 nba[nba['Player'] =='Latrell Sprewell'].iloc[:,1:], metric='euclidean')"
   ]
  },
  {
   "cell_type": "code",
   "execution_count": 979,
   "metadata": {
    "scrolled": true
   },
   "outputs": [
    {
     "data": {
      "text/plain": [
       "array([[1333.38194581]])"
      ]
     },
     "execution_count": 979,
     "metadata": {},
     "output_type": "execute_result"
    }
   ],
   "source": [
    "scipy.spatial.distance.cdist(nba[nba['Player'] =='Gerald Henderson'].iloc[:,1:], \n",
    "                                 nba[nba['Player'] =='Norm Nixon'].iloc[:,1:], metric='euclidean')"
   ]
  },
  {
   "cell_type": "markdown",
   "metadata": {},
   "source": [
    "My model came last, didn't perform well here"
   ]
  },
  {
   "cell_type": "markdown",
   "metadata": {},
   "source": [
    "### Tyler Hansbrough"
   ]
  },
  {
   "cell_type": "code",
   "execution_count": 980,
   "metadata": {},
   "outputs": [
    {
     "data": {
      "text/html": [
       "<div>\n",
       "<style scoped>\n",
       "    .dataframe tbody tr th:only-of-type {\n",
       "        vertical-align: middle;\n",
       "    }\n",
       "\n",
       "    .dataframe tbody tr th {\n",
       "        vertical-align: top;\n",
       "    }\n",
       "\n",
       "    .dataframe thead th {\n",
       "        text-align: right;\n",
       "    }\n",
       "</style>\n",
       "<table border=\"1\" class=\"dataframe\">\n",
       "  <thead>\n",
       "    <tr style=\"text-align: right;\">\n",
       "      <th></th>\n",
       "      <th>weight</th>\n",
       "      <th>3PA</th>\n",
       "      <th>3P%</th>\n",
       "      <th>3P</th>\n",
       "      <th>FGA</th>\n",
       "      <th>FG%</th>\n",
       "      <th>FG</th>\n",
       "      <th>FT%</th>\n",
       "      <th>FTA</th>\n",
       "      <th>FT</th>\n",
       "      <th>G</th>\n",
       "      <th>PTS</th>\n",
       "      <th>labels</th>\n",
       "    </tr>\n",
       "  </thead>\n",
       "  <tbody>\n",
       "    <tr>\n",
       "      <th>1512</th>\n",
       "      <td>250.0</td>\n",
       "      <td>0.3</td>\n",
       "      <td>0.316</td>\n",
       "      <td>0.1</td>\n",
       "      <td>12.3</td>\n",
       "      <td>0.536</td>\n",
       "      <td>6.6</td>\n",
       "      <td>0.791</td>\n",
       "      <td>8.7</td>\n",
       "      <td>6.9</td>\n",
       "      <td>142.0</td>\n",
       "      <td>20.2</td>\n",
       "      <td>0</td>\n",
       "    </tr>\n",
       "  </tbody>\n",
       "</table>\n",
       "</div>"
      ],
      "text/plain": [
       "      weight  3PA    3P%   3P   FGA    FG%   FG    FT%  FTA   FT      G   PTS  \\\n",
       "1512   250.0  0.3  0.316  0.1  12.3  0.536  6.6  0.791  8.7  6.9  142.0  20.2   \n",
       "\n",
       "      labels  \n",
       "1512       0  "
      ]
     },
     "execution_count": 980,
     "metadata": {},
     "output_type": "execute_result"
    }
   ],
   "source": [
    "similar1 = scipy.spatial.distance.cdist(pred,pred2[11:12],metric='euclidean')\n",
    "pred[similar1==similar1.min()]"
   ]
  },
  {
   "cell_type": "code",
   "execution_count": 981,
   "metadata": {},
   "outputs": [
    {
     "data": {
      "text/html": [
       "<div>\n",
       "<style scoped>\n",
       "    .dataframe tbody tr th:only-of-type {\n",
       "        vertical-align: middle;\n",
       "    }\n",
       "\n",
       "    .dataframe tbody tr th {\n",
       "        vertical-align: top;\n",
       "    }\n",
       "\n",
       "    .dataframe thead th {\n",
       "        text-align: right;\n",
       "    }\n",
       "</style>\n",
       "<table border=\"1\" class=\"dataframe\">\n",
       "  <thead>\n",
       "    <tr style=\"text-align: right;\">\n",
       "      <th></th>\n",
       "      <th>0</th>\n",
       "    </tr>\n",
       "  </thead>\n",
       "  <tbody>\n",
       "    <tr>\n",
       "      <th>1512</th>\n",
       "      <td>0.000000</td>\n",
       "    </tr>\n",
       "    <tr>\n",
       "      <th>4119</th>\n",
       "      <td>9.578152</td>\n",
       "    </tr>\n",
       "    <tr>\n",
       "      <th>703</th>\n",
       "      <td>10.373544</td>\n",
       "    </tr>\n",
       "    <tr>\n",
       "      <th>2286</th>\n",
       "      <td>10.910313</td>\n",
       "    </tr>\n",
       "    <tr>\n",
       "      <th>1965</th>\n",
       "      <td>11.900200</td>\n",
       "    </tr>\n",
       "    <tr>\n",
       "      <th>1116</th>\n",
       "      <td>12.900784</td>\n",
       "    </tr>\n",
       "    <tr>\n",
       "      <th>837</th>\n",
       "      <td>12.946629</td>\n",
       "    </tr>\n",
       "    <tr>\n",
       "      <th>3491</th>\n",
       "      <td>13.241538</td>\n",
       "    </tr>\n",
       "    <tr>\n",
       "      <th>1592</th>\n",
       "      <td>13.829099</td>\n",
       "    </tr>\n",
       "    <tr>\n",
       "      <th>225</th>\n",
       "      <td>14.413793</td>\n",
       "    </tr>\n",
       "    <tr>\n",
       "      <th>1240</th>\n",
       "      <td>14.534604</td>\n",
       "    </tr>\n",
       "    <tr>\n",
       "      <th>1519</th>\n",
       "      <td>14.556228</td>\n",
       "    </tr>\n",
       "    <tr>\n",
       "      <th>3927</th>\n",
       "      <td>14.616891</td>\n",
       "    </tr>\n",
       "    <tr>\n",
       "      <th>3549</th>\n",
       "      <td>14.825753</td>\n",
       "    </tr>\n",
       "    <tr>\n",
       "      <th>3002</th>\n",
       "      <td>14.921735</td>\n",
       "    </tr>\n",
       "    <tr>\n",
       "      <th>273</th>\n",
       "      <td>15.024214</td>\n",
       "    </tr>\n",
       "    <tr>\n",
       "      <th>24</th>\n",
       "      <td>15.068343</td>\n",
       "    </tr>\n",
       "    <tr>\n",
       "      <th>1729</th>\n",
       "      <td>15.201491</td>\n",
       "    </tr>\n",
       "    <tr>\n",
       "      <th>433</th>\n",
       "      <td>15.330424</td>\n",
       "    </tr>\n",
       "    <tr>\n",
       "      <th>984</th>\n",
       "      <td>15.335220</td>\n",
       "    </tr>\n",
       "  </tbody>\n",
       "</table>\n",
       "</div>"
      ],
      "text/plain": [
       "              0\n",
       "1512   0.000000\n",
       "4119   9.578152\n",
       "703   10.373544\n",
       "2286  10.910313\n",
       "1965  11.900200\n",
       "1116  12.900784\n",
       "837   12.946629\n",
       "3491  13.241538\n",
       "1592  13.829099\n",
       "225   14.413793\n",
       "1240  14.534604\n",
       "1519  14.556228\n",
       "3927  14.616891\n",
       "3549  14.825753\n",
       "3002  14.921735\n",
       "273   15.024214\n",
       "24    15.068343\n",
       "1729  15.201491\n",
       "433   15.330424\n",
       "984   15.335220"
      ]
     },
     "execution_count": 981,
     "metadata": {},
     "output_type": "execute_result"
    }
   ],
   "source": [
    "a = np.sort(similar1)\n",
    "b = pd.DataFrame(a)\n",
    "b\n",
    "b.sort_values(by=0,ascending=True)[:20]"
   ]
  },
  {
   "cell_type": "code",
   "execution_count": 982,
   "metadata": {},
   "outputs": [
    {
     "data": {
      "text/plain": [
       "Unnamed: 0                         4119\n",
       "college                 Duke University\n",
       "height                              6-9\n",
       "name                   Shelden Williams\n",
       "position                              F\n",
       "url           /players/w/willish02.html\n",
       "weight                              250\n",
       "3PA                                 0.1\n",
       "3P%                               0.333\n",
       "3P                                    0\n",
       "FGA                                 8.6\n",
       "FG%                               0.572\n",
       "FG                                  4.9\n",
       "FT%                               0.694\n",
       "FTA                                 5.7\n",
       "FT                                    4\n",
       "G                                   139\n",
       "PTS                                13.9\n",
       "labels                                3\n",
       "Name: 4119, dtype: object"
      ]
     },
     "execution_count": 982,
     "metadata": {},
     "output_type": "execute_result"
    }
   ],
   "source": [
    "ncaa.loc[4119]"
   ]
  },
  {
   "cell_type": "code",
   "execution_count": 983,
   "metadata": {},
   "outputs": [],
   "source": [
    "BR.append(scipy.spatial.distance.cdist(nba[nba['Player'] =='Tyler Hansbrough'].iloc[:,1:], \n",
    "                                 nba[nba['Player'] =='Tyrone Hill'].iloc[:,1:], metric='euclidean'))\n",
    "DN.append(scipy.spatial.distance.cdist(nba[nba['Player'] =='Tyler Hansbrough'].iloc[:,1:], \n",
    "                                 nba[nba['Player'] =='Eduardo Najera'].iloc[:,1:], metric='euclidean'))\n",
    "My.append(scipy.spatial.distance.cdist(nba[nba['Player'] =='Tyler Hansbrough'].iloc[:,1:], \n",
    "                                 nba[nba['Player'] =='Shelden Williams'].iloc[:,1:], metric='euclidean'))"
   ]
  },
  {
   "cell_type": "code",
   "execution_count": 984,
   "metadata": {},
   "outputs": [
    {
     "data": {
      "text/plain": [
       "array([[233.44565492]])"
      ]
     },
     "execution_count": 984,
     "metadata": {},
     "output_type": "execute_result"
    }
   ],
   "source": [
    "scipy.spatial.distance.cdist(nba[nba['Player'] =='Tyler Hansbrough'].iloc[:,1:], \n",
    "                                 nba[nba['Player'] =='Tyrone Hill'].iloc[:,1:], metric='euclidean')"
   ]
  },
  {
   "cell_type": "code",
   "execution_count": 985,
   "metadata": {},
   "outputs": [
    {
     "data": {
      "text/plain": [
       "array([[346.25489556]])"
      ]
     },
     "execution_count": 985,
     "metadata": {},
     "output_type": "execute_result"
    }
   ],
   "source": [
    "scipy.spatial.distance.cdist(nba[nba['Player'] =='Tyler Hansbrough'].iloc[:,1:], \n",
    "                                 nba[nba['Player'] =='Eduardo Najera'].iloc[:,1:], metric='euclidean')"
   ]
  },
  {
   "cell_type": "code",
   "execution_count": 986,
   "metadata": {},
   "outputs": [
    {
     "data": {
      "text/plain": [
       "array([[367.07373169]])"
      ]
     },
     "execution_count": 986,
     "metadata": {},
     "output_type": "execute_result"
    }
   ],
   "source": [
    "scipy.spatial.distance.cdist(nba[nba['Player'] =='Tyler Hansbrough'].iloc[:,1:], \n",
    "                                 nba[nba['Player'] =='Shelden Williams'].iloc[:,1:], metric='euclidean')"
   ]
  },
  {
   "cell_type": "markdown",
   "metadata": {},
   "source": [
    "My model came in last but was very close to the others in predicitions so not as bad as it sounds to be last"
   ]
  },
  {
   "cell_type": "markdown",
   "metadata": {},
   "source": [
    "### Earl Clark"
   ]
  },
  {
   "cell_type": "code",
   "execution_count": 987,
   "metadata": {},
   "outputs": [
    {
     "data": {
      "text/html": [
       "<div>\n",
       "<style scoped>\n",
       "    .dataframe tbody tr th:only-of-type {\n",
       "        vertical-align: middle;\n",
       "    }\n",
       "\n",
       "    .dataframe tbody tr th {\n",
       "        vertical-align: top;\n",
       "    }\n",
       "\n",
       "    .dataframe thead th {\n",
       "        text-align: right;\n",
       "    }\n",
       "</style>\n",
       "<table border=\"1\" class=\"dataframe\">\n",
       "  <thead>\n",
       "    <tr style=\"text-align: right;\">\n",
       "      <th></th>\n",
       "      <th>weight</th>\n",
       "      <th>3PA</th>\n",
       "      <th>3P%</th>\n",
       "      <th>3P</th>\n",
       "      <th>FGA</th>\n",
       "      <th>FG%</th>\n",
       "      <th>FG</th>\n",
       "      <th>FT%</th>\n",
       "      <th>FTA</th>\n",
       "      <th>FT</th>\n",
       "      <th>G</th>\n",
       "      <th>PTS</th>\n",
       "      <th>labels</th>\n",
       "    </tr>\n",
       "  </thead>\n",
       "  <tbody>\n",
       "    <tr>\n",
       "      <th>659</th>\n",
       "      <td>225.0</td>\n",
       "      <td>1.8</td>\n",
       "      <td>0.298</td>\n",
       "      <td>0.5</td>\n",
       "      <td>8.6</td>\n",
       "      <td>0.467</td>\n",
       "      <td>4.0</td>\n",
       "      <td>0.64</td>\n",
       "      <td>3.2</td>\n",
       "      <td>2.0</td>\n",
       "      <td>104.0</td>\n",
       "      <td>10.6</td>\n",
       "      <td>2</td>\n",
       "    </tr>\n",
       "  </tbody>\n",
       "</table>\n",
       "</div>"
      ],
      "text/plain": [
       "     weight  3PA    3P%   3P  FGA    FG%   FG   FT%  FTA   FT      G   PTS  \\\n",
       "659   225.0  1.8  0.298  0.5  8.6  0.467  4.0  0.64  3.2  2.0  104.0  10.6   \n",
       "\n",
       "     labels  \n",
       "659       2  "
      ]
     },
     "execution_count": 987,
     "metadata": {},
     "output_type": "execute_result"
    }
   ],
   "source": [
    "similar1 = scipy.spatial.distance.cdist(pred,pred2[12:13],metric='euclidean')\n",
    "pred[similar1==similar1.min()]"
   ]
  },
  {
   "cell_type": "code",
   "execution_count": 988,
   "metadata": {},
   "outputs": [
    {
     "data": {
      "text/html": [
       "<div>\n",
       "<style scoped>\n",
       "    .dataframe tbody tr th:only-of-type {\n",
       "        vertical-align: middle;\n",
       "    }\n",
       "\n",
       "    .dataframe tbody tr th {\n",
       "        vertical-align: top;\n",
       "    }\n",
       "\n",
       "    .dataframe thead th {\n",
       "        text-align: right;\n",
       "    }\n",
       "</style>\n",
       "<table border=\"1\" class=\"dataframe\">\n",
       "  <thead>\n",
       "    <tr style=\"text-align: right;\">\n",
       "      <th></th>\n",
       "      <th>0</th>\n",
       "    </tr>\n",
       "  </thead>\n",
       "  <tbody>\n",
       "    <tr>\n",
       "      <th>659</th>\n",
       "      <td>0.000000</td>\n",
       "    </tr>\n",
       "    <tr>\n",
       "      <th>1476</th>\n",
       "      <td>3.014655</td>\n",
       "    </tr>\n",
       "    <tr>\n",
       "      <th>979</th>\n",
       "      <td>3.014655</td>\n",
       "    </tr>\n",
       "    <tr>\n",
       "      <th>35</th>\n",
       "      <td>3.014655</td>\n",
       "    </tr>\n",
       "    <tr>\n",
       "      <th>382</th>\n",
       "      <td>3.014655</td>\n",
       "    </tr>\n",
       "    <tr>\n",
       "      <th>3967</th>\n",
       "      <td>3.014655</td>\n",
       "    </tr>\n",
       "    <tr>\n",
       "      <th>3970</th>\n",
       "      <td>3.014655</td>\n",
       "    </tr>\n",
       "    <tr>\n",
       "      <th>1515</th>\n",
       "      <td>3.014655</td>\n",
       "    </tr>\n",
       "    <tr>\n",
       "      <th>3566</th>\n",
       "      <td>3.014655</td>\n",
       "    </tr>\n",
       "    <tr>\n",
       "      <th>2921</th>\n",
       "      <td>3.014655</td>\n",
       "    </tr>\n",
       "    <tr>\n",
       "      <th>3554</th>\n",
       "      <td>3.014655</td>\n",
       "    </tr>\n",
       "    <tr>\n",
       "      <th>4181</th>\n",
       "      <td>3.014655</td>\n",
       "    </tr>\n",
       "    <tr>\n",
       "      <th>241</th>\n",
       "      <td>3.014655</td>\n",
       "    </tr>\n",
       "    <tr>\n",
       "      <th>2787</th>\n",
       "      <td>3.014655</td>\n",
       "    </tr>\n",
       "    <tr>\n",
       "      <th>1244</th>\n",
       "      <td>3.014655</td>\n",
       "    </tr>\n",
       "  </tbody>\n",
       "</table>\n",
       "</div>"
      ],
      "text/plain": [
       "             0\n",
       "659   0.000000\n",
       "1476  3.014655\n",
       "979   3.014655\n",
       "35    3.014655\n",
       "382   3.014655\n",
       "3967  3.014655\n",
       "3970  3.014655\n",
       "1515  3.014655\n",
       "3566  3.014655\n",
       "2921  3.014655\n",
       "3554  3.014655\n",
       "4181  3.014655\n",
       "241   3.014655\n",
       "2787  3.014655\n",
       "1244  3.014655"
      ]
     },
     "execution_count": 988,
     "metadata": {},
     "output_type": "execute_result"
    }
   ],
   "source": [
    "a = np.sort(similar1)\n",
    "b = pd.DataFrame(a)\n",
    "b\n",
    "b.sort_values(by=0,ascending=True)[:15]"
   ]
  },
  {
   "cell_type": "code",
   "execution_count": 989,
   "metadata": {},
   "outputs": [
    {
     "data": {
      "text/plain": [
       "Unnamed: 0                          703\n",
       "college            University of Kansas\n",
       "height                             6-10\n",
       "name                      Nick Collison\n",
       "position                              F\n",
       "url           /players/c/collini01.html\n",
       "weight                              255\n",
       "3PA                                 0.5\n",
       "3P%                               0.359\n",
       "3P                                  0.2\n",
       "FGA                                10.7\n",
       "FG%                               0.562\n",
       "FG                                    6\n",
       "FT%                               0.624\n",
       "FTA                                   4\n",
       "FT                                  2.5\n",
       "G                                   142\n",
       "PTS                                14.8\n",
       "labels                                3\n",
       "Name: 703, dtype: object"
      ]
     },
     "execution_count": 989,
     "metadata": {},
     "output_type": "execute_result"
    }
   ],
   "source": [
    "ncaa.loc[703]"
   ]
  },
  {
   "cell_type": "code",
   "execution_count": 990,
   "metadata": {},
   "outputs": [],
   "source": [
    "BR.append(scipy.spatial.distance.cdist(nba[nba['Player'] =='Earl Clark'].iloc[:,1:], \n",
    "                                 nba[nba['Player'] =='Vladimir Radmanovic'].iloc[:,1:], metric='euclidean'))\n",
    "DN.append(scipy.spatial.distance.cdist(nba[nba['Player'] =='Earl Clark'].iloc[:,1:], \n",
    "                                 nba[nba['Player'] =='Marvin Williams'].iloc[:,1:], metric='euclidean'))\n",
    "My.append(scipy.spatial.distance.cdist(nba[nba['Player'] =='Earl Clark'].iloc[:,1:], \n",
    "                                 nba[nba['Player'] =='Steve Downing'].iloc[:,1:], metric='euclidean'))"
   ]
  },
  {
   "cell_type": "code",
   "execution_count": 991,
   "metadata": {},
   "outputs": [
    {
     "data": {
      "text/plain": [
       "array([[415.82505889]])"
      ]
     },
     "execution_count": 991,
     "metadata": {},
     "output_type": "execute_result"
    }
   ],
   "source": [
    "scipy.spatial.distance.cdist(nba[nba['Player'] =='Earl Clark'].iloc[:,1:], \n",
    "                                 nba[nba['Player'] =='Vladimir Radmanovic'].iloc[:,1:], metric='euclidean')"
   ]
  },
  {
   "cell_type": "code",
   "execution_count": 992,
   "metadata": {},
   "outputs": [
    {
     "data": {
      "text/plain": [
       "array([[985.38351716]])"
      ]
     },
     "execution_count": 992,
     "metadata": {},
     "output_type": "execute_result"
    }
   ],
   "source": [
    "scipy.spatial.distance.cdist(nba[nba['Player'] =='Earl Clark'].iloc[:,1:], \n",
    "                                 nba[nba['Player'] =='Marvin Williams'].iloc[:,1:], metric='euclidean')"
   ]
  },
  {
   "cell_type": "code",
   "execution_count": 993,
   "metadata": {},
   "outputs": [
    {
     "data": {
      "text/plain": [
       "array([[232.63378645]])"
      ]
     },
     "execution_count": 993,
     "metadata": {},
     "output_type": "execute_result"
    }
   ],
   "source": [
    "scipy.spatial.distance.cdist(nba[nba['Player'] =='Earl Clark'].iloc[:,1:], \n",
    "                                 nba[nba['Player'] =='Steve Downing'].iloc[:,1:], metric='euclidean')"
   ]
  },
  {
   "cell_type": "markdown",
   "metadata": {},
   "source": [
    "My model placed first"
   ]
  },
  {
   "cell_type": "markdown",
   "metadata": {},
   "source": [
    "---"
   ]
  },
  {
   "cell_type": "markdown",
   "metadata": {},
   "source": [
    "# 2010"
   ]
  },
  {
   "cell_type": "code",
   "execution_count": 994,
   "metadata": {},
   "outputs": [],
   "source": [
    "pred2 = ncaa[ncaa['name'] == 'John Wall']\n",
    "pred2 = pred2.append(ncaa[ncaa['name'] == 'Evan Turner'])\n",
    "pred2 = pred2.append(ncaa[ncaa['name'] == 'Derrick Favors'])\n",
    "pred2 = pred2.append(ncaa[ncaa['name'] == 'Wesley Johnson'])\n",
    "pred2 = pred2.append(ncaa[ncaa['name'] == 'Hasheem Thabeet'])\n",
    "pred2 = pred2.append(ncaa[ncaa['name'] == 'DeMarcus Cousins'])\n",
    "pred2 = pred2.append(ncaa[ncaa['name'] == 'Ekpe Udoh'])\n",
    "pred2 = pred2.append(ncaa[ncaa['name'] == 'Greg Monroe'])\n",
    "pred2 = pred2.append(ncaa[ncaa['name'] == 'Al-Farouq Aminu'])\n",
    "pred2 = pred2.append(ncaa[ncaa['name'] == 'Gord0n Hayward'])\n",
    "pred2 = pred2.append(ncaa[ncaa['name'] == 'Paul George'])\n",
    "pred2 = pred2.append(ncaa[ncaa['name'] == 'Cole Aldrich'])\n",
    "pred2 = pred2.append(ncaa[ncaa['name'] == 'Xavier Henry'])\n",
    "pred2 = pred2.append(ncaa[ncaa['name'] == 'Ed Davis'])\n",
    "pred2 = pred2.append(ncaa[ncaa['name'] == 'Patrick Patterson'])"
   ]
  },
  {
   "cell_type": "code",
   "execution_count": 995,
   "metadata": {
    "scrolled": true
   },
   "outputs": [
    {
     "data": {
      "text/html": [
       "<div>\n",
       "<style scoped>\n",
       "    .dataframe tbody tr th:only-of-type {\n",
       "        vertical-align: middle;\n",
       "    }\n",
       "\n",
       "    .dataframe tbody tr th {\n",
       "        vertical-align: top;\n",
       "    }\n",
       "\n",
       "    .dataframe thead th {\n",
       "        text-align: right;\n",
       "    }\n",
       "</style>\n",
       "<table border=\"1\" class=\"dataframe\">\n",
       "  <thead>\n",
       "    <tr style=\"text-align: right;\">\n",
       "      <th></th>\n",
       "      <th>Unnamed: 0</th>\n",
       "      <th>college</th>\n",
       "      <th>height</th>\n",
       "      <th>name</th>\n",
       "      <th>position</th>\n",
       "      <th>url</th>\n",
       "      <th>weight</th>\n",
       "      <th>3PA</th>\n",
       "      <th>3P%</th>\n",
       "      <th>3P</th>\n",
       "      <th>FGA</th>\n",
       "      <th>FG%</th>\n",
       "      <th>FG</th>\n",
       "      <th>FT%</th>\n",
       "      <th>FTA</th>\n",
       "      <th>FT</th>\n",
       "      <th>G</th>\n",
       "      <th>PTS</th>\n",
       "      <th>labels</th>\n",
       "    </tr>\n",
       "  </thead>\n",
       "  <tbody>\n",
       "    <tr>\n",
       "      <th>3899</th>\n",
       "      <td>3899</td>\n",
       "      <td>University of Kentucky</td>\n",
       "      <td>6-4</td>\n",
       "      <td>John Wall</td>\n",
       "      <td>G</td>\n",
       "      <td>/players/w/walljo01.html</td>\n",
       "      <td>195.0</td>\n",
       "      <td>3.1</td>\n",
       "      <td>0.325</td>\n",
       "      <td>1.0</td>\n",
       "      <td>11.8</td>\n",
       "      <td>0.461</td>\n",
       "      <td>5.5</td>\n",
       "      <td>0.754</td>\n",
       "      <td>6.3</td>\n",
       "      <td>4.7</td>\n",
       "      <td>37.0</td>\n",
       "      <td>16.6</td>\n",
       "      <td>0</td>\n",
       "    </tr>\n",
       "    <tr>\n",
       "      <th>3804</th>\n",
       "      <td>3804</td>\n",
       "      <td>Ohio State University</td>\n",
       "      <td>6-7</td>\n",
       "      <td>Evan Turner</td>\n",
       "      <td>G</td>\n",
       "      <td>/players/t/turneev01.html</td>\n",
       "      <td>220.0</td>\n",
       "      <td>1.5</td>\n",
       "      <td>0.362</td>\n",
       "      <td>0.5</td>\n",
       "      <td>10.6</td>\n",
       "      <td>0.502</td>\n",
       "      <td>5.3</td>\n",
       "      <td>0.758</td>\n",
       "      <td>5.0</td>\n",
       "      <td>3.8</td>\n",
       "      <td>101.0</td>\n",
       "      <td>15.0</td>\n",
       "      <td>3</td>\n",
       "    </tr>\n",
       "    <tr>\n",
       "      <th>1131</th>\n",
       "      <td>1131</td>\n",
       "      <td>Georgia Institute of Technology</td>\n",
       "      <td>6-10</td>\n",
       "      <td>Derrick Favors</td>\n",
       "      <td>F-C</td>\n",
       "      <td>/players/f/favorde01.html</td>\n",
       "      <td>265.0</td>\n",
       "      <td>0.0</td>\n",
       "      <td>0.000</td>\n",
       "      <td>0.0</td>\n",
       "      <td>8.1</td>\n",
       "      <td>0.611</td>\n",
       "      <td>5.0</td>\n",
       "      <td>0.629</td>\n",
       "      <td>4.0</td>\n",
       "      <td>2.5</td>\n",
       "      <td>36.0</td>\n",
       "      <td>12.4</td>\n",
       "      <td>2</td>\n",
       "    </tr>\n",
       "    <tr>\n",
       "      <th>1927</th>\n",
       "      <td>1927</td>\n",
       "      <td>Iowa State University, Syracuse University</td>\n",
       "      <td>6-7</td>\n",
       "      <td>Wesley Johnson</td>\n",
       "      <td>F-G</td>\n",
       "      <td>/players/j/johnswe01.html</td>\n",
       "      <td>215.0</td>\n",
       "      <td>4.0</td>\n",
       "      <td>0.349</td>\n",
       "      <td>1.4</td>\n",
       "      <td>10.9</td>\n",
       "      <td>0.454</td>\n",
       "      <td>5.0</td>\n",
       "      <td>0.768</td>\n",
       "      <td>3.3</td>\n",
       "      <td>2.6</td>\n",
       "      <td>93.0</td>\n",
       "      <td>13.9</td>\n",
       "      <td>1</td>\n",
       "    </tr>\n",
       "    <tr>\n",
       "      <th>3693</th>\n",
       "      <td>3693</td>\n",
       "      <td>University of Connecticut</td>\n",
       "      <td>7-3</td>\n",
       "      <td>Hasheem Thabeet</td>\n",
       "      <td>C</td>\n",
       "      <td>/players/t/thabeha01.html</td>\n",
       "      <td>263.0</td>\n",
       "      <td>0.0</td>\n",
       "      <td>0.250</td>\n",
       "      <td>0.0</td>\n",
       "      <td>5.9</td>\n",
       "      <td>0.611</td>\n",
       "      <td>3.6</td>\n",
       "      <td>0.625</td>\n",
       "      <td>5.0</td>\n",
       "      <td>3.1</td>\n",
       "      <td>100.0</td>\n",
       "      <td>10.3</td>\n",
       "      <td>2</td>\n",
       "    </tr>\n",
       "    <tr>\n",
       "      <th>760</th>\n",
       "      <td>760</td>\n",
       "      <td>University of Kentucky</td>\n",
       "      <td>6-11</td>\n",
       "      <td>DeMarcus Cousins</td>\n",
       "      <td>C-F</td>\n",
       "      <td>/players/c/couside01.html</td>\n",
       "      <td>270.0</td>\n",
       "      <td>0.2</td>\n",
       "      <td>0.167</td>\n",
       "      <td>0.0</td>\n",
       "      <td>9.7</td>\n",
       "      <td>0.558</td>\n",
       "      <td>5.4</td>\n",
       "      <td>0.604</td>\n",
       "      <td>7.1</td>\n",
       "      <td>4.3</td>\n",
       "      <td>38.0</td>\n",
       "      <td>15.1</td>\n",
       "      <td>3</td>\n",
       "    </tr>\n",
       "    <tr>\n",
       "      <th>3820</th>\n",
       "      <td>3820</td>\n",
       "      <td>University of Michigan, Baylor University</td>\n",
       "      <td>6-10</td>\n",
       "      <td>Ekpe Udoh</td>\n",
       "      <td>C-F</td>\n",
       "      <td>/players/u/udohek01.html</td>\n",
       "      <td>240.0</td>\n",
       "      <td>0.4</td>\n",
       "      <td>0.289</td>\n",
       "      <td>0.1</td>\n",
       "      <td>7.0</td>\n",
       "      <td>0.472</td>\n",
       "      <td>3.3</td>\n",
       "      <td>0.649</td>\n",
       "      <td>2.5</td>\n",
       "      <td>1.6</td>\n",
       "      <td>103.0</td>\n",
       "      <td>8.4</td>\n",
       "      <td>2</td>\n",
       "    </tr>\n",
       "    <tr>\n",
       "      <th>2632</th>\n",
       "      <td>2632</td>\n",
       "      <td>Georgetown University</td>\n",
       "      <td>6-11</td>\n",
       "      <td>Greg Monroe</td>\n",
       "      <td>C-F</td>\n",
       "      <td>/players/m/monrogr01.html</td>\n",
       "      <td>265.0</td>\n",
       "      <td>0.5</td>\n",
       "      <td>0.273</td>\n",
       "      <td>0.1</td>\n",
       "      <td>9.8</td>\n",
       "      <td>0.543</td>\n",
       "      <td>5.3</td>\n",
       "      <td>0.677</td>\n",
       "      <td>5.5</td>\n",
       "      <td>3.7</td>\n",
       "      <td>65.0</td>\n",
       "      <td>14.5</td>\n",
       "      <td>3</td>\n",
       "    </tr>\n",
       "    <tr>\n",
       "      <th>66</th>\n",
       "      <td>66</td>\n",
       "      <td>Wake Forest University</td>\n",
       "      <td>6-9</td>\n",
       "      <td>Al-Farouq Aminu</td>\n",
       "      <td>F</td>\n",
       "      <td>/players/a/aminual01.html</td>\n",
       "      <td>220.0</td>\n",
       "      <td>1.7</td>\n",
       "      <td>0.238</td>\n",
       "      <td>0.4</td>\n",
       "      <td>10.6</td>\n",
       "      <td>0.476</td>\n",
       "      <td>5.0</td>\n",
       "      <td>0.687</td>\n",
       "      <td>5.7</td>\n",
       "      <td>3.9</td>\n",
       "      <td>62.0</td>\n",
       "      <td>14.4</td>\n",
       "      <td>3</td>\n",
       "    </tr>\n",
       "    <tr>\n",
       "      <th>1305</th>\n",
       "      <td>1305</td>\n",
       "      <td>California State University, Fresno</td>\n",
       "      <td>6-9</td>\n",
       "      <td>Paul George</td>\n",
       "      <td>F</td>\n",
       "      <td>/players/g/georgpa01.html</td>\n",
       "      <td>220.0</td>\n",
       "      <td>4.9</td>\n",
       "      <td>0.396</td>\n",
       "      <td>1.9</td>\n",
       "      <td>11.4</td>\n",
       "      <td>0.447</td>\n",
       "      <td>5.1</td>\n",
       "      <td>0.803</td>\n",
       "      <td>4.2</td>\n",
       "      <td>3.4</td>\n",
       "      <td>63.0</td>\n",
       "      <td>15.5</td>\n",
       "      <td>1</td>\n",
       "    </tr>\n",
       "    <tr>\n",
       "      <th>36</th>\n",
       "      <td>36</td>\n",
       "      <td>University of Kansas</td>\n",
       "      <td>6-11</td>\n",
       "      <td>Cole Aldrich</td>\n",
       "      <td>C</td>\n",
       "      <td>/players/a/aldrico01.html</td>\n",
       "      <td>250.0</td>\n",
       "      <td>0.0</td>\n",
       "      <td>0.250</td>\n",
       "      <td>0.0</td>\n",
       "      <td>6.1</td>\n",
       "      <td>0.574</td>\n",
       "      <td>3.5</td>\n",
       "      <td>0.729</td>\n",
       "      <td>3.2</td>\n",
       "      <td>2.3</td>\n",
       "      <td>111.0</td>\n",
       "      <td>9.4</td>\n",
       "      <td>2</td>\n",
       "    </tr>\n",
       "    <tr>\n",
       "      <th>1627</th>\n",
       "      <td>1627</td>\n",
       "      <td>University of Kansas</td>\n",
       "      <td>6-6</td>\n",
       "      <td>Xavier Henry</td>\n",
       "      <td>G</td>\n",
       "      <td>/players/h/henryxa01.html</td>\n",
       "      <td>220.0</td>\n",
       "      <td>4.6</td>\n",
       "      <td>0.418</td>\n",
       "      <td>1.9</td>\n",
       "      <td>9.8</td>\n",
       "      <td>0.458</td>\n",
       "      <td>4.5</td>\n",
       "      <td>0.783</td>\n",
       "      <td>3.2</td>\n",
       "      <td>2.5</td>\n",
       "      <td>36.0</td>\n",
       "      <td>13.4</td>\n",
       "      <td>1</td>\n",
       "    </tr>\n",
       "    <tr>\n",
       "      <th>855</th>\n",
       "      <td>855</td>\n",
       "      <td>University of North Carolina</td>\n",
       "      <td>6-10</td>\n",
       "      <td>Ed Davis</td>\n",
       "      <td>F</td>\n",
       "      <td>/players/d/davised01.html</td>\n",
       "      <td>240.0</td>\n",
       "      <td>0.0</td>\n",
       "      <td>0.333</td>\n",
       "      <td>0.0</td>\n",
       "      <td>6.3</td>\n",
       "      <td>0.548</td>\n",
       "      <td>3.4</td>\n",
       "      <td>0.623</td>\n",
       "      <td>3.7</td>\n",
       "      <td>2.3</td>\n",
       "      <td>61.0</td>\n",
       "      <td>9.2</td>\n",
       "      <td>2</td>\n",
       "    </tr>\n",
       "    <tr>\n",
       "      <th>2919</th>\n",
       "      <td>2919</td>\n",
       "      <td>University of Kentucky</td>\n",
       "      <td>6-9</td>\n",
       "      <td>Patrick Patterson</td>\n",
       "      <td>F</td>\n",
       "      <td>/players/p/pattepa01.html</td>\n",
       "      <td>230.0</td>\n",
       "      <td>0.8</td>\n",
       "      <td>0.329</td>\n",
       "      <td>0.2</td>\n",
       "      <td>10.9</td>\n",
       "      <td>0.585</td>\n",
       "      <td>6.4</td>\n",
       "      <td>0.734</td>\n",
       "      <td>4.3</td>\n",
       "      <td>3.2</td>\n",
       "      <td>97.0</td>\n",
       "      <td>16.1</td>\n",
       "      <td>3</td>\n",
       "    </tr>\n",
       "  </tbody>\n",
       "</table>\n",
       "</div>"
      ],
      "text/plain": [
       "      Unnamed: 0                                     college height  \\\n",
       "3899        3899                      University of Kentucky    6-4   \n",
       "3804        3804                       Ohio State University    6-7   \n",
       "1131        1131             Georgia Institute of Technology   6-10   \n",
       "1927        1927  Iowa State University, Syracuse University    6-7   \n",
       "3693        3693                   University of Connecticut    7-3   \n",
       "760          760                      University of Kentucky   6-11   \n",
       "3820        3820   University of Michigan, Baylor University   6-10   \n",
       "2632        2632                       Georgetown University   6-11   \n",
       "66            66                      Wake Forest University    6-9   \n",
       "1305        1305         California State University, Fresno    6-9   \n",
       "36            36                        University of Kansas   6-11   \n",
       "1627        1627                        University of Kansas    6-6   \n",
       "855          855                University of North Carolina   6-10   \n",
       "2919        2919                      University of Kentucky    6-9   \n",
       "\n",
       "                   name position                        url  weight  3PA  \\\n",
       "3899          John Wall        G   /players/w/walljo01.html   195.0  3.1   \n",
       "3804        Evan Turner        G  /players/t/turneev01.html   220.0  1.5   \n",
       "1131     Derrick Favors      F-C  /players/f/favorde01.html   265.0  0.0   \n",
       "1927     Wesley Johnson      F-G  /players/j/johnswe01.html   215.0  4.0   \n",
       "3693    Hasheem Thabeet        C  /players/t/thabeha01.html   263.0  0.0   \n",
       "760    DeMarcus Cousins      C-F  /players/c/couside01.html   270.0  0.2   \n",
       "3820          Ekpe Udoh      C-F   /players/u/udohek01.html   240.0  0.4   \n",
       "2632        Greg Monroe      C-F  /players/m/monrogr01.html   265.0  0.5   \n",
       "66      Al-Farouq Aminu        F  /players/a/aminual01.html   220.0  1.7   \n",
       "1305        Paul George        F  /players/g/georgpa01.html   220.0  4.9   \n",
       "36         Cole Aldrich        C  /players/a/aldrico01.html   250.0  0.0   \n",
       "1627       Xavier Henry        G  /players/h/henryxa01.html   220.0  4.6   \n",
       "855            Ed Davis        F  /players/d/davised01.html   240.0  0.0   \n",
       "2919  Patrick Patterson        F  /players/p/pattepa01.html   230.0  0.8   \n",
       "\n",
       "        3P%   3P   FGA    FG%   FG    FT%  FTA   FT      G   PTS  labels  \n",
       "3899  0.325  1.0  11.8  0.461  5.5  0.754  6.3  4.7   37.0  16.6       0  \n",
       "3804  0.362  0.5  10.6  0.502  5.3  0.758  5.0  3.8  101.0  15.0       3  \n",
       "1131  0.000  0.0   8.1  0.611  5.0  0.629  4.0  2.5   36.0  12.4       2  \n",
       "1927  0.349  1.4  10.9  0.454  5.0  0.768  3.3  2.6   93.0  13.9       1  \n",
       "3693  0.250  0.0   5.9  0.611  3.6  0.625  5.0  3.1  100.0  10.3       2  \n",
       "760   0.167  0.0   9.7  0.558  5.4  0.604  7.1  4.3   38.0  15.1       3  \n",
       "3820  0.289  0.1   7.0  0.472  3.3  0.649  2.5  1.6  103.0   8.4       2  \n",
       "2632  0.273  0.1   9.8  0.543  5.3  0.677  5.5  3.7   65.0  14.5       3  \n",
       "66    0.238  0.4  10.6  0.476  5.0  0.687  5.7  3.9   62.0  14.4       3  \n",
       "1305  0.396  1.9  11.4  0.447  5.1  0.803  4.2  3.4   63.0  15.5       1  \n",
       "36    0.250  0.0   6.1  0.574  3.5  0.729  3.2  2.3  111.0   9.4       2  \n",
       "1627  0.418  1.9   9.8  0.458  4.5  0.783  3.2  2.5   36.0  13.4       1  \n",
       "855   0.333  0.0   6.3  0.548  3.4  0.623  3.7  2.3   61.0   9.2       2  \n",
       "2919  0.329  0.2  10.9  0.585  6.4  0.734  4.3  3.2   97.0  16.1       3  "
      ]
     },
     "execution_count": 995,
     "metadata": {},
     "output_type": "execute_result"
    }
   ],
   "source": [
    "pred2"
   ]
  },
  {
   "cell_type": "code",
   "execution_count": 996,
   "metadata": {},
   "outputs": [],
   "source": [
    "pred2.drop(columns='Unnamed: 0',inplace=True)"
   ]
  },
  {
   "cell_type": "code",
   "execution_count": 997,
   "metadata": {
    "scrolled": true
   },
   "outputs": [
    {
     "data": {
      "text/html": [
       "<div>\n",
       "<style scoped>\n",
       "    .dataframe tbody tr th:only-of-type {\n",
       "        vertical-align: middle;\n",
       "    }\n",
       "\n",
       "    .dataframe tbody tr th {\n",
       "        vertical-align: top;\n",
       "    }\n",
       "\n",
       "    .dataframe thead th {\n",
       "        text-align: right;\n",
       "    }\n",
       "</style>\n",
       "<table border=\"1\" class=\"dataframe\">\n",
       "  <thead>\n",
       "    <tr style=\"text-align: right;\">\n",
       "      <th></th>\n",
       "      <th>weight</th>\n",
       "      <th>3PA</th>\n",
       "      <th>3P%</th>\n",
       "      <th>3P</th>\n",
       "      <th>FGA</th>\n",
       "      <th>FG%</th>\n",
       "      <th>FG</th>\n",
       "      <th>FT%</th>\n",
       "      <th>FTA</th>\n",
       "      <th>FT</th>\n",
       "      <th>G</th>\n",
       "      <th>PTS</th>\n",
       "      <th>labels</th>\n",
       "    </tr>\n",
       "  </thead>\n",
       "  <tbody>\n",
       "    <tr>\n",
       "      <th>3899</th>\n",
       "      <td>195.0</td>\n",
       "      <td>3.1</td>\n",
       "      <td>0.325</td>\n",
       "      <td>1.0</td>\n",
       "      <td>11.8</td>\n",
       "      <td>0.461</td>\n",
       "      <td>5.5</td>\n",
       "      <td>0.754</td>\n",
       "      <td>6.3</td>\n",
       "      <td>4.7</td>\n",
       "      <td>37.0</td>\n",
       "      <td>16.6</td>\n",
       "      <td>0</td>\n",
       "    </tr>\n",
       "    <tr>\n",
       "      <th>3804</th>\n",
       "      <td>220.0</td>\n",
       "      <td>1.5</td>\n",
       "      <td>0.362</td>\n",
       "      <td>0.5</td>\n",
       "      <td>10.6</td>\n",
       "      <td>0.502</td>\n",
       "      <td>5.3</td>\n",
       "      <td>0.758</td>\n",
       "      <td>5.0</td>\n",
       "      <td>3.8</td>\n",
       "      <td>101.0</td>\n",
       "      <td>15.0</td>\n",
       "      <td>3</td>\n",
       "    </tr>\n",
       "    <tr>\n",
       "      <th>1131</th>\n",
       "      <td>265.0</td>\n",
       "      <td>0.0</td>\n",
       "      <td>0.000</td>\n",
       "      <td>0.0</td>\n",
       "      <td>8.1</td>\n",
       "      <td>0.611</td>\n",
       "      <td>5.0</td>\n",
       "      <td>0.629</td>\n",
       "      <td>4.0</td>\n",
       "      <td>2.5</td>\n",
       "      <td>36.0</td>\n",
       "      <td>12.4</td>\n",
       "      <td>2</td>\n",
       "    </tr>\n",
       "    <tr>\n",
       "      <th>1927</th>\n",
       "      <td>215.0</td>\n",
       "      <td>4.0</td>\n",
       "      <td>0.349</td>\n",
       "      <td>1.4</td>\n",
       "      <td>10.9</td>\n",
       "      <td>0.454</td>\n",
       "      <td>5.0</td>\n",
       "      <td>0.768</td>\n",
       "      <td>3.3</td>\n",
       "      <td>2.6</td>\n",
       "      <td>93.0</td>\n",
       "      <td>13.9</td>\n",
       "      <td>1</td>\n",
       "    </tr>\n",
       "    <tr>\n",
       "      <th>3693</th>\n",
       "      <td>263.0</td>\n",
       "      <td>0.0</td>\n",
       "      <td>0.250</td>\n",
       "      <td>0.0</td>\n",
       "      <td>5.9</td>\n",
       "      <td>0.611</td>\n",
       "      <td>3.6</td>\n",
       "      <td>0.625</td>\n",
       "      <td>5.0</td>\n",
       "      <td>3.1</td>\n",
       "      <td>100.0</td>\n",
       "      <td>10.3</td>\n",
       "      <td>2</td>\n",
       "    </tr>\n",
       "    <tr>\n",
       "      <th>760</th>\n",
       "      <td>270.0</td>\n",
       "      <td>0.2</td>\n",
       "      <td>0.167</td>\n",
       "      <td>0.0</td>\n",
       "      <td>9.7</td>\n",
       "      <td>0.558</td>\n",
       "      <td>5.4</td>\n",
       "      <td>0.604</td>\n",
       "      <td>7.1</td>\n",
       "      <td>4.3</td>\n",
       "      <td>38.0</td>\n",
       "      <td>15.1</td>\n",
       "      <td>3</td>\n",
       "    </tr>\n",
       "    <tr>\n",
       "      <th>3820</th>\n",
       "      <td>240.0</td>\n",
       "      <td>0.4</td>\n",
       "      <td>0.289</td>\n",
       "      <td>0.1</td>\n",
       "      <td>7.0</td>\n",
       "      <td>0.472</td>\n",
       "      <td>3.3</td>\n",
       "      <td>0.649</td>\n",
       "      <td>2.5</td>\n",
       "      <td>1.6</td>\n",
       "      <td>103.0</td>\n",
       "      <td>8.4</td>\n",
       "      <td>2</td>\n",
       "    </tr>\n",
       "    <tr>\n",
       "      <th>2632</th>\n",
       "      <td>265.0</td>\n",
       "      <td>0.5</td>\n",
       "      <td>0.273</td>\n",
       "      <td>0.1</td>\n",
       "      <td>9.8</td>\n",
       "      <td>0.543</td>\n",
       "      <td>5.3</td>\n",
       "      <td>0.677</td>\n",
       "      <td>5.5</td>\n",
       "      <td>3.7</td>\n",
       "      <td>65.0</td>\n",
       "      <td>14.5</td>\n",
       "      <td>3</td>\n",
       "    </tr>\n",
       "    <tr>\n",
       "      <th>66</th>\n",
       "      <td>220.0</td>\n",
       "      <td>1.7</td>\n",
       "      <td>0.238</td>\n",
       "      <td>0.4</td>\n",
       "      <td>10.6</td>\n",
       "      <td>0.476</td>\n",
       "      <td>5.0</td>\n",
       "      <td>0.687</td>\n",
       "      <td>5.7</td>\n",
       "      <td>3.9</td>\n",
       "      <td>62.0</td>\n",
       "      <td>14.4</td>\n",
       "      <td>3</td>\n",
       "    </tr>\n",
       "    <tr>\n",
       "      <th>1305</th>\n",
       "      <td>220.0</td>\n",
       "      <td>4.9</td>\n",
       "      <td>0.396</td>\n",
       "      <td>1.9</td>\n",
       "      <td>11.4</td>\n",
       "      <td>0.447</td>\n",
       "      <td>5.1</td>\n",
       "      <td>0.803</td>\n",
       "      <td>4.2</td>\n",
       "      <td>3.4</td>\n",
       "      <td>63.0</td>\n",
       "      <td>15.5</td>\n",
       "      <td>1</td>\n",
       "    </tr>\n",
       "    <tr>\n",
       "      <th>36</th>\n",
       "      <td>250.0</td>\n",
       "      <td>0.0</td>\n",
       "      <td>0.250</td>\n",
       "      <td>0.0</td>\n",
       "      <td>6.1</td>\n",
       "      <td>0.574</td>\n",
       "      <td>3.5</td>\n",
       "      <td>0.729</td>\n",
       "      <td>3.2</td>\n",
       "      <td>2.3</td>\n",
       "      <td>111.0</td>\n",
       "      <td>9.4</td>\n",
       "      <td>2</td>\n",
       "    </tr>\n",
       "    <tr>\n",
       "      <th>1627</th>\n",
       "      <td>220.0</td>\n",
       "      <td>4.6</td>\n",
       "      <td>0.418</td>\n",
       "      <td>1.9</td>\n",
       "      <td>9.8</td>\n",
       "      <td>0.458</td>\n",
       "      <td>4.5</td>\n",
       "      <td>0.783</td>\n",
       "      <td>3.2</td>\n",
       "      <td>2.5</td>\n",
       "      <td>36.0</td>\n",
       "      <td>13.4</td>\n",
       "      <td>1</td>\n",
       "    </tr>\n",
       "    <tr>\n",
       "      <th>855</th>\n",
       "      <td>240.0</td>\n",
       "      <td>0.0</td>\n",
       "      <td>0.333</td>\n",
       "      <td>0.0</td>\n",
       "      <td>6.3</td>\n",
       "      <td>0.548</td>\n",
       "      <td>3.4</td>\n",
       "      <td>0.623</td>\n",
       "      <td>3.7</td>\n",
       "      <td>2.3</td>\n",
       "      <td>61.0</td>\n",
       "      <td>9.2</td>\n",
       "      <td>2</td>\n",
       "    </tr>\n",
       "    <tr>\n",
       "      <th>2919</th>\n",
       "      <td>230.0</td>\n",
       "      <td>0.8</td>\n",
       "      <td>0.329</td>\n",
       "      <td>0.2</td>\n",
       "      <td>10.9</td>\n",
       "      <td>0.585</td>\n",
       "      <td>6.4</td>\n",
       "      <td>0.734</td>\n",
       "      <td>4.3</td>\n",
       "      <td>3.2</td>\n",
       "      <td>97.0</td>\n",
       "      <td>16.1</td>\n",
       "      <td>3</td>\n",
       "    </tr>\n",
       "  </tbody>\n",
       "</table>\n",
       "</div>"
      ],
      "text/plain": [
       "      weight  3PA    3P%   3P   FGA    FG%   FG    FT%  FTA   FT      G   PTS  \\\n",
       "3899   195.0  3.1  0.325  1.0  11.8  0.461  5.5  0.754  6.3  4.7   37.0  16.6   \n",
       "3804   220.0  1.5  0.362  0.5  10.6  0.502  5.3  0.758  5.0  3.8  101.0  15.0   \n",
       "1131   265.0  0.0  0.000  0.0   8.1  0.611  5.0  0.629  4.0  2.5   36.0  12.4   \n",
       "1927   215.0  4.0  0.349  1.4  10.9  0.454  5.0  0.768  3.3  2.6   93.0  13.9   \n",
       "3693   263.0  0.0  0.250  0.0   5.9  0.611  3.6  0.625  5.0  3.1  100.0  10.3   \n",
       "760    270.0  0.2  0.167  0.0   9.7  0.558  5.4  0.604  7.1  4.3   38.0  15.1   \n",
       "3820   240.0  0.4  0.289  0.1   7.0  0.472  3.3  0.649  2.5  1.6  103.0   8.4   \n",
       "2632   265.0  0.5  0.273  0.1   9.8  0.543  5.3  0.677  5.5  3.7   65.0  14.5   \n",
       "66     220.0  1.7  0.238  0.4  10.6  0.476  5.0  0.687  5.7  3.9   62.0  14.4   \n",
       "1305   220.0  4.9  0.396  1.9  11.4  0.447  5.1  0.803  4.2  3.4   63.0  15.5   \n",
       "36     250.0  0.0  0.250  0.0   6.1  0.574  3.5  0.729  3.2  2.3  111.0   9.4   \n",
       "1627   220.0  4.6  0.418  1.9   9.8  0.458  4.5  0.783  3.2  2.5   36.0  13.4   \n",
       "855    240.0  0.0  0.333  0.0   6.3  0.548  3.4  0.623  3.7  2.3   61.0   9.2   \n",
       "2919   230.0  0.8  0.329  0.2  10.9  0.585  6.4  0.734  4.3  3.2   97.0  16.1   \n",
       "\n",
       "      labels  \n",
       "3899       0  \n",
       "3804       3  \n",
       "1131       2  \n",
       "1927       1  \n",
       "3693       2  \n",
       "760        3  \n",
       "3820       2  \n",
       "2632       3  \n",
       "66         3  \n",
       "1305       1  \n",
       "36         2  \n",
       "1627       1  \n",
       "855        2  \n",
       "2919       3  "
      ]
     },
     "execution_count": 997,
     "metadata": {},
     "output_type": "execute_result"
    }
   ],
   "source": [
    "pred2 = pred2.loc[:,'weight':]\n",
    "pred2"
   ]
  },
  {
   "cell_type": "markdown",
   "metadata": {},
   "source": [
    "## John Wall"
   ]
  },
  {
   "cell_type": "code",
   "execution_count": 998,
   "metadata": {},
   "outputs": [
    {
     "data": {
      "text/html": [
       "<div>\n",
       "<style scoped>\n",
       "    .dataframe tbody tr th:only-of-type {\n",
       "        vertical-align: middle;\n",
       "    }\n",
       "\n",
       "    .dataframe tbody tr th {\n",
       "        vertical-align: top;\n",
       "    }\n",
       "\n",
       "    .dataframe thead th {\n",
       "        text-align: right;\n",
       "    }\n",
       "</style>\n",
       "<table border=\"1\" class=\"dataframe\">\n",
       "  <thead>\n",
       "    <tr style=\"text-align: right;\">\n",
       "      <th></th>\n",
       "      <th>weight</th>\n",
       "      <th>3PA</th>\n",
       "      <th>3P%</th>\n",
       "      <th>3P</th>\n",
       "      <th>FGA</th>\n",
       "      <th>FG%</th>\n",
       "      <th>FG</th>\n",
       "      <th>FT%</th>\n",
       "      <th>FTA</th>\n",
       "      <th>FT</th>\n",
       "      <th>G</th>\n",
       "      <th>PTS</th>\n",
       "      <th>labels</th>\n",
       "    </tr>\n",
       "  </thead>\n",
       "  <tbody>\n",
       "    <tr>\n",
       "      <th>3899</th>\n",
       "      <td>195.0</td>\n",
       "      <td>3.1</td>\n",
       "      <td>0.325</td>\n",
       "      <td>1.0</td>\n",
       "      <td>11.8</td>\n",
       "      <td>0.461</td>\n",
       "      <td>5.5</td>\n",
       "      <td>0.754</td>\n",
       "      <td>6.3</td>\n",
       "      <td>4.7</td>\n",
       "      <td>37.0</td>\n",
       "      <td>16.6</td>\n",
       "      <td>0</td>\n",
       "    </tr>\n",
       "  </tbody>\n",
       "</table>\n",
       "</div>"
      ],
      "text/plain": [
       "      weight  3PA    3P%   3P   FGA    FG%   FG    FT%  FTA   FT     G   PTS  \\\n",
       "3899   195.0  3.1  0.325  1.0  11.8  0.461  5.5  0.754  6.3  4.7  37.0  16.6   \n",
       "\n",
       "      labels  \n",
       "3899       0  "
      ]
     },
     "execution_count": 998,
     "metadata": {},
     "output_type": "execute_result"
    }
   ],
   "source": [
    "similar1 = scipy.spatial.distance.cdist(pred,pred2[0:1],metric='euclidean')\n",
    "pred[similar1==similar1.min()]"
   ]
  },
  {
   "cell_type": "code",
   "execution_count": 999,
   "metadata": {
    "scrolled": true
   },
   "outputs": [
    {
     "data": {
      "text/html": [
       "<div>\n",
       "<style scoped>\n",
       "    .dataframe tbody tr th:only-of-type {\n",
       "        vertical-align: middle;\n",
       "    }\n",
       "\n",
       "    .dataframe tbody tr th {\n",
       "        vertical-align: top;\n",
       "    }\n",
       "\n",
       "    .dataframe thead th {\n",
       "        text-align: right;\n",
       "    }\n",
       "</style>\n",
       "<table border=\"1\" class=\"dataframe\">\n",
       "  <thead>\n",
       "    <tr style=\"text-align: right;\">\n",
       "      <th></th>\n",
       "      <th>0</th>\n",
       "    </tr>\n",
       "  </thead>\n",
       "  <tbody>\n",
       "    <tr>\n",
       "      <th>3899</th>\n",
       "      <td>0.000000</td>\n",
       "    </tr>\n",
       "    <tr>\n",
       "      <th>1220</th>\n",
       "      <td>3.713369</td>\n",
       "    </tr>\n",
       "    <tr>\n",
       "      <th>2514</th>\n",
       "      <td>3.885053</td>\n",
       "    </tr>\n",
       "    <tr>\n",
       "      <th>4033</th>\n",
       "      <td>4.557507</td>\n",
       "    </tr>\n",
       "    <tr>\n",
       "      <th>239</th>\n",
       "      <td>4.736816</td>\n",
       "    </tr>\n",
       "    <tr>\n",
       "      <th>3493</th>\n",
       "      <td>5.710754</td>\n",
       "    </tr>\n",
       "    <tr>\n",
       "      <th>1098</th>\n",
       "      <td>5.745729</td>\n",
       "    </tr>\n",
       "    <tr>\n",
       "      <th>4005</th>\n",
       "      <td>6.254649</td>\n",
       "    </tr>\n",
       "    <tr>\n",
       "      <th>3287</th>\n",
       "      <td>6.402152</td>\n",
       "    </tr>\n",
       "    <tr>\n",
       "      <th>3174</th>\n",
       "      <td>6.438292</td>\n",
       "    </tr>\n",
       "    <tr>\n",
       "      <th>3243</th>\n",
       "      <td>6.441441</td>\n",
       "    </tr>\n",
       "    <tr>\n",
       "      <th>1777</th>\n",
       "      <td>6.462412</td>\n",
       "    </tr>\n",
       "    <tr>\n",
       "      <th>874</th>\n",
       "      <td>6.878477</td>\n",
       "    </tr>\n",
       "    <tr>\n",
       "      <th>1981</th>\n",
       "      <td>7.055004</td>\n",
       "    </tr>\n",
       "    <tr>\n",
       "      <th>2099</th>\n",
       "      <td>7.521026</td>\n",
       "    </tr>\n",
       "  </tbody>\n",
       "</table>\n",
       "</div>"
      ],
      "text/plain": [
       "             0\n",
       "3899  0.000000\n",
       "1220  3.713369\n",
       "2514  3.885053\n",
       "4033  4.557507\n",
       "239   4.736816\n",
       "3493  5.710754\n",
       "1098  5.745729\n",
       "4005  6.254649\n",
       "3287  6.402152\n",
       "3174  6.438292\n",
       "3243  6.441441\n",
       "1777  6.462412\n",
       "874   6.878477\n",
       "1981  7.055004\n",
       "2099  7.521026"
      ]
     },
     "execution_count": 999,
     "metadata": {},
     "output_type": "execute_result"
    }
   ],
   "source": [
    "a = np.sort(similar1)\n",
    "b = pd.DataFrame(a)\n",
    "b\n",
    "b.sort_values(by=0,ascending=True)[:15]"
   ]
  },
  {
   "cell_type": "code",
   "execution_count": 1000,
   "metadata": {},
   "outputs": [
    {
     "data": {
      "text/plain": [
       "Unnamed: 0                         1220\n",
       "college          University of Maryland\n",
       "height                              6-3\n",
       "name                      Steve Francis\n",
       "position                              G\n",
       "url           /players/f/francst01.html\n",
       "weight                              195\n",
       "3PA                                 3.4\n",
       "3P%                               0.388\n",
       "3P                                  1.3\n",
       "FGA                                11.5\n",
       "FG%                               0.523\n",
       "FG                                    6\n",
       "FT%                                0.79\n",
       "FTA                                 4.6\n",
       "FT                                  3.6\n",
       "G                                    34\n",
       "PTS                                  17\n",
       "labels                                0\n",
       "Name: 1220, dtype: object"
      ]
     },
     "execution_count": 1000,
     "metadata": {},
     "output_type": "execute_result"
    }
   ],
   "source": [
    "ncaa.loc[1220]"
   ]
  },
  {
   "cell_type": "code",
   "execution_count": 1001,
   "metadata": {},
   "outputs": [],
   "source": [
    "BR.append(scipy.spatial.distance.cdist(nba[nba['Player'] =='John Wall'].iloc[:,1:], \n",
    "                                 nba[nba['Player'] =='Derrick Rose'].iloc[:,1:], metric='euclidean'))\n",
    "DN.append(scipy.spatial.distance.cdist(nba[nba['Player'] =='John Wall'].iloc[:,1:], \n",
    "                                 nba[nba['Player'] =='Derrick Rose'].iloc[:,1:], metric='euclidean'))\n",
    "My.append(scipy.spatial.distance.cdist(nba[nba['Player'] =='John Wall'].iloc[:,1:], \n",
    "                                 nba[nba['Player'] =='Steve Francis'].iloc[:,1:], metric='euclidean'))"
   ]
  },
  {
   "cell_type": "code",
   "execution_count": 1002,
   "metadata": {},
   "outputs": [
    {
     "data": {
      "text/plain": [
       "array([[495.3532373]])"
      ]
     },
     "execution_count": 1002,
     "metadata": {},
     "output_type": "execute_result"
    }
   ],
   "source": [
    "scipy.spatial.distance.cdist(nba[nba['Player'] =='John Wall'].iloc[:,1:], \n",
    "                                 nba[nba['Player'] =='Derrick Rose'].iloc[:,1:], metric='euclidean')"
   ]
  },
  {
   "cell_type": "code",
   "execution_count": 1003,
   "metadata": {},
   "outputs": [
    {
     "data": {
      "text/plain": [
       "array([[495.3532373]])"
      ]
     },
     "execution_count": 1003,
     "metadata": {},
     "output_type": "execute_result"
    }
   ],
   "source": [
    "scipy.spatial.distance.cdist(nba[nba['Player'] =='John Wall'].iloc[:,1:], \n",
    "                                 nba[nba['Player'] =='Derrick Rose'].iloc[:,1:], metric='euclidean')"
   ]
  },
  {
   "cell_type": "code",
   "execution_count": 1004,
   "metadata": {},
   "outputs": [
    {
     "data": {
      "text/plain": [
       "array([[640.88619278]])"
      ]
     },
     "execution_count": 1004,
     "metadata": {},
     "output_type": "execute_result"
    }
   ],
   "source": [
    "scipy.spatial.distance.cdist(nba[nba['Player'] =='John Wall'].iloc[:,1:], \n",
    "                                 nba[nba['Player'] =='Steve Francis'].iloc[:,1:], metric='euclidean')"
   ]
  },
  {
   "cell_type": "markdown",
   "metadata": {},
   "source": [
    "My model came in last but wasn't way off in its predicition"
   ]
  },
  {
   "cell_type": "markdown",
   "metadata": {},
   "source": [
    "## Evan Turner"
   ]
  },
  {
   "cell_type": "code",
   "execution_count": 1005,
   "metadata": {},
   "outputs": [
    {
     "data": {
      "text/html": [
       "<div>\n",
       "<style scoped>\n",
       "    .dataframe tbody tr th:only-of-type {\n",
       "        vertical-align: middle;\n",
       "    }\n",
       "\n",
       "    .dataframe tbody tr th {\n",
       "        vertical-align: top;\n",
       "    }\n",
       "\n",
       "    .dataframe thead th {\n",
       "        text-align: right;\n",
       "    }\n",
       "</style>\n",
       "<table border=\"1\" class=\"dataframe\">\n",
       "  <thead>\n",
       "    <tr style=\"text-align: right;\">\n",
       "      <th></th>\n",
       "      <th>weight</th>\n",
       "      <th>3PA</th>\n",
       "      <th>3P%</th>\n",
       "      <th>3P</th>\n",
       "      <th>FGA</th>\n",
       "      <th>FG%</th>\n",
       "      <th>FG</th>\n",
       "      <th>FT%</th>\n",
       "      <th>FTA</th>\n",
       "      <th>FT</th>\n",
       "      <th>G</th>\n",
       "      <th>PTS</th>\n",
       "      <th>labels</th>\n",
       "    </tr>\n",
       "  </thead>\n",
       "  <tbody>\n",
       "    <tr>\n",
       "      <th>3804</th>\n",
       "      <td>220.0</td>\n",
       "      <td>1.5</td>\n",
       "      <td>0.362</td>\n",
       "      <td>0.5</td>\n",
       "      <td>10.6</td>\n",
       "      <td>0.502</td>\n",
       "      <td>5.3</td>\n",
       "      <td>0.758</td>\n",
       "      <td>5.0</td>\n",
       "      <td>3.8</td>\n",
       "      <td>101.0</td>\n",
       "      <td>15.0</td>\n",
       "      <td>3</td>\n",
       "    </tr>\n",
       "  </tbody>\n",
       "</table>\n",
       "</div>"
      ],
      "text/plain": [
       "      weight  3PA    3P%   3P   FGA    FG%   FG    FT%  FTA   FT      G   PTS  \\\n",
       "3804   220.0  1.5  0.362  0.5  10.6  0.502  5.3  0.758  5.0  3.8  101.0  15.0   \n",
       "\n",
       "      labels  \n",
       "3804       3  "
      ]
     },
     "execution_count": 1005,
     "metadata": {},
     "output_type": "execute_result"
    }
   ],
   "source": [
    "similar1 = scipy.spatial.distance.cdist(pred,pred2[1:2],metric='euclidean')\n",
    "pred[similar1==similar1.min()]"
   ]
  },
  {
   "cell_type": "code",
   "execution_count": 1006,
   "metadata": {
    "scrolled": true
   },
   "outputs": [
    {
     "data": {
      "text/html": [
       "<div>\n",
       "<style scoped>\n",
       "    .dataframe tbody tr th:only-of-type {\n",
       "        vertical-align: middle;\n",
       "    }\n",
       "\n",
       "    .dataframe tbody tr th {\n",
       "        vertical-align: top;\n",
       "    }\n",
       "\n",
       "    .dataframe thead th {\n",
       "        text-align: right;\n",
       "    }\n",
       "</style>\n",
       "<table border=\"1\" class=\"dataframe\">\n",
       "  <thead>\n",
       "    <tr style=\"text-align: right;\">\n",
       "      <th></th>\n",
       "      <th>0</th>\n",
       "    </tr>\n",
       "  </thead>\n",
       "  <tbody>\n",
       "    <tr>\n",
       "      <th>3804</th>\n",
       "      <td>0.00000</td>\n",
       "    </tr>\n",
       "    <tr>\n",
       "      <th>2757</th>\n",
       "      <td>2.88666</td>\n",
       "    </tr>\n",
       "    <tr>\n",
       "      <th>3321</th>\n",
       "      <td>2.88666</td>\n",
       "    </tr>\n",
       "    <tr>\n",
       "      <th>3018</th>\n",
       "      <td>2.88666</td>\n",
       "    </tr>\n",
       "    <tr>\n",
       "      <th>3338</th>\n",
       "      <td>2.88666</td>\n",
       "    </tr>\n",
       "    <tr>\n",
       "      <th>2412</th>\n",
       "      <td>2.88666</td>\n",
       "    </tr>\n",
       "    <tr>\n",
       "      <th>2669</th>\n",
       "      <td>2.88666</td>\n",
       "    </tr>\n",
       "    <tr>\n",
       "      <th>4199</th>\n",
       "      <td>2.88666</td>\n",
       "    </tr>\n",
       "    <tr>\n",
       "      <th>500</th>\n",
       "      <td>2.88666</td>\n",
       "    </tr>\n",
       "    <tr>\n",
       "      <th>3926</th>\n",
       "      <td>2.88666</td>\n",
       "    </tr>\n",
       "    <tr>\n",
       "      <th>1359</th>\n",
       "      <td>2.88666</td>\n",
       "    </tr>\n",
       "    <tr>\n",
       "      <th>1974</th>\n",
       "      <td>2.88666</td>\n",
       "    </tr>\n",
       "    <tr>\n",
       "      <th>3030</th>\n",
       "      <td>2.88666</td>\n",
       "    </tr>\n",
       "    <tr>\n",
       "      <th>371</th>\n",
       "      <td>2.88666</td>\n",
       "    </tr>\n",
       "    <tr>\n",
       "      <th>1923</th>\n",
       "      <td>2.88666</td>\n",
       "    </tr>\n",
       "    <tr>\n",
       "      <th>1638</th>\n",
       "      <td>2.88666</td>\n",
       "    </tr>\n",
       "    <tr>\n",
       "      <th>2024</th>\n",
       "      <td>2.88666</td>\n",
       "    </tr>\n",
       "    <tr>\n",
       "      <th>1911</th>\n",
       "      <td>2.88666</td>\n",
       "    </tr>\n",
       "    <tr>\n",
       "      <th>2866</th>\n",
       "      <td>2.88666</td>\n",
       "    </tr>\n",
       "    <tr>\n",
       "      <th>3761</th>\n",
       "      <td>2.88666</td>\n",
       "    </tr>\n",
       "    <tr>\n",
       "      <th>2062</th>\n",
       "      <td>2.88666</td>\n",
       "    </tr>\n",
       "    <tr>\n",
       "      <th>2852</th>\n",
       "      <td>2.88666</td>\n",
       "    </tr>\n",
       "    <tr>\n",
       "      <th>3277</th>\n",
       "      <td>2.88666</td>\n",
       "    </tr>\n",
       "    <tr>\n",
       "      <th>2183</th>\n",
       "      <td>2.88666</td>\n",
       "    </tr>\n",
       "    <tr>\n",
       "      <th>4050</th>\n",
       "      <td>2.88666</td>\n",
       "    </tr>\n",
       "  </tbody>\n",
       "</table>\n",
       "</div>"
      ],
      "text/plain": [
       "            0\n",
       "3804  0.00000\n",
       "2757  2.88666\n",
       "3321  2.88666\n",
       "3018  2.88666\n",
       "3338  2.88666\n",
       "2412  2.88666\n",
       "2669  2.88666\n",
       "4199  2.88666\n",
       "500   2.88666\n",
       "3926  2.88666\n",
       "1359  2.88666\n",
       "1974  2.88666\n",
       "3030  2.88666\n",
       "371   2.88666\n",
       "1923  2.88666\n",
       "1638  2.88666\n",
       "2024  2.88666\n",
       "1911  2.88666\n",
       "2866  2.88666\n",
       "3761  2.88666\n",
       "2062  2.88666\n",
       "2852  2.88666\n",
       "3277  2.88666\n",
       "2183  2.88666\n",
       "4050  2.88666"
      ]
     },
     "execution_count": 1006,
     "metadata": {},
     "output_type": "execute_result"
    }
   ],
   "source": [
    "a = np.sort(similar1)\n",
    "b = pd.DataFrame(a)\n",
    "b\n",
    "b.sort_values(by=0,ascending=True)[:25]"
   ]
  },
  {
   "cell_type": "code",
   "execution_count": 1007,
   "metadata": {
    "scrolled": true
   },
   "outputs": [
    {
     "data": {
      "text/plain": [
       "Unnamed: 0                         1638\n",
       "college                Davidson College\n",
       "height                              6-8\n",
       "name                        Fred Hetzel\n",
       "position                            F-C\n",
       "url           /players/h/hetzefr01.html\n",
       "weight                              220\n",
       "3PA                                 0.1\n",
       "3P%                               0.288\n",
       "3P                                    0\n",
       "FGA                                 9.6\n",
       "FG%                               0.535\n",
       "FG                                  5.2\n",
       "FT%                               0.679\n",
       "FTA                                 4.2\n",
       "FT                                  2.7\n",
       "G                                   100\n",
       "PTS                                13.5\n",
       "labels                                3\n",
       "Name: 1638, dtype: object"
      ]
     },
     "execution_count": 1007,
     "metadata": {},
     "output_type": "execute_result"
    }
   ],
   "source": [
    "ncaa.loc[1638]"
   ]
  },
  {
   "cell_type": "code",
   "execution_count": 1008,
   "metadata": {},
   "outputs": [],
   "source": [
    "BR.append(scipy.spatial.distance.cdist(nba[nba['Player'] =='Evan Turner'].iloc[:,1:], \n",
    "                                 nba[nba['Player'] =='Brandon Roy'].iloc[:,1:], metric='euclidean'))\n",
    "DN.append(scipy.spatial.distance.cdist(nba[nba['Player'] =='Evan Turner'].iloc[:,1:], \n",
    "                                 nba[nba['Player'] =='Brandon Roy'].iloc[:,1:], metric='euclidean'))\n",
    "My.append(scipy.spatial.distance.cdist(nba[nba['Player'] =='Evan Turner'].iloc[:,1:], \n",
    "                                 nba[nba['Player'] =='Fred Hetzel'].iloc[:,1:], metric='euclidean'))"
   ]
  },
  {
   "cell_type": "code",
   "execution_count": 1009,
   "metadata": {},
   "outputs": [
    {
     "data": {
      "text/plain": [
       "array([[400.7931968]])"
      ]
     },
     "execution_count": 1009,
     "metadata": {},
     "output_type": "execute_result"
    }
   ],
   "source": [
    "scipy.spatial.distance.cdist(nba[nba['Player'] =='Evan Turner'].iloc[:,1:], \n",
    "                                 nba[nba['Player'] =='Brandon Roy'].iloc[:,1:], metric='euclidean')"
   ]
  },
  {
   "cell_type": "code",
   "execution_count": 1010,
   "metadata": {},
   "outputs": [
    {
     "data": {
      "text/plain": [
       "array([[400.7931968]])"
      ]
     },
     "execution_count": 1010,
     "metadata": {},
     "output_type": "execute_result"
    }
   ],
   "source": [
    "scipy.spatial.distance.cdist(nba[nba['Player'] =='Evan Turner'].iloc[:,1:], \n",
    "                                 nba[nba['Player'] =='Brandon Roy'].iloc[:,1:], metric='euclidean')"
   ]
  },
  {
   "cell_type": "code",
   "execution_count": 1011,
   "metadata": {},
   "outputs": [
    {
     "data": {
      "text/plain": [
       "array([[858.78525139]])"
      ]
     },
     "execution_count": 1011,
     "metadata": {},
     "output_type": "execute_result"
    }
   ],
   "source": [
    "scipy.spatial.distance.cdist(nba[nba['Player'] =='Evan Turner'].iloc[:,1:], \n",
    "                                 nba[nba['Player'] =='Fred Hetzel'].iloc[:,1:], metric='euclidean')"
   ]
  },
  {
   "cell_type": "markdown",
   "metadata": {},
   "source": [
    "my model placed last and did poorly for this prediction"
   ]
  },
  {
   "cell_type": "markdown",
   "metadata": {},
   "source": [
    "## Derrick Favours"
   ]
  },
  {
   "cell_type": "code",
   "execution_count": 1012,
   "metadata": {},
   "outputs": [
    {
     "data": {
      "text/html": [
       "<div>\n",
       "<style scoped>\n",
       "    .dataframe tbody tr th:only-of-type {\n",
       "        vertical-align: middle;\n",
       "    }\n",
       "\n",
       "    .dataframe tbody tr th {\n",
       "        vertical-align: top;\n",
       "    }\n",
       "\n",
       "    .dataframe thead th {\n",
       "        text-align: right;\n",
       "    }\n",
       "</style>\n",
       "<table border=\"1\" class=\"dataframe\">\n",
       "  <thead>\n",
       "    <tr style=\"text-align: right;\">\n",
       "      <th></th>\n",
       "      <th>weight</th>\n",
       "      <th>3PA</th>\n",
       "      <th>3P%</th>\n",
       "      <th>3P</th>\n",
       "      <th>FGA</th>\n",
       "      <th>FG%</th>\n",
       "      <th>FG</th>\n",
       "      <th>FT%</th>\n",
       "      <th>FTA</th>\n",
       "      <th>FT</th>\n",
       "      <th>G</th>\n",
       "      <th>PTS</th>\n",
       "      <th>labels</th>\n",
       "    </tr>\n",
       "  </thead>\n",
       "  <tbody>\n",
       "    <tr>\n",
       "      <th>1131</th>\n",
       "      <td>265.0</td>\n",
       "      <td>0.0</td>\n",
       "      <td>0.0</td>\n",
       "      <td>0.0</td>\n",
       "      <td>8.1</td>\n",
       "      <td>0.611</td>\n",
       "      <td>5.0</td>\n",
       "      <td>0.629</td>\n",
       "      <td>4.0</td>\n",
       "      <td>2.5</td>\n",
       "      <td>36.0</td>\n",
       "      <td>12.4</td>\n",
       "      <td>2</td>\n",
       "    </tr>\n",
       "  </tbody>\n",
       "</table>\n",
       "</div>"
      ],
      "text/plain": [
       "      weight  3PA  3P%   3P  FGA    FG%   FG    FT%  FTA   FT     G   PTS  \\\n",
       "1131   265.0  0.0  0.0  0.0  8.1  0.611  5.0  0.629  4.0  2.5  36.0  12.4   \n",
       "\n",
       "      labels  \n",
       "1131       2  "
      ]
     },
     "execution_count": 1012,
     "metadata": {},
     "output_type": "execute_result"
    }
   ],
   "source": [
    "similar1 = scipy.spatial.distance.cdist(pred,pred2[2:3],metric='euclidean')\n",
    "pred[similar1==similar1.min()]"
   ]
  },
  {
   "cell_type": "code",
   "execution_count": 1013,
   "metadata": {},
   "outputs": [
    {
     "data": {
      "text/html": [
       "<div>\n",
       "<style scoped>\n",
       "    .dataframe tbody tr th:only-of-type {\n",
       "        vertical-align: middle;\n",
       "    }\n",
       "\n",
       "    .dataframe tbody tr th {\n",
       "        vertical-align: top;\n",
       "    }\n",
       "\n",
       "    .dataframe thead th {\n",
       "        text-align: right;\n",
       "    }\n",
       "</style>\n",
       "<table border=\"1\" class=\"dataframe\">\n",
       "  <thead>\n",
       "    <tr style=\"text-align: right;\">\n",
       "      <th></th>\n",
       "      <th>0</th>\n",
       "    </tr>\n",
       "  </thead>\n",
       "  <tbody>\n",
       "    <tr>\n",
       "      <th>1131</th>\n",
       "      <td>0.000000</td>\n",
       "    </tr>\n",
       "    <tr>\n",
       "      <th>4023</th>\n",
       "      <td>3.212359</td>\n",
       "    </tr>\n",
       "    <tr>\n",
       "      <th>2123</th>\n",
       "      <td>5.123964</td>\n",
       "    </tr>\n",
       "    <tr>\n",
       "      <th>1988</th>\n",
       "      <td>5.861689</td>\n",
       "    </tr>\n",
       "    <tr>\n",
       "      <th>4016</th>\n",
       "      <td>6.149307</td>\n",
       "    </tr>\n",
       "    <tr>\n",
       "      <th>3089</th>\n",
       "      <td>6.184708</td>\n",
       "    </tr>\n",
       "    <tr>\n",
       "      <th>760</th>\n",
       "      <td>7.275392</td>\n",
       "    </tr>\n",
       "    <tr>\n",
       "      <th>3611</th>\n",
       "      <td>10.120364</td>\n",
       "    </tr>\n",
       "    <tr>\n",
       "      <th>2687</th>\n",
       "      <td>11.486324</td>\n",
       "    </tr>\n",
       "    <tr>\n",
       "      <th>2838</th>\n",
       "      <td>12.024402</td>\n",
       "    </tr>\n",
       "    <tr>\n",
       "      <th>20</th>\n",
       "      <td>12.609469</td>\n",
       "    </tr>\n",
       "    <tr>\n",
       "      <th>841</th>\n",
       "      <td>12.927840</td>\n",
       "    </tr>\n",
       "    <tr>\n",
       "      <th>4153</th>\n",
       "      <td>13.851373</td>\n",
       "    </tr>\n",
       "    <tr>\n",
       "      <th>1190</th>\n",
       "      <td>14.452082</td>\n",
       "    </tr>\n",
       "    <tr>\n",
       "      <th>993</th>\n",
       "      <td>14.530894</td>\n",
       "    </tr>\n",
       "  </tbody>\n",
       "</table>\n",
       "</div>"
      ],
      "text/plain": [
       "              0\n",
       "1131   0.000000\n",
       "4023   3.212359\n",
       "2123   5.123964\n",
       "1988   5.861689\n",
       "4016   6.149307\n",
       "3089   6.184708\n",
       "760    7.275392\n",
       "3611  10.120364\n",
       "2687  11.486324\n",
       "2838  12.024402\n",
       "20    12.609469\n",
       "841   12.927840\n",
       "4153  13.851373\n",
       "1190  14.452082\n",
       "993   14.530894"
      ]
     },
     "execution_count": 1013,
     "metadata": {},
     "output_type": "execute_result"
    }
   ],
   "source": [
    "a = np.sort(similar1)\n",
    "b = pd.DataFrame(a)\n",
    "b\n",
    "b.sort_values(by=0,ascending=True)[:15]"
   ]
  },
  {
   "cell_type": "code",
   "execution_count": 1014,
   "metadata": {
    "scrolled": true
   },
   "outputs": [
    {
     "data": {
      "text/plain": [
       "Unnamed: 0                         3089\n",
       "college       Michigan State University\n",
       "height                              6-9\n",
       "name                      Zach Randolph\n",
       "position                            F-C\n",
       "url           /players/r/randoza01.html\n",
       "weight                              260\n",
       "3PA                                   0\n",
       "3P%                                   0\n",
       "3P                                    0\n",
       "FGA                                 7.1\n",
       "FG%                               0.587\n",
       "FG                                  4.2\n",
       "FT%                               0.635\n",
       "FTA                                 3.8\n",
       "FT                                  2.4\n",
       "G                                    33\n",
       "PTS                                10.8\n",
       "labels                                2\n",
       "Name: 3089, dtype: object"
      ]
     },
     "execution_count": 1014,
     "metadata": {},
     "output_type": "execute_result"
    }
   ],
   "source": [
    "ncaa.loc[3089]"
   ]
  },
  {
   "cell_type": "code",
   "execution_count": 1015,
   "metadata": {},
   "outputs": [],
   "source": [
    "BR.append(scipy.spatial.distance.cdist(nba[nba['Player'] =='Derrick Favors'].iloc[:,1:], \n",
    "                                 nba[nba['Player'] =='Al Jefferson'].iloc[:,1:], metric='euclidean'))\n",
    "DN.append(scipy.spatial.distance.cdist(nba[nba['Player'] =='Derrick Favors'].iloc[:,1:], \n",
    "                                 nba[nba['Player'] =='Al Horford'].iloc[:,1:], metric='euclidean'))\n",
    "My.append(scipy.spatial.distance.cdist(nba[nba['Player'] =='Derrick Favors'].iloc[:,1:], \n",
    "                                 nba[nba['Player'] =='Zach Randolph'].iloc[:,1:], metric='euclidean'))"
   ]
  },
  {
   "cell_type": "code",
   "execution_count": 1016,
   "metadata": {},
   "outputs": [
    {
     "data": {
      "text/plain": [
       "array([[792.12378875]])"
      ]
     },
     "execution_count": 1016,
     "metadata": {},
     "output_type": "execute_result"
    }
   ],
   "source": [
    "scipy.spatial.distance.cdist(nba[nba['Player'] =='Derrick Favors'].iloc[:,1:], \n",
    "                                 nba[nba['Player'] =='Al Jefferson'].iloc[:,1:], metric='euclidean')"
   ]
  },
  {
   "cell_type": "code",
   "execution_count": 1017,
   "metadata": {},
   "outputs": [
    {
     "data": {
      "text/plain": [
       "array([[473.10292347]])"
      ]
     },
     "execution_count": 1017,
     "metadata": {},
     "output_type": "execute_result"
    }
   ],
   "source": [
    "scipy.spatial.distance.cdist(nba[nba['Player'] =='Derrick Favors'].iloc[:,1:], \n",
    "                                 nba[nba['Player'] =='Al Horford'].iloc[:,1:], metric='euclidean')"
   ]
  },
  {
   "cell_type": "code",
   "execution_count": 1018,
   "metadata": {},
   "outputs": [
    {
     "data": {
      "text/plain": [
       "array([[681.26986525]])"
      ]
     },
     "execution_count": 1018,
     "metadata": {},
     "output_type": "execute_result"
    }
   ],
   "source": [
    "scipy.spatial.distance.cdist(nba[nba['Player'] =='Derrick Favors'].iloc[:,1:], \n",
    "                                 nba[nba['Player'] =='Zach Randolph'].iloc[:,1:], metric='euclidean')"
   ]
  },
  {
   "cell_type": "markdown",
   "metadata": {},
   "source": [
    "My model placed 2nd, it performed ok for this player"
   ]
  },
  {
   "cell_type": "markdown",
   "metadata": {},
   "source": [
    "## Wesley Johnson"
   ]
  },
  {
   "cell_type": "code",
   "execution_count": 1019,
   "metadata": {},
   "outputs": [
    {
     "data": {
      "text/html": [
       "<div>\n",
       "<style scoped>\n",
       "    .dataframe tbody tr th:only-of-type {\n",
       "        vertical-align: middle;\n",
       "    }\n",
       "\n",
       "    .dataframe tbody tr th {\n",
       "        vertical-align: top;\n",
       "    }\n",
       "\n",
       "    .dataframe thead th {\n",
       "        text-align: right;\n",
       "    }\n",
       "</style>\n",
       "<table border=\"1\" class=\"dataframe\">\n",
       "  <thead>\n",
       "    <tr style=\"text-align: right;\">\n",
       "      <th></th>\n",
       "      <th>weight</th>\n",
       "      <th>3PA</th>\n",
       "      <th>3P%</th>\n",
       "      <th>3P</th>\n",
       "      <th>FGA</th>\n",
       "      <th>FG%</th>\n",
       "      <th>FG</th>\n",
       "      <th>FT%</th>\n",
       "      <th>FTA</th>\n",
       "      <th>FT</th>\n",
       "      <th>G</th>\n",
       "      <th>PTS</th>\n",
       "      <th>labels</th>\n",
       "    </tr>\n",
       "  </thead>\n",
       "  <tbody>\n",
       "    <tr>\n",
       "      <th>1927</th>\n",
       "      <td>215.0</td>\n",
       "      <td>4.0</td>\n",
       "      <td>0.349</td>\n",
       "      <td>1.4</td>\n",
       "      <td>10.9</td>\n",
       "      <td>0.454</td>\n",
       "      <td>5.0</td>\n",
       "      <td>0.768</td>\n",
       "      <td>3.3</td>\n",
       "      <td>2.6</td>\n",
       "      <td>93.0</td>\n",
       "      <td>13.9</td>\n",
       "      <td>1</td>\n",
       "    </tr>\n",
       "  </tbody>\n",
       "</table>\n",
       "</div>"
      ],
      "text/plain": [
       "      weight  3PA    3P%   3P   FGA    FG%   FG    FT%  FTA   FT     G   PTS  \\\n",
       "1927   215.0  4.0  0.349  1.4  10.9  0.454  5.0  0.768  3.3  2.6  93.0  13.9   \n",
       "\n",
       "      labels  \n",
       "1927       1  "
      ]
     },
     "execution_count": 1019,
     "metadata": {},
     "output_type": "execute_result"
    }
   ],
   "source": [
    "similar1 = scipy.spatial.distance.cdist(pred,pred2[3:4],metric='euclidean')\n",
    "pred[similar1==similar1.min()]"
   ]
  },
  {
   "cell_type": "code",
   "execution_count": 1020,
   "metadata": {},
   "outputs": [
    {
     "data": {
      "text/html": [
       "<div>\n",
       "<style scoped>\n",
       "    .dataframe tbody tr th:only-of-type {\n",
       "        vertical-align: middle;\n",
       "    }\n",
       "\n",
       "    .dataframe tbody tr th {\n",
       "        vertical-align: top;\n",
       "    }\n",
       "\n",
       "    .dataframe thead th {\n",
       "        text-align: right;\n",
       "    }\n",
       "</style>\n",
       "<table border=\"1\" class=\"dataframe\">\n",
       "  <thead>\n",
       "    <tr style=\"text-align: right;\">\n",
       "      <th></th>\n",
       "      <th>0</th>\n",
       "    </tr>\n",
       "  </thead>\n",
       "  <tbody>\n",
       "    <tr>\n",
       "      <th>1927</th>\n",
       "      <td>0.000000</td>\n",
       "    </tr>\n",
       "    <tr>\n",
       "      <th>503</th>\n",
       "      <td>3.636813</td>\n",
       "    </tr>\n",
       "    <tr>\n",
       "      <th>3316</th>\n",
       "      <td>4.400710</td>\n",
       "    </tr>\n",
       "    <tr>\n",
       "      <th>3771</th>\n",
       "      <td>4.873729</td>\n",
       "    </tr>\n",
       "    <tr>\n",
       "      <th>835</th>\n",
       "      <td>4.873729</td>\n",
       "    </tr>\n",
       "    <tr>\n",
       "      <th>1739</th>\n",
       "      <td>4.873729</td>\n",
       "    </tr>\n",
       "    <tr>\n",
       "      <th>1432</th>\n",
       "      <td>4.873729</td>\n",
       "    </tr>\n",
       "    <tr>\n",
       "      <th>2082</th>\n",
       "      <td>4.873729</td>\n",
       "    </tr>\n",
       "    <tr>\n",
       "      <th>3115</th>\n",
       "      <td>4.873729</td>\n",
       "    </tr>\n",
       "    <tr>\n",
       "      <th>922</th>\n",
       "      <td>4.873729</td>\n",
       "    </tr>\n",
       "    <tr>\n",
       "      <th>2790</th>\n",
       "      <td>5.144400</td>\n",
       "    </tr>\n",
       "    <tr>\n",
       "      <th>2613</th>\n",
       "      <td>5.151007</td>\n",
       "    </tr>\n",
       "    <tr>\n",
       "      <th>3025</th>\n",
       "      <td>5.192045</td>\n",
       "    </tr>\n",
       "    <tr>\n",
       "      <th>1939</th>\n",
       "      <td>5.268134</td>\n",
       "    </tr>\n",
       "    <tr>\n",
       "      <th>3438</th>\n",
       "      <td>5.378775</td>\n",
       "    </tr>\n",
       "  </tbody>\n",
       "</table>\n",
       "</div>"
      ],
      "text/plain": [
       "             0\n",
       "1927  0.000000\n",
       "503   3.636813\n",
       "3316  4.400710\n",
       "3771  4.873729\n",
       "835   4.873729\n",
       "1739  4.873729\n",
       "1432  4.873729\n",
       "2082  4.873729\n",
       "3115  4.873729\n",
       "922   4.873729\n",
       "2790  5.144400\n",
       "2613  5.151007\n",
       "3025  5.192045\n",
       "1939  5.268134\n",
       "3438  5.378775"
      ]
     },
     "execution_count": 1020,
     "metadata": {},
     "output_type": "execute_result"
    }
   ],
   "source": [
    "a = np.sort(similar1)\n",
    "b = pd.DataFrame(a)\n",
    "b\n",
    "b.sort_values(by=0,ascending=True)[:15]"
   ]
  },
  {
   "cell_type": "code",
   "execution_count": 1021,
   "metadata": {},
   "outputs": [
    {
     "data": {
      "text/plain": [
       "Unnamed: 0                                          2790\n",
       "college       University of Illinois at Urbana-Champaign\n",
       "height                                               6-8\n",
       "name                                          Ken Norman\n",
       "position                                               F\n",
       "url                            /players/n/normake01.html\n",
       "weight                                               215\n",
       "3PA                                                  0.1\n",
       "3P%                                                 0.25\n",
       "3P                                                     0\n",
       "FGA                                                   10\n",
       "FG%                                                0.609\n",
       "FG                                                   6.1\n",
       "FT%                                                0.736\n",
       "FTA                                                  4.1\n",
       "FT                                                     3\n",
       "G                                                     92\n",
       "PTS                                                 15.1\n",
       "labels                                                 3\n",
       "Name: 2790, dtype: object"
      ]
     },
     "execution_count": 1021,
     "metadata": {},
     "output_type": "execute_result"
    }
   ],
   "source": [
    "ncaa.loc[2790]"
   ]
  },
  {
   "cell_type": "code",
   "execution_count": 1022,
   "metadata": {},
   "outputs": [],
   "source": [
    "BR.append(scipy.spatial.distance.cdist(nba[nba['Player'] =='Wesley Johnson'].iloc[:,1:], \n",
    "                                 nba[nba['Player'] =='Vince Carter'].iloc[:,1:], metric='euclidean'))\n",
    "DN.append(scipy.spatial.distance.cdist(nba[nba['Player'] =='Wesley Johnson'].iloc[:,1:], \n",
    "                                 nba[nba['Player'] =='Eddie Johnson'].iloc[:,1:], metric='euclidean'))\n",
    "My.append(scipy.spatial.distance.cdist(nba[nba['Player'] =='Wesley Johnson'].iloc[:,1:], \n",
    "                                 nba[nba['Player'] =='Ken Norman'].iloc[:,1:], metric='euclidean'))"
   ]
  },
  {
   "cell_type": "code",
   "execution_count": 1023,
   "metadata": {},
   "outputs": [
    {
     "data": {
      "text/plain": [
       "array([[1039.95277085]])"
      ]
     },
     "execution_count": 1023,
     "metadata": {},
     "output_type": "execute_result"
    }
   ],
   "source": [
    "scipy.spatial.distance.cdist(nba[nba['Player'] =='Wesley Johnson'].iloc[:,1:], \n",
    "                                 nba[nba['Player'] =='Vince Carter'].iloc[:,1:], metric='euclidean')"
   ]
  },
  {
   "cell_type": "code",
   "execution_count": 1024,
   "metadata": {},
   "outputs": [
    {
     "data": {
      "text/plain": [
       "array([[822.2043299]])"
      ]
     },
     "execution_count": 1024,
     "metadata": {},
     "output_type": "execute_result"
    }
   ],
   "source": [
    "scipy.spatial.distance.cdist(nba[nba['Player'] =='Wesley Johnson'].iloc[:,1:], \n",
    "                                 nba[nba['Player'] =='Eddie Johnson'].iloc[:,1:], metric='euclidean')"
   ]
  },
  {
   "cell_type": "code",
   "execution_count": 1025,
   "metadata": {},
   "outputs": [
    {
     "data": {
      "text/plain": [
       "array([[724.92073767]])"
      ]
     },
     "execution_count": 1025,
     "metadata": {},
     "output_type": "execute_result"
    }
   ],
   "source": [
    "scipy.spatial.distance.cdist(nba[nba['Player'] =='Wesley Johnson'].iloc[:,1:], \n",
    "                                 nba[nba['Player'] =='Ken Norman'].iloc[:,1:], metric='euclidean')"
   ]
  },
  {
   "cell_type": "markdown",
   "metadata": {},
   "source": [
    "My model placed 1st but not by much"
   ]
  },
  {
   "cell_type": "markdown",
   "metadata": {},
   "source": [
    "## DeMarcus Cousins"
   ]
  },
  {
   "cell_type": "code",
   "execution_count": 1026,
   "metadata": {},
   "outputs": [
    {
     "data": {
      "text/html": [
       "<div>\n",
       "<style scoped>\n",
       "    .dataframe tbody tr th:only-of-type {\n",
       "        vertical-align: middle;\n",
       "    }\n",
       "\n",
       "    .dataframe tbody tr th {\n",
       "        vertical-align: top;\n",
       "    }\n",
       "\n",
       "    .dataframe thead th {\n",
       "        text-align: right;\n",
       "    }\n",
       "</style>\n",
       "<table border=\"1\" class=\"dataframe\">\n",
       "  <thead>\n",
       "    <tr style=\"text-align: right;\">\n",
       "      <th></th>\n",
       "      <th>weight</th>\n",
       "      <th>3PA</th>\n",
       "      <th>3P%</th>\n",
       "      <th>3P</th>\n",
       "      <th>FGA</th>\n",
       "      <th>FG%</th>\n",
       "      <th>FG</th>\n",
       "      <th>FT%</th>\n",
       "      <th>FTA</th>\n",
       "      <th>FT</th>\n",
       "      <th>G</th>\n",
       "      <th>PTS</th>\n",
       "      <th>labels</th>\n",
       "    </tr>\n",
       "  </thead>\n",
       "  <tbody>\n",
       "    <tr>\n",
       "      <th>3693</th>\n",
       "      <td>263.0</td>\n",
       "      <td>0.0</td>\n",
       "      <td>0.25</td>\n",
       "      <td>0.0</td>\n",
       "      <td>5.9</td>\n",
       "      <td>0.611</td>\n",
       "      <td>3.6</td>\n",
       "      <td>0.625</td>\n",
       "      <td>5.0</td>\n",
       "      <td>3.1</td>\n",
       "      <td>100.0</td>\n",
       "      <td>10.3</td>\n",
       "      <td>2</td>\n",
       "    </tr>\n",
       "  </tbody>\n",
       "</table>\n",
       "</div>"
      ],
      "text/plain": [
       "      weight  3PA   3P%   3P  FGA    FG%   FG    FT%  FTA   FT      G   PTS  \\\n",
       "3693   263.0  0.0  0.25  0.0  5.9  0.611  3.6  0.625  5.0  3.1  100.0  10.3   \n",
       "\n",
       "      labels  \n",
       "3693       2  "
      ]
     },
     "execution_count": 1026,
     "metadata": {},
     "output_type": "execute_result"
    }
   ],
   "source": [
    "similar1 = scipy.spatial.distance.cdist(pred,pred2[4:5],metric='euclidean')\n",
    "pred[similar1==similar1.min()]"
   ]
  },
  {
   "cell_type": "code",
   "execution_count": 1027,
   "metadata": {
    "scrolled": true
   },
   "outputs": [
    {
     "data": {
      "text/html": [
       "<div>\n",
       "<style scoped>\n",
       "    .dataframe tbody tr th:only-of-type {\n",
       "        vertical-align: middle;\n",
       "    }\n",
       "\n",
       "    .dataframe tbody tr th {\n",
       "        vertical-align: top;\n",
       "    }\n",
       "\n",
       "    .dataframe thead th {\n",
       "        text-align: right;\n",
       "    }\n",
       "</style>\n",
       "<table border=\"1\" class=\"dataframe\">\n",
       "  <thead>\n",
       "    <tr style=\"text-align: right;\">\n",
       "      <th></th>\n",
       "      <th>0</th>\n",
       "    </tr>\n",
       "  </thead>\n",
       "  <tbody>\n",
       "    <tr>\n",
       "      <th>3693</th>\n",
       "      <td>0.000000</td>\n",
       "    </tr>\n",
       "    <tr>\n",
       "      <th>3680</th>\n",
       "      <td>3.688516</td>\n",
       "    </tr>\n",
       "    <tr>\n",
       "      <th>331</th>\n",
       "      <td>3.688516</td>\n",
       "    </tr>\n",
       "    <tr>\n",
       "      <th>2648</th>\n",
       "      <td>4.313369</td>\n",
       "    </tr>\n",
       "    <tr>\n",
       "      <th>3997</th>\n",
       "      <td>4.313369</td>\n",
       "    </tr>\n",
       "    <tr>\n",
       "      <th>3625</th>\n",
       "      <td>4.677785</td>\n",
       "    </tr>\n",
       "    <tr>\n",
       "      <th>38</th>\n",
       "      <td>5.339636</td>\n",
       "    </tr>\n",
       "    <tr>\n",
       "      <th>1491</th>\n",
       "      <td>6.259332</td>\n",
       "    </tr>\n",
       "    <tr>\n",
       "      <th>366</th>\n",
       "      <td>6.288871</td>\n",
       "    </tr>\n",
       "    <tr>\n",
       "      <th>3677</th>\n",
       "      <td>7.233067</td>\n",
       "    </tr>\n",
       "    <tr>\n",
       "      <th>3314</th>\n",
       "      <td>7.655400</td>\n",
       "    </tr>\n",
       "    <tr>\n",
       "      <th>356</th>\n",
       "      <td>7.772796</td>\n",
       "    </tr>\n",
       "    <tr>\n",
       "      <th>689</th>\n",
       "      <td>7.874323</td>\n",
       "    </tr>\n",
       "    <tr>\n",
       "      <th>3173</th>\n",
       "      <td>7.897794</td>\n",
       "    </tr>\n",
       "    <tr>\n",
       "      <th>2569</th>\n",
       "      <td>8.052265</td>\n",
       "    </tr>\n",
       "  </tbody>\n",
       "</table>\n",
       "</div>"
      ],
      "text/plain": [
       "             0\n",
       "3693  0.000000\n",
       "3680  3.688516\n",
       "331   3.688516\n",
       "2648  4.313369\n",
       "3997  4.313369\n",
       "3625  4.677785\n",
       "38    5.339636\n",
       "1491  6.259332\n",
       "366   6.288871\n",
       "3677  7.233067\n",
       "3314  7.655400\n",
       "356   7.772796\n",
       "689   7.874323\n",
       "3173  7.897794\n",
       "2569  8.052265"
      ]
     },
     "execution_count": 1027,
     "metadata": {},
     "output_type": "execute_result"
    }
   ],
   "source": [
    "a = np.sort(similar1)\n",
    "b = pd.DataFrame(a)\n",
    "b\n",
    "b.sort_values(by=0,ascending=True)[:15]"
   ]
  },
  {
   "cell_type": "code",
   "execution_count": 1028,
   "metadata": {},
   "outputs": [
    {
     "data": {
      "text/plain": [
       "Unnamed: 0                          356\n",
       "college                 Duke University\n",
       "height                              6-9\n",
       "name                      Carlos Boozer\n",
       "position                            F-C\n",
       "url           /players/b/boozeca01.html\n",
       "weight                              258\n",
       "3PA                                   0\n",
       "3P%                                   0\n",
       "3P                                    0\n",
       "FGA                                 8.7\n",
       "FG%                               0.631\n",
       "FG                                  5.5\n",
       "FT%                               0.741\n",
       "FTA                                 5.3\n",
       "FT                                  3.9\n",
       "G                                   101\n",
       "PTS                                14.9\n",
       "labels                                3\n",
       "Name: 356, dtype: object"
      ]
     },
     "execution_count": 1028,
     "metadata": {},
     "output_type": "execute_result"
    }
   ],
   "source": [
    "ncaa.loc[356]"
   ]
  },
  {
   "cell_type": "code",
   "execution_count": 1029,
   "metadata": {},
   "outputs": [],
   "source": [
    "BR.append(scipy.spatial.distance.cdist(nba[nba['Player'] =='DeMarcus Cousins'].iloc[:,1:], \n",
    "                                 nba[nba['Player'] =='Kendrick Perkins'].iloc[:,1:], metric='euclidean'))\n",
    "DN.append(scipy.spatial.distance.cdist(nba[nba['Player'] =='DeMarcus Cousins'].iloc[:,1:], \n",
    "                                 nba[nba['Player'] =='Eddy Curry'].iloc[:,1:], metric='euclidean'))\n",
    "My.append(scipy.spatial.distance.cdist(nba[nba['Player'] =='DeMarcus Cousins'].iloc[:,1:], \n",
    "                                 nba[nba['Player'] =='Carlos Boozer'].iloc[:,1:], metric='euclidean'))"
   ]
  },
  {
   "cell_type": "code",
   "execution_count": 1030,
   "metadata": {},
   "outputs": [
    {
     "data": {
      "text/plain": [
       "array([[1798.73622705]])"
      ]
     },
     "execution_count": 1030,
     "metadata": {},
     "output_type": "execute_result"
    }
   ],
   "source": [
    "scipy.spatial.distance.cdist(nba[nba['Player'] =='DeMarcus Cousins'].iloc[:,1:], \n",
    "                                 nba[nba['Player'] =='Kendrick Perkins'].iloc[:,1:], metric='euclidean')"
   ]
  },
  {
   "cell_type": "code",
   "execution_count": 1031,
   "metadata": {},
   "outputs": [
    {
     "data": {
      "text/plain": [
       "array([[1337.40340436]])"
      ]
     },
     "execution_count": 1031,
     "metadata": {},
     "output_type": "execute_result"
    }
   ],
   "source": [
    "scipy.spatial.distance.cdist(nba[nba['Player'] =='DeMarcus Cousins'].iloc[:,1:], \n",
    "                                 nba[nba['Player'] =='Eddy Curry'].iloc[:,1:], metric='euclidean')"
   ]
  },
  {
   "cell_type": "code",
   "execution_count": 1032,
   "metadata": {
    "scrolled": true
   },
   "outputs": [
    {
     "data": {
      "text/plain": [
       "array([[496.24476199]])"
      ]
     },
     "execution_count": 1032,
     "metadata": {},
     "output_type": "execute_result"
    }
   ],
   "source": [
    "scipy.spatial.distance.cdist(nba[nba['Player'] =='DeMarcus Cousins'].iloc[:,1:], \n",
    "                                 nba[nba['Player'] =='Carlos Boozer'].iloc[:,1:], metric='euclidean')"
   ]
  },
  {
   "cell_type": "markdown",
   "metadata": {},
   "source": [
    "My model placed 1st and did a great job in prediciting this player"
   ]
  },
  {
   "cell_type": "markdown",
   "metadata": {},
   "source": [
    "## Ekpe Udoh"
   ]
  },
  {
   "cell_type": "code",
   "execution_count": 1033,
   "metadata": {},
   "outputs": [
    {
     "data": {
      "text/html": [
       "<div>\n",
       "<style scoped>\n",
       "    .dataframe tbody tr th:only-of-type {\n",
       "        vertical-align: middle;\n",
       "    }\n",
       "\n",
       "    .dataframe tbody tr th {\n",
       "        vertical-align: top;\n",
       "    }\n",
       "\n",
       "    .dataframe thead th {\n",
       "        text-align: right;\n",
       "    }\n",
       "</style>\n",
       "<table border=\"1\" class=\"dataframe\">\n",
       "  <thead>\n",
       "    <tr style=\"text-align: right;\">\n",
       "      <th></th>\n",
       "      <th>weight</th>\n",
       "      <th>3PA</th>\n",
       "      <th>3P%</th>\n",
       "      <th>3P</th>\n",
       "      <th>FGA</th>\n",
       "      <th>FG%</th>\n",
       "      <th>FG</th>\n",
       "      <th>FT%</th>\n",
       "      <th>FTA</th>\n",
       "      <th>FT</th>\n",
       "      <th>G</th>\n",
       "      <th>PTS</th>\n",
       "      <th>labels</th>\n",
       "    </tr>\n",
       "  </thead>\n",
       "  <tbody>\n",
       "    <tr>\n",
       "      <th>760</th>\n",
       "      <td>270.0</td>\n",
       "      <td>0.2</td>\n",
       "      <td>0.167</td>\n",
       "      <td>0.0</td>\n",
       "      <td>9.7</td>\n",
       "      <td>0.558</td>\n",
       "      <td>5.4</td>\n",
       "      <td>0.604</td>\n",
       "      <td>7.1</td>\n",
       "      <td>4.3</td>\n",
       "      <td>38.0</td>\n",
       "      <td>15.1</td>\n",
       "      <td>3</td>\n",
       "    </tr>\n",
       "  </tbody>\n",
       "</table>\n",
       "</div>"
      ],
      "text/plain": [
       "     weight  3PA    3P%   3P  FGA    FG%   FG    FT%  FTA   FT     G   PTS  \\\n",
       "760   270.0  0.2  0.167  0.0  9.7  0.558  5.4  0.604  7.1  4.3  38.0  15.1   \n",
       "\n",
       "     labels  \n",
       "760       3  "
      ]
     },
     "execution_count": 1033,
     "metadata": {},
     "output_type": "execute_result"
    }
   ],
   "source": [
    "similar1 = scipy.spatial.distance.cdist(pred,pred2[5:6],metric='euclidean')\n",
    "pred[similar1==similar1.min()]"
   ]
  },
  {
   "cell_type": "code",
   "execution_count": 1034,
   "metadata": {},
   "outputs": [
    {
     "data": {
      "text/html": [
       "<div>\n",
       "<style scoped>\n",
       "    .dataframe tbody tr th:only-of-type {\n",
       "        vertical-align: middle;\n",
       "    }\n",
       "\n",
       "    .dataframe tbody tr th {\n",
       "        vertical-align: top;\n",
       "    }\n",
       "\n",
       "    .dataframe thead th {\n",
       "        text-align: right;\n",
       "    }\n",
       "</style>\n",
       "<table border=\"1\" class=\"dataframe\">\n",
       "  <thead>\n",
       "    <tr style=\"text-align: right;\">\n",
       "      <th></th>\n",
       "      <th>0</th>\n",
       "    </tr>\n",
       "  </thead>\n",
       "  <tbody>\n",
       "    <tr>\n",
       "      <th>760</th>\n",
       "      <td>0.000000</td>\n",
       "    </tr>\n",
       "    <tr>\n",
       "      <th>4016</th>\n",
       "      <td>4.688216</td>\n",
       "    </tr>\n",
       "    <tr>\n",
       "      <th>2838</th>\n",
       "      <td>6.508694</td>\n",
       "    </tr>\n",
       "    <tr>\n",
       "      <th>4023</th>\n",
       "      <td>7.022742</td>\n",
       "    </tr>\n",
       "    <tr>\n",
       "      <th>1131</th>\n",
       "      <td>7.275392</td>\n",
       "    </tr>\n",
       "    <tr>\n",
       "      <th>2123</th>\n",
       "      <td>7.715011</td>\n",
       "    </tr>\n",
       "    <tr>\n",
       "      <th>1988</th>\n",
       "      <td>11.555876</td>\n",
       "    </tr>\n",
       "    <tr>\n",
       "      <th>2687</th>\n",
       "      <td>11.652738</td>\n",
       "    </tr>\n",
       "    <tr>\n",
       "      <th>993</th>\n",
       "      <td>12.589431</td>\n",
       "    </tr>\n",
       "    <tr>\n",
       "      <th>3089</th>\n",
       "      <td>12.932892</td>\n",
       "    </tr>\n",
       "    <tr>\n",
       "      <th>1190</th>\n",
       "      <td>14.092037</td>\n",
       "    </tr>\n",
       "    <tr>\n",
       "      <th>3611</th>\n",
       "      <td>15.991611</td>\n",
       "    </tr>\n",
       "    <tr>\n",
       "      <th>2290</th>\n",
       "      <td>16.296695</td>\n",
       "    </tr>\n",
       "    <tr>\n",
       "      <th>3190</th>\n",
       "      <td>16.923325</td>\n",
       "    </tr>\n",
       "    <tr>\n",
       "      <th>841</th>\n",
       "      <td>17.323843</td>\n",
       "    </tr>\n",
       "  </tbody>\n",
       "</table>\n",
       "</div>"
      ],
      "text/plain": [
       "              0\n",
       "760    0.000000\n",
       "4016   4.688216\n",
       "2838   6.508694\n",
       "4023   7.022742\n",
       "1131   7.275392\n",
       "2123   7.715011\n",
       "1988  11.555876\n",
       "2687  11.652738\n",
       "993   12.589431\n",
       "3089  12.932892\n",
       "1190  14.092037\n",
       "3611  15.991611\n",
       "2290  16.296695\n",
       "3190  16.923325\n",
       "841   17.323843"
      ]
     },
     "execution_count": 1034,
     "metadata": {},
     "output_type": "execute_result"
    }
   ],
   "source": [
    "a = np.sort(similar1)\n",
    "b = pd.DataFrame(a)\n",
    "b\n",
    "b.sort_values(by=0,ascending=True)[:15]"
   ]
  },
  {
   "cell_type": "code",
   "execution_count": 1035,
   "metadata": {},
   "outputs": [
    {
     "data": {
      "text/plain": [
       "Unnamed: 0                         2123\n",
       "college           Ohio State University\n",
       "height                              7-0\n",
       "name                       Kosta Koufos\n",
       "position                              C\n",
       "url           /players/k/koufoko01.html\n",
       "weight                              265\n",
       "3PA                                 1.7\n",
       "3P%                               0.349\n",
       "3P                                  0.6\n",
       "FGA                                11.8\n",
       "FG%                               0.508\n",
       "FG                                    6\n",
       "FT%                                0.68\n",
       "FTA                                 2.7\n",
       "FT                                  1.8\n",
       "G                                    37\n",
       "PTS                                14.4\n",
       "labels                                3\n",
       "Name: 2123, dtype: object"
      ]
     },
     "execution_count": 1035,
     "metadata": {},
     "output_type": "execute_result"
    }
   ],
   "source": [
    "ncaa.loc[2123]"
   ]
  },
  {
   "cell_type": "code",
   "execution_count": 1036,
   "metadata": {},
   "outputs": [],
   "source": [
    "BR.append(scipy.spatial.distance.cdist(nba[nba['Player'] =='Ekpe Udoh'].iloc[:,1:], \n",
    "                                 nba[nba['Player'] =='Dikembe Mutombo*'].iloc[:,1:], metric='euclidean'))\n",
    "DN.append(scipy.spatial.distance.cdist(nba[nba['Player'] =='Ekpe Udoh'].iloc[:,1:], \n",
    "                                 nba[nba['Player'] =='Jerome Moiso'].iloc[:,1:], metric='euclidean'))\n",
    "My.append(scipy.spatial.distance.cdist(nba[nba['Player'] =='Ekpe Udoh'].iloc[:,1:], \n",
    "                                 nba[nba['Player'] =='Kosta Koufos'].iloc[:,1:], metric='euclidean'))"
   ]
  },
  {
   "cell_type": "code",
   "execution_count": 1037,
   "metadata": {},
   "outputs": [
    {
     "data": {
      "text/plain": [
       "array([[919.23499417]])"
      ]
     },
     "execution_count": 1037,
     "metadata": {},
     "output_type": "execute_result"
    }
   ],
   "source": [
    "scipy.spatial.distance.cdist(nba[nba['Player'] =='Ekpe Udoh'].iloc[:,1:], \n",
    "                                 nba[nba['Player'] =='Dikembe Mutombo*'].iloc[:,1:], metric='euclidean')"
   ]
  },
  {
   "cell_type": "code",
   "execution_count": 1038,
   "metadata": {},
   "outputs": [
    {
     "data": {
      "text/plain": [
       "array([[311.61778512]])"
      ]
     },
     "execution_count": 1038,
     "metadata": {},
     "output_type": "execute_result"
    }
   ],
   "source": [
    "scipy.spatial.distance.cdist(nba[nba['Player'] =='Ekpe Udoh'].iloc[:,1:], \n",
    "                                 nba[nba['Player'] =='Jerome Moiso'].iloc[:,1:], metric='euclidean')"
   ]
  },
  {
   "cell_type": "code",
   "execution_count": 1039,
   "metadata": {},
   "outputs": [
    {
     "data": {
      "text/plain": [
       "array([[230.8945675]])"
      ]
     },
     "execution_count": 1039,
     "metadata": {},
     "output_type": "execute_result"
    }
   ],
   "source": [
    "scipy.spatial.distance.cdist(nba[nba['Player'] =='Ekpe Udoh'].iloc[:,1:], \n",
    "                                 nba[nba['Player'] =='Kosta Koufos'].iloc[:,1:], metric='euclidean')"
   ]
  },
  {
   "cell_type": "markdown",
   "metadata": {},
   "source": [
    "My model placed 1st and did fairly well compared to the other results"
   ]
  },
  {
   "cell_type": "markdown",
   "metadata": {},
   "source": [
    "## Greg Monre"
   ]
  },
  {
   "cell_type": "code",
   "execution_count": 1040,
   "metadata": {},
   "outputs": [
    {
     "data": {
      "text/html": [
       "<div>\n",
       "<style scoped>\n",
       "    .dataframe tbody tr th:only-of-type {\n",
       "        vertical-align: middle;\n",
       "    }\n",
       "\n",
       "    .dataframe tbody tr th {\n",
       "        vertical-align: top;\n",
       "    }\n",
       "\n",
       "    .dataframe thead th {\n",
       "        text-align: right;\n",
       "    }\n",
       "</style>\n",
       "<table border=\"1\" class=\"dataframe\">\n",
       "  <thead>\n",
       "    <tr style=\"text-align: right;\">\n",
       "      <th></th>\n",
       "      <th>weight</th>\n",
       "      <th>3PA</th>\n",
       "      <th>3P%</th>\n",
       "      <th>3P</th>\n",
       "      <th>FGA</th>\n",
       "      <th>FG%</th>\n",
       "      <th>FG</th>\n",
       "      <th>FT%</th>\n",
       "      <th>FTA</th>\n",
       "      <th>FT</th>\n",
       "      <th>G</th>\n",
       "      <th>PTS</th>\n",
       "      <th>labels</th>\n",
       "    </tr>\n",
       "  </thead>\n",
       "  <tbody>\n",
       "    <tr>\n",
       "      <th>3820</th>\n",
       "      <td>240.0</td>\n",
       "      <td>0.4</td>\n",
       "      <td>0.289</td>\n",
       "      <td>0.1</td>\n",
       "      <td>7.0</td>\n",
       "      <td>0.472</td>\n",
       "      <td>3.3</td>\n",
       "      <td>0.649</td>\n",
       "      <td>2.5</td>\n",
       "      <td>1.6</td>\n",
       "      <td>103.0</td>\n",
       "      <td>8.4</td>\n",
       "      <td>2</td>\n",
       "    </tr>\n",
       "  </tbody>\n",
       "</table>\n",
       "</div>"
      ],
      "text/plain": [
       "      weight  3PA    3P%   3P  FGA    FG%   FG    FT%  FTA   FT      G  PTS  \\\n",
       "3820   240.0  0.4  0.289  0.1  7.0  0.472  3.3  0.649  2.5  1.6  103.0  8.4   \n",
       "\n",
       "      labels  \n",
       "3820       2  "
      ]
     },
     "execution_count": 1040,
     "metadata": {},
     "output_type": "execute_result"
    }
   ],
   "source": [
    "similar1 = scipy.spatial.distance.cdist(pred,pred2[6:7],metric='euclidean')\n",
    "pred[similar1==similar1.min()]"
   ]
  },
  {
   "cell_type": "code",
   "execution_count": 1041,
   "metadata": {},
   "outputs": [
    {
     "data": {
      "text/html": [
       "<div>\n",
       "<style scoped>\n",
       "    .dataframe tbody tr th:only-of-type {\n",
       "        vertical-align: middle;\n",
       "    }\n",
       "\n",
       "    .dataframe tbody tr th {\n",
       "        vertical-align: top;\n",
       "    }\n",
       "\n",
       "    .dataframe thead th {\n",
       "        text-align: right;\n",
       "    }\n",
       "</style>\n",
       "<table border=\"1\" class=\"dataframe\">\n",
       "  <thead>\n",
       "    <tr style=\"text-align: right;\">\n",
       "      <th></th>\n",
       "      <th>0</th>\n",
       "    </tr>\n",
       "  </thead>\n",
       "  <tbody>\n",
       "    <tr>\n",
       "      <th>3820</th>\n",
       "      <td>0.000000</td>\n",
       "    </tr>\n",
       "    <tr>\n",
       "      <th>936</th>\n",
       "      <td>1.745665</td>\n",
       "    </tr>\n",
       "    <tr>\n",
       "      <th>422</th>\n",
       "      <td>2.203638</td>\n",
       "    </tr>\n",
       "    <tr>\n",
       "      <th>614</th>\n",
       "      <td>2.540575</td>\n",
       "    </tr>\n",
       "    <tr>\n",
       "      <th>1894</th>\n",
       "      <td>2.783265</td>\n",
       "    </tr>\n",
       "    <tr>\n",
       "      <th>916</th>\n",
       "      <td>2.783265</td>\n",
       "    </tr>\n",
       "    <tr>\n",
       "      <th>1160</th>\n",
       "      <td>2.783265</td>\n",
       "    </tr>\n",
       "    <tr>\n",
       "      <th>551</th>\n",
       "      <td>2.783265</td>\n",
       "    </tr>\n",
       "    <tr>\n",
       "      <th>505</th>\n",
       "      <td>2.783265</td>\n",
       "    </tr>\n",
       "    <tr>\n",
       "      <th>934</th>\n",
       "      <td>2.783265</td>\n",
       "    </tr>\n",
       "    <tr>\n",
       "      <th>2865</th>\n",
       "      <td>2.783265</td>\n",
       "    </tr>\n",
       "    <tr>\n",
       "      <th>2937</th>\n",
       "      <td>2.783265</td>\n",
       "    </tr>\n",
       "    <tr>\n",
       "      <th>1682</th>\n",
       "      <td>2.783265</td>\n",
       "    </tr>\n",
       "    <tr>\n",
       "      <th>3295</th>\n",
       "      <td>2.783265</td>\n",
       "    </tr>\n",
       "    <tr>\n",
       "      <th>2766</th>\n",
       "      <td>2.783265</td>\n",
       "    </tr>\n",
       "  </tbody>\n",
       "</table>\n",
       "</div>"
      ],
      "text/plain": [
       "             0\n",
       "3820  0.000000\n",
       "936   1.745665\n",
       "422   2.203638\n",
       "614   2.540575\n",
       "1894  2.783265\n",
       "916   2.783265\n",
       "1160  2.783265\n",
       "551   2.783265\n",
       "505   2.783265\n",
       "934   2.783265\n",
       "2865  2.783265\n",
       "2937  2.783265\n",
       "1682  2.783265\n",
       "3295  2.783265\n",
       "2766  2.783265"
      ]
     },
     "execution_count": 1041,
     "metadata": {},
     "output_type": "execute_result"
    }
   ],
   "source": [
    "a = np.sort(similar1)\n",
    "b = pd.DataFrame(a)\n",
    "b\n",
    "b.sort_values(by=0,ascending=True)[:15]"
   ]
  },
  {
   "cell_type": "code",
   "execution_count": 1042,
   "metadata": {},
   "outputs": [
    {
     "data": {
      "text/plain": [
       "Unnamed: 0                              422\n",
       "college       Pennsylvania State University\n",
       "height                                  6-9\n",
       "name                       Frank Brickowski\n",
       "position                                F-C\n",
       "url               /players/b/brickfr01.html\n",
       "weight                                  240\n",
       "3PA                                     0.1\n",
       "3P%                                   0.288\n",
       "3P                                        0\n",
       "FGA                                     6.2\n",
       "FG%                                   0.538\n",
       "FG                                      3.3\n",
       "FT%                                   0.757\n",
       "FTA                                     2.5\n",
       "FT                                      1.9\n",
       "G                                       101\n",
       "PTS                                     8.5\n",
       "labels                                    2\n",
       "Name: 422, dtype: object"
      ]
     },
     "execution_count": 1042,
     "metadata": {},
     "output_type": "execute_result"
    }
   ],
   "source": [
    "ncaa.loc[422]"
   ]
  },
  {
   "cell_type": "code",
   "execution_count": 1043,
   "metadata": {},
   "outputs": [],
   "source": [
    "BR.append(scipy.spatial.distance.cdist(nba[nba['Player'] =='Greg Monroe'].iloc[:,1:], \n",
    "                                 nba[nba['Player'] =='Chris Webber'].iloc[:,1:], metric='euclidean'))\n",
    "DN.append(scipy.spatial.distance.cdist(nba[nba['Player'] =='Greg Monroe'].iloc[:,1:], \n",
    "                                 nba[nba['Player'] =='Lamar Odom'].iloc[:,1:], metric='euclidean'))\n",
    "My.append(scipy.spatial.distance.cdist(nba[nba['Player'] =='Greg Monroe'].iloc[:,1:], \n",
    "                                 nba[nba['Player'] =='Frank Brickowski'].iloc[:,1:], metric='euclidean'))"
   ]
  },
  {
   "cell_type": "code",
   "execution_count": 1044,
   "metadata": {},
   "outputs": [
    {
     "data": {
      "text/plain": [
       "array([[279.93692004]])"
      ]
     },
     "execution_count": 1044,
     "metadata": {},
     "output_type": "execute_result"
    }
   ],
   "source": [
    "scipy.spatial.distance.cdist(nba[nba['Player'] =='Greg Monroe'].iloc[:,1:], \n",
    "                                 nba[nba['Player'] =='Chris Webber'].iloc[:,1:], metric='euclidean')"
   ]
  },
  {
   "cell_type": "code",
   "execution_count": 1045,
   "metadata": {},
   "outputs": [
    {
     "data": {
      "text/plain": [
       "array([[431.73190292]])"
      ]
     },
     "execution_count": 1045,
     "metadata": {},
     "output_type": "execute_result"
    }
   ],
   "source": [
    "scipy.spatial.distance.cdist(nba[nba['Player'] =='Greg Monroe'].iloc[:,1:], \n",
    "                                 nba[nba['Player'] =='Lamar Odom'].iloc[:,1:], metric='euclidean')"
   ]
  },
  {
   "cell_type": "code",
   "execution_count": 1046,
   "metadata": {},
   "outputs": [
    {
     "data": {
      "text/plain": [
       "array([[1070.74495474]])"
      ]
     },
     "execution_count": 1046,
     "metadata": {},
     "output_type": "execute_result"
    }
   ],
   "source": [
    "scipy.spatial.distance.cdist(nba[nba['Player'] =='Greg Monroe'].iloc[:,1:], \n",
    "                                 nba[nba['Player'] =='Frank Brickowski'].iloc[:,1:], metric='euclidean')"
   ]
  },
  {
   "cell_type": "markdown",
   "metadata": {},
   "source": [
    "My model was to off and placed last for comparing this player"
   ]
  },
  {
   "cell_type": "markdown",
   "metadata": {},
   "source": [
    "## Al-Farouq Aminu"
   ]
  },
  {
   "cell_type": "code",
   "execution_count": 1047,
   "metadata": {},
   "outputs": [
    {
     "data": {
      "text/html": [
       "<div>\n",
       "<style scoped>\n",
       "    .dataframe tbody tr th:only-of-type {\n",
       "        vertical-align: middle;\n",
       "    }\n",
       "\n",
       "    .dataframe tbody tr th {\n",
       "        vertical-align: top;\n",
       "    }\n",
       "\n",
       "    .dataframe thead th {\n",
       "        text-align: right;\n",
       "    }\n",
       "</style>\n",
       "<table border=\"1\" class=\"dataframe\">\n",
       "  <thead>\n",
       "    <tr style=\"text-align: right;\">\n",
       "      <th></th>\n",
       "      <th>weight</th>\n",
       "      <th>3PA</th>\n",
       "      <th>3P%</th>\n",
       "      <th>3P</th>\n",
       "      <th>FGA</th>\n",
       "      <th>FG%</th>\n",
       "      <th>FG</th>\n",
       "      <th>FT%</th>\n",
       "      <th>FTA</th>\n",
       "      <th>FT</th>\n",
       "      <th>G</th>\n",
       "      <th>PTS</th>\n",
       "      <th>labels</th>\n",
       "    </tr>\n",
       "  </thead>\n",
       "  <tbody>\n",
       "    <tr>\n",
       "      <th>2632</th>\n",
       "      <td>265.0</td>\n",
       "      <td>0.5</td>\n",
       "      <td>0.273</td>\n",
       "      <td>0.1</td>\n",
       "      <td>9.8</td>\n",
       "      <td>0.543</td>\n",
       "      <td>5.3</td>\n",
       "      <td>0.677</td>\n",
       "      <td>5.5</td>\n",
       "      <td>3.7</td>\n",
       "      <td>65.0</td>\n",
       "      <td>14.5</td>\n",
       "      <td>3</td>\n",
       "    </tr>\n",
       "  </tbody>\n",
       "</table>\n",
       "</div>"
      ],
      "text/plain": [
       "      weight  3PA    3P%   3P  FGA    FG%   FG    FT%  FTA   FT     G   PTS  \\\n",
       "2632   265.0  0.5  0.273  0.1  9.8  0.543  5.3  0.677  5.5  3.7  65.0  14.5   \n",
       "\n",
       "      labels  \n",
       "2632       3  "
      ]
     },
     "execution_count": 1047,
     "metadata": {},
     "output_type": "execute_result"
    }
   ],
   "source": [
    "similar1 = scipy.spatial.distance.cdist(pred,pred2[7:8],metric='euclidean')\n",
    "pred[similar1==similar1.min()]"
   ]
  },
  {
   "cell_type": "code",
   "execution_count": 1048,
   "metadata": {},
   "outputs": [
    {
     "data": {
      "text/html": [
       "<div>\n",
       "<style scoped>\n",
       "    .dataframe tbody tr th:only-of-type {\n",
       "        vertical-align: middle;\n",
       "    }\n",
       "\n",
       "    .dataframe tbody tr th {\n",
       "        vertical-align: top;\n",
       "    }\n",
       "\n",
       "    .dataframe thead th {\n",
       "        text-align: right;\n",
       "    }\n",
       "</style>\n",
       "<table border=\"1\" class=\"dataframe\">\n",
       "  <thead>\n",
       "    <tr style=\"text-align: right;\">\n",
       "      <th></th>\n",
       "      <th>0</th>\n",
       "    </tr>\n",
       "  </thead>\n",
       "  <tbody>\n",
       "    <tr>\n",
       "      <th>2632</th>\n",
       "      <td>0.000000</td>\n",
       "    </tr>\n",
       "    <tr>\n",
       "      <th>833</th>\n",
       "      <td>5.136383</td>\n",
       "    </tr>\n",
       "    <tr>\n",
       "      <th>4091</th>\n",
       "      <td>5.343009</td>\n",
       "    </tr>\n",
       "    <tr>\n",
       "      <th>3659</th>\n",
       "      <td>6.300559</td>\n",
       "    </tr>\n",
       "    <tr>\n",
       "      <th>334</th>\n",
       "      <td>6.497796</td>\n",
       "    </tr>\n",
       "    <tr>\n",
       "      <th>2974</th>\n",
       "      <td>6.881402</td>\n",
       "    </tr>\n",
       "    <tr>\n",
       "      <th>3304</th>\n",
       "      <td>7.252221</td>\n",
       "    </tr>\n",
       "    <tr>\n",
       "      <th>4186</th>\n",
       "      <td>7.928056</td>\n",
       "    </tr>\n",
       "    <tr>\n",
       "      <th>312</th>\n",
       "      <td>8.808792</td>\n",
       "    </tr>\n",
       "    <tr>\n",
       "      <th>3563</th>\n",
       "      <td>9.092527</td>\n",
       "    </tr>\n",
       "    <tr>\n",
       "      <th>2485</th>\n",
       "      <td>9.379950</td>\n",
       "    </tr>\n",
       "    <tr>\n",
       "      <th>2227</th>\n",
       "      <td>9.557534</td>\n",
       "    </tr>\n",
       "    <tr>\n",
       "      <th>137</th>\n",
       "      <td>10.825266</td>\n",
       "    </tr>\n",
       "    <tr>\n",
       "      <th>4205</th>\n",
       "      <td>11.196520</td>\n",
       "    </tr>\n",
       "    <tr>\n",
       "      <th>3634</th>\n",
       "      <td>11.372852</td>\n",
       "    </tr>\n",
       "  </tbody>\n",
       "</table>\n",
       "</div>"
      ],
      "text/plain": [
       "              0\n",
       "2632   0.000000\n",
       "833    5.136383\n",
       "4091   5.343009\n",
       "3659   6.300559\n",
       "334    6.497796\n",
       "2974   6.881402\n",
       "3304   7.252221\n",
       "4186   7.928056\n",
       "312    8.808792\n",
       "3563   9.092527\n",
       "2485   9.379950\n",
       "2227   9.557534\n",
       "137   10.825266\n",
       "4205  11.196520\n",
       "3634  11.372852"
      ]
     },
     "execution_count": 1048,
     "metadata": {},
     "output_type": "execute_result"
    }
   ],
   "source": [
    "a = np.sort(similar1)\n",
    "b = pd.DataFrame(a)\n",
    "b\n",
    "b.sort_values(by=0,ascending=True)[:15]"
   ]
  },
  {
   "cell_type": "code",
   "execution_count": 1049,
   "metadata": {},
   "outputs": [
    {
     "data": {
      "text/plain": [
       "Unnamed: 0                          137\n",
       "college        Arizona State University\n",
       "height                             6-10\n",
       "name                       Isaac Austin\n",
       "position                              C\n",
       "url           /players/a/austiis01.html\n",
       "weight                              255\n",
       "3PA                                   0\n",
       "3P%                                   0\n",
       "3P                                    0\n",
       "FGA                                10.3\n",
       "FG%                               0.559\n",
       "FG                                  5.8\n",
       "FT%                               0.637\n",
       "FTA                                 5.4\n",
       "FT                                  3.4\n",
       "G                                    61\n",
       "PTS                                  15\n",
       "labels                                3\n",
       "Name: 137, dtype: object"
      ]
     },
     "execution_count": 1049,
     "metadata": {},
     "output_type": "execute_result"
    }
   ],
   "source": [
    "ncaa.loc[137]"
   ]
  },
  {
   "cell_type": "code",
   "execution_count": 1050,
   "metadata": {},
   "outputs": [],
   "source": [
    "BR.append(scipy.spatial.distance.cdist(nba[nba['Player'] =='Al-Farouq Aminu'].iloc[:,1:], \n",
    "                                 nba[nba['Player'] =='DeJuan Blair'].iloc[:,1:], metric='euclidean'))\n",
    "DN.append(scipy.spatial.distance.cdist(nba[nba['Player'] =='Al-Farouq Aminu'].iloc[:,1:], \n",
    "                                 nba[nba['Player'] =='Marvin Williams'].iloc[:,1:], metric='euclidean'))\n",
    "My.append(scipy.spatial.distance.cdist(nba[nba['Player'] =='Al-Farouq Aminu'].iloc[:,1:], \n",
    "                                 nba[nba['Player'] =='Isaac Austin'].iloc[:,1:], metric='euclidean'))"
   ]
  },
  {
   "cell_type": "code",
   "execution_count": 1051,
   "metadata": {},
   "outputs": [
    {
     "data": {
      "text/plain": [
       "array([[300.09982606]])"
      ]
     },
     "execution_count": 1051,
     "metadata": {},
     "output_type": "execute_result"
    }
   ],
   "source": [
    "scipy.spatial.distance.cdist(nba[nba['Player'] =='Al-Farouq Aminu'].iloc[:,1:], \n",
    "                                 nba[nba['Player'] =='DeJuan Blair'].iloc[:,1:], metric='euclidean')"
   ]
  },
  {
   "cell_type": "code",
   "execution_count": 1052,
   "metadata": {},
   "outputs": [
    {
     "data": {
      "text/plain": [
       "array([[322.1324102]])"
      ]
     },
     "execution_count": 1052,
     "metadata": {},
     "output_type": "execute_result"
    }
   ],
   "source": [
    "scipy.spatial.distance.cdist(nba[nba['Player'] =='Al-Farouq Aminu'].iloc[:,1:], \n",
    "                                 nba[nba['Player'] =='Marvin Williams'].iloc[:,1:], metric='euclidean')"
   ]
  },
  {
   "cell_type": "code",
   "execution_count": 1053,
   "metadata": {},
   "outputs": [
    {
     "data": {
      "text/plain": [
       "array([[348.05375203]])"
      ]
     },
     "execution_count": 1053,
     "metadata": {},
     "output_type": "execute_result"
    }
   ],
   "source": [
    "scipy.spatial.distance.cdist(nba[nba['Player'] =='Al-Farouq Aminu'].iloc[:,1:], \n",
    "                                 nba[nba['Player'] =='Isaac Austin'].iloc[:,1:], metric='euclidean')"
   ]
  },
  {
   "cell_type": "markdown",
   "metadata": {},
   "source": [
    "My model placed last BUT it was very close to 2nd so by this standard it is a good comparison"
   ]
  },
  {
   "cell_type": "markdown",
   "metadata": {},
   "source": [
    "## Gordon Hayward"
   ]
  },
  {
   "cell_type": "code",
   "execution_count": 1054,
   "metadata": {},
   "outputs": [
    {
     "data": {
      "text/html": [
       "<div>\n",
       "<style scoped>\n",
       "    .dataframe tbody tr th:only-of-type {\n",
       "        vertical-align: middle;\n",
       "    }\n",
       "\n",
       "    .dataframe tbody tr th {\n",
       "        vertical-align: top;\n",
       "    }\n",
       "\n",
       "    .dataframe thead th {\n",
       "        text-align: right;\n",
       "    }\n",
       "</style>\n",
       "<table border=\"1\" class=\"dataframe\">\n",
       "  <thead>\n",
       "    <tr style=\"text-align: right;\">\n",
       "      <th></th>\n",
       "      <th>weight</th>\n",
       "      <th>3PA</th>\n",
       "      <th>3P%</th>\n",
       "      <th>3P</th>\n",
       "      <th>FGA</th>\n",
       "      <th>FG%</th>\n",
       "      <th>FG</th>\n",
       "      <th>FT%</th>\n",
       "      <th>FTA</th>\n",
       "      <th>FT</th>\n",
       "      <th>G</th>\n",
       "      <th>PTS</th>\n",
       "      <th>labels</th>\n",
       "    </tr>\n",
       "  </thead>\n",
       "  <tbody>\n",
       "    <tr>\n",
       "      <th>66</th>\n",
       "      <td>220.0</td>\n",
       "      <td>1.7</td>\n",
       "      <td>0.238</td>\n",
       "      <td>0.4</td>\n",
       "      <td>10.6</td>\n",
       "      <td>0.476</td>\n",
       "      <td>5.0</td>\n",
       "      <td>0.687</td>\n",
       "      <td>5.7</td>\n",
       "      <td>3.9</td>\n",
       "      <td>62.0</td>\n",
       "      <td>14.4</td>\n",
       "      <td>3</td>\n",
       "    </tr>\n",
       "  </tbody>\n",
       "</table>\n",
       "</div>"
      ],
      "text/plain": [
       "    weight  3PA    3P%   3P   FGA    FG%   FG    FT%  FTA   FT     G   PTS  \\\n",
       "66   220.0  1.7  0.238  0.4  10.6  0.476  5.0  0.687  5.7  3.9  62.0  14.4   \n",
       "\n",
       "    labels  \n",
       "66       3  "
      ]
     },
     "execution_count": 1054,
     "metadata": {},
     "output_type": "execute_result"
    }
   ],
   "source": [
    "similar1 = scipy.spatial.distance.cdist(pred,pred2[8:9],metric='euclidean')\n",
    "pred[similar1==similar1.min()]"
   ]
  },
  {
   "cell_type": "code",
   "execution_count": 1055,
   "metadata": {},
   "outputs": [
    {
     "data": {
      "text/html": [
       "<div>\n",
       "<style scoped>\n",
       "    .dataframe tbody tr th:only-of-type {\n",
       "        vertical-align: middle;\n",
       "    }\n",
       "\n",
       "    .dataframe tbody tr th {\n",
       "        vertical-align: top;\n",
       "    }\n",
       "\n",
       "    .dataframe thead th {\n",
       "        text-align: right;\n",
       "    }\n",
       "</style>\n",
       "<table border=\"1\" class=\"dataframe\">\n",
       "  <thead>\n",
       "    <tr style=\"text-align: right;\">\n",
       "      <th></th>\n",
       "      <th>0</th>\n",
       "    </tr>\n",
       "  </thead>\n",
       "  <tbody>\n",
       "    <tr>\n",
       "      <th>66</th>\n",
       "      <td>0.000000</td>\n",
       "    </tr>\n",
       "    <tr>\n",
       "      <th>3871</th>\n",
       "      <td>3.022130</td>\n",
       "    </tr>\n",
       "    <tr>\n",
       "      <th>2329</th>\n",
       "      <td>3.066455</td>\n",
       "    </tr>\n",
       "    <tr>\n",
       "      <th>3068</th>\n",
       "      <td>4.026699</td>\n",
       "    </tr>\n",
       "    <tr>\n",
       "      <th>1305</th>\n",
       "      <td>4.678596</td>\n",
       "    </tr>\n",
       "    <tr>\n",
       "      <th>2479</th>\n",
       "      <td>4.945072</td>\n",
       "    </tr>\n",
       "    <tr>\n",
       "      <th>4075</th>\n",
       "      <td>5.068831</td>\n",
       "    </tr>\n",
       "    <tr>\n",
       "      <th>2590</th>\n",
       "      <td>5.161633</td>\n",
       "    </tr>\n",
       "    <tr>\n",
       "      <th>3458</th>\n",
       "      <td>5.294923</td>\n",
       "    </tr>\n",
       "    <tr>\n",
       "      <th>3477</th>\n",
       "      <td>5.837920</td>\n",
       "    </tr>\n",
       "    <tr>\n",
       "      <th>1284</th>\n",
       "      <td>5.972789</td>\n",
       "    </tr>\n",
       "    <tr>\n",
       "      <th>1969</th>\n",
       "      <td>6.016716</td>\n",
       "    </tr>\n",
       "    <tr>\n",
       "      <th>4172</th>\n",
       "      <td>6.094598</td>\n",
       "    </tr>\n",
       "    <tr>\n",
       "      <th>4204</th>\n",
       "      <td>6.130658</td>\n",
       "    </tr>\n",
       "    <tr>\n",
       "      <th>1963</th>\n",
       "      <td>6.145534</td>\n",
       "    </tr>\n",
       "  </tbody>\n",
       "</table>\n",
       "</div>"
      ],
      "text/plain": [
       "             0\n",
       "66    0.000000\n",
       "3871  3.022130\n",
       "2329  3.066455\n",
       "3068  4.026699\n",
       "1305  4.678596\n",
       "2479  4.945072\n",
       "4075  5.068831\n",
       "2590  5.161633\n",
       "3458  5.294923\n",
       "3477  5.837920\n",
       "1284  5.972789\n",
       "1969  6.016716\n",
       "4172  6.094598\n",
       "4204  6.130658\n",
       "1963  6.145534"
      ]
     },
     "execution_count": 1055,
     "metadata": {},
     "output_type": "execute_result"
    }
   ],
   "source": [
    "a = np.sort(similar1)\n",
    "b = pd.DataFrame(a)\n",
    "b\n",
    "b.sort_values(by=0,ascending=True)[:15]"
   ]
  },
  {
   "cell_type": "code",
   "execution_count": 1056,
   "metadata": {},
   "outputs": [
    {
     "data": {
      "text/plain": [
       "Unnamed: 0                         2590\n",
       "college           University of Florida\n",
       "height                              6-8\n",
       "name                        Mike Miller\n",
       "position                            F-G\n",
       "url           /players/m/millemi01.html\n",
       "weight                              218\n",
       "3PA                                 3.5\n",
       "3P%                               0.345\n",
       "3P                                  1.2\n",
       "FGA                                 9.2\n",
       "FG%                               0.483\n",
       "FG                                  4.5\n",
       "FT%                               0.718\n",
       "FTA                                 4.4\n",
       "FT                                  3.1\n",
       "G                                    65\n",
       "PTS                                13.3\n",
       "labels                                1\n",
       "Name: 2590, dtype: object"
      ]
     },
     "execution_count": 1056,
     "metadata": {},
     "output_type": "execute_result"
    }
   ],
   "source": [
    "ncaa.loc[2590]"
   ]
  },
  {
   "cell_type": "code",
   "execution_count": 1057,
   "metadata": {},
   "outputs": [],
   "source": [
    "BR.append(scipy.spatial.distance.cdist(nba[nba['Player'] =='Gordon Hayward'].iloc[:,1:], \n",
    "                                 nba[nba['Player'] =='Stephen Jackson'].iloc[:,1:], metric='euclidean'))\n",
    "DN.append(scipy.spatial.distance.cdist(nba[nba['Player'] =='Gordon Hayward'].iloc[:,1:], \n",
    "                                 nba[nba['Player'] =='Luke Jackson'].iloc[:,1:], metric='euclidean'))\n",
    "My.append(scipy.spatial.distance.cdist(nba[nba['Player'] =='Gordon Hayward'].iloc[:,1:], \n",
    "                                 nba[nba['Player'] =='Mike Miller'].iloc[:,1:], metric='euclidean'))"
   ]
  },
  {
   "cell_type": "code",
   "execution_count": 1058,
   "metadata": {},
   "outputs": [
    {
     "data": {
      "text/plain": [
       "array([[496.81513151]])"
      ]
     },
     "execution_count": 1058,
     "metadata": {},
     "output_type": "execute_result"
    }
   ],
   "source": [
    "scipy.spatial.distance.cdist(nba[nba['Player'] =='Gordon Hayward'].iloc[:,1:], \n",
    "                                 nba[nba['Player'] =='Stephen Jackson'].iloc[:,1:], metric='euclidean')"
   ]
  },
  {
   "cell_type": "code",
   "execution_count": 1059,
   "metadata": {},
   "outputs": [
    {
     "data": {
      "text/plain": [
       "array([[1520.22319539]])"
      ]
     },
     "execution_count": 1059,
     "metadata": {},
     "output_type": "execute_result"
    }
   ],
   "source": [
    "scipy.spatial.distance.cdist(nba[nba['Player'] =='Gordon Hayward'].iloc[:,1:], \n",
    "                                 nba[nba['Player'] =='Luke Jackson'].iloc[:,1:], metric='euclidean')"
   ]
  },
  {
   "cell_type": "code",
   "execution_count": 1060,
   "metadata": {},
   "outputs": [
    {
     "data": {
      "text/plain": [
       "array([[826.04971588]])"
      ]
     },
     "execution_count": 1060,
     "metadata": {},
     "output_type": "execute_result"
    }
   ],
   "source": [
    "scipy.spatial.distance.cdist(nba[nba['Player'] =='Gordon Hayward'].iloc[:,1:], \n",
    "                                 nba[nba['Player'] =='Mike Miller'].iloc[:,1:], metric='euclidean')"
   ]
  },
  {
   "cell_type": "markdown",
   "metadata": {},
   "source": [
    "My model placed 2nd out beating draft net by a huge margin but being trumped by bleacher report"
   ]
  },
  {
   "cell_type": "markdown",
   "metadata": {},
   "source": [
    "## Paul George"
   ]
  },
  {
   "cell_type": "code",
   "execution_count": 1061,
   "metadata": {},
   "outputs": [
    {
     "data": {
      "text/html": [
       "<div>\n",
       "<style scoped>\n",
       "    .dataframe tbody tr th:only-of-type {\n",
       "        vertical-align: middle;\n",
       "    }\n",
       "\n",
       "    .dataframe tbody tr th {\n",
       "        vertical-align: top;\n",
       "    }\n",
       "\n",
       "    .dataframe thead th {\n",
       "        text-align: right;\n",
       "    }\n",
       "</style>\n",
       "<table border=\"1\" class=\"dataframe\">\n",
       "  <thead>\n",
       "    <tr style=\"text-align: right;\">\n",
       "      <th></th>\n",
       "      <th>weight</th>\n",
       "      <th>3PA</th>\n",
       "      <th>3P%</th>\n",
       "      <th>3P</th>\n",
       "      <th>FGA</th>\n",
       "      <th>FG%</th>\n",
       "      <th>FG</th>\n",
       "      <th>FT%</th>\n",
       "      <th>FTA</th>\n",
       "      <th>FT</th>\n",
       "      <th>G</th>\n",
       "      <th>PTS</th>\n",
       "      <th>labels</th>\n",
       "    </tr>\n",
       "  </thead>\n",
       "  <tbody>\n",
       "    <tr>\n",
       "      <th>1305</th>\n",
       "      <td>220.0</td>\n",
       "      <td>4.9</td>\n",
       "      <td>0.396</td>\n",
       "      <td>1.9</td>\n",
       "      <td>11.4</td>\n",
       "      <td>0.447</td>\n",
       "      <td>5.1</td>\n",
       "      <td>0.803</td>\n",
       "      <td>4.2</td>\n",
       "      <td>3.4</td>\n",
       "      <td>63.0</td>\n",
       "      <td>15.5</td>\n",
       "      <td>1</td>\n",
       "    </tr>\n",
       "  </tbody>\n",
       "</table>\n",
       "</div>"
      ],
      "text/plain": [
       "      weight  3PA    3P%   3P   FGA    FG%   FG    FT%  FTA   FT     G   PTS  \\\n",
       "1305   220.0  4.9  0.396  1.9  11.4  0.447  5.1  0.803  4.2  3.4  63.0  15.5   \n",
       "\n",
       "      labels  \n",
       "1305       1  "
      ]
     },
     "execution_count": 1061,
     "metadata": {},
     "output_type": "execute_result"
    }
   ],
   "source": [
    "similar1 = scipy.spatial.distance.cdist(pred,pred2[9:10],metric='euclidean')\n",
    "pred[similar1==similar1.min()]"
   ]
  },
  {
   "cell_type": "code",
   "execution_count": 1062,
   "metadata": {},
   "outputs": [
    {
     "data": {
      "text/html": [
       "<div>\n",
       "<style scoped>\n",
       "    .dataframe tbody tr th:only-of-type {\n",
       "        vertical-align: middle;\n",
       "    }\n",
       "\n",
       "    .dataframe tbody tr th {\n",
       "        vertical-align: top;\n",
       "    }\n",
       "\n",
       "    .dataframe thead th {\n",
       "        text-align: right;\n",
       "    }\n",
       "</style>\n",
       "<table border=\"1\" class=\"dataframe\">\n",
       "  <thead>\n",
       "    <tr style=\"text-align: right;\">\n",
       "      <th></th>\n",
       "      <th>0</th>\n",
       "    </tr>\n",
       "  </thead>\n",
       "  <tbody>\n",
       "    <tr>\n",
       "      <th>1305</th>\n",
       "      <td>0.000000</td>\n",
       "    </tr>\n",
       "    <tr>\n",
       "      <th>1963</th>\n",
       "      <td>3.768917</td>\n",
       "    </tr>\n",
       "    <tr>\n",
       "      <th>3477</th>\n",
       "      <td>4.227773</td>\n",
       "    </tr>\n",
       "    <tr>\n",
       "      <th>2329</th>\n",
       "      <td>4.256035</td>\n",
       "    </tr>\n",
       "    <tr>\n",
       "      <th>2590</th>\n",
       "      <td>4.542149</td>\n",
       "    </tr>\n",
       "    <tr>\n",
       "      <th>66</th>\n",
       "      <td>4.678596</td>\n",
       "    </tr>\n",
       "    <tr>\n",
       "      <th>3154</th>\n",
       "      <td>5.023585</td>\n",
       "    </tr>\n",
       "    <tr>\n",
       "      <th>4075</th>\n",
       "      <td>5.989085</td>\n",
       "    </tr>\n",
       "    <tr>\n",
       "      <th>460</th>\n",
       "      <td>6.023336</td>\n",
       "    </tr>\n",
       "    <tr>\n",
       "      <th>3871</th>\n",
       "      <td>6.278436</td>\n",
       "    </tr>\n",
       "    <tr>\n",
       "      <th>2755</th>\n",
       "      <td>6.532153</td>\n",
       "    </tr>\n",
       "    <tr>\n",
       "      <th>3068</th>\n",
       "      <td>6.751174</td>\n",
       "    </tr>\n",
       "    <tr>\n",
       "      <th>150</th>\n",
       "      <td>6.892892</td>\n",
       "    </tr>\n",
       "    <tr>\n",
       "      <th>1908</th>\n",
       "      <td>7.020122</td>\n",
       "    </tr>\n",
       "    <tr>\n",
       "      <th>1969</th>\n",
       "      <td>7.036468</td>\n",
       "    </tr>\n",
       "  </tbody>\n",
       "</table>\n",
       "</div>"
      ],
      "text/plain": [
       "             0\n",
       "1305  0.000000\n",
       "1963  3.768917\n",
       "3477  4.227773\n",
       "2329  4.256035\n",
       "2590  4.542149\n",
       "66    4.678596\n",
       "3154  5.023585\n",
       "4075  5.989085\n",
       "460   6.023336\n",
       "3871  6.278436\n",
       "2755  6.532153\n",
       "3068  6.751174\n",
       "150   6.892892\n",
       "1908  7.020122\n",
       "1969  7.036468"
      ]
     },
     "execution_count": 1062,
     "metadata": {},
     "output_type": "execute_result"
    }
   ],
   "source": [
    "a = np.sort(similar1)\n",
    "b = pd.DataFrame(a)\n",
    "b\n",
    "b.sort_values(by=0,ascending=True)[:15]"
   ]
  },
  {
   "cell_type": "code",
   "execution_count": 1063,
   "metadata": {},
   "outputs": [
    {
     "data": {
      "text/plain": [
       "Unnamed: 0                         1908\n",
       "college       Michigan State University\n",
       "height                              6-9\n",
       "name                      Magic Johnson\n",
       "position                            G-F\n",
       "url           /players/j/johnsma02.html\n",
       "weight                              215\n",
       "3PA                                 3.1\n",
       "3P%                               0.355\n",
       "3P                                  1.2\n",
       "FGA                                12.1\n",
       "FG%                               0.463\n",
       "FG                                  5.6\n",
       "FT%                               0.816\n",
       "FTA                                 7.2\n",
       "FT                                  5.9\n",
       "G                                    62\n",
       "PTS                                17.1\n",
       "labels                                0\n",
       "Name: 1908, dtype: object"
      ]
     },
     "execution_count": 1063,
     "metadata": {},
     "output_type": "execute_result"
    }
   ],
   "source": [
    "ncaa.loc[1908]"
   ]
  },
  {
   "cell_type": "code",
   "execution_count": 1064,
   "metadata": {},
   "outputs": [],
   "source": [
    "BR.append(scipy.spatial.distance.cdist(nba[nba['Player'] =='Paul George'].iloc[:,1:], \n",
    "                                 nba[nba['Player'] =='Kevin Durant'].iloc[:,1:], metric='euclidean'))\n",
    "DN.append(scipy.spatial.distance.cdist(nba[nba['Player'] =='Paul George'].iloc[:,1:], \n",
    "                                 nba[nba['Player'] =='Scottie Pippen*'].iloc[:,1:], metric='euclidean'))\n",
    "My.append(scipy.spatial.distance.cdist(nba[nba['Player'] =='Paul George'].iloc[:,1:], \n",
    "                                 nba[nba['Player'] =='Magic Johnson*'].iloc[:,1:], metric='euclidean'))"
   ]
  },
  {
   "cell_type": "code",
   "execution_count": 1065,
   "metadata": {},
   "outputs": [
    {
     "data": {
      "text/plain": [
       "array([[1105.85496884]])"
      ]
     },
     "execution_count": 1065,
     "metadata": {},
     "output_type": "execute_result"
    }
   ],
   "source": [
    "scipy.spatial.distance.cdist(nba[nba['Player'] =='Paul George'].iloc[:,1:], \n",
    "                                 nba[nba['Player'] =='Kevin Durant'].iloc[:,1:], metric='euclidean')"
   ]
  },
  {
   "cell_type": "code",
   "execution_count": 1066,
   "metadata": {},
   "outputs": [
    {
     "data": {
      "text/plain": [
       "array([[343.96803136]])"
      ]
     },
     "execution_count": 1066,
     "metadata": {},
     "output_type": "execute_result"
    }
   ],
   "source": [
    "scipy.spatial.distance.cdist(nba[nba['Player'] =='Paul George'].iloc[:,1:], \n",
    "                                 nba[nba['Player'] =='Scottie Pippen*'].iloc[:,1:], metric='euclidean')"
   ]
  },
  {
   "cell_type": "code",
   "execution_count": 1067,
   "metadata": {},
   "outputs": [
    {
     "data": {
      "text/plain": [
       "array([[805.040029]])"
      ]
     },
     "execution_count": 1067,
     "metadata": {},
     "output_type": "execute_result"
    }
   ],
   "source": [
    "scipy.spatial.distance.cdist(nba[nba['Player'] =='Paul George'].iloc[:,1:], \n",
    "                                 nba[nba['Player'] =='Magic Johnson*'].iloc[:,1:], metric='euclidean')"
   ]
  },
  {
   "cell_type": "markdown",
   "metadata": {},
   "source": [
    "My model placed 2nd but was a large margin away from draft net who placed 1st"
   ]
  },
  {
   "cell_type": "markdown",
   "metadata": {},
   "source": [
    "## Cole Aldrich"
   ]
  },
  {
   "cell_type": "code",
   "execution_count": 1068,
   "metadata": {},
   "outputs": [
    {
     "data": {
      "text/html": [
       "<div>\n",
       "<style scoped>\n",
       "    .dataframe tbody tr th:only-of-type {\n",
       "        vertical-align: middle;\n",
       "    }\n",
       "\n",
       "    .dataframe tbody tr th {\n",
       "        vertical-align: top;\n",
       "    }\n",
       "\n",
       "    .dataframe thead th {\n",
       "        text-align: right;\n",
       "    }\n",
       "</style>\n",
       "<table border=\"1\" class=\"dataframe\">\n",
       "  <thead>\n",
       "    <tr style=\"text-align: right;\">\n",
       "      <th></th>\n",
       "      <th>weight</th>\n",
       "      <th>3PA</th>\n",
       "      <th>3P%</th>\n",
       "      <th>3P</th>\n",
       "      <th>FGA</th>\n",
       "      <th>FG%</th>\n",
       "      <th>FG</th>\n",
       "      <th>FT%</th>\n",
       "      <th>FTA</th>\n",
       "      <th>FT</th>\n",
       "      <th>G</th>\n",
       "      <th>PTS</th>\n",
       "      <th>labels</th>\n",
       "    </tr>\n",
       "  </thead>\n",
       "  <tbody>\n",
       "    <tr>\n",
       "      <th>36</th>\n",
       "      <td>250.0</td>\n",
       "      <td>0.0</td>\n",
       "      <td>0.25</td>\n",
       "      <td>0.0</td>\n",
       "      <td>6.1</td>\n",
       "      <td>0.574</td>\n",
       "      <td>3.5</td>\n",
       "      <td>0.729</td>\n",
       "      <td>3.2</td>\n",
       "      <td>2.3</td>\n",
       "      <td>111.0</td>\n",
       "      <td>9.4</td>\n",
       "      <td>2</td>\n",
       "    </tr>\n",
       "  </tbody>\n",
       "</table>\n",
       "</div>"
      ],
      "text/plain": [
       "    weight  3PA   3P%   3P  FGA    FG%   FG    FT%  FTA   FT      G  PTS  \\\n",
       "36   250.0  0.0  0.25  0.0  6.1  0.574  3.5  0.729  3.2  2.3  111.0  9.4   \n",
       "\n",
       "    labels  \n",
       "36       2  "
      ]
     },
     "execution_count": 1068,
     "metadata": {},
     "output_type": "execute_result"
    }
   ],
   "source": [
    "similar1 = scipy.spatial.distance.cdist(pred,pred2[10:11],metric='euclidean')\n",
    "pred[similar1==similar1.min()]"
   ]
  },
  {
   "cell_type": "code",
   "execution_count": 1069,
   "metadata": {},
   "outputs": [
    {
     "data": {
      "text/html": [
       "<div>\n",
       "<style scoped>\n",
       "    .dataframe tbody tr th:only-of-type {\n",
       "        vertical-align: middle;\n",
       "    }\n",
       "\n",
       "    .dataframe tbody tr th {\n",
       "        vertical-align: top;\n",
       "    }\n",
       "\n",
       "    .dataframe thead th {\n",
       "        text-align: right;\n",
       "    }\n",
       "</style>\n",
       "<table border=\"1\" class=\"dataframe\">\n",
       "  <thead>\n",
       "    <tr style=\"text-align: right;\">\n",
       "      <th></th>\n",
       "      <th>0</th>\n",
       "    </tr>\n",
       "  </thead>\n",
       "  <tbody>\n",
       "    <tr>\n",
       "      <th>36</th>\n",
       "      <td>0.000000</td>\n",
       "    </tr>\n",
       "    <tr>\n",
       "      <th>3340</th>\n",
       "      <td>2.050255</td>\n",
       "    </tr>\n",
       "    <tr>\n",
       "      <th>2827</th>\n",
       "      <td>2.357298</td>\n",
       "    </tr>\n",
       "    <tr>\n",
       "      <th>3536</th>\n",
       "      <td>3.112217</td>\n",
       "    </tr>\n",
       "    <tr>\n",
       "      <th>3366</th>\n",
       "      <td>3.192453</td>\n",
       "    </tr>\n",
       "    <tr>\n",
       "      <th>4028</th>\n",
       "      <td>3.218902</td>\n",
       "    </tr>\n",
       "    <tr>\n",
       "      <th>2089</th>\n",
       "      <td>3.579876</td>\n",
       "    </tr>\n",
       "    <tr>\n",
       "      <th>1568</th>\n",
       "      <td>3.871910</td>\n",
       "    </tr>\n",
       "    <tr>\n",
       "      <th>3984</th>\n",
       "      <td>4.213628</td>\n",
       "    </tr>\n",
       "    <tr>\n",
       "      <th>2994</th>\n",
       "      <td>5.253394</td>\n",
       "    </tr>\n",
       "    <tr>\n",
       "      <th>1931</th>\n",
       "      <td>5.285867</td>\n",
       "    </tr>\n",
       "    <tr>\n",
       "      <th>1717</th>\n",
       "      <td>5.580748</td>\n",
       "    </tr>\n",
       "    <tr>\n",
       "      <th>2661</th>\n",
       "      <td>5.595528</td>\n",
       "    </tr>\n",
       "    <tr>\n",
       "      <th>2035</th>\n",
       "      <td>5.989619</td>\n",
       "    </tr>\n",
       "    <tr>\n",
       "      <th>2275</th>\n",
       "      <td>6.376661</td>\n",
       "    </tr>\n",
       "  </tbody>\n",
       "</table>\n",
       "</div>"
      ],
      "text/plain": [
       "             0\n",
       "36    0.000000\n",
       "3340  2.050255\n",
       "2827  2.357298\n",
       "3536  3.112217\n",
       "3366  3.192453\n",
       "4028  3.218902\n",
       "2089  3.579876\n",
       "1568  3.871910\n",
       "3984  4.213628\n",
       "2994  5.253394\n",
       "1931  5.285867\n",
       "1717  5.580748\n",
       "2661  5.595528\n",
       "2035  5.989619\n",
       "2275  6.376661"
      ]
     },
     "execution_count": 1069,
     "metadata": {},
     "output_type": "execute_result"
    }
   ],
   "source": [
    "a = np.sort(similar1)\n",
    "b = pd.DataFrame(a)\n",
    "b\n",
    "b.sort_values(by=0,ascending=True)[:15]"
   ]
  },
  {
   "cell_type": "code",
   "execution_count": 1070,
   "metadata": {},
   "outputs": [
    {
     "data": {
      "text/plain": [
       "Unnamed: 0                         3340\n",
       "college               Purdue University\n",
       "height                              6-9\n",
       "name                    Steve Scheffler\n",
       "position                            C-F\n",
       "url           /players/s/schefst01.html\n",
       "weight                              250\n",
       "3PA                                   0\n",
       "3P%                               0.222\n",
       "3P                                    0\n",
       "FGA                                 5.4\n",
       "FG%                               0.685\n",
       "FG                                  3.7\n",
       "FT%                                0.75\n",
       "FTA                                 4.1\n",
       "FT                                  3.1\n",
       "G                                   110\n",
       "PTS                                10.5\n",
       "labels                                2\n",
       "Name: 3340, dtype: object"
      ]
     },
     "execution_count": 1070,
     "metadata": {},
     "output_type": "execute_result"
    }
   ],
   "source": [
    "ncaa.loc[3340]"
   ]
  },
  {
   "cell_type": "code",
   "execution_count": 1071,
   "metadata": {},
   "outputs": [],
   "source": [
    "BR.append(scipy.spatial.distance.cdist(nba[nba['Player'] =='Cole Aldrich'].iloc[:,1:], \n",
    "                                 nba[nba['Player'] =='Emeka Okafor'].iloc[:,1:], metric='euclidean'))\n",
    "DN.append(scipy.spatial.distance.cdist(nba[nba['Player'] =='Cole Aldrich'].iloc[:,1:], \n",
    "                                 nba[nba['Player'] =='Joel Przybilla'].iloc[:,1:], metric='euclidean'))\n",
    "My.append(scipy.spatial.distance.cdist(nba[nba['Player'] =='Cole Aldrich'].iloc[:,1:], \n",
    "                                 nba[nba['Player'] =='Steve Scheffler'].iloc[:,1:], metric='euclidean'))"
   ]
  },
  {
   "cell_type": "code",
   "execution_count": 1072,
   "metadata": {},
   "outputs": [
    {
     "data": {
      "text/plain": [
       "array([[1307.37712964]])"
      ]
     },
     "execution_count": 1072,
     "metadata": {},
     "output_type": "execute_result"
    }
   ],
   "source": [
    "scipy.spatial.distance.cdist(nba[nba['Player'] =='Cole Aldrich'].iloc[:,1:], \n",
    "                                 nba[nba['Player'] =='Emeka Okafor'].iloc[:,1:], metric='euclidean')"
   ]
  },
  {
   "cell_type": "code",
   "execution_count": 1073,
   "metadata": {},
   "outputs": [
    {
     "data": {
      "text/plain": [
       "array([[151.4934025]])"
      ]
     },
     "execution_count": 1073,
     "metadata": {},
     "output_type": "execute_result"
    }
   ],
   "source": [
    "scipy.spatial.distance.cdist(nba[nba['Player'] =='Cole Aldrich'].iloc[:,1:], \n",
    "                                 nba[nba['Player'] =='Joel Przybilla'].iloc[:,1:], metric='euclidean')"
   ]
  },
  {
   "cell_type": "code",
   "execution_count": 1074,
   "metadata": {},
   "outputs": [
    {
     "data": {
      "text/plain": [
       "array([[217.67477139]])"
      ]
     },
     "execution_count": 1074,
     "metadata": {},
     "output_type": "execute_result"
    }
   ],
   "source": [
    "scipy.spatial.distance.cdist(nba[nba['Player'] =='Cole Aldrich'].iloc[:,1:], \n",
    "                                 nba[nba['Player'] =='Steve Scheffler'].iloc[:,1:], metric='euclidean')"
   ]
  },
  {
   "cell_type": "markdown",
   "metadata": {},
   "source": [
    "My model placed 2nd to draft nets 1st but the margin is small to the point that both compairsons are accurate"
   ]
  },
  {
   "cell_type": "markdown",
   "metadata": {},
   "source": [
    "## Xavier Henry"
   ]
  },
  {
   "cell_type": "code",
   "execution_count": 1075,
   "metadata": {},
   "outputs": [
    {
     "data": {
      "text/html": [
       "<div>\n",
       "<style scoped>\n",
       "    .dataframe tbody tr th:only-of-type {\n",
       "        vertical-align: middle;\n",
       "    }\n",
       "\n",
       "    .dataframe tbody tr th {\n",
       "        vertical-align: top;\n",
       "    }\n",
       "\n",
       "    .dataframe thead th {\n",
       "        text-align: right;\n",
       "    }\n",
       "</style>\n",
       "<table border=\"1\" class=\"dataframe\">\n",
       "  <thead>\n",
       "    <tr style=\"text-align: right;\">\n",
       "      <th></th>\n",
       "      <th>weight</th>\n",
       "      <th>3PA</th>\n",
       "      <th>3P%</th>\n",
       "      <th>3P</th>\n",
       "      <th>FGA</th>\n",
       "      <th>FG%</th>\n",
       "      <th>FG</th>\n",
       "      <th>FT%</th>\n",
       "      <th>FTA</th>\n",
       "      <th>FT</th>\n",
       "      <th>G</th>\n",
       "      <th>PTS</th>\n",
       "      <th>labels</th>\n",
       "    </tr>\n",
       "  </thead>\n",
       "  <tbody>\n",
       "    <tr>\n",
       "      <th>1627</th>\n",
       "      <td>220.0</td>\n",
       "      <td>4.6</td>\n",
       "      <td>0.418</td>\n",
       "      <td>1.9</td>\n",
       "      <td>9.8</td>\n",
       "      <td>0.458</td>\n",
       "      <td>4.5</td>\n",
       "      <td>0.783</td>\n",
       "      <td>3.2</td>\n",
       "      <td>2.5</td>\n",
       "      <td>36.0</td>\n",
       "      <td>13.4</td>\n",
       "      <td>1</td>\n",
       "    </tr>\n",
       "  </tbody>\n",
       "</table>\n",
       "</div>"
      ],
      "text/plain": [
       "      weight  3PA    3P%   3P  FGA    FG%   FG    FT%  FTA   FT     G   PTS  \\\n",
       "1627   220.0  4.6  0.418  1.9  9.8  0.458  4.5  0.783  3.2  2.5  36.0  13.4   \n",
       "\n",
       "      labels  \n",
       "1627       1  "
      ]
     },
     "execution_count": 1075,
     "metadata": {},
     "output_type": "execute_result"
    }
   ],
   "source": [
    "similar1 = scipy.spatial.distance.cdist(pred,pred2[11:12],metric='euclidean')\n",
    "pred[similar1==similar1.min()]"
   ]
  },
  {
   "cell_type": "code",
   "execution_count": 1076,
   "metadata": {},
   "outputs": [
    {
     "data": {
      "text/html": [
       "<div>\n",
       "<style scoped>\n",
       "    .dataframe tbody tr th:only-of-type {\n",
       "        vertical-align: middle;\n",
       "    }\n",
       "\n",
       "    .dataframe tbody tr th {\n",
       "        vertical-align: top;\n",
       "    }\n",
       "\n",
       "    .dataframe thead th {\n",
       "        text-align: right;\n",
       "    }\n",
       "</style>\n",
       "<table border=\"1\" class=\"dataframe\">\n",
       "  <thead>\n",
       "    <tr style=\"text-align: right;\">\n",
       "      <th></th>\n",
       "      <th>0</th>\n",
       "    </tr>\n",
       "  </thead>\n",
       "  <tbody>\n",
       "    <tr>\n",
       "      <th>1627</th>\n",
       "      <td>0.000000</td>\n",
       "    </tr>\n",
       "    <tr>\n",
       "      <th>912</th>\n",
       "      <td>3.634421</td>\n",
       "    </tr>\n",
       "    <tr>\n",
       "      <th>3891</th>\n",
       "      <td>4.087888</td>\n",
       "    </tr>\n",
       "    <tr>\n",
       "      <th>2289</th>\n",
       "      <td>4.503865</td>\n",
       "    </tr>\n",
       "    <tr>\n",
       "      <th>919</th>\n",
       "      <td>4.971518</td>\n",
       "    </tr>\n",
       "    <tr>\n",
       "      <th>1352</th>\n",
       "      <td>5.077946</td>\n",
       "    </tr>\n",
       "    <tr>\n",
       "      <th>4118</th>\n",
       "      <td>5.199328</td>\n",
       "    </tr>\n",
       "    <tr>\n",
       "      <th>1950</th>\n",
       "      <td>5.651253</td>\n",
       "    </tr>\n",
       "    <tr>\n",
       "      <th>2201</th>\n",
       "      <td>5.772209</td>\n",
       "    </tr>\n",
       "    <tr>\n",
       "      <th>4223</th>\n",
       "      <td>6.100984</td>\n",
       "    </tr>\n",
       "    <tr>\n",
       "      <th>661</th>\n",
       "      <td>6.108400</td>\n",
       "    </tr>\n",
       "    <tr>\n",
       "      <th>1114</th>\n",
       "      <td>6.397338</td>\n",
       "    </tr>\n",
       "    <tr>\n",
       "      <th>1567</th>\n",
       "      <td>6.560263</td>\n",
       "    </tr>\n",
       "    <tr>\n",
       "      <th>2344</th>\n",
       "      <td>6.587436</td>\n",
       "    </tr>\n",
       "    <tr>\n",
       "      <th>4156</th>\n",
       "      <td>6.598557</td>\n",
       "    </tr>\n",
       "  </tbody>\n",
       "</table>\n",
       "</div>"
      ],
      "text/plain": [
       "             0\n",
       "1627  0.000000\n",
       "912   3.634421\n",
       "3891  4.087888\n",
       "2289  4.503865\n",
       "919   4.971518\n",
       "1352  5.077946\n",
       "4118  5.199328\n",
       "1950  5.651253\n",
       "2201  5.772209\n",
       "4223  6.100984\n",
       "661   6.108400\n",
       "1114  6.397338\n",
       "1567  6.560263\n",
       "2344  6.587436\n",
       "4156  6.598557"
      ]
     },
     "execution_count": 1076,
     "metadata": {},
     "output_type": "execute_result"
    }
   ],
   "source": [
    "a = np.sort(similar1)\n",
    "b = pd.DataFrame(a)\n",
    "b\n",
    "b.sort_values(by=0,ascending=True)[:15]"
   ]
  },
  {
   "cell_type": "code",
   "execution_count": 1077,
   "metadata": {},
   "outputs": [
    {
     "data": {
      "text/plain": [
       "Unnamed: 0                         912\n",
       "college                Duke University\n",
       "height                             6-9\n",
       "name                         Luol Deng\n",
       "position                             F\n",
       "url           /players/d/denglu01.html\n",
       "weight                             220\n",
       "3PA                                  3\n",
       "3P%                               0.36\n",
       "3P                                 1.1\n",
       "FGA                               11.9\n",
       "FG%                              0.476\n",
       "FG                                 5.7\n",
       "FT%                               0.71\n",
       "FTA                                3.7\n",
       "FT                                 2.6\n",
       "G                                   37\n",
       "PTS                               15.1\n",
       "labels                               1\n",
       "Name: 912, dtype: object"
      ]
     },
     "execution_count": 1077,
     "metadata": {},
     "output_type": "execute_result"
    }
   ],
   "source": [
    "ncaa.loc[912]"
   ]
  },
  {
   "cell_type": "code",
   "execution_count": 1078,
   "metadata": {},
   "outputs": [],
   "source": [
    "BR.append(scipy.spatial.distance.cdist(nba[nba['Player'] =='Xavier Henry'].iloc[:,1:], \n",
    "                                 nba[nba['Player'] =='James Posey'].iloc[:,1:], metric='euclidean'))\n",
    "DN.append(scipy.spatial.distance.cdist(nba[nba['Player'] =='Xavier Henry'].iloc[:,1:], \n",
    "                                 nba[nba['Player'] =='Jim Jackson'].iloc[:,1:], metric='euclidean'))\n",
    "My.append(scipy.spatial.distance.cdist(nba[nba['Player'] =='Xavier Henry'].iloc[:,1:], \n",
    "                                 nba[nba['Player'] =='Luol Deng'].iloc[:,1:], metric='euclidean'))"
   ]
  },
  {
   "cell_type": "code",
   "execution_count": 1079,
   "metadata": {},
   "outputs": [
    {
     "data": {
      "text/plain": [
       "array([[679.63757673]])"
      ]
     },
     "execution_count": 1079,
     "metadata": {},
     "output_type": "execute_result"
    }
   ],
   "source": [
    "scipy.spatial.distance.cdist(nba[nba['Player'] =='Xavier Henry'].iloc[:,1:], \n",
    "                                 nba[nba['Player'] =='James Posey'].iloc[:,1:], metric='euclidean')"
   ]
  },
  {
   "cell_type": "code",
   "execution_count": 1080,
   "metadata": {},
   "outputs": [
    {
     "data": {
      "text/plain": [
       "array([[821.1809985]])"
      ]
     },
     "execution_count": 1080,
     "metadata": {},
     "output_type": "execute_result"
    }
   ],
   "source": [
    "scipy.spatial.distance.cdist(nba[nba['Player'] =='Xavier Henry'].iloc[:,1:], \n",
    "                                 nba[nba['Player'] =='Jim Jackson'].iloc[:,1:], metric='euclidean')"
   ]
  },
  {
   "cell_type": "code",
   "execution_count": 1081,
   "metadata": {},
   "outputs": [
    {
     "data": {
      "text/plain": [
       "array([[1248.07476002]])"
      ]
     },
     "execution_count": 1081,
     "metadata": {},
     "output_type": "execute_result"
    }
   ],
   "source": [
    "scipy.spatial.distance.cdist(nba[nba['Player'] =='Xavier Henry'].iloc[:,1:], \n",
    "                                 nba[nba['Player'] =='Luol Deng'].iloc[:,1:], metric='euclidean')"
   ]
  },
  {
   "cell_type": "markdown",
   "metadata": {},
   "source": [
    "My model did a poor job here placing last, this player was incorreclty compared"
   ]
  },
  {
   "cell_type": "markdown",
   "metadata": {},
   "source": [
    "## Ed Davis"
   ]
  },
  {
   "cell_type": "code",
   "execution_count": 1082,
   "metadata": {},
   "outputs": [
    {
     "data": {
      "text/html": [
       "<div>\n",
       "<style scoped>\n",
       "    .dataframe tbody tr th:only-of-type {\n",
       "        vertical-align: middle;\n",
       "    }\n",
       "\n",
       "    .dataframe tbody tr th {\n",
       "        vertical-align: top;\n",
       "    }\n",
       "\n",
       "    .dataframe thead th {\n",
       "        text-align: right;\n",
       "    }\n",
       "</style>\n",
       "<table border=\"1\" class=\"dataframe\">\n",
       "  <thead>\n",
       "    <tr style=\"text-align: right;\">\n",
       "      <th></th>\n",
       "      <th>weight</th>\n",
       "      <th>3PA</th>\n",
       "      <th>3P%</th>\n",
       "      <th>3P</th>\n",
       "      <th>FGA</th>\n",
       "      <th>FG%</th>\n",
       "      <th>FG</th>\n",
       "      <th>FT%</th>\n",
       "      <th>FTA</th>\n",
       "      <th>FT</th>\n",
       "      <th>G</th>\n",
       "      <th>PTS</th>\n",
       "      <th>labels</th>\n",
       "    </tr>\n",
       "  </thead>\n",
       "  <tbody>\n",
       "    <tr>\n",
       "      <th>855</th>\n",
       "      <td>240.0</td>\n",
       "      <td>0.0</td>\n",
       "      <td>0.333</td>\n",
       "      <td>0.0</td>\n",
       "      <td>6.3</td>\n",
       "      <td>0.548</td>\n",
       "      <td>3.4</td>\n",
       "      <td>0.623</td>\n",
       "      <td>3.7</td>\n",
       "      <td>2.3</td>\n",
       "      <td>61.0</td>\n",
       "      <td>9.2</td>\n",
       "      <td>2</td>\n",
       "    </tr>\n",
       "  </tbody>\n",
       "</table>\n",
       "</div>"
      ],
      "text/plain": [
       "     weight  3PA    3P%   3P  FGA    FG%   FG    FT%  FTA   FT     G  PTS  \\\n",
       "855   240.0  0.0  0.333  0.0  6.3  0.548  3.4  0.623  3.7  2.3  61.0  9.2   \n",
       "\n",
       "     labels  \n",
       "855       2  "
      ]
     },
     "execution_count": 1082,
     "metadata": {},
     "output_type": "execute_result"
    }
   ],
   "source": [
    "similar1 = scipy.spatial.distance.cdist(pred,pred2[12:13],metric='euclidean')\n",
    "pred[similar1==similar1.min()]"
   ]
  },
  {
   "cell_type": "code",
   "execution_count": 1083,
   "metadata": {},
   "outputs": [
    {
     "data": {
      "text/html": [
       "<div>\n",
       "<style scoped>\n",
       "    .dataframe tbody tr th:only-of-type {\n",
       "        vertical-align: middle;\n",
       "    }\n",
       "\n",
       "    .dataframe tbody tr th {\n",
       "        vertical-align: top;\n",
       "    }\n",
       "\n",
       "    .dataframe thead th {\n",
       "        text-align: right;\n",
       "    }\n",
       "</style>\n",
       "<table border=\"1\" class=\"dataframe\">\n",
       "  <thead>\n",
       "    <tr style=\"text-align: right;\">\n",
       "      <th></th>\n",
       "      <th>0</th>\n",
       "    </tr>\n",
       "  </thead>\n",
       "  <tbody>\n",
       "    <tr>\n",
       "      <th>855</th>\n",
       "      <td>0.000000</td>\n",
       "    </tr>\n",
       "    <tr>\n",
       "      <th>1245</th>\n",
       "      <td>2.508239</td>\n",
       "    </tr>\n",
       "    <tr>\n",
       "      <th>1129</th>\n",
       "      <td>5.097317</td>\n",
       "    </tr>\n",
       "    <tr>\n",
       "      <th>357</th>\n",
       "      <td>5.207359</td>\n",
       "    </tr>\n",
       "    <tr>\n",
       "      <th>1150</th>\n",
       "      <td>5.693823</td>\n",
       "    </tr>\n",
       "    <tr>\n",
       "      <th>3439</th>\n",
       "      <td>5.836867</td>\n",
       "    </tr>\n",
       "    <tr>\n",
       "      <th>2735</th>\n",
       "      <td>6.545112</td>\n",
       "    </tr>\n",
       "    <tr>\n",
       "      <th>1267</th>\n",
       "      <td>6.840776</td>\n",
       "    </tr>\n",
       "    <tr>\n",
       "      <th>2232</th>\n",
       "      <td>6.861057</td>\n",
       "    </tr>\n",
       "    <tr>\n",
       "      <th>2624</th>\n",
       "      <td>7.040890</td>\n",
       "    </tr>\n",
       "    <tr>\n",
       "      <th>2002</th>\n",
       "      <td>7.269396</td>\n",
       "    </tr>\n",
       "    <tr>\n",
       "      <th>1081</th>\n",
       "      <td>7.558750</td>\n",
       "    </tr>\n",
       "    <tr>\n",
       "      <th>400</th>\n",
       "      <td>7.758332</td>\n",
       "    </tr>\n",
       "    <tr>\n",
       "      <th>2396</th>\n",
       "      <td>7.803710</td>\n",
       "    </tr>\n",
       "    <tr>\n",
       "      <th>697</th>\n",
       "      <td>7.858431</td>\n",
       "    </tr>\n",
       "  </tbody>\n",
       "</table>\n",
       "</div>"
      ],
      "text/plain": [
       "             0\n",
       "855   0.000000\n",
       "1245  2.508239\n",
       "1129  5.097317\n",
       "357   5.207359\n",
       "1150  5.693823\n",
       "3439  5.836867\n",
       "2735  6.545112\n",
       "1267  6.840776\n",
       "2232  6.861057\n",
       "2624  7.040890\n",
       "2002  7.269396\n",
       "1081  7.558750\n",
       "400   7.758332\n",
       "2396  7.803710\n",
       "697   7.858431"
      ]
     },
     "execution_count": 1083,
     "metadata": {},
     "output_type": "execute_result"
    }
   ],
   "source": [
    "a = np.sort(similar1)\n",
    "b = pd.DataFrame(a)\n",
    "b\n",
    "b.sort_values(by=0,ascending=True)[:15]"
   ]
  },
  {
   "cell_type": "code",
   "execution_count": 1084,
   "metadata": {},
   "outputs": [
    {
     "data": {
      "text/plain": [
       "Unnamed: 0                          357\n",
       "college             Stanford University\n",
       "height                              7-0\n",
       "name                   Curtis Borchardt\n",
       "position                              C\n",
       "url           /players/b/borchcu01.html\n",
       "weight                              240\n",
       "3PA                                 0.6\n",
       "3P%                               0.375\n",
       "3P                                  0.2\n",
       "FGA                                 6.6\n",
       "FG%                               0.534\n",
       "FG                                  3.5\n",
       "FT%                               0.691\n",
       "FTA                                 4.2\n",
       "FT                                  2.9\n",
       "G                                    66\n",
       "PTS                                10.2\n",
       "labels                                2\n",
       "Name: 357, dtype: object"
      ]
     },
     "execution_count": 1084,
     "metadata": {},
     "output_type": "execute_result"
    }
   ],
   "source": [
    "ncaa.loc[357]"
   ]
  },
  {
   "cell_type": "code",
   "execution_count": 1085,
   "metadata": {},
   "outputs": [],
   "source": [
    "BR.append(scipy.spatial.distance.cdist(nba[nba['Player'] =='Ed Davis'].iloc[:,1:], \n",
    "                                 nba[nba['Player'] =='Al Horford'].iloc[:,1:], metric='euclidean'))\n",
    "DN.append(scipy.spatial.distance.cdist(nba[nba['Player'] =='Ed Davis'].iloc[:,1:], \n",
    "                                 nba[nba['Player'] =='P.J. Brown'].iloc[:,1:], metric='euclidean'))\n",
    "My.append(scipy.spatial.distance.cdist(nba[nba['Player'] =='Ed Davis'].iloc[:,1:], \n",
    "                                 nba[nba['Player'] =='Curtis Borchardt'].iloc[:,1:], metric='euclidean'))"
   ]
  },
  {
   "cell_type": "code",
   "execution_count": 1086,
   "metadata": {},
   "outputs": [
    {
     "data": {
      "text/plain": [
       "array([[845.94178955]])"
      ]
     },
     "execution_count": 1086,
     "metadata": {},
     "output_type": "execute_result"
    }
   ],
   "source": [
    "scipy.spatial.distance.cdist(nba[nba['Player'] =='Ed Davis'].iloc[:,1:], \n",
    "                                 nba[nba['Player'] =='Al Horford'].iloc[:,1:], metric='euclidean')"
   ]
  },
  {
   "cell_type": "code",
   "execution_count": 1087,
   "metadata": {},
   "outputs": [
    {
     "data": {
      "text/plain": [
       "array([[481.96918978]])"
      ]
     },
     "execution_count": 1087,
     "metadata": {},
     "output_type": "execute_result"
    }
   ],
   "source": [
    "scipy.spatial.distance.cdist(nba[nba['Player'] =='Ed Davis'].iloc[:,1:], \n",
    "                                 nba[nba['Player'] =='P.J. Brown'].iloc[:,1:], metric='euclidean')"
   ]
  },
  {
   "cell_type": "code",
   "execution_count": 1088,
   "metadata": {
    "scrolled": true
   },
   "outputs": [
    {
     "data": {
      "text/plain": [
       "array([[572.19118536]])"
      ]
     },
     "execution_count": 1088,
     "metadata": {},
     "output_type": "execute_result"
    }
   ],
   "source": [
    "scipy.spatial.distance.cdist(nba[nba['Player'] =='Ed Davis'].iloc[:,1:], \n",
    "                                 nba[nba['Player'] =='Curtis Borchardt'].iloc[:,1:], metric='euclidean')"
   ]
  },
  {
   "cell_type": "markdown",
   "metadata": {},
   "source": [
    "My model placed 2nd to draft net but the margin is small enough to warrant my model to be deemed correct for this comparison"
   ]
  },
  {
   "cell_type": "markdown",
   "metadata": {},
   "source": [
    "## Patrick Patterson"
   ]
  },
  {
   "cell_type": "code",
   "execution_count": 1089,
   "metadata": {},
   "outputs": [
    {
     "data": {
      "text/html": [
       "<div>\n",
       "<style scoped>\n",
       "    .dataframe tbody tr th:only-of-type {\n",
       "        vertical-align: middle;\n",
       "    }\n",
       "\n",
       "    .dataframe tbody tr th {\n",
       "        vertical-align: top;\n",
       "    }\n",
       "\n",
       "    .dataframe thead th {\n",
       "        text-align: right;\n",
       "    }\n",
       "</style>\n",
       "<table border=\"1\" class=\"dataframe\">\n",
       "  <thead>\n",
       "    <tr style=\"text-align: right;\">\n",
       "      <th></th>\n",
       "      <th>weight</th>\n",
       "      <th>3PA</th>\n",
       "      <th>3P%</th>\n",
       "      <th>3P</th>\n",
       "      <th>FGA</th>\n",
       "      <th>FG%</th>\n",
       "      <th>FG</th>\n",
       "      <th>FT%</th>\n",
       "      <th>FTA</th>\n",
       "      <th>FT</th>\n",
       "      <th>G</th>\n",
       "      <th>PTS</th>\n",
       "      <th>labels</th>\n",
       "    </tr>\n",
       "  </thead>\n",
       "  <tbody>\n",
       "    <tr>\n",
       "      <th>2919</th>\n",
       "      <td>230.0</td>\n",
       "      <td>0.8</td>\n",
       "      <td>0.329</td>\n",
       "      <td>0.2</td>\n",
       "      <td>10.9</td>\n",
       "      <td>0.585</td>\n",
       "      <td>6.4</td>\n",
       "      <td>0.734</td>\n",
       "      <td>4.3</td>\n",
       "      <td>3.2</td>\n",
       "      <td>97.0</td>\n",
       "      <td>16.1</td>\n",
       "      <td>3</td>\n",
       "    </tr>\n",
       "  </tbody>\n",
       "</table>\n",
       "</div>"
      ],
      "text/plain": [
       "      weight  3PA    3P%   3P   FGA    FG%   FG    FT%  FTA   FT     G   PTS  \\\n",
       "2919   230.0  0.8  0.329  0.2  10.9  0.585  6.4  0.734  4.3  3.2  97.0  16.1   \n",
       "\n",
       "      labels  \n",
       "2919       3  "
      ]
     },
     "execution_count": 1089,
     "metadata": {},
     "output_type": "execute_result"
    }
   ],
   "source": [
    "similar1 = scipy.spatial.distance.cdist(pred,pred2[13:14],metric='euclidean')\n",
    "pred[similar1==similar1.min()]"
   ]
  },
  {
   "cell_type": "code",
   "execution_count": 1090,
   "metadata": {},
   "outputs": [
    {
     "data": {
      "text/html": [
       "<div>\n",
       "<style scoped>\n",
       "    .dataframe tbody tr th:only-of-type {\n",
       "        vertical-align: middle;\n",
       "    }\n",
       "\n",
       "    .dataframe tbody tr th {\n",
       "        vertical-align: top;\n",
       "    }\n",
       "\n",
       "    .dataframe thead th {\n",
       "        text-align: right;\n",
       "    }\n",
       "</style>\n",
       "<table border=\"1\" class=\"dataframe\">\n",
       "  <thead>\n",
       "    <tr style=\"text-align: right;\">\n",
       "      <th></th>\n",
       "      <th>0</th>\n",
       "    </tr>\n",
       "  </thead>\n",
       "  <tbody>\n",
       "    <tr>\n",
       "      <th>2919</th>\n",
       "      <td>0.000000</td>\n",
       "    </tr>\n",
       "    <tr>\n",
       "      <th>386</th>\n",
       "      <td>3.283448</td>\n",
       "    </tr>\n",
       "    <tr>\n",
       "      <th>2515</th>\n",
       "      <td>4.437027</td>\n",
       "    </tr>\n",
       "    <tr>\n",
       "      <th>2034</th>\n",
       "      <td>4.437027</td>\n",
       "    </tr>\n",
       "    <tr>\n",
       "      <th>1752</th>\n",
       "      <td>4.437027</td>\n",
       "    </tr>\n",
       "    <tr>\n",
       "      <th>1327</th>\n",
       "      <td>4.437027</td>\n",
       "    </tr>\n",
       "    <tr>\n",
       "      <th>2573</th>\n",
       "      <td>4.437027</td>\n",
       "    </tr>\n",
       "    <tr>\n",
       "      <th>2996</th>\n",
       "      <td>4.437027</td>\n",
       "    </tr>\n",
       "    <tr>\n",
       "      <th>4026</th>\n",
       "      <td>4.437027</td>\n",
       "    </tr>\n",
       "    <tr>\n",
       "      <th>3774</th>\n",
       "      <td>4.832773</td>\n",
       "    </tr>\n",
       "    <tr>\n",
       "      <th>4073</th>\n",
       "      <td>4.832773</td>\n",
       "    </tr>\n",
       "    <tr>\n",
       "      <th>3818</th>\n",
       "      <td>4.832773</td>\n",
       "    </tr>\n",
       "    <tr>\n",
       "      <th>2570</th>\n",
       "      <td>4.832773</td>\n",
       "    </tr>\n",
       "    <tr>\n",
       "      <th>1215</th>\n",
       "      <td>4.832773</td>\n",
       "    </tr>\n",
       "    <tr>\n",
       "      <th>2586</th>\n",
       "      <td>4.832773</td>\n",
       "    </tr>\n",
       "  </tbody>\n",
       "</table>\n",
       "</div>"
      ],
      "text/plain": [
       "             0\n",
       "2919  0.000000\n",
       "386   3.283448\n",
       "2515  4.437027\n",
       "2034  4.437027\n",
       "1752  4.437027\n",
       "1327  4.437027\n",
       "2573  4.437027\n",
       "2996  4.437027\n",
       "4026  4.437027\n",
       "3774  4.832773\n",
       "4073  4.832773\n",
       "3818  4.832773\n",
       "2570  4.832773\n",
       "1215  4.832773\n",
       "2586  4.832773"
      ]
     },
     "execution_count": 1090,
     "metadata": {},
     "output_type": "execute_result"
    }
   ],
   "source": [
    "a = np.sort(similar1)\n",
    "b = pd.DataFrame(a)\n",
    "b\n",
    "b.sort_values(by=0,ascending=True)[:15]"
   ]
  },
  {
   "cell_type": "code",
   "execution_count": 1091,
   "metadata": {},
   "outputs": [
    {
     "data": {
      "text/plain": [
       "Unnamed: 0                         2515\n",
       "college                Drake University\n",
       "height                              6-7\n",
       "name                     McCoy McLemore\n",
       "position                            F-C\n",
       "url           /players/m/mclemmc01.html\n",
       "weight                              230\n",
       "3PA                                 0.1\n",
       "3P%                               0.288\n",
       "3P                                    0\n",
       "FGA                                 9.6\n",
       "FG%                               0.535\n",
       "FG                                  5.2\n",
       "FT%                               0.679\n",
       "FTA                                 4.2\n",
       "FT                                  2.7\n",
       "G                                   100\n",
       "PTS                                13.5\n",
       "labels                                3\n",
       "Name: 2515, dtype: object"
      ]
     },
     "execution_count": 1091,
     "metadata": {},
     "output_type": "execute_result"
    }
   ],
   "source": [
    "ncaa.loc[2515]"
   ]
  },
  {
   "cell_type": "code",
   "execution_count": 1092,
   "metadata": {},
   "outputs": [],
   "source": [
    "BR.append(scipy.spatial.distance.cdist(nba[nba['Player'] =='Patrick Patterson'].iloc[:,1:], \n",
    "                                 nba[nba['Player'] =='Carl Landry'].iloc[:,1:], metric='euclidean'))\n",
    "DN.append(scipy.spatial.distance.cdist(nba[nba['Player'] =='Patrick Patterson'].iloc[:,1:], \n",
    "                                 nba[nba['Player'] =='Buck Williams'].iloc[:,1:], metric='euclidean'))\n",
    "My.append(scipy.spatial.distance.cdist(nba[nba['Player'] =='Patrick Patterson'].iloc[:,1:], \n",
    "                                 nba[nba['Player'] =='McCoy McLemore'].iloc[:,1:], metric='euclidean'))"
   ]
  },
  {
   "cell_type": "code",
   "execution_count": 1093,
   "metadata": {},
   "outputs": [
    {
     "data": {
      "text/plain": [
       "array([[320.86247521]])"
      ]
     },
     "execution_count": 1093,
     "metadata": {},
     "output_type": "execute_result"
    }
   ],
   "source": [
    "scipy.spatial.distance.cdist(nba[nba['Player'] =='Patrick Patterson'].iloc[:,1:], \n",
    "                                 nba[nba['Player'] =='Carl Landry'].iloc[:,1:], metric='euclidean')"
   ]
  },
  {
   "cell_type": "code",
   "execution_count": 1094,
   "metadata": {},
   "outputs": [
    {
     "data": {
      "text/plain": [
       "array([[1092.42990141]])"
      ]
     },
     "execution_count": 1094,
     "metadata": {},
     "output_type": "execute_result"
    }
   ],
   "source": [
    "scipy.spatial.distance.cdist(nba[nba['Player'] =='Patrick Patterson'].iloc[:,1:], \n",
    "                                 nba[nba['Player'] =='Buck Williams'].iloc[:,1:], metric='euclidean')"
   ]
  },
  {
   "cell_type": "code",
   "execution_count": 1095,
   "metadata": {},
   "outputs": [
    {
     "data": {
      "text/plain": [
       "array([[270.03932677]])"
      ]
     },
     "execution_count": 1095,
     "metadata": {},
     "output_type": "execute_result"
    }
   ],
   "source": [
    "scipy.spatial.distance.cdist(nba[nba['Player'] =='Patrick Patterson'].iloc[:,1:], \n",
    "                                 nba[nba['Player'] =='McCoy McLemore'].iloc[:,1:], metric='euclidean')"
   ]
  },
  {
   "cell_type": "markdown",
   "metadata": {},
   "source": [
    "My model placed 1st but bleacher report wasn't too far off, both models do a good job in predictions for comparisons"
   ]
  },
  {
   "cell_type": "markdown",
   "metadata": {},
   "source": [
    "---"
   ]
  },
  {
   "cell_type": "markdown",
   "metadata": {},
   "source": [
    "# 2011"
   ]
  },
  {
   "cell_type": "code",
   "execution_count": 1096,
   "metadata": {},
   "outputs": [],
   "source": [
    "pred2 = ncaa[ncaa['name'] == 'Kyrie Irving']\n",
    "pred2 = pred2.append(ncaa[ncaa['name'] == 'Derrick Williams'])\n",
    "pred2 = pred2.append(ncaa[ncaa['name'] == 'Enes Kanter'])\n",
    "pred2 = pred2.append(ncaa[ncaa['name'] == 'Tristan Thompson'])\n",
    "pred2 = pred2.append(ncaa[ncaa['name'] == 'Jonas Valanciunas'])\n",
    "pred2 = pred2.append(ncaa[ncaa['name'] == 'Jan Vesely'])\n",
    "pred2 = pred2.append(ncaa[ncaa['name'] == 'Bismack Biyombo'])\n",
    "pred2 = pred2.append(ncaa[ncaa['name'] == 'Brandon Knight'])\n",
    "pred2 = pred2.append(ncaa[ncaa['name'] == 'Kemba Walker'])\n",
    "pred2 = pred2.append(ncaa[ncaa['name'] == 'Klay Thompson'])\n",
    "pred2 = pred2.append(ncaa[ncaa['name'] == 'Alec Burks'])\n",
    "pred2 = pred2.append(ncaa[ncaa['name'] == 'Markieff Morris'])\n",
    "pred2 = pred2.append(ncaa[ncaa['name'] == 'Marcus Morris'])\n"
   ]
  },
  {
   "cell_type": "code",
   "execution_count": 1097,
   "metadata": {},
   "outputs": [],
   "source": [
    "pred2.drop(columns='Unnamed: 0',inplace=True)"
   ]
  },
  {
   "cell_type": "code",
   "execution_count": 1098,
   "metadata": {},
   "outputs": [
    {
     "data": {
      "text/html": [
       "<div>\n",
       "<style scoped>\n",
       "    .dataframe tbody tr th:only-of-type {\n",
       "        vertical-align: middle;\n",
       "    }\n",
       "\n",
       "    .dataframe tbody tr th {\n",
       "        vertical-align: top;\n",
       "    }\n",
       "\n",
       "    .dataframe thead th {\n",
       "        text-align: right;\n",
       "    }\n",
       "</style>\n",
       "<table border=\"1\" class=\"dataframe\">\n",
       "  <thead>\n",
       "    <tr style=\"text-align: right;\">\n",
       "      <th></th>\n",
       "      <th>weight</th>\n",
       "      <th>3PA</th>\n",
       "      <th>3P%</th>\n",
       "      <th>3P</th>\n",
       "      <th>FGA</th>\n",
       "      <th>FG%</th>\n",
       "      <th>FG</th>\n",
       "      <th>FT%</th>\n",
       "      <th>FTA</th>\n",
       "      <th>FT</th>\n",
       "      <th>G</th>\n",
       "      <th>PTS</th>\n",
       "      <th>labels</th>\n",
       "    </tr>\n",
       "  </thead>\n",
       "  <tbody>\n",
       "    <tr>\n",
       "      <th>1782</th>\n",
       "      <td>193.0</td>\n",
       "      <td>3.5</td>\n",
       "      <td>0.462</td>\n",
       "      <td>1.6</td>\n",
       "      <td>9.5</td>\n",
       "      <td>0.529</td>\n",
       "      <td>5.0</td>\n",
       "      <td>0.901</td>\n",
       "      <td>6.5</td>\n",
       "      <td>5.8</td>\n",
       "      <td>11.0</td>\n",
       "      <td>17.5</td>\n",
       "      <td>0</td>\n",
       "    </tr>\n",
       "    <tr>\n",
       "      <th>4071</th>\n",
       "      <td>240.0</td>\n",
       "      <td>1.3</td>\n",
       "      <td>0.511</td>\n",
       "      <td>0.7</td>\n",
       "      <td>9.6</td>\n",
       "      <td>0.586</td>\n",
       "      <td>5.6</td>\n",
       "      <td>0.719</td>\n",
       "      <td>8.2</td>\n",
       "      <td>5.9</td>\n",
       "      <td>69.0</td>\n",
       "      <td>17.8</td>\n",
       "      <td>0</td>\n",
       "    </tr>\n",
       "    <tr>\n",
       "      <th>3741</th>\n",
       "      <td>238.0</td>\n",
       "      <td>0.0</td>\n",
       "      <td>0.288</td>\n",
       "      <td>0.0</td>\n",
       "      <td>8.8</td>\n",
       "      <td>0.546</td>\n",
       "      <td>4.8</td>\n",
       "      <td>0.487</td>\n",
       "      <td>7.3</td>\n",
       "      <td>3.5</td>\n",
       "      <td>36.0</td>\n",
       "      <td>13.1</td>\n",
       "      <td>3</td>\n",
       "    </tr>\n",
       "    <tr>\n",
       "      <th>2099</th>\n",
       "      <td>189.0</td>\n",
       "      <td>6.1</td>\n",
       "      <td>0.377</td>\n",
       "      <td>2.3</td>\n",
       "      <td>13.5</td>\n",
       "      <td>0.423</td>\n",
       "      <td>5.7</td>\n",
       "      <td>0.795</td>\n",
       "      <td>4.5</td>\n",
       "      <td>3.6</td>\n",
       "      <td>38.0</td>\n",
       "      <td>17.3</td>\n",
       "      <td>1</td>\n",
       "    </tr>\n",
       "    <tr>\n",
       "      <th>3894</th>\n",
       "      <td>172.0</td>\n",
       "      <td>3.5</td>\n",
       "      <td>0.326</td>\n",
       "      <td>1.1</td>\n",
       "      <td>12.2</td>\n",
       "      <td>0.428</td>\n",
       "      <td>5.2</td>\n",
       "      <td>0.783</td>\n",
       "      <td>5.8</td>\n",
       "      <td>4.5</td>\n",
       "      <td>111.0</td>\n",
       "      <td>16.1</td>\n",
       "      <td>1</td>\n",
       "    </tr>\n",
       "    <tr>\n",
       "      <th>3735</th>\n",
       "      <td>215.0</td>\n",
       "      <td>6.3</td>\n",
       "      <td>0.390</td>\n",
       "      <td>2.5</td>\n",
       "      <td>14.4</td>\n",
       "      <td>0.424</td>\n",
       "      <td>6.1</td>\n",
       "      <td>0.827</td>\n",
       "      <td>3.9</td>\n",
       "      <td>3.2</td>\n",
       "      <td>98.0</td>\n",
       "      <td>17.9</td>\n",
       "      <td>1</td>\n",
       "    </tr>\n",
       "    <tr>\n",
       "      <th>514</th>\n",
       "      <td>214.0</td>\n",
       "      <td>2.2</td>\n",
       "      <td>0.313</td>\n",
       "      <td>0.7</td>\n",
       "      <td>12.6</td>\n",
       "      <td>0.495</td>\n",
       "      <td>6.2</td>\n",
       "      <td>0.804</td>\n",
       "      <td>7.3</td>\n",
       "      <td>5.9</td>\n",
       "      <td>68.0</td>\n",
       "      <td>19.0</td>\n",
       "      <td>0</td>\n",
       "    </tr>\n",
       "    <tr>\n",
       "      <th>2661</th>\n",
       "      <td>245.0</td>\n",
       "      <td>0.9</td>\n",
       "      <td>0.404</td>\n",
       "      <td>0.3</td>\n",
       "      <td>5.7</td>\n",
       "      <td>0.553</td>\n",
       "      <td>3.1</td>\n",
       "      <td>0.653</td>\n",
       "      <td>2.9</td>\n",
       "      <td>1.9</td>\n",
       "      <td>109.0</td>\n",
       "      <td>8.5</td>\n",
       "      <td>2</td>\n",
       "    </tr>\n",
       "    <tr>\n",
       "      <th>2660</th>\n",
       "      <td>235.0</td>\n",
       "      <td>1.1</td>\n",
       "      <td>0.358</td>\n",
       "      <td>0.4</td>\n",
       "      <td>8.4</td>\n",
       "      <td>0.555</td>\n",
       "      <td>4.7</td>\n",
       "      <td>0.660</td>\n",
       "      <td>4.3</td>\n",
       "      <td>2.9</td>\n",
       "      <td>109.0</td>\n",
       "      <td>12.6</td>\n",
       "      <td>3</td>\n",
       "    </tr>\n",
       "  </tbody>\n",
       "</table>\n",
       "</div>"
      ],
      "text/plain": [
       "      weight  3PA    3P%   3P   FGA    FG%   FG    FT%  FTA   FT      G   PTS  \\\n",
       "1782   193.0  3.5  0.462  1.6   9.5  0.529  5.0  0.901  6.5  5.8   11.0  17.5   \n",
       "4071   240.0  1.3  0.511  0.7   9.6  0.586  5.6  0.719  8.2  5.9   69.0  17.8   \n",
       "3741   238.0  0.0  0.288  0.0   8.8  0.546  4.8  0.487  7.3  3.5   36.0  13.1   \n",
       "2099   189.0  6.1  0.377  2.3  13.5  0.423  5.7  0.795  4.5  3.6   38.0  17.3   \n",
       "3894   172.0  3.5  0.326  1.1  12.2  0.428  5.2  0.783  5.8  4.5  111.0  16.1   \n",
       "3735   215.0  6.3  0.390  2.5  14.4  0.424  6.1  0.827  3.9  3.2   98.0  17.9   \n",
       "514    214.0  2.2  0.313  0.7  12.6  0.495  6.2  0.804  7.3  5.9   68.0  19.0   \n",
       "2661   245.0  0.9  0.404  0.3   5.7  0.553  3.1  0.653  2.9  1.9  109.0   8.5   \n",
       "2660   235.0  1.1  0.358  0.4   8.4  0.555  4.7  0.660  4.3  2.9  109.0  12.6   \n",
       "\n",
       "      labels  \n",
       "1782       0  \n",
       "4071       0  \n",
       "3741       3  \n",
       "2099       1  \n",
       "3894       1  \n",
       "3735       1  \n",
       "514        0  \n",
       "2661       2  \n",
       "2660       3  "
      ]
     },
     "execution_count": 1098,
     "metadata": {},
     "output_type": "execute_result"
    }
   ],
   "source": [
    "pred2 = pred2.loc[:,'weight':]\n",
    "pred2"
   ]
  },
  {
   "cell_type": "markdown",
   "metadata": {},
   "source": [
    "## Kyrie Irving"
   ]
  },
  {
   "cell_type": "code",
   "execution_count": 1099,
   "metadata": {
    "scrolled": true
   },
   "outputs": [
    {
     "data": {
      "text/html": [
       "<div>\n",
       "<style scoped>\n",
       "    .dataframe tbody tr th:only-of-type {\n",
       "        vertical-align: middle;\n",
       "    }\n",
       "\n",
       "    .dataframe tbody tr th {\n",
       "        vertical-align: top;\n",
       "    }\n",
       "\n",
       "    .dataframe thead th {\n",
       "        text-align: right;\n",
       "    }\n",
       "</style>\n",
       "<table border=\"1\" class=\"dataframe\">\n",
       "  <thead>\n",
       "    <tr style=\"text-align: right;\">\n",
       "      <th></th>\n",
       "      <th>weight</th>\n",
       "      <th>3PA</th>\n",
       "      <th>3P%</th>\n",
       "      <th>3P</th>\n",
       "      <th>FGA</th>\n",
       "      <th>FG%</th>\n",
       "      <th>FG</th>\n",
       "      <th>FT%</th>\n",
       "      <th>FTA</th>\n",
       "      <th>FT</th>\n",
       "      <th>G</th>\n",
       "      <th>PTS</th>\n",
       "      <th>labels</th>\n",
       "    </tr>\n",
       "  </thead>\n",
       "  <tbody>\n",
       "    <tr>\n",
       "      <th>1782</th>\n",
       "      <td>193.0</td>\n",
       "      <td>3.5</td>\n",
       "      <td>0.462</td>\n",
       "      <td>1.6</td>\n",
       "      <td>9.5</td>\n",
       "      <td>0.529</td>\n",
       "      <td>5.0</td>\n",
       "      <td>0.901</td>\n",
       "      <td>6.5</td>\n",
       "      <td>5.8</td>\n",
       "      <td>11.0</td>\n",
       "      <td>17.5</td>\n",
       "      <td>0</td>\n",
       "    </tr>\n",
       "  </tbody>\n",
       "</table>\n",
       "</div>"
      ],
      "text/plain": [
       "      weight  3PA    3P%   3P  FGA    FG%   FG    FT%  FTA   FT     G   PTS  \\\n",
       "1782   193.0  3.5  0.462  1.6  9.5  0.529  5.0  0.901  6.5  5.8  11.0  17.5   \n",
       "\n",
       "      labels  \n",
       "1782       0  "
      ]
     },
     "execution_count": 1099,
     "metadata": {},
     "output_type": "execute_result"
    }
   ],
   "source": [
    "similar1 = scipy.spatial.distance.cdist(pred,pred2[0:1],metric='euclidean')\n",
    "pred[similar1==similar1.min()]"
   ]
  },
  {
   "cell_type": "code",
   "execution_count": 1100,
   "metadata": {},
   "outputs": [
    {
     "data": {
      "text/html": [
       "<div>\n",
       "<style scoped>\n",
       "    .dataframe tbody tr th:only-of-type {\n",
       "        vertical-align: middle;\n",
       "    }\n",
       "\n",
       "    .dataframe tbody tr th {\n",
       "        vertical-align: top;\n",
       "    }\n",
       "\n",
       "    .dataframe thead th {\n",
       "        text-align: right;\n",
       "    }\n",
       "</style>\n",
       "<table border=\"1\" class=\"dataframe\">\n",
       "  <thead>\n",
       "    <tr style=\"text-align: right;\">\n",
       "      <th></th>\n",
       "      <th>0</th>\n",
       "    </tr>\n",
       "  </thead>\n",
       "  <tbody>\n",
       "    <tr>\n",
       "      <th>1782</th>\n",
       "      <td>0.000000</td>\n",
       "    </tr>\n",
       "    <tr>\n",
       "      <th>771</th>\n",
       "      <td>12.173972</td>\n",
       "    </tr>\n",
       "    <tr>\n",
       "      <th>2467</th>\n",
       "      <td>13.714091</td>\n",
       "    </tr>\n",
       "    <tr>\n",
       "      <th>2339</th>\n",
       "      <td>15.201290</td>\n",
       "    </tr>\n",
       "    <tr>\n",
       "      <th>644</th>\n",
       "      <td>15.971455</td>\n",
       "    </tr>\n",
       "    <tr>\n",
       "      <th>2222</th>\n",
       "      <td>16.395520</td>\n",
       "    </tr>\n",
       "    <tr>\n",
       "      <th>3854</th>\n",
       "      <td>16.456220</td>\n",
       "    </tr>\n",
       "    <tr>\n",
       "      <th>1453</th>\n",
       "      <td>17.250993</td>\n",
       "    </tr>\n",
       "    <tr>\n",
       "      <th>3007</th>\n",
       "      <td>17.699997</td>\n",
       "    </tr>\n",
       "    <tr>\n",
       "      <th>1248</th>\n",
       "      <td>17.726498</td>\n",
       "    </tr>\n",
       "    <tr>\n",
       "      <th>2902</th>\n",
       "      <td>18.021277</td>\n",
       "    </tr>\n",
       "    <tr>\n",
       "      <th>3320</th>\n",
       "      <td>18.763974</td>\n",
       "    </tr>\n",
       "    <tr>\n",
       "      <th>2682</th>\n",
       "      <td>18.807641</td>\n",
       "    </tr>\n",
       "    <tr>\n",
       "      <th>1882</th>\n",
       "      <td>19.121871</td>\n",
       "    </tr>\n",
       "    <tr>\n",
       "      <th>731</th>\n",
       "      <td>19.567505</td>\n",
       "    </tr>\n",
       "  </tbody>\n",
       "</table>\n",
       "</div>"
      ],
      "text/plain": [
       "              0\n",
       "1782   0.000000\n",
       "771   12.173972\n",
       "2467  13.714091\n",
       "2339  15.201290\n",
       "644   15.971455\n",
       "2222  16.395520\n",
       "3854  16.456220\n",
       "1453  17.250993\n",
       "3007  17.699997\n",
       "1248  17.726498\n",
       "2902  18.021277\n",
       "3320  18.763974\n",
       "2682  18.807641\n",
       "1882  19.121871\n",
       "731   19.567505"
      ]
     },
     "execution_count": 1100,
     "metadata": {},
     "output_type": "execute_result"
    }
   ],
   "source": [
    "a = np.sort(similar1)\n",
    "b = pd.DataFrame(a)\n",
    "b\n",
    "b.sort_values(by=0,ascending=True)[:15]"
   ]
  },
  {
   "cell_type": "code",
   "execution_count": 1101,
   "metadata": {},
   "outputs": [
    {
     "data": {
      "text/plain": [
       "Unnamed: 0                          771\n",
       "college          University of Michigan\n",
       "height                              6-5\n",
       "name                     Jamal Crawford\n",
       "position                              G\n",
       "url           /players/c/crawfja01.html\n",
       "weight                              200\n",
       "3PA                                 5.9\n",
       "3P%                               0.327\n",
       "3P                                  1.9\n",
       "FGA                                  15\n",
       "FG%                               0.412\n",
       "FG                                  6.2\n",
       "FT%                               0.784\n",
       "FTA                                   3\n",
       "FT                                  2.4\n",
       "G                                    17\n",
       "PTS                                16.6\n",
       "labels                                1\n",
       "Name: 771, dtype: object"
      ]
     },
     "execution_count": 1101,
     "metadata": {},
     "output_type": "execute_result"
    }
   ],
   "source": [
    "ncaa.loc[771]"
   ]
  },
  {
   "cell_type": "code",
   "execution_count": 1102,
   "metadata": {},
   "outputs": [],
   "source": [
    "BR.append(scipy.spatial.distance.cdist(nba[nba['Player'] =='Kyrie Irving'].iloc[:,1:], \n",
    "                                 nba[nba['Player'] =='Chris Paul'].iloc[:,1:], metric='euclidean'))\n",
    "DN.append(scipy.spatial.distance.cdist(nba[nba['Player'] =='Kyrie Irving'].iloc[:,1:], \n",
    "                                 nba[nba['Player'] =='Mike Conley'].iloc[:,1:], metric='euclidean'))\n",
    "My.append(scipy.spatial.distance.cdist(nba[nba['Player'] =='Kyrie Irving'].iloc[:,1:], \n",
    "                                 nba[nba['Player'] =='Jamal Crawford'].iloc[:,1:], metric='euclidean'))"
   ]
  },
  {
   "cell_type": "code",
   "execution_count": 1103,
   "metadata": {},
   "outputs": [
    {
     "data": {
      "text/plain": [
       "array([[422.3751715]])"
      ]
     },
     "execution_count": 1103,
     "metadata": {},
     "output_type": "execute_result"
    }
   ],
   "source": [
    "scipy.spatial.distance.cdist(nba[nba['Player'] =='Kyrie Irving'].iloc[:,1:], \n",
    "                                 nba[nba['Player'] =='Chris Paul'].iloc[:,1:], metric='euclidean')"
   ]
  },
  {
   "cell_type": "code",
   "execution_count": 1104,
   "metadata": {},
   "outputs": [
    {
     "data": {
      "text/plain": [
       "array([[549.16954331]])"
      ]
     },
     "execution_count": 1104,
     "metadata": {},
     "output_type": "execute_result"
    }
   ],
   "source": [
    "scipy.spatial.distance.cdist(nba[nba['Player'] =='Kyrie Irving'].iloc[:,1:], \n",
    "                                 nba[nba['Player'] =='Mike Conley'].iloc[:,1:], metric='euclidean')"
   ]
  },
  {
   "cell_type": "code",
   "execution_count": 1105,
   "metadata": {},
   "outputs": [
    {
     "ename": "SyntaxError",
     "evalue": "invalid syntax (<ipython-input-1105-4ac3f4d826fc>, line 2)",
     "output_type": "error",
     "traceback": [
      "\u001b[1;36m  File \u001b[1;32m\"<ipython-input-1105-4ac3f4d826fc>\"\u001b[1;36m, line \u001b[1;32m2\u001b[0m\n\u001b[1;33m    nba[nba['Player'] =='Jamal Crawford'].iloc[:,1:], metric='euclidean')b\u001b[0m\n\u001b[1;37m                                                                         ^\u001b[0m\n\u001b[1;31mSyntaxError\u001b[0m\u001b[1;31m:\u001b[0m invalid syntax\n"
     ]
    }
   ],
   "source": [
    "scipy.spatial.distance.cdist(nba[nba['Player'] =='Kyrie Irving'].iloc[:,1:], \n",
    "                                 nba[nba['Player'] =='Jamal Crawford'].iloc[:,1:], metric='euclidean')b"
   ]
  },
  {
   "cell_type": "markdown",
   "metadata": {},
   "source": [
    "My model came last but the margins are quite small so the comparison although not the best, is correct to make w.r.t to the other 2"
   ]
  },
  {
   "cell_type": "markdown",
   "metadata": {},
   "source": [
    "## Derrick Williams"
   ]
  },
  {
   "cell_type": "code",
   "execution_count": 1106,
   "metadata": {},
   "outputs": [
    {
     "data": {
      "text/html": [
       "<div>\n",
       "<style scoped>\n",
       "    .dataframe tbody tr th:only-of-type {\n",
       "        vertical-align: middle;\n",
       "    }\n",
       "\n",
       "    .dataframe tbody tr th {\n",
       "        vertical-align: top;\n",
       "    }\n",
       "\n",
       "    .dataframe thead th {\n",
       "        text-align: right;\n",
       "    }\n",
       "</style>\n",
       "<table border=\"1\" class=\"dataframe\">\n",
       "  <thead>\n",
       "    <tr style=\"text-align: right;\">\n",
       "      <th></th>\n",
       "      <th>weight</th>\n",
       "      <th>3PA</th>\n",
       "      <th>3P%</th>\n",
       "      <th>3P</th>\n",
       "      <th>FGA</th>\n",
       "      <th>FG%</th>\n",
       "      <th>FG</th>\n",
       "      <th>FT%</th>\n",
       "      <th>FTA</th>\n",
       "      <th>FT</th>\n",
       "      <th>G</th>\n",
       "      <th>PTS</th>\n",
       "      <th>labels</th>\n",
       "    </tr>\n",
       "  </thead>\n",
       "  <tbody>\n",
       "    <tr>\n",
       "      <th>4071</th>\n",
       "      <td>240.0</td>\n",
       "      <td>1.3</td>\n",
       "      <td>0.511</td>\n",
       "      <td>0.7</td>\n",
       "      <td>9.6</td>\n",
       "      <td>0.586</td>\n",
       "      <td>5.6</td>\n",
       "      <td>0.719</td>\n",
       "      <td>8.2</td>\n",
       "      <td>5.9</td>\n",
       "      <td>69.0</td>\n",
       "      <td>17.8</td>\n",
       "      <td>0</td>\n",
       "    </tr>\n",
       "  </tbody>\n",
       "</table>\n",
       "</div>"
      ],
      "text/plain": [
       "      weight  3PA    3P%   3P  FGA    FG%   FG    FT%  FTA   FT     G   PTS  \\\n",
       "4071   240.0  1.3  0.511  0.7  9.6  0.586  5.6  0.719  8.2  5.9  69.0  17.8   \n",
       "\n",
       "      labels  \n",
       "4071       0  "
      ]
     },
     "execution_count": 1106,
     "metadata": {},
     "output_type": "execute_result"
    }
   ],
   "source": [
    "similar1 = scipy.spatial.distance.cdist(pred,pred2[1:2],metric='euclidean')\n",
    "pred[similar1==similar1.min()]"
   ]
  },
  {
   "cell_type": "code",
   "execution_count": 1107,
   "metadata": {},
   "outputs": [
    {
     "data": {
      "text/html": [
       "<div>\n",
       "<style scoped>\n",
       "    .dataframe tbody tr th:only-of-type {\n",
       "        vertical-align: middle;\n",
       "    }\n",
       "\n",
       "    .dataframe tbody tr th {\n",
       "        vertical-align: top;\n",
       "    }\n",
       "\n",
       "    .dataframe thead th {\n",
       "        text-align: right;\n",
       "    }\n",
       "</style>\n",
       "<table border=\"1\" class=\"dataframe\">\n",
       "  <thead>\n",
       "    <tr style=\"text-align: right;\">\n",
       "      <th></th>\n",
       "      <th>0</th>\n",
       "    </tr>\n",
       "  </thead>\n",
       "  <tbody>\n",
       "    <tr>\n",
       "      <th>4071</th>\n",
       "      <td>0.000000</td>\n",
       "    </tr>\n",
       "    <tr>\n",
       "      <th>4227</th>\n",
       "      <td>5.172284</td>\n",
       "    </tr>\n",
       "    <tr>\n",
       "      <th>1113</th>\n",
       "      <td>5.975697</td>\n",
       "    </tr>\n",
       "    <tr>\n",
       "      <th>4088</th>\n",
       "      <td>6.520269</td>\n",
       "    </tr>\n",
       "    <tr>\n",
       "      <th>4024</th>\n",
       "      <td>6.742088</td>\n",
       "    </tr>\n",
       "    <tr>\n",
       "      <th>91</th>\n",
       "      <td>6.963369</td>\n",
       "    </tr>\n",
       "    <tr>\n",
       "      <th>275</th>\n",
       "      <td>7.878699</td>\n",
       "    </tr>\n",
       "    <tr>\n",
       "      <th>2396</th>\n",
       "      <td>8.093242</td>\n",
       "    </tr>\n",
       "    <tr>\n",
       "      <th>3965</th>\n",
       "      <td>8.719390</td>\n",
       "    </tr>\n",
       "    <tr>\n",
       "      <th>3293</th>\n",
       "      <td>8.946839</td>\n",
       "    </tr>\n",
       "    <tr>\n",
       "      <th>795</th>\n",
       "      <td>9.090987</td>\n",
       "    </tr>\n",
       "    <tr>\n",
       "      <th>4090</th>\n",
       "      <td>9.529326</td>\n",
       "    </tr>\n",
       "    <tr>\n",
       "      <th>2169</th>\n",
       "      <td>9.567004</td>\n",
       "    </tr>\n",
       "    <tr>\n",
       "      <th>2538</th>\n",
       "      <td>9.589027</td>\n",
       "    </tr>\n",
       "    <tr>\n",
       "      <th>2567</th>\n",
       "      <td>9.591179</td>\n",
       "    </tr>\n",
       "  </tbody>\n",
       "</table>\n",
       "</div>"
      ],
      "text/plain": [
       "             0\n",
       "4071  0.000000\n",
       "4227  5.172284\n",
       "1113  5.975697\n",
       "4088  6.520269\n",
       "4024  6.742088\n",
       "91    6.963369\n",
       "275   7.878699\n",
       "2396  8.093242\n",
       "3965  8.719390\n",
       "3293  8.946839\n",
       "795   9.090987\n",
       "4090  9.529326\n",
       "2169  9.567004\n",
       "2538  9.589027\n",
       "2567  9.591179"
      ]
     },
     "execution_count": 1107,
     "metadata": {},
     "output_type": "execute_result"
    }
   ],
   "source": [
    "a = np.sort(similar1)\n",
    "b = pd.DataFrame(a)\n",
    "b\n",
    "b.sort_values(by=0,ascending=True)[:15]"
   ]
  },
  {
   "cell_type": "code",
   "execution_count": 1108,
   "metadata": {},
   "outputs": [
    {
     "data": {
      "text/plain": [
       "Unnamed: 0                         1113\n",
       "college              University of Iowa\n",
       "height                              6-8\n",
       "name                       Reggie Evans\n",
       "position                              F\n",
       "url           /players/e/evansre01.html\n",
       "weight                              245\n",
       "3PA                                   0\n",
       "3P%                                 0.5\n",
       "3P                                    0\n",
       "FGA                                 9.7\n",
       "FG%                               0.486\n",
       "FG                                  4.7\n",
       "FT%                               0.625\n",
       "FTA                                 9.4\n",
       "FT                                  5.9\n",
       "G                                    69\n",
       "PTS                                15.3\n",
       "labels                                0\n",
       "Name: 1113, dtype: object"
      ]
     },
     "execution_count": 1108,
     "metadata": {},
     "output_type": "execute_result"
    }
   ],
   "source": [
    "ncaa.loc[1113]"
   ]
  },
  {
   "cell_type": "code",
   "execution_count": 1109,
   "metadata": {},
   "outputs": [],
   "source": [
    "BR.append(scipy.spatial.distance.cdist(nba[nba['Player'] =='Derrick Williams'].iloc[:,1:], \n",
    "                                 nba[nba['Player'] =='Michael Beasley'].iloc[:,1:], metric='euclidean'))\n",
    "DN.append(scipy.spatial.distance.cdist(nba[nba['Player'] =='Derrick Williams'].iloc[:,1:], \n",
    "                                 nba[nba['Player'] =='David West'].iloc[:,1:], metric='euclidean'))\n",
    "My.append(scipy.spatial.distance.cdist(nba[nba['Player'] =='Derrick Williams'].iloc[:,1:], \n",
    "                                 nba[nba['Player'] =='Reggie Evans'].iloc[:,1:], metric='euclidean'))"
   ]
  },
  {
   "cell_type": "code",
   "execution_count": 1110,
   "metadata": {},
   "outputs": [
    {
     "data": {
      "text/plain": [
       "array([[489.59365294]])"
      ]
     },
     "execution_count": 1110,
     "metadata": {},
     "output_type": "execute_result"
    }
   ],
   "source": [
    "scipy.spatial.distance.cdist(nba[nba['Player'] =='Derrick Williams'].iloc[:,1:], \n",
    "                                 nba[nba['Player'] =='Michael Beasley'].iloc[:,1:], metric='euclidean')"
   ]
  },
  {
   "cell_type": "code",
   "execution_count": 1111,
   "metadata": {},
   "outputs": [
    {
     "data": {
      "text/plain": [
       "array([[960.92498136]])"
      ]
     },
     "execution_count": 1111,
     "metadata": {},
     "output_type": "execute_result"
    }
   ],
   "source": [
    "scipy.spatial.distance.cdist(nba[nba['Player'] =='Derrick Williams'].iloc[:,1:], \n",
    "                                 nba[nba['Player'] =='David West'].iloc[:,1:], metric='euclidean')"
   ]
  },
  {
   "cell_type": "code",
   "execution_count": 1112,
   "metadata": {},
   "outputs": [
    {
     "data": {
      "text/plain": [
       "array([[437.87733465]])"
      ]
     },
     "execution_count": 1112,
     "metadata": {},
     "output_type": "execute_result"
    }
   ],
   "source": [
    "scipy.spatial.distance.cdist(nba[nba['Player'] =='Derrick Williams'].iloc[:,1:], \n",
    "                                 nba[nba['Player'] =='Reggie Evans'].iloc[:,1:], metric='euclidean')"
   ]
  },
  {
   "cell_type": "markdown",
   "metadata": {},
   "source": [
    "My model placed 1st, bleacher report placed 2nd losing out by a small margin, so both models do a good job comparing"
   ]
  },
  {
   "cell_type": "markdown",
   "metadata": {},
   "source": [
    "## Tristan Thompson"
   ]
  },
  {
   "cell_type": "code",
   "execution_count": 1113,
   "metadata": {},
   "outputs": [
    {
     "data": {
      "text/html": [
       "<div>\n",
       "<style scoped>\n",
       "    .dataframe tbody tr th:only-of-type {\n",
       "        vertical-align: middle;\n",
       "    }\n",
       "\n",
       "    .dataframe tbody tr th {\n",
       "        vertical-align: top;\n",
       "    }\n",
       "\n",
       "    .dataframe thead th {\n",
       "        text-align: right;\n",
       "    }\n",
       "</style>\n",
       "<table border=\"1\" class=\"dataframe\">\n",
       "  <thead>\n",
       "    <tr style=\"text-align: right;\">\n",
       "      <th></th>\n",
       "      <th>weight</th>\n",
       "      <th>3PA</th>\n",
       "      <th>3P%</th>\n",
       "      <th>3P</th>\n",
       "      <th>FGA</th>\n",
       "      <th>FG%</th>\n",
       "      <th>FG</th>\n",
       "      <th>FT%</th>\n",
       "      <th>FTA</th>\n",
       "      <th>FT</th>\n",
       "      <th>G</th>\n",
       "      <th>PTS</th>\n",
       "      <th>labels</th>\n",
       "    </tr>\n",
       "  </thead>\n",
       "  <tbody>\n",
       "    <tr>\n",
       "      <th>3741</th>\n",
       "      <td>238.0</td>\n",
       "      <td>0.0</td>\n",
       "      <td>0.288</td>\n",
       "      <td>0.0</td>\n",
       "      <td>8.8</td>\n",
       "      <td>0.546</td>\n",
       "      <td>4.8</td>\n",
       "      <td>0.487</td>\n",
       "      <td>7.3</td>\n",
       "      <td>3.5</td>\n",
       "      <td>36.0</td>\n",
       "      <td>13.1</td>\n",
       "      <td>3</td>\n",
       "    </tr>\n",
       "  </tbody>\n",
       "</table>\n",
       "</div>"
      ],
      "text/plain": [
       "      weight  3PA    3P%   3P  FGA    FG%   FG    FT%  FTA   FT     G   PTS  \\\n",
       "3741   238.0  0.0  0.288  0.0  8.8  0.546  4.8  0.487  7.3  3.5  36.0  13.1   \n",
       "\n",
       "      labels  \n",
       "3741       3  "
      ]
     },
     "execution_count": 1113,
     "metadata": {},
     "output_type": "execute_result"
    }
   ],
   "source": [
    "similar1 = scipy.spatial.distance.cdist(pred,pred2[2:3],metric='euclidean')\n",
    "pred[similar1==similar1.min()]"
   ]
  },
  {
   "cell_type": "code",
   "execution_count": 1114,
   "metadata": {},
   "outputs": [
    {
     "data": {
      "text/html": [
       "<div>\n",
       "<style scoped>\n",
       "    .dataframe tbody tr th:only-of-type {\n",
       "        vertical-align: middle;\n",
       "    }\n",
       "\n",
       "    .dataframe tbody tr th {\n",
       "        vertical-align: top;\n",
       "    }\n",
       "\n",
       "    .dataframe thead th {\n",
       "        text-align: right;\n",
       "    }\n",
       "</style>\n",
       "<table border=\"1\" class=\"dataframe\">\n",
       "  <thead>\n",
       "    <tr style=\"text-align: right;\">\n",
       "      <th></th>\n",
       "      <th>0</th>\n",
       "    </tr>\n",
       "  </thead>\n",
       "  <tbody>\n",
       "    <tr>\n",
       "      <th>3741</th>\n",
       "      <td>0.000000</td>\n",
       "    </tr>\n",
       "    <tr>\n",
       "      <th>4098</th>\n",
       "      <td>4.394535</td>\n",
       "    </tr>\n",
       "    <tr>\n",
       "      <th>397</th>\n",
       "      <td>4.885668</td>\n",
       "    </tr>\n",
       "    <tr>\n",
       "      <th>22</th>\n",
       "      <td>5.691636</td>\n",
       "    </tr>\n",
       "    <tr>\n",
       "      <th>47</th>\n",
       "      <td>5.921087</td>\n",
       "    </tr>\n",
       "    <tr>\n",
       "      <th>1557</th>\n",
       "      <td>6.163471</td>\n",
       "    </tr>\n",
       "    <tr>\n",
       "      <th>1645</th>\n",
       "      <td>6.775771</td>\n",
       "    </tr>\n",
       "    <tr>\n",
       "      <th>361</th>\n",
       "      <td>6.892412</td>\n",
       "    </tr>\n",
       "    <tr>\n",
       "      <th>646</th>\n",
       "      <td>6.893629</td>\n",
       "    </tr>\n",
       "    <tr>\n",
       "      <th>3867</th>\n",
       "      <td>7.502118</td>\n",
       "    </tr>\n",
       "    <tr>\n",
       "      <th>3811</th>\n",
       "      <td>7.842983</td>\n",
       "    </tr>\n",
       "    <tr>\n",
       "      <th>2056</th>\n",
       "      <td>7.908899</td>\n",
       "    </tr>\n",
       "    <tr>\n",
       "      <th>2317</th>\n",
       "      <td>8.122030</td>\n",
       "    </tr>\n",
       "    <tr>\n",
       "      <th>3781</th>\n",
       "      <td>8.703340</td>\n",
       "    </tr>\n",
       "    <tr>\n",
       "      <th>265</th>\n",
       "      <td>8.785416</td>\n",
       "    </tr>\n",
       "  </tbody>\n",
       "</table>\n",
       "</div>"
      ],
      "text/plain": [
       "             0\n",
       "3741  0.000000\n",
       "4098  4.394535\n",
       "397   4.885668\n",
       "22    5.691636\n",
       "47    5.921087\n",
       "1557  6.163471\n",
       "1645  6.775771\n",
       "361   6.892412\n",
       "646   6.893629\n",
       "3867  7.502118\n",
       "3811  7.842983\n",
       "2056  7.908899\n",
       "2317  8.122030\n",
       "3781  8.703340\n",
       "265   8.785416"
      ]
     },
     "execution_count": 1114,
     "metadata": {},
     "output_type": "execute_result"
    }
   ],
   "source": [
    "a = np.sort(similar1)\n",
    "b = pd.DataFrame(a)\n",
    "b\n",
    "b.sort_values(by=0,ascending=True)[:15]"
   ]
  },
  {
   "cell_type": "code",
   "execution_count": 1115,
   "metadata": {},
   "outputs": [
    {
     "data": {
      "text/plain": [
       "Unnamed: 0                            4098\n",
       "college       University of North Carolina\n",
       "height                                 6-9\n",
       "name                       Marvin Williams\n",
       "position                                 F\n",
       "url              /players/w/willima02.html\n",
       "weight                                 237\n",
       "3PA                                    1.2\n",
       "3P%                                  0.432\n",
       "3P                                     0.5\n",
       "FGA                                    6.9\n",
       "FG%                                  0.506\n",
       "FG                                     3.5\n",
       "FT%                                  0.847\n",
       "FTA                                    4.5\n",
       "FT                                     3.8\n",
       "G                                       36\n",
       "PTS                                   11.3\n",
       "labels                                   3\n",
       "Name: 4098, dtype: object"
      ]
     },
     "execution_count": 1115,
     "metadata": {},
     "output_type": "execute_result"
    }
   ],
   "source": [
    "ncaa.loc[4098]"
   ]
  },
  {
   "cell_type": "code",
   "execution_count": 1116,
   "metadata": {},
   "outputs": [],
   "source": [
    "BR.append(scipy.spatial.distance.cdist(nba[nba['Player'] =='Tristan Thompson'].iloc[:,1:], \n",
    "                                 nba[nba['Player'] =='Tyrus Thomas'].iloc[:,1:], metric='euclidean'))\n",
    "DN.append(scipy.spatial.distance.cdist(nba[nba['Player'] =='Tristan Thompson'].iloc[:,1:], \n",
    "                                 nba[nba['Player'] =='Charles Smith'].iloc[:,1:], metric='euclidean'))\n",
    "My.append(scipy.spatial.distance.cdist(nba[nba['Player'] =='Tristan Thompson'].iloc[:,1:], \n",
    "                                 nba[nba['Player'] =='Marvin Williams'].iloc[:,1:], metric='euclidean'))"
   ]
  },
  {
   "cell_type": "code",
   "execution_count": 1117,
   "metadata": {},
   "outputs": [
    {
     "data": {
      "text/plain": [
       "array([[798.48708568]])"
      ]
     },
     "execution_count": 1117,
     "metadata": {},
     "output_type": "execute_result"
    }
   ],
   "source": [
    "scipy.spatial.distance.cdist(nba[nba['Player'] =='Tristan Thompson'].iloc[:,1:], \n",
    "                                 nba[nba['Player'] =='Tyrus Thomas'].iloc[:,1:], metric='euclidean')"
   ]
  },
  {
   "cell_type": "code",
   "execution_count": 1118,
   "metadata": {},
   "outputs": [
    {
     "data": {
      "text/plain": [
       "array([[765.32224291]])"
      ]
     },
     "execution_count": 1118,
     "metadata": {},
     "output_type": "execute_result"
    }
   ],
   "source": [
    "scipy.spatial.distance.cdist(nba[nba['Player'] =='Tristan Thompson'].iloc[:,1:], \n",
    "                                 nba[nba['Player'] =='Charles Smith'].iloc[:,1:], metric='euclidean')"
   ]
  },
  {
   "cell_type": "code",
   "execution_count": 1119,
   "metadata": {},
   "outputs": [
    {
     "data": {
      "text/plain": [
       "array([[435.11481818]])"
      ]
     },
     "execution_count": 1119,
     "metadata": {},
     "output_type": "execute_result"
    }
   ],
   "source": [
    "scipy.spatial.distance.cdist(nba[nba['Player'] =='Tristan Thompson'].iloc[:,1:], \n",
    "                                 nba[nba['Player'] =='Marvin Williams'].iloc[:,1:], metric='euclidean')"
   ]
  },
  {
   "cell_type": "markdown",
   "metadata": {},
   "source": [
    "My model was next to none 1st"
   ]
  },
  {
   "cell_type": "markdown",
   "metadata": {},
   "source": [
    "## Brandon Knight"
   ]
  },
  {
   "cell_type": "code",
   "execution_count": 1120,
   "metadata": {},
   "outputs": [
    {
     "data": {
      "text/html": [
       "<div>\n",
       "<style scoped>\n",
       "    .dataframe tbody tr th:only-of-type {\n",
       "        vertical-align: middle;\n",
       "    }\n",
       "\n",
       "    .dataframe tbody tr th {\n",
       "        vertical-align: top;\n",
       "    }\n",
       "\n",
       "    .dataframe thead th {\n",
       "        text-align: right;\n",
       "    }\n",
       "</style>\n",
       "<table border=\"1\" class=\"dataframe\">\n",
       "  <thead>\n",
       "    <tr style=\"text-align: right;\">\n",
       "      <th></th>\n",
       "      <th>weight</th>\n",
       "      <th>3PA</th>\n",
       "      <th>3P%</th>\n",
       "      <th>3P</th>\n",
       "      <th>FGA</th>\n",
       "      <th>FG%</th>\n",
       "      <th>FG</th>\n",
       "      <th>FT%</th>\n",
       "      <th>FTA</th>\n",
       "      <th>FT</th>\n",
       "      <th>G</th>\n",
       "      <th>PTS</th>\n",
       "      <th>labels</th>\n",
       "    </tr>\n",
       "  </thead>\n",
       "  <tbody>\n",
       "    <tr>\n",
       "      <th>2099</th>\n",
       "      <td>189.0</td>\n",
       "      <td>6.1</td>\n",
       "      <td>0.377</td>\n",
       "      <td>2.3</td>\n",
       "      <td>13.5</td>\n",
       "      <td>0.423</td>\n",
       "      <td>5.7</td>\n",
       "      <td>0.795</td>\n",
       "      <td>4.5</td>\n",
       "      <td>3.6</td>\n",
       "      <td>38.0</td>\n",
       "      <td>17.3</td>\n",
       "      <td>1</td>\n",
       "    </tr>\n",
       "  </tbody>\n",
       "</table>\n",
       "</div>"
      ],
      "text/plain": [
       "      weight  3PA    3P%   3P   FGA    FG%   FG    FT%  FTA   FT     G   PTS  \\\n",
       "2099   189.0  6.1  0.377  2.3  13.5  0.423  5.7  0.795  4.5  3.6  38.0  17.3   \n",
       "\n",
       "      labels  \n",
       "2099       1  "
      ]
     },
     "execution_count": 1120,
     "metadata": {},
     "output_type": "execute_result"
    }
   ],
   "source": [
    "similar1 = scipy.spatial.distance.cdist(pred,pred2[3:4],metric='euclidean')\n",
    "pred[similar1==similar1.min()]"
   ]
  },
  {
   "cell_type": "code",
   "execution_count": 1121,
   "metadata": {},
   "outputs": [
    {
     "data": {
      "text/html": [
       "<div>\n",
       "<style scoped>\n",
       "    .dataframe tbody tr th:only-of-type {\n",
       "        vertical-align: middle;\n",
       "    }\n",
       "\n",
       "    .dataframe tbody tr th {\n",
       "        vertical-align: top;\n",
       "    }\n",
       "\n",
       "    .dataframe thead th {\n",
       "        text-align: right;\n",
       "    }\n",
       "</style>\n",
       "<table border=\"1\" class=\"dataframe\">\n",
       "  <thead>\n",
       "    <tr style=\"text-align: right;\">\n",
       "      <th></th>\n",
       "      <th>0</th>\n",
       "    </tr>\n",
       "  </thead>\n",
       "  <tbody>\n",
       "    <tr>\n",
       "      <th>2099</th>\n",
       "      <td>0.000000</td>\n",
       "    </tr>\n",
       "    <tr>\n",
       "      <th>1777</th>\n",
       "      <td>2.400879</td>\n",
       "    </tr>\n",
       "    <tr>\n",
       "      <th>4005</th>\n",
       "      <td>5.168921</td>\n",
       "    </tr>\n",
       "    <tr>\n",
       "      <th>3243</th>\n",
       "      <td>5.688709</td>\n",
       "    </tr>\n",
       "    <tr>\n",
       "      <th>168</th>\n",
       "      <td>5.955039</td>\n",
       "    </tr>\n",
       "    <tr>\n",
       "      <th>2514</th>\n",
       "      <td>7.014461</td>\n",
       "    </tr>\n",
       "    <tr>\n",
       "      <th>3287</th>\n",
       "      <td>7.259708</td>\n",
       "    </tr>\n",
       "    <tr>\n",
       "      <th>3899</th>\n",
       "      <td>7.521026</td>\n",
       "    </tr>\n",
       "    <tr>\n",
       "      <th>1220</th>\n",
       "      <td>8.092598</td>\n",
       "    </tr>\n",
       "    <tr>\n",
       "      <th>250</th>\n",
       "      <td>8.146677</td>\n",
       "    </tr>\n",
       "    <tr>\n",
       "      <th>239</th>\n",
       "      <td>8.742581</td>\n",
       "    </tr>\n",
       "    <tr>\n",
       "      <th>3493</th>\n",
       "      <td>8.944146</td>\n",
       "    </tr>\n",
       "    <tr>\n",
       "      <th>1098</th>\n",
       "      <td>9.242923</td>\n",
       "    </tr>\n",
       "    <tr>\n",
       "      <th>731</th>\n",
       "      <td>9.434055</td>\n",
       "    </tr>\n",
       "    <tr>\n",
       "      <th>2373</th>\n",
       "      <td>9.494970</td>\n",
       "    </tr>\n",
       "  </tbody>\n",
       "</table>\n",
       "</div>"
      ],
      "text/plain": [
       "             0\n",
       "2099  0.000000\n",
       "1777  2.400879\n",
       "4005  5.168921\n",
       "3243  5.688709\n",
       "168   5.955039\n",
       "2514  7.014461\n",
       "3287  7.259708\n",
       "3899  7.521026\n",
       "1220  8.092598\n",
       "250   8.146677\n",
       "239   8.742581\n",
       "3493  8.944146\n",
       "1098  9.242923\n",
       "731   9.434055\n",
       "2373  9.494970"
      ]
     },
     "execution_count": 1121,
     "metadata": {},
     "output_type": "execute_result"
    }
   ],
   "source": [
    "a = np.sort(similar1)\n",
    "b = pd.DataFrame(a)\n",
    "b\n",
    "b.sort_values(by=0,ascending=True)[:15]"
   ]
  },
  {
   "cell_type": "code",
   "execution_count": 1122,
   "metadata": {},
   "outputs": [
    {
     "data": {
      "text/plain": [
       "Unnamed: 0                        3243\n",
       "college          University of Memphis\n",
       "height                             6-3\n",
       "name                      Derrick Rose\n",
       "position                             G\n",
       "url           /players/r/rosede01.html\n",
       "weight                             190\n",
       "3PA                                2.6\n",
       "3P%                              0.337\n",
       "3P                                 0.9\n",
       "FGA                               10.9\n",
       "FG%                              0.477\n",
       "FG                                 5.2\n",
       "FT%                              0.712\n",
       "FTA                                5.1\n",
       "FT                                 3.7\n",
       "G                                   40\n",
       "PTS                               14.9\n",
       "labels                               1\n",
       "Name: 3243, dtype: object"
      ]
     },
     "execution_count": 1122,
     "metadata": {},
     "output_type": "execute_result"
    }
   ],
   "source": [
    "ncaa.loc[3243]"
   ]
  },
  {
   "cell_type": "code",
   "execution_count": 1123,
   "metadata": {},
   "outputs": [],
   "source": [
    "BR.append(scipy.spatial.distance.cdist(nba[nba['Player'] =='Brandon Knight'].iloc[:,1:], \n",
    "                                 nba[nba['Player'] =='Chauncey Billups'].iloc[:,1:], metric='euclidean'))\n",
    "DN.append(scipy.spatial.distance.cdist(nba[nba['Player'] =='Brandon Knight'].iloc[:,1:], \n",
    "                                 nba[nba['Player'] =='Jason Terry'].iloc[:,1:], metric='euclidean'))\n",
    "My.append(scipy.spatial.distance.cdist(nba[nba['Player'] =='Brandon Knight'].iloc[:,1:], \n",
    "                                 nba[nba['Player'] =='Derrick Rose'].iloc[:,1:], metric='euclidean'))"
   ]
  },
  {
   "cell_type": "code",
   "execution_count": 1124,
   "metadata": {},
   "outputs": [
    {
     "data": {
      "text/plain": [
       "array([[253.08399139]])"
      ]
     },
     "execution_count": 1124,
     "metadata": {},
     "output_type": "execute_result"
    }
   ],
   "source": [
    "scipy.spatial.distance.cdist(nba[nba['Player'] =='Brandon Knight'].iloc[:,1:], \n",
    "                                 nba[nba['Player'] =='Chauncey Billups'].iloc[:,1:], metric='euclidean')"
   ]
  },
  {
   "cell_type": "code",
   "execution_count": 1125,
   "metadata": {},
   "outputs": [
    {
     "data": {
      "text/plain": [
       "array([[255.18177188]])"
      ]
     },
     "execution_count": 1125,
     "metadata": {},
     "output_type": "execute_result"
    }
   ],
   "source": [
    "scipy.spatial.distance.cdist(nba[nba['Player'] =='Brandon Knight'].iloc[:,1:], \n",
    "                                 nba[nba['Player'] =='Jason Terry'].iloc[:,1:], metric='euclidean')"
   ]
  },
  {
   "cell_type": "code",
   "execution_count": 1126,
   "metadata": {},
   "outputs": [
    {
     "data": {
      "text/plain": [
       "array([[594.18391328]])"
      ]
     },
     "execution_count": 1126,
     "metadata": {},
     "output_type": "execute_result"
    }
   ],
   "source": [
    "scipy.spatial.distance.cdist(nba[nba['Player'] =='Brandon Knight'].iloc[:,1:], \n",
    "                                 nba[nba['Player'] =='Derrick Rose'].iloc[:,1:], metric='euclidean')"
   ]
  },
  {
   "cell_type": "markdown",
   "metadata": {},
   "source": [
    "My model did a poor job here placing last by a susbstantial margin"
   ]
  },
  {
   "cell_type": "markdown",
   "metadata": {},
   "source": [
    "## Kemba Walker"
   ]
  },
  {
   "cell_type": "code",
   "execution_count": 1127,
   "metadata": {},
   "outputs": [
    {
     "data": {
      "text/html": [
       "<div>\n",
       "<style scoped>\n",
       "    .dataframe tbody tr th:only-of-type {\n",
       "        vertical-align: middle;\n",
       "    }\n",
       "\n",
       "    .dataframe tbody tr th {\n",
       "        vertical-align: top;\n",
       "    }\n",
       "\n",
       "    .dataframe thead th {\n",
       "        text-align: right;\n",
       "    }\n",
       "</style>\n",
       "<table border=\"1\" class=\"dataframe\">\n",
       "  <thead>\n",
       "    <tr style=\"text-align: right;\">\n",
       "      <th></th>\n",
       "      <th>weight</th>\n",
       "      <th>3PA</th>\n",
       "      <th>3P%</th>\n",
       "      <th>3P</th>\n",
       "      <th>FGA</th>\n",
       "      <th>FG%</th>\n",
       "      <th>FG</th>\n",
       "      <th>FT%</th>\n",
       "      <th>FTA</th>\n",
       "      <th>FT</th>\n",
       "      <th>G</th>\n",
       "      <th>PTS</th>\n",
       "      <th>labels</th>\n",
       "    </tr>\n",
       "  </thead>\n",
       "  <tbody>\n",
       "    <tr>\n",
       "      <th>3894</th>\n",
       "      <td>172.0</td>\n",
       "      <td>3.5</td>\n",
       "      <td>0.326</td>\n",
       "      <td>1.1</td>\n",
       "      <td>12.2</td>\n",
       "      <td>0.428</td>\n",
       "      <td>5.2</td>\n",
       "      <td>0.783</td>\n",
       "      <td>5.8</td>\n",
       "      <td>4.5</td>\n",
       "      <td>111.0</td>\n",
       "      <td>16.1</td>\n",
       "      <td>1</td>\n",
       "    </tr>\n",
       "  </tbody>\n",
       "</table>\n",
       "</div>"
      ],
      "text/plain": [
       "      weight  3PA    3P%   3P   FGA    FG%   FG    FT%  FTA   FT      G   PTS  \\\n",
       "3894   172.0  3.5  0.326  1.1  12.2  0.428  5.2  0.783  5.8  4.5  111.0  16.1   \n",
       "\n",
       "      labels  \n",
       "3894       1  "
      ]
     },
     "execution_count": 1127,
     "metadata": {},
     "output_type": "execute_result"
    }
   ],
   "source": [
    "similar1 = scipy.spatial.distance.cdist(pred,pred2[4:5],metric='euclidean')\n",
    "pred[similar1==similar1.min()]"
   ]
  },
  {
   "cell_type": "code",
   "execution_count": 1128,
   "metadata": {},
   "outputs": [
    {
     "data": {
      "text/html": [
       "<div>\n",
       "<style scoped>\n",
       "    .dataframe tbody tr th:only-of-type {\n",
       "        vertical-align: middle;\n",
       "    }\n",
       "\n",
       "    .dataframe tbody tr th {\n",
       "        vertical-align: top;\n",
       "    }\n",
       "\n",
       "    .dataframe thead th {\n",
       "        text-align: right;\n",
       "    }\n",
       "</style>\n",
       "<table border=\"1\" class=\"dataframe\">\n",
       "  <thead>\n",
       "    <tr style=\"text-align: right;\">\n",
       "      <th></th>\n",
       "      <th>0</th>\n",
       "    </tr>\n",
       "  </thead>\n",
       "  <tbody>\n",
       "    <tr>\n",
       "      <th>3894</th>\n",
       "      <td>0.000000</td>\n",
       "    </tr>\n",
       "    <tr>\n",
       "      <th>2645</th>\n",
       "      <td>4.017979</td>\n",
       "    </tr>\n",
       "    <tr>\n",
       "      <th>1598</th>\n",
       "      <td>4.221736</td>\n",
       "    </tr>\n",
       "    <tr>\n",
       "      <th>3839</th>\n",
       "      <td>4.338555</td>\n",
       "    </tr>\n",
       "    <tr>\n",
       "      <th>2093</th>\n",
       "      <td>4.577230</td>\n",
       "    </tr>\n",
       "    <tr>\n",
       "      <th>3807</th>\n",
       "      <td>4.577230</td>\n",
       "    </tr>\n",
       "    <tr>\n",
       "      <th>1767</th>\n",
       "      <td>4.577230</td>\n",
       "    </tr>\n",
       "    <tr>\n",
       "      <th>141</th>\n",
       "      <td>4.671516</td>\n",
       "    </tr>\n",
       "    <tr>\n",
       "      <th>536</th>\n",
       "      <td>4.671516</td>\n",
       "    </tr>\n",
       "    <tr>\n",
       "      <th>2457</th>\n",
       "      <td>4.671516</td>\n",
       "    </tr>\n",
       "    <tr>\n",
       "      <th>2810</th>\n",
       "      <td>4.671516</td>\n",
       "    </tr>\n",
       "    <tr>\n",
       "      <th>1105</th>\n",
       "      <td>4.671516</td>\n",
       "    </tr>\n",
       "    <tr>\n",
       "      <th>3141</th>\n",
       "      <td>4.671516</td>\n",
       "    </tr>\n",
       "    <tr>\n",
       "      <th>328</th>\n",
       "      <td>4.671516</td>\n",
       "    </tr>\n",
       "    <tr>\n",
       "      <th>2058</th>\n",
       "      <td>4.671516</td>\n",
       "    </tr>\n",
       "    <tr>\n",
       "      <th>2799</th>\n",
       "      <td>4.671516</td>\n",
       "    </tr>\n",
       "    <tr>\n",
       "      <th>507</th>\n",
       "      <td>4.671516</td>\n",
       "    </tr>\n",
       "    <tr>\n",
       "      <th>1277</th>\n",
       "      <td>4.671516</td>\n",
       "    </tr>\n",
       "    <tr>\n",
       "      <th>2814</th>\n",
       "      <td>4.671516</td>\n",
       "    </tr>\n",
       "    <tr>\n",
       "      <th>1257</th>\n",
       "      <td>4.671516</td>\n",
       "    </tr>\n",
       "  </tbody>\n",
       "</table>\n",
       "</div>"
      ],
      "text/plain": [
       "             0\n",
       "3894  0.000000\n",
       "2645  4.017979\n",
       "1598  4.221736\n",
       "3839  4.338555\n",
       "2093  4.577230\n",
       "3807  4.577230\n",
       "1767  4.577230\n",
       "141   4.671516\n",
       "536   4.671516\n",
       "2457  4.671516\n",
       "2810  4.671516\n",
       "1105  4.671516\n",
       "3141  4.671516\n",
       "328   4.671516\n",
       "2058  4.671516\n",
       "2799  4.671516\n",
       "507   4.671516\n",
       "1277  4.671516\n",
       "2814  4.671516\n",
       "1257  4.671516"
      ]
     },
     "execution_count": 1128,
     "metadata": {},
     "output_type": "execute_result"
    }
   ],
   "source": [
    "a = np.sort(similar1)\n",
    "b = pd.DataFrame(a)\n",
    "b\n",
    "b.sort_values(by=0,ascending=True)[:20]"
   ]
  },
  {
   "cell_type": "code",
   "execution_count": 1129,
   "metadata": {},
   "outputs": [
    {
     "data": {
      "text/plain": [
       "Unnamed: 0                         1277\n",
       "college       Missouri State University\n",
       "height                              6-2\n",
       "name                    Winston Garland\n",
       "position                              G\n",
       "url           /players/g/garlawi01.html\n",
       "weight                              170\n",
       "3PA                                 3.8\n",
       "3P%                               0.366\n",
       "3P                                  1.4\n",
       "FGA                                10.7\n",
       "FG%                               0.455\n",
       "FG                                  4.9\n",
       "FT%                               0.756\n",
       "FTA                                 3.8\n",
       "FT                                  2.8\n",
       "G                                   109\n",
       "PTS                                  14\n",
       "labels                                1\n",
       "Name: 1277, dtype: object"
      ]
     },
     "execution_count": 1129,
     "metadata": {},
     "output_type": "execute_result"
    }
   ],
   "source": [
    "ncaa.loc[1277]"
   ]
  },
  {
   "cell_type": "code",
   "execution_count": 1130,
   "metadata": {},
   "outputs": [],
   "source": [
    "BR.append(scipy.spatial.distance.cdist(nba[nba['Player'] =='Kemba Walker'].iloc[:,1:], \n",
    "                                 nba[nba['Player'] =='Derrick Rose'].iloc[:,1:], metric='euclidean'))\n",
    "DN.append(scipy.spatial.distance.cdist(nba[nba['Player'] =='Kemba Walker'].iloc[:,1:], \n",
    "                                 nba[nba['Player'] =='Tim Hardaway'].iloc[:,1:], metric='euclidean'))\n",
    "My.append(scipy.spatial.distance.cdist(nba[nba['Player'] =='Kemba Walker'].iloc[:,1:], \n",
    "                                 nba[nba['Player'] =='Winston Garland'].iloc[:,1:], metric='euclidean'))"
   ]
  },
  {
   "cell_type": "code",
   "execution_count": 1131,
   "metadata": {},
   "outputs": [
    {
     "data": {
      "text/plain": [
       "array([[406.47706405]])"
      ]
     },
     "execution_count": 1131,
     "metadata": {},
     "output_type": "execute_result"
    }
   ],
   "source": [
    "scipy.spatial.distance.cdist(nba[nba['Player'] =='Kemba Walker'].iloc[:,1:], \n",
    "                                 nba[nba['Player'] =='Derrick Rose'].iloc[:,1:], metric='euclidean')"
   ]
  },
  {
   "cell_type": "code",
   "execution_count": 1132,
   "metadata": {},
   "outputs": [
    {
     "data": {
      "text/plain": [
       "array([[638.34877692]])"
      ]
     },
     "execution_count": 1132,
     "metadata": {},
     "output_type": "execute_result"
    }
   ],
   "source": [
    "scipy.spatial.distance.cdist(nba[nba['Player'] =='Kemba Walker'].iloc[:,1:], \n",
    "                                 nba[nba['Player'] =='Tim Hardaway'].iloc[:,1:], metric='euclidean')"
   ]
  },
  {
   "cell_type": "code",
   "execution_count": 1133,
   "metadata": {},
   "outputs": [
    {
     "data": {
      "text/plain": [
       "array([[1138.64817494]])"
      ]
     },
     "execution_count": 1133,
     "metadata": {},
     "output_type": "execute_result"
    }
   ],
   "source": [
    "scipy.spatial.distance.cdist(nba[nba['Player'] =='Kemba Walker'].iloc[:,1:], \n",
    "                                 nba[nba['Player'] =='Winston Garland'].iloc[:,1:], metric='euclidean')"
   ]
  },
  {
   "cell_type": "markdown",
   "metadata": {},
   "source": [
    "My model placed last here by a huge margin, did a poor job on the comparison"
   ]
  },
  {
   "cell_type": "markdown",
   "metadata": {},
   "source": [
    "## Klay Thompson"
   ]
  },
  {
   "cell_type": "code",
   "execution_count": 1134,
   "metadata": {},
   "outputs": [
    {
     "data": {
      "text/html": [
       "<div>\n",
       "<style scoped>\n",
       "    .dataframe tbody tr th:only-of-type {\n",
       "        vertical-align: middle;\n",
       "    }\n",
       "\n",
       "    .dataframe tbody tr th {\n",
       "        vertical-align: top;\n",
       "    }\n",
       "\n",
       "    .dataframe thead th {\n",
       "        text-align: right;\n",
       "    }\n",
       "</style>\n",
       "<table border=\"1\" class=\"dataframe\">\n",
       "  <thead>\n",
       "    <tr style=\"text-align: right;\">\n",
       "      <th></th>\n",
       "      <th>weight</th>\n",
       "      <th>3PA</th>\n",
       "      <th>3P%</th>\n",
       "      <th>3P</th>\n",
       "      <th>FGA</th>\n",
       "      <th>FG%</th>\n",
       "      <th>FG</th>\n",
       "      <th>FT%</th>\n",
       "      <th>FTA</th>\n",
       "      <th>FT</th>\n",
       "      <th>G</th>\n",
       "      <th>PTS</th>\n",
       "      <th>labels</th>\n",
       "    </tr>\n",
       "  </thead>\n",
       "  <tbody>\n",
       "    <tr>\n",
       "      <th>3735</th>\n",
       "      <td>215.0</td>\n",
       "      <td>6.3</td>\n",
       "      <td>0.39</td>\n",
       "      <td>2.5</td>\n",
       "      <td>14.4</td>\n",
       "      <td>0.424</td>\n",
       "      <td>6.1</td>\n",
       "      <td>0.827</td>\n",
       "      <td>3.9</td>\n",
       "      <td>3.2</td>\n",
       "      <td>98.0</td>\n",
       "      <td>17.9</td>\n",
       "      <td>1</td>\n",
       "    </tr>\n",
       "  </tbody>\n",
       "</table>\n",
       "</div>"
      ],
      "text/plain": [
       "      weight  3PA   3P%   3P   FGA    FG%   FG    FT%  FTA   FT     G   PTS  \\\n",
       "3735   215.0  6.3  0.39  2.5  14.4  0.424  6.1  0.827  3.9  3.2  98.0  17.9   \n",
       "\n",
       "      labels  \n",
       "3735       1  "
      ]
     },
     "execution_count": 1134,
     "metadata": {},
     "output_type": "execute_result"
    }
   ],
   "source": [
    "similar1 = scipy.spatial.distance.cdist(pred,pred2[5:6],metric='euclidean')\n",
    "pred[similar1==similar1.min()]"
   ]
  },
  {
   "cell_type": "code",
   "execution_count": 1135,
   "metadata": {},
   "outputs": [
    {
     "data": {
      "text/html": [
       "<div>\n",
       "<style scoped>\n",
       "    .dataframe tbody tr th:only-of-type {\n",
       "        vertical-align: middle;\n",
       "    }\n",
       "\n",
       "    .dataframe tbody tr th {\n",
       "        vertical-align: top;\n",
       "    }\n",
       "\n",
       "    .dataframe thead th {\n",
       "        text-align: right;\n",
       "    }\n",
       "</style>\n",
       "<table border=\"1\" class=\"dataframe\">\n",
       "  <thead>\n",
       "    <tr style=\"text-align: right;\">\n",
       "      <th></th>\n",
       "      <th>0</th>\n",
       "    </tr>\n",
       "  </thead>\n",
       "  <tbody>\n",
       "    <tr>\n",
       "      <th>3735</th>\n",
       "      <td>0.000000</td>\n",
       "    </tr>\n",
       "    <tr>\n",
       "      <th>1855</th>\n",
       "      <td>3.592364</td>\n",
       "    </tr>\n",
       "    <tr>\n",
       "      <th>81</th>\n",
       "      <td>4.390037</td>\n",
       "    </tr>\n",
       "    <tr>\n",
       "      <th>1824</th>\n",
       "      <td>4.444842</td>\n",
       "    </tr>\n",
       "    <tr>\n",
       "      <th>1949</th>\n",
       "      <td>4.720478</td>\n",
       "    </tr>\n",
       "    <tr>\n",
       "      <th>767</th>\n",
       "      <td>6.035778</td>\n",
       "    </tr>\n",
       "    <tr>\n",
       "      <th>392</th>\n",
       "      <td>6.373420</td>\n",
       "    </tr>\n",
       "    <tr>\n",
       "      <th>1924</th>\n",
       "      <td>6.589830</td>\n",
       "    </tr>\n",
       "    <tr>\n",
       "      <th>499</th>\n",
       "      <td>6.741966</td>\n",
       "    </tr>\n",
       "    <tr>\n",
       "      <th>4077</th>\n",
       "      <td>6.893858</td>\n",
       "    </tr>\n",
       "    <tr>\n",
       "      <th>3111</th>\n",
       "      <td>6.909942</td>\n",
       "    </tr>\n",
       "    <tr>\n",
       "      <th>259</th>\n",
       "      <td>7.157987</td>\n",
       "    </tr>\n",
       "    <tr>\n",
       "      <th>1111</th>\n",
       "      <td>7.397686</td>\n",
       "    </tr>\n",
       "    <tr>\n",
       "      <th>3244</th>\n",
       "      <td>7.433871</td>\n",
       "    </tr>\n",
       "    <tr>\n",
       "      <th>4220</th>\n",
       "      <td>7.507200</td>\n",
       "    </tr>\n",
       "  </tbody>\n",
       "</table>\n",
       "</div>"
      ],
      "text/plain": [
       "             0\n",
       "3735  0.000000\n",
       "1855  3.592364\n",
       "81    4.390037\n",
       "1824  4.444842\n",
       "1949  4.720478\n",
       "767   6.035778\n",
       "392   6.373420\n",
       "1924  6.589830\n",
       "499   6.741966\n",
       "4077  6.893858\n",
       "3111  6.909942\n",
       "259   7.157987\n",
       "1111  7.397686\n",
       "3244  7.433871\n",
       "4220  7.507200"
      ]
     },
     "execution_count": 1135,
     "metadata": {},
     "output_type": "execute_result"
    }
   ],
   "source": [
    "a = np.sort(similar1)\n",
    "b = pd.DataFrame(a)\n",
    "b\n",
    "b.sort_values(by=0,ascending=True)[:15]"
   ]
  },
  {
   "cell_type": "code",
   "execution_count": 1136,
   "metadata": {},
   "outputs": [
    {
     "data": {
      "text/plain": [
       "Unnamed: 0                        3111\n",
       "college          Ohio State University\n",
       "height                             6-6\n",
       "name                      Michael Redd\n",
       "position                             G\n",
       "url           /players/r/reddmi01.html\n",
       "weight                             220\n",
       "3PA                                4.1\n",
       "3P%                              0.319\n",
       "3P                                 1.3\n",
       "FGA                               16.3\n",
       "FG%                              0.448\n",
       "FG                                 7.3\n",
       "FT%                              0.649\n",
       "FTA                                5.7\n",
       "FT                                 3.7\n",
       "G                                   96\n",
       "PTS                               19.6\n",
       "labels                               0\n",
       "Name: 3111, dtype: object"
      ]
     },
     "execution_count": 1136,
     "metadata": {},
     "output_type": "execute_result"
    }
   ],
   "source": [
    "ncaa.loc[3111]"
   ]
  },
  {
   "cell_type": "code",
   "execution_count": 1137,
   "metadata": {},
   "outputs": [],
   "source": [
    "BR.append(scipy.spatial.distance.cdist(nba[nba['Player'] =='Klay Thompson'].iloc[:,1:], \n",
    "                                 nba[nba['Player'] =='Mike Miller'].iloc[:,1:], metric='euclidean'))\n",
    "DN.append(scipy.spatial.distance.cdist(nba[nba['Player'] =='Klay Thompson'].iloc[:,1:], \n",
    "                                 nba[nba['Player'] =='Marco Belinelli'].iloc[:,1:], metric='euclidean'))\n",
    "My.append(scipy.spatial.distance.cdist(nba[nba['Player'] =='Klay Thompson'].iloc[:,1:], \n",
    "                                 nba[nba['Player'] =='Michael Redd'].iloc[:,1:], metric='euclidean'))"
   ]
  },
  {
   "cell_type": "code",
   "execution_count": 1138,
   "metadata": {},
   "outputs": [
    {
     "data": {
      "text/plain": [
       "array([[1276.58135087]])"
      ]
     },
     "execution_count": 1138,
     "metadata": {},
     "output_type": "execute_result"
    }
   ],
   "source": [
    "scipy.spatial.distance.cdist(nba[nba['Player'] =='Klay Thompson'].iloc[:,1:], \n",
    "                                 nba[nba['Player'] =='Mike Miller'].iloc[:,1:], metric='euclidean')"
   ]
  },
  {
   "cell_type": "code",
   "execution_count": 1139,
   "metadata": {},
   "outputs": [
    {
     "data": {
      "text/plain": [
       "array([[1288.78627891]])"
      ]
     },
     "execution_count": 1139,
     "metadata": {},
     "output_type": "execute_result"
    }
   ],
   "source": [
    "scipy.spatial.distance.cdist(nba[nba['Player'] =='Klay Thompson'].iloc[:,1:], \n",
    "                                 nba[nba['Player'] =='Marco Belinelli'].iloc[:,1:], metric='euclidean')"
   ]
  },
  {
   "cell_type": "code",
   "execution_count": 1140,
   "metadata": {},
   "outputs": [
    {
     "data": {
      "text/plain": [
       "array([[778.23304678]])"
      ]
     },
     "execution_count": 1140,
     "metadata": {},
     "output_type": "execute_result"
    }
   ],
   "source": [
    "scipy.spatial.distance.cdist(nba[nba['Player'] =='Klay Thompson'].iloc[:,1:], \n",
    "                                 nba[nba['Player'] =='Michael Redd'].iloc[:,1:], metric='euclidean')"
   ]
  },
  {
   "cell_type": "markdown",
   "metadata": {},
   "source": [
    "My model did a good job coming in 1st w.r.t the others"
   ]
  },
  {
   "cell_type": "markdown",
   "metadata": {},
   "source": [
    "## Alec Burks"
   ]
  },
  {
   "cell_type": "code",
   "execution_count": 1141,
   "metadata": {},
   "outputs": [
    {
     "data": {
      "text/html": [
       "<div>\n",
       "<style scoped>\n",
       "    .dataframe tbody tr th:only-of-type {\n",
       "        vertical-align: middle;\n",
       "    }\n",
       "\n",
       "    .dataframe tbody tr th {\n",
       "        vertical-align: top;\n",
       "    }\n",
       "\n",
       "    .dataframe thead th {\n",
       "        text-align: right;\n",
       "    }\n",
       "</style>\n",
       "<table border=\"1\" class=\"dataframe\">\n",
       "  <thead>\n",
       "    <tr style=\"text-align: right;\">\n",
       "      <th></th>\n",
       "      <th>weight</th>\n",
       "      <th>3PA</th>\n",
       "      <th>3P%</th>\n",
       "      <th>3P</th>\n",
       "      <th>FGA</th>\n",
       "      <th>FG%</th>\n",
       "      <th>FG</th>\n",
       "      <th>FT%</th>\n",
       "      <th>FTA</th>\n",
       "      <th>FT</th>\n",
       "      <th>G</th>\n",
       "      <th>PTS</th>\n",
       "      <th>labels</th>\n",
       "    </tr>\n",
       "  </thead>\n",
       "  <tbody>\n",
       "    <tr>\n",
       "      <th>514</th>\n",
       "      <td>214.0</td>\n",
       "      <td>2.2</td>\n",
       "      <td>0.313</td>\n",
       "      <td>0.7</td>\n",
       "      <td>12.6</td>\n",
       "      <td>0.495</td>\n",
       "      <td>6.2</td>\n",
       "      <td>0.804</td>\n",
       "      <td>7.3</td>\n",
       "      <td>5.9</td>\n",
       "      <td>68.0</td>\n",
       "      <td>19.0</td>\n",
       "      <td>0</td>\n",
       "    </tr>\n",
       "  </tbody>\n",
       "</table>\n",
       "</div>"
      ],
      "text/plain": [
       "     weight  3PA    3P%   3P   FGA    FG%   FG    FT%  FTA   FT     G   PTS  \\\n",
       "514   214.0  2.2  0.313  0.7  12.6  0.495  6.2  0.804  7.3  5.9  68.0  19.0   \n",
       "\n",
       "     labels  \n",
       "514       0  "
      ]
     },
     "execution_count": 1141,
     "metadata": {},
     "output_type": "execute_result"
    }
   ],
   "source": [
    "similar1 = scipy.spatial.distance.cdist(pred,pred2[6:7],metric='euclidean')\n",
    "pred[similar1==similar1.min()]"
   ]
  },
  {
   "cell_type": "code",
   "execution_count": 1142,
   "metadata": {},
   "outputs": [
    {
     "data": {
      "text/html": [
       "<div>\n",
       "<style scoped>\n",
       "    .dataframe tbody tr th:only-of-type {\n",
       "        vertical-align: middle;\n",
       "    }\n",
       "\n",
       "    .dataframe tbody tr th {\n",
       "        vertical-align: top;\n",
       "    }\n",
       "\n",
       "    .dataframe thead th {\n",
       "        text-align: right;\n",
       "    }\n",
       "</style>\n",
       "<table border=\"1\" class=\"dataframe\">\n",
       "  <thead>\n",
       "    <tr style=\"text-align: right;\">\n",
       "      <th></th>\n",
       "      <th>0</th>\n",
       "    </tr>\n",
       "  </thead>\n",
       "  <tbody>\n",
       "    <tr>\n",
       "      <th>514</th>\n",
       "      <td>0.000000</td>\n",
       "    </tr>\n",
       "    <tr>\n",
       "      <th>280</th>\n",
       "      <td>4.558181</td>\n",
       "    </tr>\n",
       "    <tr>\n",
       "      <th>3155</th>\n",
       "      <td>5.625949</td>\n",
       "    </tr>\n",
       "    <tr>\n",
       "      <th>3572</th>\n",
       "      <td>6.010725</td>\n",
       "    </tr>\n",
       "    <tr>\n",
       "      <th>55</th>\n",
       "      <td>6.048666</td>\n",
       "    </tr>\n",
       "    <tr>\n",
       "      <th>1523</th>\n",
       "      <td>6.428568</td>\n",
       "    </tr>\n",
       "    <tr>\n",
       "      <th>3033</th>\n",
       "      <td>6.447468</td>\n",
       "    </tr>\n",
       "    <tr>\n",
       "      <th>1908</th>\n",
       "      <td>6.503302</td>\n",
       "    </tr>\n",
       "    <tr>\n",
       "      <th>549</th>\n",
       "      <td>6.534065</td>\n",
       "    </tr>\n",
       "    <tr>\n",
       "      <th>90</th>\n",
       "      <td>6.790596</td>\n",
       "    </tr>\n",
       "    <tr>\n",
       "      <th>2749</th>\n",
       "      <td>6.958302</td>\n",
       "    </tr>\n",
       "    <tr>\n",
       "      <th>18</th>\n",
       "      <td>6.962926</td>\n",
       "    </tr>\n",
       "    <tr>\n",
       "      <th>1963</th>\n",
       "      <td>7.149571</td>\n",
       "    </tr>\n",
       "    <tr>\n",
       "      <th>3873</th>\n",
       "      <td>7.414437</td>\n",
       "    </tr>\n",
       "    <tr>\n",
       "      <th>462</th>\n",
       "      <td>7.592301</td>\n",
       "    </tr>\n",
       "  </tbody>\n",
       "</table>\n",
       "</div>"
      ],
      "text/plain": [
       "             0\n",
       "514   0.000000\n",
       "280   4.558181\n",
       "3155  5.625949\n",
       "3572  6.010725\n",
       "55    6.048666\n",
       "1523  6.428568\n",
       "3033  6.447468\n",
       "1908  6.503302\n",
       "549   6.534065\n",
       "90    6.790596\n",
       "2749  6.958302\n",
       "18    6.962926\n",
       "1963  7.149571\n",
       "3873  7.414437\n",
       "462   7.592301"
      ]
     },
     "execution_count": 1142,
     "metadata": {},
     "output_type": "execute_result"
    }
   ],
   "source": [
    "a = np.sort(similar1)\n",
    "b = pd.DataFrame(a)\n",
    "b\n",
    "b.sort_values(by=0,ascending=True)[:15]"
   ]
  },
  {
   "cell_type": "code",
   "execution_count": 1143,
   "metadata": {},
   "outputs": [
    {
     "data": {
      "text/plain": [
       "Unnamed: 0                          280\n",
       "college           St. John's University\n",
       "height                              6-8\n",
       "name                       Walter Berry\n",
       "position                              F\n",
       "url           /players/b/berrywa01.html\n",
       "weight                              215\n",
       "3PA                                 0.9\n",
       "3P%                               0.333\n",
       "3P                                  0.3\n",
       "FGA                                13.5\n",
       "FG%                               0.581\n",
       "FG                                  7.9\n",
       "FT%                               0.708\n",
       "FTA                                 6.1\n",
       "FT                                  4.3\n",
       "G                                    71\n",
       "PTS                                20.1\n",
       "labels                                0\n",
       "Name: 280, dtype: object"
      ]
     },
     "execution_count": 1143,
     "metadata": {},
     "output_type": "execute_result"
    }
   ],
   "source": [
    "ncaa.loc[280]"
   ]
  },
  {
   "cell_type": "code",
   "execution_count": 1144,
   "metadata": {},
   "outputs": [],
   "source": [
    "BR.append(scipy.spatial.distance.cdist(nba[nba['Player'] =='Alec Burks'].iloc[:,1:], \n",
    "                                 nba[nba['Player'] =='Brandon Roy'].iloc[:,1:], metric='euclidean'))\n",
    "DN.append(scipy.spatial.distance.cdist(nba[nba['Player'] =='Alec Burks'].iloc[:,1:], \n",
    "                                 nba[nba['Player'] =='Eddie Jones'].iloc[:,1:], metric='euclidean'))\n",
    "My.append(scipy.spatial.distance.cdist(nba[nba['Player'] =='Alec Burks'].iloc[:,1:], \n",
    "                                 nba[nba['Player'] =='Walter Berry'].iloc[:,1:], metric='euclidean'))"
   ]
  },
  {
   "cell_type": "code",
   "execution_count": 1145,
   "metadata": {},
   "outputs": [
    {
     "data": {
      "text/plain": [
       "array([[819.65557931]])"
      ]
     },
     "execution_count": 1145,
     "metadata": {},
     "output_type": "execute_result"
    }
   ],
   "source": [
    "scipy.spatial.distance.cdist(nba[nba['Player'] =='Alec Burks'].iloc[:,1:], \n",
    "                                 nba[nba['Player'] =='Brandon Roy'].iloc[:,1:], metric='euclidean')"
   ]
  },
  {
   "cell_type": "code",
   "execution_count": 1146,
   "metadata": {},
   "outputs": [
    {
     "data": {
      "text/plain": [
       "array([[542.76838836]])"
      ]
     },
     "execution_count": 1146,
     "metadata": {},
     "output_type": "execute_result"
    }
   ],
   "source": [
    "scipy.spatial.distance.cdist(nba[nba['Player'] =='Alec Burks'].iloc[:,1:], \n",
    "                                 nba[nba['Player'] =='Eddie Jones'].iloc[:,1:], metric='euclidean')"
   ]
  },
  {
   "cell_type": "code",
   "execution_count": 1147,
   "metadata": {},
   "outputs": [
    {
     "data": {
      "text/plain": [
       "array([[314.9028401]])"
      ]
     },
     "execution_count": 1147,
     "metadata": {},
     "output_type": "execute_result"
    }
   ],
   "source": [
    "scipy.spatial.distance.cdist(nba[nba['Player'] =='Alec Burks'].iloc[:,1:], \n",
    "                                 nba[nba['Player'] =='Walter Berry'].iloc[:,1:], metric='euclidean')"
   ]
  },
  {
   "cell_type": "markdown",
   "metadata": {},
   "source": [
    "Model did a good job being the the only one making a good comparison"
   ]
  },
  {
   "cell_type": "markdown",
   "metadata": {},
   "source": [
    "## Markieff Morris"
   ]
  },
  {
   "cell_type": "code",
   "execution_count": 1148,
   "metadata": {},
   "outputs": [
    {
     "data": {
      "text/html": [
       "<div>\n",
       "<style scoped>\n",
       "    .dataframe tbody tr th:only-of-type {\n",
       "        vertical-align: middle;\n",
       "    }\n",
       "\n",
       "    .dataframe tbody tr th {\n",
       "        vertical-align: top;\n",
       "    }\n",
       "\n",
       "    .dataframe thead th {\n",
       "        text-align: right;\n",
       "    }\n",
       "</style>\n",
       "<table border=\"1\" class=\"dataframe\">\n",
       "  <thead>\n",
       "    <tr style=\"text-align: right;\">\n",
       "      <th></th>\n",
       "      <th>weight</th>\n",
       "      <th>3PA</th>\n",
       "      <th>3P%</th>\n",
       "      <th>3P</th>\n",
       "      <th>FGA</th>\n",
       "      <th>FG%</th>\n",
       "      <th>FG</th>\n",
       "      <th>FT%</th>\n",
       "      <th>FTA</th>\n",
       "      <th>FT</th>\n",
       "      <th>G</th>\n",
       "      <th>PTS</th>\n",
       "      <th>labels</th>\n",
       "    </tr>\n",
       "  </thead>\n",
       "  <tbody>\n",
       "    <tr>\n",
       "      <th>2661</th>\n",
       "      <td>245.0</td>\n",
       "      <td>0.9</td>\n",
       "      <td>0.404</td>\n",
       "      <td>0.3</td>\n",
       "      <td>5.7</td>\n",
       "      <td>0.553</td>\n",
       "      <td>3.1</td>\n",
       "      <td>0.653</td>\n",
       "      <td>2.9</td>\n",
       "      <td>1.9</td>\n",
       "      <td>109.0</td>\n",
       "      <td>8.5</td>\n",
       "      <td>2</td>\n",
       "    </tr>\n",
       "  </tbody>\n",
       "</table>\n",
       "</div>"
      ],
      "text/plain": [
       "      weight  3PA    3P%   3P  FGA    FG%   FG    FT%  FTA   FT      G  PTS  \\\n",
       "2661   245.0  0.9  0.404  0.3  5.7  0.553  3.1  0.653  2.9  1.9  109.0  8.5   \n",
       "\n",
       "      labels  \n",
       "2661       2  "
      ]
     },
     "execution_count": 1148,
     "metadata": {},
     "output_type": "execute_result"
    }
   ],
   "source": [
    "similar1 = scipy.spatial.distance.cdist(pred,pred2[7:8],metric='euclidean')\n",
    "pred[similar1==similar1.min()]"
   ]
  },
  {
   "cell_type": "code",
   "execution_count": 1149,
   "metadata": {},
   "outputs": [
    {
     "data": {
      "text/html": [
       "<div>\n",
       "<style scoped>\n",
       "    .dataframe tbody tr th:only-of-type {\n",
       "        vertical-align: middle;\n",
       "    }\n",
       "\n",
       "    .dataframe tbody tr th {\n",
       "        vertical-align: top;\n",
       "    }\n",
       "\n",
       "    .dataframe thead th {\n",
       "        text-align: right;\n",
       "    }\n",
       "</style>\n",
       "<table border=\"1\" class=\"dataframe\">\n",
       "  <thead>\n",
       "    <tr style=\"text-align: right;\">\n",
       "      <th></th>\n",
       "      <th>0</th>\n",
       "    </tr>\n",
       "  </thead>\n",
       "  <tbody>\n",
       "    <tr>\n",
       "      <th>2661</th>\n",
       "      <td>0.000000</td>\n",
       "    </tr>\n",
       "    <tr>\n",
       "      <th>2994</th>\n",
       "      <td>1.357361</td>\n",
       "    </tr>\n",
       "    <tr>\n",
       "      <th>2035</th>\n",
       "      <td>1.853492</td>\n",
       "    </tr>\n",
       "    <tr>\n",
       "      <th>1717</th>\n",
       "      <td>2.748720</td>\n",
       "    </tr>\n",
       "    <tr>\n",
       "      <th>1931</th>\n",
       "      <td>3.272020</td>\n",
       "    </tr>\n",
       "    <tr>\n",
       "      <th>444</th>\n",
       "      <td>4.540123</td>\n",
       "    </tr>\n",
       "    <tr>\n",
       "      <th>4176</th>\n",
       "      <td>4.702679</td>\n",
       "    </tr>\n",
       "    <tr>\n",
       "      <th>759</th>\n",
       "      <td>5.194861</td>\n",
       "    </tr>\n",
       "    <tr>\n",
       "      <th>2275</th>\n",
       "      <td>5.206888</td>\n",
       "    </tr>\n",
       "    <tr>\n",
       "      <th>2276</th>\n",
       "      <td>5.257821</td>\n",
       "    </tr>\n",
       "    <tr>\n",
       "      <th>3536</th>\n",
       "      <td>5.308186</td>\n",
       "    </tr>\n",
       "    <tr>\n",
       "      <th>2873</th>\n",
       "      <td>5.423371</td>\n",
       "    </tr>\n",
       "    <tr>\n",
       "      <th>36</th>\n",
       "      <td>5.595528</td>\n",
       "    </tr>\n",
       "    <tr>\n",
       "      <th>3341</th>\n",
       "      <td>5.650435</td>\n",
       "    </tr>\n",
       "    <tr>\n",
       "      <th>3340</th>\n",
       "      <td>5.855763</td>\n",
       "    </tr>\n",
       "  </tbody>\n",
       "</table>\n",
       "</div>"
      ],
      "text/plain": [
       "             0\n",
       "2661  0.000000\n",
       "2994  1.357361\n",
       "2035  1.853492\n",
       "1717  2.748720\n",
       "1931  3.272020\n",
       "444   4.540123\n",
       "4176  4.702679\n",
       "759   5.194861\n",
       "2275  5.206888\n",
       "2276  5.257821\n",
       "3536  5.308186\n",
       "2873  5.423371\n",
       "36    5.595528\n",
       "3341  5.650435\n",
       "3340  5.855763"
      ]
     },
     "execution_count": 1149,
     "metadata": {},
     "output_type": "execute_result"
    }
   ],
   "source": [
    "a = np.sort(similar1)\n",
    "b = pd.DataFrame(a)\n",
    "b\n",
    "b.sort_values(by=0,ascending=True)[:15]"
   ]
  },
  {
   "cell_type": "code",
   "execution_count": 1150,
   "metadata": {},
   "outputs": [
    {
     "data": {
      "text/plain": [
       "Unnamed: 0                         1717\n",
       "college           University of Florida\n",
       "height                             6-10\n",
       "name                         Al Horford\n",
       "position                            C-F\n",
       "url           /players/h/horfoal01.html\n",
       "weight                              245\n",
       "3PA                                   0\n",
       "3P%                                   0\n",
       "3P                                    0\n",
       "FGA                                 6.6\n",
       "FG%                               0.586\n",
       "FG                                  3.9\n",
       "FT%                               0.619\n",
       "FTA                                 4.1\n",
       "FT                                  2.5\n",
       "G                                   109\n",
       "PTS                                10.3\n",
       "labels                                2\n",
       "Name: 1717, dtype: object"
      ]
     },
     "execution_count": 1150,
     "metadata": {},
     "output_type": "execute_result"
    }
   ],
   "source": [
    "ncaa.loc[1717]"
   ]
  },
  {
   "cell_type": "code",
   "execution_count": 1151,
   "metadata": {},
   "outputs": [],
   "source": [
    "BR.append(scipy.spatial.distance.cdist(nba[nba['Player'] =='Markieff Morris'].iloc[:,1:], \n",
    "                                 nba[nba['Player'] =='Rasheed Wallace'].iloc[:,1:], metric='euclidean'))\n",
    "DN.append(scipy.spatial.distance.cdist(nba[nba['Player'] =='Markieff Morris'].iloc[:,1:], \n",
    "                                 nba[nba['Player'] =='Drew Gooden'].iloc[:,1:], metric='euclidean'))\n",
    "My.append(scipy.spatial.distance.cdist(nba[nba['Player'] =='Markieff Morris'].iloc[:,1:], \n",
    "                                 nba[nba['Player'] =='Al Horford'].iloc[:,1:], metric='euclidean'))"
   ]
  },
  {
   "cell_type": "code",
   "execution_count": 1152,
   "metadata": {},
   "outputs": [
    {
     "data": {
      "text/plain": [
       "array([[214.10191382]])"
      ]
     },
     "execution_count": 1152,
     "metadata": {},
     "output_type": "execute_result"
    }
   ],
   "source": [
    "scipy.spatial.distance.cdist(nba[nba['Player'] =='Markieff Morris'].iloc[:,1:], \n",
    "                                 nba[nba['Player'] =='Rasheed Wallace'].iloc[:,1:], metric='euclidean')"
   ]
  },
  {
   "cell_type": "code",
   "execution_count": 1153,
   "metadata": {},
   "outputs": [
    {
     "data": {
      "text/plain": [
       "array([[419.13825571]])"
      ]
     },
     "execution_count": 1153,
     "metadata": {},
     "output_type": "execute_result"
    }
   ],
   "source": [
    "scipy.spatial.distance.cdist(nba[nba['Player'] =='Markieff Morris'].iloc[:,1:], \n",
    "                                 nba[nba['Player'] =='Drew Gooden'].iloc[:,1:], metric='euclidean')"
   ]
  },
  {
   "cell_type": "code",
   "execution_count": 1154,
   "metadata": {},
   "outputs": [
    {
     "data": {
      "text/plain": [
       "array([[396.69873569]])"
      ]
     },
     "execution_count": 1154,
     "metadata": {},
     "output_type": "execute_result"
    }
   ],
   "source": [
    "scipy.spatial.distance.cdist(nba[nba['Player'] =='Markieff Morris'].iloc[:,1:], \n",
    "                                 nba[nba['Player'] =='Al Horford'].iloc[:,1:], metric='euclidean')"
   ]
  },
  {
   "cell_type": "markdown",
   "metadata": {},
   "source": [
    "my model placed 2nd, this comparison is ok"
   ]
  },
  {
   "cell_type": "markdown",
   "metadata": {},
   "source": [
    "## Marcus Morris"
   ]
  },
  {
   "cell_type": "code",
   "execution_count": 1155,
   "metadata": {},
   "outputs": [
    {
     "data": {
      "text/html": [
       "<div>\n",
       "<style scoped>\n",
       "    .dataframe tbody tr th:only-of-type {\n",
       "        vertical-align: middle;\n",
       "    }\n",
       "\n",
       "    .dataframe tbody tr th {\n",
       "        vertical-align: top;\n",
       "    }\n",
       "\n",
       "    .dataframe thead th {\n",
       "        text-align: right;\n",
       "    }\n",
       "</style>\n",
       "<table border=\"1\" class=\"dataframe\">\n",
       "  <thead>\n",
       "    <tr style=\"text-align: right;\">\n",
       "      <th></th>\n",
       "      <th>weight</th>\n",
       "      <th>3PA</th>\n",
       "      <th>3P%</th>\n",
       "      <th>3P</th>\n",
       "      <th>FGA</th>\n",
       "      <th>FG%</th>\n",
       "      <th>FG</th>\n",
       "      <th>FT%</th>\n",
       "      <th>FTA</th>\n",
       "      <th>FT</th>\n",
       "      <th>G</th>\n",
       "      <th>PTS</th>\n",
       "      <th>labels</th>\n",
       "    </tr>\n",
       "  </thead>\n",
       "  <tbody>\n",
       "    <tr>\n",
       "      <th>2660</th>\n",
       "      <td>235.0</td>\n",
       "      <td>1.1</td>\n",
       "      <td>0.358</td>\n",
       "      <td>0.4</td>\n",
       "      <td>8.4</td>\n",
       "      <td>0.555</td>\n",
       "      <td>4.7</td>\n",
       "      <td>0.66</td>\n",
       "      <td>4.3</td>\n",
       "      <td>2.9</td>\n",
       "      <td>109.0</td>\n",
       "      <td>12.6</td>\n",
       "      <td>3</td>\n",
       "    </tr>\n",
       "  </tbody>\n",
       "</table>\n",
       "</div>"
      ],
      "text/plain": [
       "      weight  3PA    3P%   3P  FGA    FG%   FG   FT%  FTA   FT      G   PTS  \\\n",
       "2660   235.0  1.1  0.358  0.4  8.4  0.555  4.7  0.66  4.3  2.9  109.0  12.6   \n",
       "\n",
       "      labels  \n",
       "2660       3  "
      ]
     },
     "execution_count": 1155,
     "metadata": {},
     "output_type": "execute_result"
    }
   ],
   "source": [
    "similar1 = scipy.spatial.distance.cdist(pred,pred2[8:9],metric='euclidean')\n",
    "pred[similar1==similar1.min()]"
   ]
  },
  {
   "cell_type": "code",
   "execution_count": 1156,
   "metadata": {},
   "outputs": [
    {
     "data": {
      "text/html": [
       "<div>\n",
       "<style scoped>\n",
       "    .dataframe tbody tr th:only-of-type {\n",
       "        vertical-align: middle;\n",
       "    }\n",
       "\n",
       "    .dataframe tbody tr th {\n",
       "        vertical-align: top;\n",
       "    }\n",
       "\n",
       "    .dataframe thead th {\n",
       "        text-align: right;\n",
       "    }\n",
       "</style>\n",
       "<table border=\"1\" class=\"dataframe\">\n",
       "  <thead>\n",
       "    <tr style=\"text-align: right;\">\n",
       "      <th></th>\n",
       "      <th>0</th>\n",
       "    </tr>\n",
       "  </thead>\n",
       "  <tbody>\n",
       "    <tr>\n",
       "      <th>2660</th>\n",
       "      <td>0.000000</td>\n",
       "    </tr>\n",
       "    <tr>\n",
       "      <th>3074</th>\n",
       "      <td>2.446254</td>\n",
       "    </tr>\n",
       "    <tr>\n",
       "      <th>2907</th>\n",
       "      <td>2.446254</td>\n",
       "    </tr>\n",
       "    <tr>\n",
       "      <th>3644</th>\n",
       "      <td>2.446254</td>\n",
       "    </tr>\n",
       "    <tr>\n",
       "      <th>3165</th>\n",
       "      <td>2.446254</td>\n",
       "    </tr>\n",
       "    <tr>\n",
       "      <th>228</th>\n",
       "      <td>2.446254</td>\n",
       "    </tr>\n",
       "    <tr>\n",
       "      <th>4079</th>\n",
       "      <td>2.446254</td>\n",
       "    </tr>\n",
       "    <tr>\n",
       "      <th>1662</th>\n",
       "      <td>3.159772</td>\n",
       "    </tr>\n",
       "    <tr>\n",
       "      <th>237</th>\n",
       "      <td>3.159772</td>\n",
       "    </tr>\n",
       "    <tr>\n",
       "      <th>3238</th>\n",
       "      <td>3.754309</td>\n",
       "    </tr>\n",
       "    <tr>\n",
       "      <th>3129</th>\n",
       "      <td>3.870938</td>\n",
       "    </tr>\n",
       "    <tr>\n",
       "      <th>535</th>\n",
       "      <td>4.063939</td>\n",
       "    </tr>\n",
       "    <tr>\n",
       "      <th>3594</th>\n",
       "      <td>4.688727</td>\n",
       "    </tr>\n",
       "    <tr>\n",
       "      <th>3402</th>\n",
       "      <td>4.973159</td>\n",
       "    </tr>\n",
       "    <tr>\n",
       "      <th>3067</th>\n",
       "      <td>5.226530</td>\n",
       "    </tr>\n",
       "    <tr>\n",
       "      <th>2526</th>\n",
       "      <td>5.501154</td>\n",
       "    </tr>\n",
       "    <tr>\n",
       "      <th>2436</th>\n",
       "      <td>5.564900</td>\n",
       "    </tr>\n",
       "    <tr>\n",
       "      <th>3368</th>\n",
       "      <td>5.566342</td>\n",
       "    </tr>\n",
       "    <tr>\n",
       "      <th>30</th>\n",
       "      <td>5.566342</td>\n",
       "    </tr>\n",
       "    <tr>\n",
       "      <th>3526</th>\n",
       "      <td>5.566342</td>\n",
       "    </tr>\n",
       "  </tbody>\n",
       "</table>\n",
       "</div>"
      ],
      "text/plain": [
       "             0\n",
       "2660  0.000000\n",
       "3074  2.446254\n",
       "2907  2.446254\n",
       "3644  2.446254\n",
       "3165  2.446254\n",
       "228   2.446254\n",
       "4079  2.446254\n",
       "1662  3.159772\n",
       "237   3.159772\n",
       "3238  3.754309\n",
       "3129  3.870938\n",
       "535   4.063939\n",
       "3594  4.688727\n",
       "3402  4.973159\n",
       "3067  5.226530\n",
       "2526  5.501154\n",
       "2436  5.564900\n",
       "3368  5.566342\n",
       "30    5.566342\n",
       "3526  5.566342"
      ]
     },
     "execution_count": 1156,
     "metadata": {},
     "output_type": "execute_result"
    }
   ],
   "source": [
    "a = np.sort(similar1)\n",
    "b = pd.DataFrame(a)\n",
    "b\n",
    "b.sort_values(by=0,ascending=True)[:20]"
   ]
  },
  {
   "cell_type": "code",
   "execution_count": 1157,
   "metadata": {},
   "outputs": [
    {
     "data": {
      "text/plain": [
       "Unnamed: 0                         3402\n",
       "college         University of Minnesota\n",
       "height                             6-11\n",
       "name                        John Shasky\n",
       "position                              C\n",
       "url           /players/s/shaskjo01.html\n",
       "weight                              235\n",
       "3PA                                   0\n",
       "3P%                                0.25\n",
       "3P                                    0\n",
       "FGA                                 7.1\n",
       "FG%                                0.53\n",
       "FG                                  3.8\n",
       "FT%                               0.655\n",
       "FTA                                 3.2\n",
       "FT                                  2.1\n",
       "G                                   112\n",
       "PTS                                 9.6\n",
       "labels                                2\n",
       "Name: 3402, dtype: object"
      ]
     },
     "execution_count": 1157,
     "metadata": {},
     "output_type": "execute_result"
    }
   ],
   "source": [
    "ncaa.loc[3402]"
   ]
  },
  {
   "cell_type": "code",
   "execution_count": 1158,
   "metadata": {},
   "outputs": [],
   "source": [
    "BR.append(scipy.spatial.distance.cdist(nba[nba['Player'] =='Marcus Morris'].iloc[:,1:], \n",
    "                                 nba[nba['Player'] =='Al Harrington'].iloc[:,1:], metric='euclidean'))\n",
    "DN.append(scipy.spatial.distance.cdist(nba[nba['Player'] =='Marcus Morris'].iloc[:,1:], \n",
    "                                 nba[nba['Player'] =='Al Harrington'].iloc[:,1:], metric='euclidean'))\n",
    "My.append(scipy.spatial.distance.cdist(nba[nba['Player'] =='Marcus Morris'].iloc[:,1:], \n",
    "                                 nba[nba['Player'] =='John Shasky'].iloc[:,1:], metric='euclidean'))"
   ]
  },
  {
   "cell_type": "code",
   "execution_count": 1159,
   "metadata": {},
   "outputs": [
    {
     "data": {
      "text/plain": [
       "array([[305.89542984]])"
      ]
     },
     "execution_count": 1159,
     "metadata": {},
     "output_type": "execute_result"
    }
   ],
   "source": [
    "scipy.spatial.distance.cdist(nba[nba['Player'] =='Marcus Morris'].iloc[:,1:], \n",
    "                                 nba[nba['Player'] =='Al Harrington'].iloc[:,1:], metric='euclidean')"
   ]
  },
  {
   "cell_type": "code",
   "execution_count": 1160,
   "metadata": {},
   "outputs": [
    {
     "data": {
      "text/plain": [
       "array([[305.89542984]])"
      ]
     },
     "execution_count": 1160,
     "metadata": {},
     "output_type": "execute_result"
    }
   ],
   "source": [
    "scipy.spatial.distance.cdist(nba[nba['Player'] =='Marcus Morris'].iloc[:,1:], \n",
    "                                 nba[nba['Player'] =='Al Harrington'].iloc[:,1:], metric='euclidean')"
   ]
  },
  {
   "cell_type": "code",
   "execution_count": 1161,
   "metadata": {},
   "outputs": [
    {
     "data": {
      "text/plain": [
       "array([[771.29077597]])"
      ]
     },
     "execution_count": 1161,
     "metadata": {},
     "output_type": "execute_result"
    }
   ],
   "source": [
    "scipy.spatial.distance.cdist(nba[nba['Player'] =='Marcus Morris'].iloc[:,1:], \n",
    "                                 nba[nba['Player'] =='John Shasky'].iloc[:,1:], metric='euclidean')"
   ]
  },
  {
   "cell_type": "markdown",
   "metadata": {},
   "source": [
    "My model placed last, this is not a good comparison"
   ]
  },
  {
   "cell_type": "markdown",
   "metadata": {},
   "source": [
    "---"
   ]
  },
  {
   "cell_type": "markdown",
   "metadata": {},
   "source": [
    "### Results"
   ]
  },
  {
   "cell_type": "markdown",
   "metadata": {},
   "source": [
    "Lets look at each models comparisons"
   ]
  },
  {
   "cell_type": "code",
   "execution_count": 1162,
   "metadata": {},
   "outputs": [
    {
     "data": {
      "text/plain": [
       "array([[654.57854372]])"
      ]
     },
     "execution_count": 1162,
     "metadata": {},
     "output_type": "execute_result"
    }
   ],
   "source": [
    "sum(BR)/len(BR)"
   ]
  },
  {
   "cell_type": "code",
   "execution_count": 1163,
   "metadata": {},
   "outputs": [
    {
     "data": {
      "text/plain": [
       "array([[740.64802584]])"
      ]
     },
     "execution_count": 1163,
     "metadata": {},
     "output_type": "execute_result"
    }
   ],
   "source": [
    "sum(DN)/len(DN)"
   ]
  },
  {
   "cell_type": "code",
   "execution_count": 1164,
   "metadata": {},
   "outputs": [
    {
     "data": {
      "text/plain": [
       "array([[609.49538725]])"
      ]
     },
     "execution_count": 1164,
     "metadata": {},
     "output_type": "execute_result"
    }
   ],
   "source": [
    "sum(My)/len(My)"
   ]
  },
  {
   "cell_type": "markdown",
   "metadata": {},
   "source": [
    "So my model has a average distance of 609 coming in first, Bleacher Report with 654 at second and draft net in last at 740.\n"
   ]
  },
  {
   "cell_type": "markdown",
   "metadata": {},
   "source": [
    "Some remarks about my results that were wrong: as the draft progresses, the crop/pool of \"good\" players diminishes. By this, it becomes harder to predict the results without more NCAA stats available. Its for this reason why I didnt predict players after pick 14 in this report. Also, players that play well in college doesn't translate to playing good in the NBA, it helps but it doesn't always translate well. I'm saying these remarks from my 15+ years of watching basketball and just watching how draft picks pan out, especially those that played for the Toronto Raptors."
   ]
  },
  {
   "cell_type": "code",
   "execution_count": 1166,
   "metadata": {
    "scrolled": true
   },
   "outputs": [],
   "source": [
    "BRr = []\n",
    "for i in BR:\n",
    "    BRr.append(int(i))"
   ]
  },
  {
   "cell_type": "code",
   "execution_count": 1167,
   "metadata": {},
   "outputs": [],
   "source": [
    "DNn = []\n",
    "for i in DN:\n",
    "    DNn.append(int(i))"
   ]
  },
  {
   "cell_type": "code",
   "execution_count": 1168,
   "metadata": {},
   "outputs": [],
   "source": [
    "Myy = []\n",
    "for i in My:\n",
    "    Myy.append(int(i))"
   ]
  },
  {
   "cell_type": "markdown",
   "metadata": {},
   "source": [
    "So after 3 years worth of drafts, my model is more correct than Bleacher Report and Draft Net"
   ]
  },
  {
   "cell_type": "code",
   "execution_count": 1169,
   "metadata": {},
   "outputs": [
    {
     "data": {
      "image/png": "[encoded data removed]",
      "text/plain": [
       "<Figure size 1440x720 with 1 Axes>"
      ]
     },
     "metadata": {
      "needs_background": "light"
     },
     "output_type": "display_data"
    }
   ],
   "source": [
    "plt.figure(figsize=(20,10))\n",
    "plt.title('2009 metric comparisons')\n",
    "plt.plot(np.arange(0,len(BRr[:12])),BRr[:12],'r',label='BR')\n",
    "plt.plot(np.arange(0,len(DNn[:12])),DNn[:12],'b',label='DN')\n",
    "plt.plot(np.arange(0,len(Myy[:12])),Myy[:12],'c',label='My')\n",
    "plt.legend()\n",
    "plt.xlabel('pick')\n",
    "plt.ylabel('euclidean distance')\n",
    "plt.show()"
   ]
  },
  {
   "cell_type": "markdown",
   "metadata": {},
   "source": [
    "So the most accurate of years, 2009 we can see for almost the whole class, I am outperforming the other two sources for the majoroity of the picks"
   ]
  },
  {
   "cell_type": "code",
   "execution_count": 1170,
   "metadata": {},
   "outputs": [
    {
     "data": {
      "image/png": "[encoded data removed]",
      "text/plain": [
       "<Figure size 1440x720 with 1 Axes>"
      ]
     },
     "metadata": {
      "needs_background": "light"
     },
     "output_type": "display_data"
    }
   ],
   "source": [
    "plt.figure(figsize=(20,10))\n",
    "plt.title('2010 metric comparisons')\n",
    "plt.plot(np.arange(0,len(BRr[13:25])),BRr[13:25],'r',label='BR')\n",
    "plt.plot(np.arange(0,len(DNn[13:25])),DNn[13:25],'b',label='DN')\n",
    "plt.plot(np.arange(0,len(Myy[13:25])),Myy[13:25],'c',label='My')\n",
    "plt.legend()\n",
    "plt.xlabel('pick')\n",
    "plt.ylabel('euclidean distance')\n",
    "plt.show()"
   ]
  },
  {
   "cell_type": "markdown",
   "metadata": {},
   "source": [
    "starts of poorly for the first 3 picks, but picks itself up for the picks after by doing well against the other two sources"
   ]
  },
  {
   "cell_type": "code",
   "execution_count": 1171,
   "metadata": {},
   "outputs": [
    {
     "data": {
      "image/png": "[encoded data removed]",
      "text/plain": [
       "<Figure size 1440x720 with 1 Axes>"
      ]
     },
     "metadata": {
      "needs_background": "light"
     },
     "output_type": "display_data"
    }
   ],
   "source": [
    "plt.figure(figsize=(20,10))\n",
    "plt.title('2011 metric comparisons')\n",
    "plt.plot(np.arange(0,len(BRr[25:])),BRr[25:],'r',label='BR')\n",
    "plt.plot(np.arange(0,len(DNn[25:])),DNn[25:],'b',label='DN')\n",
    "plt.plot(np.arange(0,len(Myy[25:])),Myy[25:],'c',label='My')\n",
    "plt.legend()\n",
    "plt.xlabel('pick')\n",
    "plt.ylabel('euclidean distance')\n",
    "plt.show()"
   ]
  },
  {
   "cell_type": "markdown",
   "metadata": {},
   "source": [
    "first few picks, we do ok, then we have a really bad comparison where we over valued the playerand then for the last three picks we do well."
   ]
  },
  {
   "cell_type": "markdown",
   "metadata": {},
   "source": [
    "---"
   ]
  },
  {
   "cell_type": "markdown",
   "metadata": {},
   "source": [
    "# 2020-2021 Draft class predictions"
   ]
  },
  {
   "cell_type": "markdown",
   "metadata": {},
   "source": [
    "Now that my model has been shown to provide good results by comparison (see what I did there ;P), I can now project comparisons for the new set of players as well as provide insight into their rookie numbers"
   ]
  },
  {
   "cell_type": "code",
   "execution_count": 1172,
   "metadata": {},
   "outputs": [
    {
     "data": {
      "text/html": [
       "<div>\n",
       "<style scoped>\n",
       "    .dataframe tbody tr th:only-of-type {\n",
       "        vertical-align: middle;\n",
       "    }\n",
       "\n",
       "    .dataframe tbody tr th {\n",
       "        vertical-align: top;\n",
       "    }\n",
       "\n",
       "    .dataframe thead th {\n",
       "        text-align: right;\n",
       "    }\n",
       "</style>\n",
       "<table border=\"1\" class=\"dataframe\">\n",
       "  <thead>\n",
       "    <tr style=\"text-align: right;\">\n",
       "      <th></th>\n",
       "      <th>Unnamed: 0</th>\n",
       "      <th>college</th>\n",
       "      <th>height</th>\n",
       "      <th>name</th>\n",
       "      <th>position</th>\n",
       "      <th>url</th>\n",
       "      <th>weight</th>\n",
       "      <th>3PA</th>\n",
       "      <th>3P%</th>\n",
       "      <th>3P</th>\n",
       "      <th>FGA</th>\n",
       "      <th>FG%</th>\n",
       "      <th>FG</th>\n",
       "      <th>FT%</th>\n",
       "      <th>FTA</th>\n",
       "      <th>FT</th>\n",
       "      <th>G</th>\n",
       "      <th>PTS</th>\n",
       "      <th>labels</th>\n",
       "    </tr>\n",
       "  </thead>\n",
       "  <tbody>\n",
       "    <tr>\n",
       "      <th>4241</th>\n",
       "      <td>4241</td>\n",
       "      <td>Oklahoma State</td>\n",
       "      <td>6-8</td>\n",
       "      <td>Cade Cunningham</td>\n",
       "      <td>PG/SG</td>\n",
       "      <td>NaN</td>\n",
       "      <td>220.0</td>\n",
       "      <td>5.7</td>\n",
       "      <td>0.400</td>\n",
       "      <td>2.3</td>\n",
       "      <td>14.8</td>\n",
       "      <td>0.438</td>\n",
       "      <td>6.5</td>\n",
       "      <td>0.846</td>\n",
       "      <td>5.8</td>\n",
       "      <td>4.9</td>\n",
       "      <td>27.0</td>\n",
       "      <td>20.1</td>\n",
       "      <td>0</td>\n",
       "    </tr>\n",
       "    <tr>\n",
       "      <th>4242</th>\n",
       "      <td>4242</td>\n",
       "      <td>USC</td>\n",
       "      <td>7-0</td>\n",
       "      <td>Evan Mobley</td>\n",
       "      <td>PF/C</td>\n",
       "      <td>NaN</td>\n",
       "      <td>215.0</td>\n",
       "      <td>1.2</td>\n",
       "      <td>0.300</td>\n",
       "      <td>0.4</td>\n",
       "      <td>10.3</td>\n",
       "      <td>0.578</td>\n",
       "      <td>6.0</td>\n",
       "      <td>0.694</td>\n",
       "      <td>5.8</td>\n",
       "      <td>4.1</td>\n",
       "      <td>33.0</td>\n",
       "      <td>16.4</td>\n",
       "      <td>3</td>\n",
       "    </tr>\n",
       "    <tr>\n",
       "      <th>4243</th>\n",
       "      <td>4243</td>\n",
       "      <td>Gonzaga</td>\n",
       "      <td>6-4</td>\n",
       "      <td>Jalen Suggs</td>\n",
       "      <td>PG</td>\n",
       "      <td>NaN</td>\n",
       "      <td>205.0</td>\n",
       "      <td>3.4</td>\n",
       "      <td>0.330</td>\n",
       "      <td>1.1</td>\n",
       "      <td>10.0</td>\n",
       "      <td>0.502</td>\n",
       "      <td>5.0</td>\n",
       "      <td>0.762</td>\n",
       "      <td>3.8</td>\n",
       "      <td>2.9</td>\n",
       "      <td>28.0</td>\n",
       "      <td>14.0</td>\n",
       "      <td>1</td>\n",
       "    </tr>\n",
       "    <tr>\n",
       "      <th>4244</th>\n",
       "      <td>4244</td>\n",
       "      <td>Florida St.</td>\n",
       "      <td>6-9</td>\n",
       "      <td>Scottie Barnes</td>\n",
       "      <td>SF/PF</td>\n",
       "      <td>NaN</td>\n",
       "      <td>225.0</td>\n",
       "      <td>1.7</td>\n",
       "      <td>0.275</td>\n",
       "      <td>0.5</td>\n",
       "      <td>8.1</td>\n",
       "      <td>0.503</td>\n",
       "      <td>4.1</td>\n",
       "      <td>0.621</td>\n",
       "      <td>2.8</td>\n",
       "      <td>1.7</td>\n",
       "      <td>24.0</td>\n",
       "      <td>10.3</td>\n",
       "      <td>2</td>\n",
       "    </tr>\n",
       "    <tr>\n",
       "      <th>4245</th>\n",
       "      <td>4245</td>\n",
       "      <td>Arkansas</td>\n",
       "      <td>6-6</td>\n",
       "      <td>Moses Moody</td>\n",
       "      <td>SG</td>\n",
       "      <td>NaN</td>\n",
       "      <td>205.0</td>\n",
       "      <td>5.1</td>\n",
       "      <td>0.358</td>\n",
       "      <td>1.8</td>\n",
       "      <td>12.1</td>\n",
       "      <td>0.427</td>\n",
       "      <td>5.2</td>\n",
       "      <td>0.812</td>\n",
       "      <td>5.8</td>\n",
       "      <td>4.7</td>\n",
       "      <td>32.0</td>\n",
       "      <td>16.8</td>\n",
       "      <td>0</td>\n",
       "    </tr>\n",
       "    <tr>\n",
       "      <th>4246</th>\n",
       "      <td>4246</td>\n",
       "      <td>Tennessee</td>\n",
       "      <td>6-5</td>\n",
       "      <td>Keon Johnson</td>\n",
       "      <td>SG/SF</td>\n",
       "      <td>NaN</td>\n",
       "      <td>185.0</td>\n",
       "      <td>1.8</td>\n",
       "      <td>0.271</td>\n",
       "      <td>0.5</td>\n",
       "      <td>9.1</td>\n",
       "      <td>0.449</td>\n",
       "      <td>4.1</td>\n",
       "      <td>0.703</td>\n",
       "      <td>3.7</td>\n",
       "      <td>2.6</td>\n",
       "      <td>27.0</td>\n",
       "      <td>11.3</td>\n",
       "      <td>3</td>\n",
       "    </tr>\n",
       "    <tr>\n",
       "      <th>4247</th>\n",
       "      <td>4247</td>\n",
       "      <td>Gonzaga</td>\n",
       "      <td>6-7</td>\n",
       "      <td>Corey Kispert</td>\n",
       "      <td>SG/SF</td>\n",
       "      <td>NaN</td>\n",
       "      <td>220.0</td>\n",
       "      <td>4.8</td>\n",
       "      <td>0.411</td>\n",
       "      <td>2.0</td>\n",
       "      <td>8.3</td>\n",
       "      <td>0.484</td>\n",
       "      <td>4.0</td>\n",
       "      <td>0.827</td>\n",
       "      <td>1.8</td>\n",
       "      <td>1.5</td>\n",
       "      <td>135.0</td>\n",
       "      <td>11.5</td>\n",
       "      <td>1</td>\n",
       "    </tr>\n",
       "    <tr>\n",
       "      <th>4248</th>\n",
       "      <td>4248</td>\n",
       "      <td>Texas</td>\n",
       "      <td>6-11</td>\n",
       "      <td>Kai Jones</td>\n",
       "      <td>C</td>\n",
       "      <td>NaN</td>\n",
       "      <td>220.0</td>\n",
       "      <td>1.1</td>\n",
       "      <td>0.345</td>\n",
       "      <td>0.4</td>\n",
       "      <td>4.1</td>\n",
       "      <td>0.553</td>\n",
       "      <td>2.3</td>\n",
       "      <td>0.677</td>\n",
       "      <td>1.8</td>\n",
       "      <td>1.2</td>\n",
       "      <td>53.0</td>\n",
       "      <td>6.2</td>\n",
       "      <td>2</td>\n",
       "    </tr>\n",
       "    <tr>\n",
       "      <th>4249</th>\n",
       "      <td>4249</td>\n",
       "      <td>Michigan</td>\n",
       "      <td>6-9</td>\n",
       "      <td>Franz Wagner</td>\n",
       "      <td>SF/PF</td>\n",
       "      <td>NaN</td>\n",
       "      <td>220.0</td>\n",
       "      <td>4.3</td>\n",
       "      <td>0.325</td>\n",
       "      <td>1.4</td>\n",
       "      <td>9.3</td>\n",
       "      <td>0.465</td>\n",
       "      <td>4.3</td>\n",
       "      <td>0.835</td>\n",
       "      <td>2.4</td>\n",
       "      <td>2.0</td>\n",
       "      <td>55.0</td>\n",
       "      <td>12.0</td>\n",
       "      <td>1</td>\n",
       "    </tr>\n",
       "    <tr>\n",
       "      <th>4250</th>\n",
       "      <td>4250</td>\n",
       "      <td>Stanford</td>\n",
       "      <td>6-8</td>\n",
       "      <td>Ziaire Williams</td>\n",
       "      <td>SG/SF</td>\n",
       "      <td>NaN</td>\n",
       "      <td>185.0</td>\n",
       "      <td>4.0</td>\n",
       "      <td>0.291</td>\n",
       "      <td>1.2</td>\n",
       "      <td>10.2</td>\n",
       "      <td>0.374</td>\n",
       "      <td>3.8</td>\n",
       "      <td>0.796</td>\n",
       "      <td>2.5</td>\n",
       "      <td>2.0</td>\n",
       "      <td>20.0</td>\n",
       "      <td>10.7</td>\n",
       "      <td>1</td>\n",
       "    </tr>\n",
       "    <tr>\n",
       "      <th>4251</th>\n",
       "      <td>4251</td>\n",
       "      <td>UConn</td>\n",
       "      <td>6-5</td>\n",
       "      <td>James Bouknight</td>\n",
       "      <td>SG</td>\n",
       "      <td>NaN</td>\n",
       "      <td>190.0</td>\n",
       "      <td>3.4</td>\n",
       "      <td>0.320</td>\n",
       "      <td>1.1</td>\n",
       "      <td>11.5</td>\n",
       "      <td>0.456</td>\n",
       "      <td>5.3</td>\n",
       "      <td>0.802</td>\n",
       "      <td>4.2</td>\n",
       "      <td>3.4</td>\n",
       "      <td>43.0</td>\n",
       "      <td>15.0</td>\n",
       "      <td>1</td>\n",
       "    </tr>\n",
       "  </tbody>\n",
       "</table>\n",
       "</div>"
      ],
      "text/plain": [
       "      Unnamed: 0         college height             name position  url  \\\n",
       "4241        4241  Oklahoma State    6-8  Cade Cunningham    PG/SG  NaN   \n",
       "4242        4242             USC    7-0      Evan Mobley     PF/C  NaN   \n",
       "4243        4243         Gonzaga    6-4      Jalen Suggs       PG  NaN   \n",
       "4244        4244     Florida St.    6-9   Scottie Barnes    SF/PF  NaN   \n",
       "4245        4245        Arkansas    6-6      Moses Moody       SG  NaN   \n",
       "4246        4246       Tennessee    6-5     Keon Johnson    SG/SF  NaN   \n",
       "4247        4247         Gonzaga    6-7    Corey Kispert    SG/SF  NaN   \n",
       "4248        4248           Texas   6-11        Kai Jones        C  NaN   \n",
       "4249        4249        Michigan    6-9     Franz Wagner    SF/PF  NaN   \n",
       "4250        4250        Stanford    6-8  Ziaire Williams    SG/SF  NaN   \n",
       "4251        4251           UConn    6-5  James Bouknight       SG  NaN   \n",
       "\n",
       "      weight  3PA    3P%   3P   FGA    FG%   FG    FT%  FTA   FT      G   PTS  \\\n",
       "4241   220.0  5.7  0.400  2.3  14.8  0.438  6.5  0.846  5.8  4.9   27.0  20.1   \n",
       "4242   215.0  1.2  0.300  0.4  10.3  0.578  6.0  0.694  5.8  4.1   33.0  16.4   \n",
       "4243   205.0  3.4  0.330  1.1  10.0  0.502  5.0  0.762  3.8  2.9   28.0  14.0   \n",
       "4244   225.0  1.7  0.275  0.5   8.1  0.503  4.1  0.621  2.8  1.7   24.0  10.3   \n",
       "4245   205.0  5.1  0.358  1.8  12.1  0.427  5.2  0.812  5.8  4.7   32.0  16.8   \n",
       "4246   185.0  1.8  0.271  0.5   9.1  0.449  4.1  0.703  3.7  2.6   27.0  11.3   \n",
       "4247   220.0  4.8  0.411  2.0   8.3  0.484  4.0  0.827  1.8  1.5  135.0  11.5   \n",
       "4248   220.0  1.1  0.345  0.4   4.1  0.553  2.3  0.677  1.8  1.2   53.0   6.2   \n",
       "4249   220.0  4.3  0.325  1.4   9.3  0.465  4.3  0.835  2.4  2.0   55.0  12.0   \n",
       "4250   185.0  4.0  0.291  1.2  10.2  0.374  3.8  0.796  2.5  2.0   20.0  10.7   \n",
       "4251   190.0  3.4  0.320  1.1  11.5  0.456  5.3  0.802  4.2  3.4   43.0  15.0   \n",
       "\n",
       "      labels  \n",
       "4241       0  \n",
       "4242       3  \n",
       "4243       1  \n",
       "4244       2  \n",
       "4245       0  \n",
       "4246       3  \n",
       "4247       1  \n",
       "4248       2  \n",
       "4249       1  \n",
       "4250       1  \n",
       "4251       1  "
      ]
     },
     "execution_count": 1172,
     "metadata": {},
     "output_type": "execute_result"
    }
   ],
   "source": [
    "ncaa.loc[4241:]"
   ]
  },
  {
   "cell_type": "markdown",
   "metadata": {},
   "source": [
    "drop the useless column"
   ]
  },
  {
   "cell_type": "code",
   "execution_count": 1174,
   "metadata": {},
   "outputs": [],
   "source": [
    "ncaa.drop(columns='Unnamed: 0',inplace=True)"
   ]
  },
  {
   "cell_type": "markdown",
   "metadata": {},
   "source": [
    "ncaa data without the new picks"
   ]
  },
  {
   "cell_type": "code",
   "execution_count": 1198,
   "metadata": {},
   "outputs": [
    {
     "data": {
      "text/html": [
       "<div>\n",
       "<style scoped>\n",
       "    .dataframe tbody tr th:only-of-type {\n",
       "        vertical-align: middle;\n",
       "    }\n",
       "\n",
       "    .dataframe tbody tr th {\n",
       "        vertical-align: top;\n",
       "    }\n",
       "\n",
       "    .dataframe thead th {\n",
       "        text-align: right;\n",
       "    }\n",
       "</style>\n",
       "<table border=\"1\" class=\"dataframe\">\n",
       "  <thead>\n",
       "    <tr style=\"text-align: right;\">\n",
       "      <th></th>\n",
       "      <th>weight</th>\n",
       "      <th>3PA</th>\n",
       "      <th>3P%</th>\n",
       "      <th>3P</th>\n",
       "      <th>FGA</th>\n",
       "      <th>FG%</th>\n",
       "      <th>FG</th>\n",
       "      <th>FT%</th>\n",
       "      <th>FTA</th>\n",
       "      <th>FT</th>\n",
       "      <th>G</th>\n",
       "      <th>PTS</th>\n",
       "      <th>labels</th>\n",
       "    </tr>\n",
       "  </thead>\n",
       "  <tbody>\n",
       "    <tr>\n",
       "      <th>0</th>\n",
       "      <td>240.0</td>\n",
       "      <td>0.0</td>\n",
       "      <td>0.288</td>\n",
       "      <td>0.0</td>\n",
       "      <td>5.6</td>\n",
       "      <td>0.5990</td>\n",
       "      <td>3.30</td>\n",
       "      <td>0.7280</td>\n",
       "      <td>2.50</td>\n",
       "      <td>1.80</td>\n",
       "      <td>134.0</td>\n",
       "      <td>8.5</td>\n",
       "      <td>2</td>\n",
       "    </tr>\n",
       "    <tr>\n",
       "      <th>1</th>\n",
       "      <td>235.0</td>\n",
       "      <td>0.1</td>\n",
       "      <td>0.222</td>\n",
       "      <td>0.0</td>\n",
       "      <td>9.7</td>\n",
       "      <td>0.5455</td>\n",
       "      <td>5.15</td>\n",
       "      <td>0.6620</td>\n",
       "      <td>4.05</td>\n",
       "      <td>2.75</td>\n",
       "      <td>93.5</td>\n",
       "      <td>13.4</td>\n",
       "      <td>3</td>\n",
       "    </tr>\n",
       "    <tr>\n",
       "      <th>2</th>\n",
       "      <td>225.0</td>\n",
       "      <td>0.0</td>\n",
       "      <td>0.250</td>\n",
       "      <td>0.0</td>\n",
       "      <td>16.8</td>\n",
       "      <td>0.6390</td>\n",
       "      <td>10.70</td>\n",
       "      <td>0.6280</td>\n",
       "      <td>7.90</td>\n",
       "      <td>5.00</td>\n",
       "      <td>88.0</td>\n",
       "      <td>26.4</td>\n",
       "      <td>0</td>\n",
       "    </tr>\n",
       "    <tr>\n",
       "      <th>3</th>\n",
       "      <td>162.0</td>\n",
       "      <td>7.2</td>\n",
       "      <td>0.372</td>\n",
       "      <td>2.7</td>\n",
       "      <td>21.9</td>\n",
       "      <td>0.4740</td>\n",
       "      <td>10.40</td>\n",
       "      <td>0.8630</td>\n",
       "      <td>6.40</td>\n",
       "      <td>5.50</td>\n",
       "      <td>64.0</td>\n",
       "      <td>29.0</td>\n",
       "      <td>0</td>\n",
       "    </tr>\n",
       "    <tr>\n",
       "      <th>4</th>\n",
       "      <td>223.0</td>\n",
       "      <td>0.9</td>\n",
       "      <td>0.333</td>\n",
       "      <td>0.3</td>\n",
       "      <td>9.6</td>\n",
       "      <td>0.5110</td>\n",
       "      <td>4.90</td>\n",
       "      <td>0.7000</td>\n",
       "      <td>3.90</td>\n",
       "      <td>2.70</td>\n",
       "      <td>107.0</td>\n",
       "      <td>13.1</td>\n",
       "      <td>3</td>\n",
       "    </tr>\n",
       "    <tr>\n",
       "      <th>...</th>\n",
       "      <td>...</td>\n",
       "      <td>...</td>\n",
       "      <td>...</td>\n",
       "      <td>...</td>\n",
       "      <td>...</td>\n",
       "      <td>...</td>\n",
       "      <td>...</td>\n",
       "      <td>...</td>\n",
       "      <td>...</td>\n",
       "      <td>...</td>\n",
       "      <td>...</td>\n",
       "      <td>...</td>\n",
       "      <td>...</td>\n",
       "    </tr>\n",
       "    <tr>\n",
       "      <th>4236</th>\n",
       "      <td>195.0</td>\n",
       "      <td>1.1</td>\n",
       "      <td>0.268</td>\n",
       "      <td>0.3</td>\n",
       "      <td>5.2</td>\n",
       "      <td>0.4770</td>\n",
       "      <td>2.50</td>\n",
       "      <td>0.6000</td>\n",
       "      <td>2.60</td>\n",
       "      <td>1.60</td>\n",
       "      <td>127.0</td>\n",
       "      <td>6.9</td>\n",
       "      <td>2</td>\n",
       "    </tr>\n",
       "    <tr>\n",
       "      <th>4237</th>\n",
       "      <td>240.0</td>\n",
       "      <td>0.7</td>\n",
       "      <td>0.294</td>\n",
       "      <td>0.2</td>\n",
       "      <td>8.2</td>\n",
       "      <td>0.4770</td>\n",
       "      <td>3.90</td>\n",
       "      <td>0.6240</td>\n",
       "      <td>3.90</td>\n",
       "      <td>2.40</td>\n",
       "      <td>26.0</td>\n",
       "      <td>10.5</td>\n",
       "      <td>2</td>\n",
       "    </tr>\n",
       "    <tr>\n",
       "      <th>4238</th>\n",
       "      <td>240.0</td>\n",
       "      <td>0.0</td>\n",
       "      <td>0.250</td>\n",
       "      <td>0.0</td>\n",
       "      <td>2.9</td>\n",
       "      <td>0.4760</td>\n",
       "      <td>1.40</td>\n",
       "      <td>0.4290</td>\n",
       "      <td>1.00</td>\n",
       "      <td>0.40</td>\n",
       "      <td>63.0</td>\n",
       "      <td>3.2</td>\n",
       "      <td>2</td>\n",
       "    </tr>\n",
       "    <tr>\n",
       "      <th>4239</th>\n",
       "      <td>170.0</td>\n",
       "      <td>3.8</td>\n",
       "      <td>0.366</td>\n",
       "      <td>1.4</td>\n",
       "      <td>10.7</td>\n",
       "      <td>0.4550</td>\n",
       "      <td>4.90</td>\n",
       "      <td>0.7560</td>\n",
       "      <td>3.80</td>\n",
       "      <td>2.80</td>\n",
       "      <td>109.0</td>\n",
       "      <td>14.0</td>\n",
       "      <td>1</td>\n",
       "    </tr>\n",
       "    <tr>\n",
       "      <th>4240</th>\n",
       "      <td>195.0</td>\n",
       "      <td>3.1</td>\n",
       "      <td>0.355</td>\n",
       "      <td>1.2</td>\n",
       "      <td>11.0</td>\n",
       "      <td>0.4770</td>\n",
       "      <td>5.20</td>\n",
       "      <td>0.7375</td>\n",
       "      <td>3.80</td>\n",
       "      <td>2.70</td>\n",
       "      <td>103.0</td>\n",
       "      <td>13.9</td>\n",
       "      <td>1</td>\n",
       "    </tr>\n",
       "  </tbody>\n",
       "</table>\n",
       "<p>4241 rows × 13 columns</p>\n",
       "</div>"
      ],
      "text/plain": [
       "      weight  3PA    3P%   3P   FGA     FG%     FG     FT%   FTA    FT      G  \\\n",
       "0      240.0  0.0  0.288  0.0   5.6  0.5990   3.30  0.7280  2.50  1.80  134.0   \n",
       "1      235.0  0.1  0.222  0.0   9.7  0.5455   5.15  0.6620  4.05  2.75   93.5   \n",
       "2      225.0  0.0  0.250  0.0  16.8  0.6390  10.70  0.6280  7.90  5.00   88.0   \n",
       "3      162.0  7.2  0.372  2.7  21.9  0.4740  10.40  0.8630  6.40  5.50   64.0   \n",
       "4      223.0  0.9  0.333  0.3   9.6  0.5110   4.90  0.7000  3.90  2.70  107.0   \n",
       "...      ...  ...    ...  ...   ...     ...    ...     ...   ...   ...    ...   \n",
       "4236   195.0  1.1  0.268  0.3   5.2  0.4770   2.50  0.6000  2.60  1.60  127.0   \n",
       "4237   240.0  0.7  0.294  0.2   8.2  0.4770   3.90  0.6240  3.90  2.40   26.0   \n",
       "4238   240.0  0.0  0.250  0.0   2.9  0.4760   1.40  0.4290  1.00  0.40   63.0   \n",
       "4239   170.0  3.8  0.366  1.4  10.7  0.4550   4.90  0.7560  3.80  2.80  109.0   \n",
       "4240   195.0  3.1  0.355  1.2  11.0  0.4770   5.20  0.7375  3.80  2.70  103.0   \n",
       "\n",
       "       PTS  labels  \n",
       "0      8.5       2  \n",
       "1     13.4       3  \n",
       "2     26.4       0  \n",
       "3     29.0       0  \n",
       "4     13.1       3  \n",
       "...    ...     ...  \n",
       "4236   6.9       2  \n",
       "4237  10.5       2  \n",
       "4238   3.2       2  \n",
       "4239  14.0       1  \n",
       "4240  13.9       1  \n",
       "\n",
       "[4241 rows x 13 columns]"
      ]
     },
     "execution_count": 1198,
     "metadata": {},
     "output_type": "execute_result"
    }
   ],
   "source": [
    "pred = ncaa.loc[:4240,'weight':]\n",
    "pred"
   ]
  },
  {
   "cell_type": "markdown",
   "metadata": {},
   "source": [
    "data with just the picks"
   ]
  },
  {
   "cell_type": "code",
   "execution_count": 1199,
   "metadata": {},
   "outputs": [
    {
     "data": {
      "text/html": [
       "<div>\n",
       "<style scoped>\n",
       "    .dataframe tbody tr th:only-of-type {\n",
       "        vertical-align: middle;\n",
       "    }\n",
       "\n",
       "    .dataframe tbody tr th {\n",
       "        vertical-align: top;\n",
       "    }\n",
       "\n",
       "    .dataframe thead th {\n",
       "        text-align: right;\n",
       "    }\n",
       "</style>\n",
       "<table border=\"1\" class=\"dataframe\">\n",
       "  <thead>\n",
       "    <tr style=\"text-align: right;\">\n",
       "      <th></th>\n",
       "      <th>weight</th>\n",
       "      <th>3PA</th>\n",
       "      <th>3P%</th>\n",
       "      <th>3P</th>\n",
       "      <th>FGA</th>\n",
       "      <th>FG%</th>\n",
       "      <th>FG</th>\n",
       "      <th>FT%</th>\n",
       "      <th>FTA</th>\n",
       "      <th>FT</th>\n",
       "      <th>G</th>\n",
       "      <th>PTS</th>\n",
       "      <th>labels</th>\n",
       "    </tr>\n",
       "  </thead>\n",
       "  <tbody>\n",
       "    <tr>\n",
       "      <th>4241</th>\n",
       "      <td>220.0</td>\n",
       "      <td>5.7</td>\n",
       "      <td>0.400</td>\n",
       "      <td>2.3</td>\n",
       "      <td>14.8</td>\n",
       "      <td>0.438</td>\n",
       "      <td>6.5</td>\n",
       "      <td>0.846</td>\n",
       "      <td>5.8</td>\n",
       "      <td>4.9</td>\n",
       "      <td>27.0</td>\n",
       "      <td>20.1</td>\n",
       "      <td>0</td>\n",
       "    </tr>\n",
       "    <tr>\n",
       "      <th>4242</th>\n",
       "      <td>215.0</td>\n",
       "      <td>1.2</td>\n",
       "      <td>0.300</td>\n",
       "      <td>0.4</td>\n",
       "      <td>10.3</td>\n",
       "      <td>0.578</td>\n",
       "      <td>6.0</td>\n",
       "      <td>0.694</td>\n",
       "      <td>5.8</td>\n",
       "      <td>4.1</td>\n",
       "      <td>33.0</td>\n",
       "      <td>16.4</td>\n",
       "      <td>3</td>\n",
       "    </tr>\n",
       "    <tr>\n",
       "      <th>4243</th>\n",
       "      <td>205.0</td>\n",
       "      <td>3.4</td>\n",
       "      <td>0.330</td>\n",
       "      <td>1.1</td>\n",
       "      <td>10.0</td>\n",
       "      <td>0.502</td>\n",
       "      <td>5.0</td>\n",
       "      <td>0.762</td>\n",
       "      <td>3.8</td>\n",
       "      <td>2.9</td>\n",
       "      <td>28.0</td>\n",
       "      <td>14.0</td>\n",
       "      <td>1</td>\n",
       "    </tr>\n",
       "    <tr>\n",
       "      <th>4244</th>\n",
       "      <td>225.0</td>\n",
       "      <td>1.7</td>\n",
       "      <td>0.275</td>\n",
       "      <td>0.5</td>\n",
       "      <td>8.1</td>\n",
       "      <td>0.503</td>\n",
       "      <td>4.1</td>\n",
       "      <td>0.621</td>\n",
       "      <td>2.8</td>\n",
       "      <td>1.7</td>\n",
       "      <td>24.0</td>\n",
       "      <td>10.3</td>\n",
       "      <td>2</td>\n",
       "    </tr>\n",
       "    <tr>\n",
       "      <th>4245</th>\n",
       "      <td>205.0</td>\n",
       "      <td>5.1</td>\n",
       "      <td>0.358</td>\n",
       "      <td>1.8</td>\n",
       "      <td>12.1</td>\n",
       "      <td>0.427</td>\n",
       "      <td>5.2</td>\n",
       "      <td>0.812</td>\n",
       "      <td>5.8</td>\n",
       "      <td>4.7</td>\n",
       "      <td>32.0</td>\n",
       "      <td>16.8</td>\n",
       "      <td>0</td>\n",
       "    </tr>\n",
       "    <tr>\n",
       "      <th>4246</th>\n",
       "      <td>185.0</td>\n",
       "      <td>1.8</td>\n",
       "      <td>0.271</td>\n",
       "      <td>0.5</td>\n",
       "      <td>9.1</td>\n",
       "      <td>0.449</td>\n",
       "      <td>4.1</td>\n",
       "      <td>0.703</td>\n",
       "      <td>3.7</td>\n",
       "      <td>2.6</td>\n",
       "      <td>27.0</td>\n",
       "      <td>11.3</td>\n",
       "      <td>3</td>\n",
       "    </tr>\n",
       "    <tr>\n",
       "      <th>4247</th>\n",
       "      <td>220.0</td>\n",
       "      <td>4.8</td>\n",
       "      <td>0.411</td>\n",
       "      <td>2.0</td>\n",
       "      <td>8.3</td>\n",
       "      <td>0.484</td>\n",
       "      <td>4.0</td>\n",
       "      <td>0.827</td>\n",
       "      <td>1.8</td>\n",
       "      <td>1.5</td>\n",
       "      <td>135.0</td>\n",
       "      <td>11.5</td>\n",
       "      <td>1</td>\n",
       "    </tr>\n",
       "    <tr>\n",
       "      <th>4248</th>\n",
       "      <td>220.0</td>\n",
       "      <td>1.1</td>\n",
       "      <td>0.345</td>\n",
       "      <td>0.4</td>\n",
       "      <td>4.1</td>\n",
       "      <td>0.553</td>\n",
       "      <td>2.3</td>\n",
       "      <td>0.677</td>\n",
       "      <td>1.8</td>\n",
       "      <td>1.2</td>\n",
       "      <td>53.0</td>\n",
       "      <td>6.2</td>\n",
       "      <td>2</td>\n",
       "    </tr>\n",
       "    <tr>\n",
       "      <th>4249</th>\n",
       "      <td>220.0</td>\n",
       "      <td>4.3</td>\n",
       "      <td>0.325</td>\n",
       "      <td>1.4</td>\n",
       "      <td>9.3</td>\n",
       "      <td>0.465</td>\n",
       "      <td>4.3</td>\n",
       "      <td>0.835</td>\n",
       "      <td>2.4</td>\n",
       "      <td>2.0</td>\n",
       "      <td>55.0</td>\n",
       "      <td>12.0</td>\n",
       "      <td>1</td>\n",
       "    </tr>\n",
       "    <tr>\n",
       "      <th>4250</th>\n",
       "      <td>185.0</td>\n",
       "      <td>4.0</td>\n",
       "      <td>0.291</td>\n",
       "      <td>1.2</td>\n",
       "      <td>10.2</td>\n",
       "      <td>0.374</td>\n",
       "      <td>3.8</td>\n",
       "      <td>0.796</td>\n",
       "      <td>2.5</td>\n",
       "      <td>2.0</td>\n",
       "      <td>20.0</td>\n",
       "      <td>10.7</td>\n",
       "      <td>1</td>\n",
       "    </tr>\n",
       "    <tr>\n",
       "      <th>4251</th>\n",
       "      <td>190.0</td>\n",
       "      <td>3.4</td>\n",
       "      <td>0.320</td>\n",
       "      <td>1.1</td>\n",
       "      <td>11.5</td>\n",
       "      <td>0.456</td>\n",
       "      <td>5.3</td>\n",
       "      <td>0.802</td>\n",
       "      <td>4.2</td>\n",
       "      <td>3.4</td>\n",
       "      <td>43.0</td>\n",
       "      <td>15.0</td>\n",
       "      <td>1</td>\n",
       "    </tr>\n",
       "  </tbody>\n",
       "</table>\n",
       "</div>"
      ],
      "text/plain": [
       "      weight  3PA    3P%   3P   FGA    FG%   FG    FT%  FTA   FT      G   PTS  \\\n",
       "4241   220.0  5.7  0.400  2.3  14.8  0.438  6.5  0.846  5.8  4.9   27.0  20.1   \n",
       "4242   215.0  1.2  0.300  0.4  10.3  0.578  6.0  0.694  5.8  4.1   33.0  16.4   \n",
       "4243   205.0  3.4  0.330  1.1  10.0  0.502  5.0  0.762  3.8  2.9   28.0  14.0   \n",
       "4244   225.0  1.7  0.275  0.5   8.1  0.503  4.1  0.621  2.8  1.7   24.0  10.3   \n",
       "4245   205.0  5.1  0.358  1.8  12.1  0.427  5.2  0.812  5.8  4.7   32.0  16.8   \n",
       "4246   185.0  1.8  0.271  0.5   9.1  0.449  4.1  0.703  3.7  2.6   27.0  11.3   \n",
       "4247   220.0  4.8  0.411  2.0   8.3  0.484  4.0  0.827  1.8  1.5  135.0  11.5   \n",
       "4248   220.0  1.1  0.345  0.4   4.1  0.553  2.3  0.677  1.8  1.2   53.0   6.2   \n",
       "4249   220.0  4.3  0.325  1.4   9.3  0.465  4.3  0.835  2.4  2.0   55.0  12.0   \n",
       "4250   185.0  4.0  0.291  1.2  10.2  0.374  3.8  0.796  2.5  2.0   20.0  10.7   \n",
       "4251   190.0  3.4  0.320  1.1  11.5  0.456  5.3  0.802  4.2  3.4   43.0  15.0   \n",
       "\n",
       "      labels  \n",
       "4241       0  \n",
       "4242       3  \n",
       "4243       1  \n",
       "4244       2  \n",
       "4245       0  \n",
       "4246       3  \n",
       "4247       1  \n",
       "4248       2  \n",
       "4249       1  \n",
       "4250       1  \n",
       "4251       1  "
      ]
     },
     "execution_count": 1199,
     "metadata": {},
     "output_type": "execute_result"
    }
   ],
   "source": [
    "pred2 = ncaa.loc[4241:,'weight':]\n",
    "pred2"
   ]
  },
  {
   "cell_type": "markdown",
   "metadata": {},
   "source": [
    "## Cade Cunningham"
   ]
  },
  {
   "cell_type": "code",
   "execution_count": 1212,
   "metadata": {},
   "outputs": [
    {
     "data": {
      "text/html": [
       "<div>\n",
       "<style scoped>\n",
       "    .dataframe tbody tr th:only-of-type {\n",
       "        vertical-align: middle;\n",
       "    }\n",
       "\n",
       "    .dataframe tbody tr th {\n",
       "        vertical-align: top;\n",
       "    }\n",
       "\n",
       "    .dataframe thead th {\n",
       "        text-align: right;\n",
       "    }\n",
       "</style>\n",
       "<table border=\"1\" class=\"dataframe\">\n",
       "  <thead>\n",
       "    <tr style=\"text-align: right;\">\n",
       "      <th></th>\n",
       "      <th>weight</th>\n",
       "      <th>3PA</th>\n",
       "      <th>3P%</th>\n",
       "      <th>3P</th>\n",
       "      <th>FGA</th>\n",
       "      <th>FG%</th>\n",
       "      <th>FG</th>\n",
       "      <th>FT%</th>\n",
       "      <th>FTA</th>\n",
       "      <th>FT</th>\n",
       "      <th>G</th>\n",
       "      <th>PTS</th>\n",
       "      <th>labels</th>\n",
       "    </tr>\n",
       "  </thead>\n",
       "  <tbody>\n",
       "    <tr>\n",
       "      <th>1435</th>\n",
       "      <td>220.0</td>\n",
       "      <td>4.3</td>\n",
       "      <td>0.32</td>\n",
       "      <td>1.4</td>\n",
       "      <td>16.0</td>\n",
       "      <td>0.429</td>\n",
       "      <td>6.9</td>\n",
       "      <td>0.734</td>\n",
       "      <td>3.6</td>\n",
       "      <td>2.7</td>\n",
       "      <td>30.0</td>\n",
       "      <td>17.8</td>\n",
       "      <td>0</td>\n",
       "    </tr>\n",
       "  </tbody>\n",
       "</table>\n",
       "</div>"
      ],
      "text/plain": [
       "      weight  3PA   3P%   3P   FGA    FG%   FG    FT%  FTA   FT     G   PTS  \\\n",
       "1435   220.0  4.3  0.32  1.4  16.0  0.429  6.9  0.734  3.6  2.7  30.0  17.8   \n",
       "\n",
       "      labels  \n",
       "1435       0  "
      ]
     },
     "execution_count": 1212,
     "metadata": {},
     "output_type": "execute_result"
    }
   ],
   "source": [
    "similar1 = scipy.spatial.distance.cdist(pred,pred2[0:1],metric='euclidean')\n",
    "pred[similar1 == similar1.min()]"
   ]
  },
  {
   "cell_type": "code",
   "execution_count": 1217,
   "metadata": {},
   "outputs": [
    {
     "data": {
      "text/plain": [
       "college         Seton Hall University\n",
       "height                           6-10\n",
       "name                    Eddie Griffin\n",
       "position                          F-C\n",
       "url         /players/g/griffed01.html\n",
       "weight                            220\n",
       "3PA                               4.3\n",
       "3P%                              0.32\n",
       "3P                                1.4\n",
       "FGA                                16\n",
       "FG%                             0.429\n",
       "FG                                6.9\n",
       "FT%                             0.734\n",
       "FTA                               3.6\n",
       "FT                                2.7\n",
       "G                                  30\n",
       "PTS                              17.8\n",
       "labels                              0\n",
       "Name: 1435, dtype: object"
      ]
     },
     "execution_count": 1217,
     "metadata": {},
     "output_type": "execute_result"
    }
   ],
   "source": [
    "ncaa.loc[1435]"
   ]
  },
  {
   "cell_type": "code",
   "execution_count": 1218,
   "metadata": {},
   "outputs": [
    {
     "data": {
      "text/plain": [
       "college        University of Oklahoma\n",
       "height                           6-10\n",
       "name                    Blake Griffin\n",
       "position                            F\n",
       "url         /players/g/griffbl01.html\n",
       "weight                            251\n",
       "3PA                               0.1\n",
       "3P%                               0.3\n",
       "3P                                  0\n",
       "FGA                              11.5\n",
       "FG%                             0.618\n",
       "FG                                7.1\n",
       "FT%                             0.589\n",
       "FTA                               7.7\n",
       "FT                                4.5\n",
       "G                                  68\n",
       "PTS                              18.8\n",
       "labels                              0\n",
       "Name: 1434, dtype: object"
      ]
     },
     "execution_count": 1218,
     "metadata": {},
     "output_type": "execute_result"
    }
   ],
   "source": [
    "ncaa.loc[1434]"
   ]
  },
  {
   "cell_type": "markdown",
   "metadata": {},
   "source": [
    "Cade Cunningham's comparison is Eddie/Blake Griffin"
   ]
  },
  {
   "attachments": {},
   "cell_type": "markdown",
   "metadata": {},
   "source": [
    "## Evan Mobley"
   ]
  },
  {
   "cell_type": "code",
   "execution_count": 1219,
   "metadata": {
    "scrolled": true
   },
   "outputs": [
    {
     "data": {
      "text/html": [
       "<div>\n",
       "<style scoped>\n",
       "    .dataframe tbody tr th:only-of-type {\n",
       "        vertical-align: middle;\n",
       "    }\n",
       "\n",
       "    .dataframe tbody tr th {\n",
       "        vertical-align: top;\n",
       "    }\n",
       "\n",
       "    .dataframe thead th {\n",
       "        text-align: right;\n",
       "    }\n",
       "</style>\n",
       "<table border=\"1\" class=\"dataframe\">\n",
       "  <thead>\n",
       "    <tr style=\"text-align: right;\">\n",
       "      <th></th>\n",
       "      <th>weight</th>\n",
       "      <th>3PA</th>\n",
       "      <th>3P%</th>\n",
       "      <th>3P</th>\n",
       "      <th>FGA</th>\n",
       "      <th>FG%</th>\n",
       "      <th>FG</th>\n",
       "      <th>FT%</th>\n",
       "      <th>FTA</th>\n",
       "      <th>FT</th>\n",
       "      <th>G</th>\n",
       "      <th>PTS</th>\n",
       "      <th>labels</th>\n",
       "    </tr>\n",
       "  </thead>\n",
       "  <tbody>\n",
       "    <tr>\n",
       "      <th>1529</th>\n",
       "      <td>215.0</td>\n",
       "      <td>2.5</td>\n",
       "      <td>0.215</td>\n",
       "      <td>0.5</td>\n",
       "      <td>13.3</td>\n",
       "      <td>0.452</td>\n",
       "      <td>6.0</td>\n",
       "      <td>0.676</td>\n",
       "      <td>4.3</td>\n",
       "      <td>2.9</td>\n",
       "      <td>32.0</td>\n",
       "      <td>15.5</td>\n",
       "      <td>3</td>\n",
       "    </tr>\n",
       "  </tbody>\n",
       "</table>\n",
       "</div>"
      ],
      "text/plain": [
       "      weight  3PA    3P%   3P   FGA    FG%   FG    FT%  FTA   FT     G   PTS  \\\n",
       "1529   215.0  2.5  0.215  0.5  13.3  0.452  6.0  0.676  4.3  2.9  32.0  15.5   \n",
       "\n",
       "      labels  \n",
       "1529       3  "
      ]
     },
     "execution_count": 1219,
     "metadata": {},
     "output_type": "execute_result"
    }
   ],
   "source": [
    "similar1 = scipy.spatial.distance.cdist(pred,pred2[1:2],metric='euclidean')\n",
    "pred[similar1==similar1.min()]"
   ]
  },
  {
   "cell_type": "code",
   "execution_count": 1220,
   "metadata": {},
   "outputs": [
    {
     "data": {
      "text/plain": [
       "college         St. John's University\n",
       "height                            6-9\n",
       "name                 Maurice Harkless\n",
       "position                          F-G\n",
       "url         /players/h/harklma01.html\n",
       "weight                            215\n",
       "3PA                               2.5\n",
       "3P%                             0.215\n",
       "3P                                0.5\n",
       "FGA                              13.3\n",
       "FG%                             0.452\n",
       "FG                                  6\n",
       "FT%                             0.676\n",
       "FTA                               4.3\n",
       "FT                                2.9\n",
       "G                                  32\n",
       "PTS                              15.5\n",
       "labels                              3\n",
       "Name: 1529, dtype: object"
      ]
     },
     "execution_count": 1220,
     "metadata": {},
     "output_type": "execute_result"
    }
   ],
   "source": [
    "ncaa.loc[1529]"
   ]
  },
  {
   "cell_type": "markdown",
   "metadata": {},
   "source": [
    "Evan Mobley's comparison is Maurice Harkless"
   ]
  },
  {
   "cell_type": "markdown",
   "metadata": {},
   "source": [
    "## Jalen Suggs"
   ]
  },
  {
   "cell_type": "code",
   "execution_count": 1222,
   "metadata": {},
   "outputs": [
    {
     "data": {
      "text/html": [
       "<div>\n",
       "<style scoped>\n",
       "    .dataframe tbody tr th:only-of-type {\n",
       "        vertical-align: middle;\n",
       "    }\n",
       "\n",
       "    .dataframe tbody tr th {\n",
       "        vertical-align: top;\n",
       "    }\n",
       "\n",
       "    .dataframe thead th {\n",
       "        text-align: right;\n",
       "    }\n",
       "</style>\n",
       "<table border=\"1\" class=\"dataframe\">\n",
       "  <thead>\n",
       "    <tr style=\"text-align: right;\">\n",
       "      <th></th>\n",
       "      <th>weight</th>\n",
       "      <th>3PA</th>\n",
       "      <th>3P%</th>\n",
       "      <th>3P</th>\n",
       "      <th>FGA</th>\n",
       "      <th>FG%</th>\n",
       "      <th>FG</th>\n",
       "      <th>FT%</th>\n",
       "      <th>FTA</th>\n",
       "      <th>FT</th>\n",
       "      <th>G</th>\n",
       "      <th>PTS</th>\n",
       "      <th>labels</th>\n",
       "    </tr>\n",
       "  </thead>\n",
       "  <tbody>\n",
       "    <tr>\n",
       "      <th>3664</th>\n",
       "      <td>205.0</td>\n",
       "      <td>4.0</td>\n",
       "      <td>0.342</td>\n",
       "      <td>1.4</td>\n",
       "      <td>12.6</td>\n",
       "      <td>0.452</td>\n",
       "      <td>5.7</td>\n",
       "      <td>0.849</td>\n",
       "      <td>4.8</td>\n",
       "      <td>4.1</td>\n",
       "      <td>29.0</td>\n",
       "      <td>16.8</td>\n",
       "      <td>0</td>\n",
       "    </tr>\n",
       "  </tbody>\n",
       "</table>\n",
       "</div>"
      ],
      "text/plain": [
       "      weight  3PA    3P%   3P   FGA    FG%   FG    FT%  FTA   FT     G   PTS  \\\n",
       "3664   205.0  4.0  0.342  1.4  12.6  0.452  5.7  0.849  4.8  4.1  29.0  16.8   \n",
       "\n",
       "      labels  \n",
       "3664       0  "
      ]
     },
     "execution_count": 1222,
     "metadata": {},
     "output_type": "execute_result"
    }
   ],
   "source": [
    "similar1 = scipy.spatial.distance.cdist(pred,pred2[2:3],metric='euclidean')\n",
    "pred[similar1==similar1.min()]"
   ]
  },
  {
   "cell_type": "code",
   "execution_count": 1223,
   "metadata": {},
   "outputs": [
    {
     "data": {
      "text/plain": [
       "college               Duke University\n",
       "height                            6-8\n",
       "name                     Jayson Tatum\n",
       "position                            F\n",
       "url         /players/t/tatumja01.html\n",
       "weight                            205\n",
       "3PA                                 4\n",
       "3P%                             0.342\n",
       "3P                                1.4\n",
       "FGA                              12.6\n",
       "FG%                             0.452\n",
       "FG                                5.7\n",
       "FT%                             0.849\n",
       "FTA                               4.8\n",
       "FT                                4.1\n",
       "G                                  29\n",
       "PTS                              16.8\n",
       "labels                              0\n",
       "Name: 3664, dtype: object"
      ]
     },
     "execution_count": 1223,
     "metadata": {},
     "output_type": "execute_result"
    }
   ],
   "source": [
    "ncaa.loc[3664]"
   ]
  },
  {
   "cell_type": "markdown",
   "metadata": {},
   "source": [
    "Jalen Suggs comparison is Jayson Tatum"
   ]
  },
  {
   "cell_type": "markdown",
   "metadata": {},
   "source": [
    "## Scottie Barnes"
   ]
  },
  {
   "cell_type": "code",
   "execution_count": 1224,
   "metadata": {
    "scrolled": true
   },
   "outputs": [
    {
     "data": {
      "text/html": [
       "<div>\n",
       "<style scoped>\n",
       "    .dataframe tbody tr th:only-of-type {\n",
       "        vertical-align: middle;\n",
       "    }\n",
       "\n",
       "    .dataframe tbody tr th {\n",
       "        vertical-align: top;\n",
       "    }\n",
       "\n",
       "    .dataframe thead th {\n",
       "        text-align: right;\n",
       "    }\n",
       "</style>\n",
       "<table border=\"1\" class=\"dataframe\">\n",
       "  <thead>\n",
       "    <tr style=\"text-align: right;\">\n",
       "      <th></th>\n",
       "      <th>weight</th>\n",
       "      <th>3PA</th>\n",
       "      <th>3P%</th>\n",
       "      <th>3P</th>\n",
       "      <th>FGA</th>\n",
       "      <th>FG%</th>\n",
       "      <th>FG</th>\n",
       "      <th>FT%</th>\n",
       "      <th>FTA</th>\n",
       "      <th>FT</th>\n",
       "      <th>G</th>\n",
       "      <th>PTS</th>\n",
       "      <th>labels</th>\n",
       "    </tr>\n",
       "  </thead>\n",
       "  <tbody>\n",
       "    <tr>\n",
       "      <th>2783</th>\n",
       "      <td>228.0</td>\n",
       "      <td>0.0</td>\n",
       "      <td>0.222</td>\n",
       "      <td>0.0</td>\n",
       "      <td>6.9</td>\n",
       "      <td>0.59</td>\n",
       "      <td>4.1</td>\n",
       "      <td>0.529</td>\n",
       "      <td>4.3</td>\n",
       "      <td>2.3</td>\n",
       "      <td>24.0</td>\n",
       "      <td>10.5</td>\n",
       "      <td>2</td>\n",
       "    </tr>\n",
       "  </tbody>\n",
       "</table>\n",
       "</div>"
      ],
      "text/plain": [
       "      weight  3PA    3P%   3P  FGA   FG%   FG    FT%  FTA   FT     G   PTS  \\\n",
       "2783   228.0  0.0  0.222  0.0  6.9  0.59  4.1  0.529  4.3  2.3  24.0  10.5   \n",
       "\n",
       "      labels  \n",
       "2783       2  "
      ]
     },
     "execution_count": 1224,
     "metadata": {},
     "output_type": "execute_result"
    }
   ],
   "source": [
    "similar1 = scipy.spatial.distance.cdist(pred,pred2[3:4],metric='euclidean')\n",
    "pred[similar1==similar1.min()]"
   ]
  },
  {
   "cell_type": "code",
   "execution_count": 1225,
   "metadata": {},
   "outputs": [
    {
     "data": {
      "text/plain": [
       "college       University of Kentucky\n",
       "height                          6-11\n",
       "name                    Nerlens Noel\n",
       "position                         C-F\n",
       "url         /players/n/noelne01.html\n",
       "weight                           228\n",
       "3PA                                0\n",
       "3P%                            0.222\n",
       "3P                                 0\n",
       "FGA                              6.9\n",
       "FG%                             0.59\n",
       "FG                               4.1\n",
       "FT%                            0.529\n",
       "FTA                              4.3\n",
       "FT                               2.3\n",
       "G                                 24\n",
       "PTS                             10.5\n",
       "labels                             2\n",
       "Name: 2783, dtype: object"
      ]
     },
     "execution_count": 1225,
     "metadata": {},
     "output_type": "execute_result"
    }
   ],
   "source": [
    "ncaa.loc[2783]"
   ]
  },
  {
   "cell_type": "markdown",
   "metadata": {},
   "source": [
    "Scottie Barnes' comparison is Nerlens Noel"
   ]
  },
  {
   "cell_type": "markdown",
   "metadata": {},
   "source": [
    "## Moses Moody"
   ]
  },
  {
   "cell_type": "code",
   "execution_count": 1226,
   "metadata": {},
   "outputs": [
    {
     "data": {
      "text/html": [
       "<div>\n",
       "<style scoped>\n",
       "    .dataframe tbody tr th:only-of-type {\n",
       "        vertical-align: middle;\n",
       "    }\n",
       "\n",
       "    .dataframe tbody tr th {\n",
       "        vertical-align: top;\n",
       "    }\n",
       "\n",
       "    .dataframe thead th {\n",
       "        text-align: right;\n",
       "    }\n",
       "</style>\n",
       "<table border=\"1\" class=\"dataframe\">\n",
       "  <thead>\n",
       "    <tr style=\"text-align: right;\">\n",
       "      <th></th>\n",
       "      <th>weight</th>\n",
       "      <th>3PA</th>\n",
       "      <th>3P%</th>\n",
       "      <th>3P</th>\n",
       "      <th>FGA</th>\n",
       "      <th>FG%</th>\n",
       "      <th>FG</th>\n",
       "      <th>FT%</th>\n",
       "      <th>FTA</th>\n",
       "      <th>FT</th>\n",
       "      <th>G</th>\n",
       "      <th>PTS</th>\n",
       "      <th>labels</th>\n",
       "    </tr>\n",
       "  </thead>\n",
       "  <tbody>\n",
       "    <tr>\n",
       "      <th>3664</th>\n",
       "      <td>205.0</td>\n",
       "      <td>4.0</td>\n",
       "      <td>0.342</td>\n",
       "      <td>1.4</td>\n",
       "      <td>12.6</td>\n",
       "      <td>0.452</td>\n",
       "      <td>5.7</td>\n",
       "      <td>0.849</td>\n",
       "      <td>4.8</td>\n",
       "      <td>4.1</td>\n",
       "      <td>29.0</td>\n",
       "      <td>16.8</td>\n",
       "      <td>0</td>\n",
       "    </tr>\n",
       "  </tbody>\n",
       "</table>\n",
       "</div>"
      ],
      "text/plain": [
       "      weight  3PA    3P%   3P   FGA    FG%   FG    FT%  FTA   FT     G   PTS  \\\n",
       "3664   205.0  4.0  0.342  1.4  12.6  0.452  5.7  0.849  4.8  4.1  29.0  16.8   \n",
       "\n",
       "      labels  \n",
       "3664       0  "
      ]
     },
     "execution_count": 1226,
     "metadata": {},
     "output_type": "execute_result"
    }
   ],
   "source": [
    "similar1 = scipy.spatial.distance.cdist(pred,pred2[4:5],metric='euclidean')\n",
    "pred[similar1==similar1.min()]"
   ]
  },
  {
   "cell_type": "code",
   "execution_count": 1228,
   "metadata": {},
   "outputs": [
    {
     "data": {
      "text/plain": [
       "college               Duke University\n",
       "height                            6-8\n",
       "name                     Jayson Tatum\n",
       "position                            F\n",
       "url         /players/t/tatumja01.html\n",
       "weight                            205\n",
       "3PA                                 4\n",
       "3P%                             0.342\n",
       "3P                                1.4\n",
       "FGA                              12.6\n",
       "FG%                             0.452\n",
       "FG                                5.7\n",
       "FT%                             0.849\n",
       "FTA                               4.8\n",
       "FT                                4.1\n",
       "G                                  29\n",
       "PTS                              16.8\n",
       "labels                              0\n",
       "Name: 3664, dtype: object"
      ]
     },
     "execution_count": 1228,
     "metadata": {},
     "output_type": "execute_result"
    }
   ],
   "source": [
    "ncaa.loc[3664]"
   ]
  },
  {
   "cell_type": "markdown",
   "metadata": {},
   "source": [
    "Moses Moody's comparison is Jayson Tatum"
   ]
  },
  {
   "cell_type": "markdown",
   "metadata": {},
   "source": [
    "## Keon Johnson"
   ]
  },
  {
   "cell_type": "code",
   "execution_count": 1229,
   "metadata": {
    "scrolled": true
   },
   "outputs": [
    {
     "data": {
      "text/html": [
       "<div>\n",
       "<style scoped>\n",
       "    .dataframe tbody tr th:only-of-type {\n",
       "        vertical-align: middle;\n",
       "    }\n",
       "\n",
       "    .dataframe tbody tr th {\n",
       "        vertical-align: top;\n",
       "    }\n",
       "\n",
       "    .dataframe thead th {\n",
       "        text-align: right;\n",
       "    }\n",
       "</style>\n",
       "<table border=\"1\" class=\"dataframe\">\n",
       "  <thead>\n",
       "    <tr style=\"text-align: right;\">\n",
       "      <th></th>\n",
       "      <th>weight</th>\n",
       "      <th>3PA</th>\n",
       "      <th>3P%</th>\n",
       "      <th>3P</th>\n",
       "      <th>FGA</th>\n",
       "      <th>FG%</th>\n",
       "      <th>FG</th>\n",
       "      <th>FT%</th>\n",
       "      <th>FTA</th>\n",
       "      <th>FT</th>\n",
       "      <th>G</th>\n",
       "      <th>PTS</th>\n",
       "      <th>labels</th>\n",
       "    </tr>\n",
       "  </thead>\n",
       "  <tbody>\n",
       "    <tr>\n",
       "      <th>2682</th>\n",
       "      <td>185.0</td>\n",
       "      <td>0.9</td>\n",
       "      <td>0.333</td>\n",
       "      <td>0.3</td>\n",
       "      <td>9.6</td>\n",
       "      <td>0.511</td>\n",
       "      <td>4.0</td>\n",
       "      <td>0.7</td>\n",
       "      <td>3.9</td>\n",
       "      <td>2.1</td>\n",
       "      <td>25.0</td>\n",
       "      <td>10.1</td>\n",
       "      <td>3</td>\n",
       "    </tr>\n",
       "  </tbody>\n",
       "</table>\n",
       "</div>"
      ],
      "text/plain": [
       "      weight  3PA    3P%   3P  FGA    FG%   FG  FT%  FTA   FT     G   PTS  \\\n",
       "2682   185.0  0.9  0.333  0.3  9.6  0.511  4.0  0.7  3.9  2.1  25.0  10.1   \n",
       "\n",
       "      labels  \n",
       "2682       3  "
      ]
     },
     "execution_count": 1229,
     "metadata": {},
     "output_type": "execute_result"
    }
   ],
   "source": [
    "similar1 = scipy.spatial.distance.cdist(pred,pred2[5:6],metric='euclidean')\n",
    "pred[similar1==similar1.min()]"
   ]
  },
  {
   "cell_type": "code",
   "execution_count": 1230,
   "metadata": {},
   "outputs": [
    {
     "data": {
      "text/plain": [
       "college     Eastern Kentucky University\n",
       "height                              6-5\n",
       "name                    Chuck Mrazovich\n",
       "position                              F\n",
       "url           /players/m/mrazoch01.html\n",
       "weight                              185\n",
       "3PA                                 0.9\n",
       "3P%                               0.333\n",
       "3P                                  0.3\n",
       "FGA                                 9.6\n",
       "FG%                               0.511\n",
       "FG                                    4\n",
       "FT%                                 0.7\n",
       "FTA                                 3.9\n",
       "FT                                  2.1\n",
       "G                                    25\n",
       "PTS                                10.1\n",
       "labels                                3\n",
       "Name: 2682, dtype: object"
      ]
     },
     "execution_count": 1230,
     "metadata": {},
     "output_type": "execute_result"
    }
   ],
   "source": [
    "ncaa.loc[2682]"
   ]
  },
  {
   "cell_type": "markdown",
   "metadata": {},
   "source": [
    "Keon Johnson's comparison is Chuck Mrazovich"
   ]
  },
  {
   "cell_type": "markdown",
   "metadata": {},
   "source": [
    "## Corey Kispert"
   ]
  },
  {
   "cell_type": "code",
   "execution_count": 1231,
   "metadata": {},
   "outputs": [
    {
     "data": {
      "text/html": [
       "<div>\n",
       "<style scoped>\n",
       "    .dataframe tbody tr th:only-of-type {\n",
       "        vertical-align: middle;\n",
       "    }\n",
       "\n",
       "    .dataframe tbody tr th {\n",
       "        vertical-align: top;\n",
       "    }\n",
       "\n",
       "    .dataframe thead th {\n",
       "        text-align: right;\n",
       "    }\n",
       "</style>\n",
       "<table border=\"1\" class=\"dataframe\">\n",
       "  <thead>\n",
       "    <tr style=\"text-align: right;\">\n",
       "      <th></th>\n",
       "      <th>weight</th>\n",
       "      <th>3PA</th>\n",
       "      <th>3P%</th>\n",
       "      <th>3P</th>\n",
       "      <th>FGA</th>\n",
       "      <th>FG%</th>\n",
       "      <th>FG</th>\n",
       "      <th>FT%</th>\n",
       "      <th>FTA</th>\n",
       "      <th>FT</th>\n",
       "      <th>G</th>\n",
       "      <th>PTS</th>\n",
       "      <th>labels</th>\n",
       "    </tr>\n",
       "  </thead>\n",
       "  <tbody>\n",
       "    <tr>\n",
       "      <th>1165</th>\n",
       "      <td>220.0</td>\n",
       "      <td>3.8</td>\n",
       "      <td>0.362</td>\n",
       "      <td>1.4</td>\n",
       "      <td>8.7</td>\n",
       "      <td>0.411</td>\n",
       "      <td>3.6</td>\n",
       "      <td>0.657</td>\n",
       "      <td>3.2</td>\n",
       "      <td>2.1</td>\n",
       "      <td>134.0</td>\n",
       "      <td>10.7</td>\n",
       "      <td>1</td>\n",
       "    </tr>\n",
       "  </tbody>\n",
       "</table>\n",
       "</div>"
      ],
      "text/plain": [
       "      weight  3PA    3P%   3P  FGA    FG%   FG    FT%  FTA   FT      G   PTS  \\\n",
       "1165   220.0  3.8  0.362  1.4  8.7  0.411  3.6  0.657  3.2  2.1  134.0  10.7   \n",
       "\n",
       "      labels  \n",
       "1165       1  "
      ]
     },
     "execution_count": 1231,
     "metadata": {},
     "output_type": "execute_result"
    }
   ],
   "source": [
    "similar1 = scipy.spatial.distance.cdist(pred,pred2[6:7],metric='euclidean')\n",
    "pred[similar1==similar1.min()]"
   ]
  },
  {
   "cell_type": "code",
   "execution_count": 1232,
   "metadata": {},
   "outputs": [
    {
     "data": {
      "text/plain": [
       "college         University of Florida\n",
       "height                            6-8\n",
       "name              Dorian Finney-Smith\n",
       "position                            F\n",
       "url         /players/f/finnedo01.html\n",
       "weight                            220\n",
       "3PA                               3.8\n",
       "3P%                             0.362\n",
       "3P                                1.4\n",
       "FGA                               8.7\n",
       "FG%                             0.411\n",
       "FG                                3.6\n",
       "FT%                             0.657\n",
       "FTA                               3.2\n",
       "FT                                2.1\n",
       "G                                 134\n",
       "PTS                              10.7\n",
       "labels                              1\n",
       "Name: 1165, dtype: object"
      ]
     },
     "execution_count": 1232,
     "metadata": {},
     "output_type": "execute_result"
    }
   ],
   "source": [
    "ncaa.loc[1165]"
   ]
  },
  {
   "cell_type": "markdown",
   "metadata": {},
   "source": [
    "Corey Kispter's comparison is Dorian Finney-Smith"
   ]
  },
  {
   "cell_type": "markdown",
   "metadata": {},
   "source": [
    "## Kai Jones"
   ]
  },
  {
   "cell_type": "code",
   "execution_count": 1233,
   "metadata": {},
   "outputs": [
    {
     "data": {
      "text/html": [
       "<div>\n",
       "<style scoped>\n",
       "    .dataframe tbody tr th:only-of-type {\n",
       "        vertical-align: middle;\n",
       "    }\n",
       "\n",
       "    .dataframe tbody tr th {\n",
       "        vertical-align: top;\n",
       "    }\n",
       "\n",
       "    .dataframe thead th {\n",
       "        text-align: right;\n",
       "    }\n",
       "</style>\n",
       "<table border=\"1\" class=\"dataframe\">\n",
       "  <thead>\n",
       "    <tr style=\"text-align: right;\">\n",
       "      <th></th>\n",
       "      <th>weight</th>\n",
       "      <th>3PA</th>\n",
       "      <th>3P%</th>\n",
       "      <th>3P</th>\n",
       "      <th>FGA</th>\n",
       "      <th>FG%</th>\n",
       "      <th>FG</th>\n",
       "      <th>FT%</th>\n",
       "      <th>FTA</th>\n",
       "      <th>FT</th>\n",
       "      <th>G</th>\n",
       "      <th>PTS</th>\n",
       "      <th>labels</th>\n",
       "    </tr>\n",
       "  </thead>\n",
       "  <tbody>\n",
       "    <tr>\n",
       "      <th>2999</th>\n",
       "      <td>220.0</td>\n",
       "      <td>0.9</td>\n",
       "      <td>0.333</td>\n",
       "      <td>0.3</td>\n",
       "      <td>4.7</td>\n",
       "      <td>0.632</td>\n",
       "      <td>3.0</td>\n",
       "      <td>0.689</td>\n",
       "      <td>3.0</td>\n",
       "      <td>2.1</td>\n",
       "      <td>55.0</td>\n",
       "      <td>8.1</td>\n",
       "      <td>2</td>\n",
       "    </tr>\n",
       "  </tbody>\n",
       "</table>\n",
       "</div>"
      ],
      "text/plain": [
       "      weight  3PA    3P%   3P  FGA    FG%   FG    FT%  FTA   FT     G  PTS  \\\n",
       "2999   220.0  0.9  0.333  0.3  4.7  0.632  3.0  0.689  3.0  2.1  55.0  8.1   \n",
       "\n",
       "      labels  \n",
       "2999       2  "
      ]
     },
     "execution_count": 1233,
     "metadata": {},
     "output_type": "execute_result"
    }
   ],
   "source": [
    "similar1 = scipy.spatial.distance.cdist(pred,pred2[7:8],metric='euclidean')\n",
    "pred[similar1==similar1.min()]"
   ]
  },
  {
   "cell_type": "code",
   "execution_count": 1234,
   "metadata": {
    "scrolled": true
   },
   "outputs": [
    {
     "data": {
      "text/plain": [
       "college        University of Maryland\n",
       "height                            6-8\n",
       "name                  Charles Pittman\n",
       "position                            F\n",
       "url         /players/p/pittmch01.html\n",
       "weight                            220\n",
       "3PA                               0.9\n",
       "3P%                             0.333\n",
       "3P                                0.3\n",
       "FGA                               4.7\n",
       "FG%                             0.632\n",
       "FG                                  3\n",
       "FT%                             0.689\n",
       "FTA                                 3\n",
       "FT                                2.1\n",
       "G                                  55\n",
       "PTS                               8.1\n",
       "labels                              2\n",
       "Name: 2999, dtype: object"
      ]
     },
     "execution_count": 1234,
     "metadata": {},
     "output_type": "execute_result"
    }
   ],
   "source": [
    "ncaa.loc[2999]"
   ]
  },
  {
   "cell_type": "markdown",
   "metadata": {},
   "source": [
    "Kai Jones' comparison is Charles Pittman"
   ]
  },
  {
   "cell_type": "markdown",
   "metadata": {},
   "source": [
    "## Franz Wagner"
   ]
  },
  {
   "cell_type": "code",
   "execution_count": 1235,
   "metadata": {},
   "outputs": [
    {
     "data": {
      "text/html": [
       "<div>\n",
       "<style scoped>\n",
       "    .dataframe tbody tr th:only-of-type {\n",
       "        vertical-align: middle;\n",
       "    }\n",
       "\n",
       "    .dataframe tbody tr th {\n",
       "        vertical-align: top;\n",
       "    }\n",
       "\n",
       "    .dataframe thead th {\n",
       "        text-align: right;\n",
       "    }\n",
       "</style>\n",
       "<table border=\"1\" class=\"dataframe\">\n",
       "  <thead>\n",
       "    <tr style=\"text-align: right;\">\n",
       "      <th></th>\n",
       "      <th>weight</th>\n",
       "      <th>3PA</th>\n",
       "      <th>3P%</th>\n",
       "      <th>3P</th>\n",
       "      <th>FGA</th>\n",
       "      <th>FG%</th>\n",
       "      <th>FG</th>\n",
       "      <th>FT%</th>\n",
       "      <th>FTA</th>\n",
       "      <th>FT</th>\n",
       "      <th>G</th>\n",
       "      <th>PTS</th>\n",
       "      <th>labels</th>\n",
       "    </tr>\n",
       "  </thead>\n",
       "  <tbody>\n",
       "    <tr>\n",
       "      <th>2763</th>\n",
       "      <td>220.0</td>\n",
       "      <td>0.3</td>\n",
       "      <td>0.235</td>\n",
       "      <td>0.1</td>\n",
       "      <td>7.1</td>\n",
       "      <td>0.548</td>\n",
       "      <td>3.9</td>\n",
       "      <td>0.643</td>\n",
       "      <td>1.7</td>\n",
       "      <td>1.1</td>\n",
       "      <td>58.0</td>\n",
       "      <td>8.9</td>\n",
       "      <td>2</td>\n",
       "    </tr>\n",
       "  </tbody>\n",
       "</table>\n",
       "</div>"
      ],
      "text/plain": [
       "      weight  3PA    3P%   3P  FGA    FG%   FG    FT%  FTA   FT     G  PTS  \\\n",
       "2763   220.0  0.3  0.235  0.1  7.1  0.548  3.9  0.643  1.7  1.1  58.0  8.9   \n",
       "\n",
       "      labels  \n",
       "2763       2  "
      ]
     },
     "execution_count": 1235,
     "metadata": {},
     "output_type": "execute_result"
    }
   ],
   "source": [
    "similar1 = scipy.spatial.distance.cdist(pred,pred2[8:9],metric='euclidean')\n",
    "pred[similar1==similar1.min()]"
   ]
  },
  {
   "cell_type": "code",
   "execution_count": 1236,
   "metadata": {
    "scrolled": true
   },
   "outputs": [
    {
     "data": {
      "text/plain": [
       "college              Miami University\n",
       "height                            6-7\n",
       "name                       Ira Newble\n",
       "position                            F\n",
       "url         /players/n/newblir01.html\n",
       "weight                            220\n",
       "3PA                               0.3\n",
       "3P%                             0.235\n",
       "3P                                0.1\n",
       "FGA                               7.1\n",
       "FG%                             0.548\n",
       "FG                                3.9\n",
       "FT%                             0.643\n",
       "FTA                               1.7\n",
       "FT                                1.1\n",
       "G                                  58\n",
       "PTS                               8.9\n",
       "labels                              2\n",
       "Name: 2763, dtype: object"
      ]
     },
     "execution_count": 1236,
     "metadata": {},
     "output_type": "execute_result"
    }
   ],
   "source": [
    "ncaa.loc[2763]"
   ]
  },
  {
   "cell_type": "markdown",
   "metadata": {},
   "source": [
    "Franz Wagner's comparison is Ira Newble"
   ]
  },
  {
   "cell_type": "markdown",
   "metadata": {},
   "source": [
    "## Ziaire Williams"
   ]
  },
  {
   "cell_type": "code",
   "execution_count": 1237,
   "metadata": {},
   "outputs": [
    {
     "name": "stderr",
     "output_type": "stream",
     "text": [
      "C:\\Users\\aydin\\anaconda3\\lib\\site-packages\\IPython\\core\\displayhook.py:275: UserWarning: Output cache limit (currently 1000 entries) hit.\n",
      "Flushing oldest 200 entries.\n",
      "  warn('Output cache limit (currently {sz} entries) hit.\\n'\n"
     ]
    },
    {
     "data": {
      "text/html": [
       "<div>\n",
       "<style scoped>\n",
       "    .dataframe tbody tr th:only-of-type {\n",
       "        vertical-align: middle;\n",
       "    }\n",
       "\n",
       "    .dataframe tbody tr th {\n",
       "        vertical-align: top;\n",
       "    }\n",
       "\n",
       "    .dataframe thead th {\n",
       "        text-align: right;\n",
       "    }\n",
       "</style>\n",
       "<table border=\"1\" class=\"dataframe\">\n",
       "  <thead>\n",
       "    <tr style=\"text-align: right;\">\n",
       "      <th></th>\n",
       "      <th>weight</th>\n",
       "      <th>3PA</th>\n",
       "      <th>3P%</th>\n",
       "      <th>3P</th>\n",
       "      <th>FGA</th>\n",
       "      <th>FG%</th>\n",
       "      <th>FG</th>\n",
       "      <th>FT%</th>\n",
       "      <th>FTA</th>\n",
       "      <th>FT</th>\n",
       "      <th>G</th>\n",
       "      <th>PTS</th>\n",
       "      <th>labels</th>\n",
       "    </tr>\n",
       "  </thead>\n",
       "  <tbody>\n",
       "    <tr>\n",
       "      <th>3007</th>\n",
       "      <td>185.0</td>\n",
       "      <td>0.1</td>\n",
       "      <td>0.288</td>\n",
       "      <td>0.0</td>\n",
       "      <td>9.6</td>\n",
       "      <td>0.535</td>\n",
       "      <td>4.5</td>\n",
       "      <td>0.729</td>\n",
       "      <td>2.1</td>\n",
       "      <td>1.5</td>\n",
       "      <td>23.0</td>\n",
       "      <td>10.5</td>\n",
       "      <td>2</td>\n",
       "    </tr>\n",
       "  </tbody>\n",
       "</table>\n",
       "</div>"
      ],
      "text/plain": [
       "      weight  3PA    3P%   3P  FGA    FG%   FG    FT%  FTA   FT     G   PTS  \\\n",
       "3007   185.0  0.1  0.288  0.0  9.6  0.535  4.5  0.729  2.1  1.5  23.0  10.5   \n",
       "\n",
       "      labels  \n",
       "3007       2  "
      ]
     },
     "execution_count": 1237,
     "metadata": {},
     "output_type": "execute_result"
    }
   ],
   "source": [
    "similar1 = scipy.spatial.distance.cdist(pred,pred2[9:10],metric='euclidean')\n",
    "pred[similar1==similar1.min()]"
   ]
  },
  {
   "cell_type": "code",
   "execution_count": 1238,
   "metadata": {},
   "outputs": [
    {
     "data": {
      "text/plain": [
       "college           Stanford University\n",
       "height                            6-4\n",
       "name                      Jim Pollard\n",
       "position                          F-C\n",
       "url         /players/p/pollaji01.html\n",
       "weight                            185\n",
       "3PA                               0.1\n",
       "3P%                             0.288\n",
       "3P                                  0\n",
       "FGA                               9.6\n",
       "FG%                             0.535\n",
       "FG                                4.5\n",
       "FT%                             0.729\n",
       "FTA                               2.1\n",
       "FT                                1.5\n",
       "G                                  23\n",
       "PTS                              10.5\n",
       "labels                              2\n",
       "Name: 3007, dtype: object"
      ]
     },
     "execution_count": 1238,
     "metadata": {},
     "output_type": "execute_result"
    }
   ],
   "source": [
    "ncaa.loc[3007]"
   ]
  },
  {
   "cell_type": "markdown",
   "metadata": {},
   "source": [
    "Ziaire Williams comparison is Jim Pollard"
   ]
  },
  {
   "cell_type": "markdown",
   "metadata": {},
   "source": [
    "## James Bouknight "
   ]
  },
  {
   "cell_type": "code",
   "execution_count": 1240,
   "metadata": {},
   "outputs": [
    {
     "data": {
      "text/html": [
       "<div>\n",
       "<style scoped>\n",
       "    .dataframe tbody tr th:only-of-type {\n",
       "        vertical-align: middle;\n",
       "    }\n",
       "\n",
       "    .dataframe tbody tr th {\n",
       "        vertical-align: top;\n",
       "    }\n",
       "\n",
       "    .dataframe thead th {\n",
       "        text-align: right;\n",
       "    }\n",
       "</style>\n",
       "<table border=\"1\" class=\"dataframe\">\n",
       "  <thead>\n",
       "    <tr style=\"text-align: right;\">\n",
       "      <th></th>\n",
       "      <th>weight</th>\n",
       "      <th>3PA</th>\n",
       "      <th>3P%</th>\n",
       "      <th>3P</th>\n",
       "      <th>FGA</th>\n",
       "      <th>FG%</th>\n",
       "      <th>FG</th>\n",
       "      <th>FT%</th>\n",
       "      <th>FTA</th>\n",
       "      <th>FT</th>\n",
       "      <th>G</th>\n",
       "      <th>PTS</th>\n",
       "      <th>labels</th>\n",
       "    </tr>\n",
       "  </thead>\n",
       "  <tbody>\n",
       "    <tr>\n",
       "      <th>3243</th>\n",
       "      <td>190.0</td>\n",
       "      <td>2.6</td>\n",
       "      <td>0.337</td>\n",
       "      <td>0.9</td>\n",
       "      <td>10.9</td>\n",
       "      <td>0.477</td>\n",
       "      <td>5.2</td>\n",
       "      <td>0.712</td>\n",
       "      <td>5.1</td>\n",
       "      <td>3.7</td>\n",
       "      <td>40.0</td>\n",
       "      <td>14.9</td>\n",
       "      <td>1</td>\n",
       "    </tr>\n",
       "  </tbody>\n",
       "</table>\n",
       "</div>"
      ],
      "text/plain": [
       "      weight  3PA    3P%   3P   FGA    FG%   FG    FT%  FTA   FT     G   PTS  \\\n",
       "3243   190.0  2.6  0.337  0.9  10.9  0.477  5.2  0.712  5.1  3.7  40.0  14.9   \n",
       "\n",
       "      labels  \n",
       "3243       1  "
      ]
     },
     "execution_count": 1240,
     "metadata": {},
     "output_type": "execute_result"
    }
   ],
   "source": [
    "similar1 = scipy.spatial.distance.cdist(pred,pred2[10:11],metric='euclidean')\n",
    "pred[similar1==similar1.min()]"
   ]
  },
  {
   "cell_type": "code",
   "execution_count": 1241,
   "metadata": {},
   "outputs": [
    {
     "data": {
      "text/plain": [
       "college        University of Memphis\n",
       "height                           6-3\n",
       "name                    Derrick Rose\n",
       "position                           G\n",
       "url         /players/r/rosede01.html\n",
       "weight                           190\n",
       "3PA                              2.6\n",
       "3P%                            0.337\n",
       "3P                               0.9\n",
       "FGA                             10.9\n",
       "FG%                            0.477\n",
       "FG                               5.2\n",
       "FT%                            0.712\n",
       "FTA                              5.1\n",
       "FT                               3.7\n",
       "G                                 40\n",
       "PTS                             14.9\n",
       "labels                             1\n",
       "Name: 3243, dtype: object"
      ]
     },
     "execution_count": 1241,
     "metadata": {},
     "output_type": "execute_result"
    }
   ],
   "source": [
    "ncaa.loc[3243]"
   ]
  },
  {
   "cell_type": "markdown",
   "metadata": {},
   "source": [
    "James Bouknight's prediction is Derrick Rose"
   ]
  },
  {
   "cell_type": "markdown",
   "metadata": {},
   "source": [
    "DISCLAIMER**** If you decide to invest in NBA Top Shots or any licensed rookie cards that hold monetary value, based on these reports, I take no responsibility for gained or lost money in the process, this report stands as a way to inform people how players may play in the NBA"
   ]
  },
  {
   "cell_type": "markdown",
   "metadata": {},
   "source": [
    "My top prospects to draft from this would be Cade Cunningham, Jalen Suggs, Moses Moody, Keon Johnson, and James Bouknight for any GM who has any of these players on their draft board during their selection"
   ]
  },
  {
   "cell_type": "markdown",
   "metadata": {},
   "source": [
    "---"
   ]
  }
 ],
 "metadata": {
  "kernelspec": {
   "display_name": "Python 3",
   "language": "python",
   "name": "python3"
  },
  "language_info": {
   "codemirror_mode": {
    "name": "ipython",
    "version": 3
   },
   "file_extension": ".py",
   "mimetype": "text/x-python",
   "name": "python",
   "nbconvert_exporter": "python",
   "pygments_lexer": "ipython3",
   "version": "3.8.5"
  }
 },
 "nbformat": 4,
 "nbformat_minor": 4
}
